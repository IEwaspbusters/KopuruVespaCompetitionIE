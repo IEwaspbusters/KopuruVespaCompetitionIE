{
 "cells": [
  {
   "cell_type": "markdown",
   "id": "04dfbfaa-4c7f-4fd3-8fed-6263b869173f",
   "metadata": {},
   "source": [
    "## import modules"
   ]
  },
  {
   "cell_type": "code",
   "execution_count": 1,
   "id": "e4233db2-31c9-47f5-bb3e-d55e1b1aaa82",
   "metadata": {},
   "outputs": [],
   "source": [
    "# Data manipulation and scientific computing -----------------------------------\n",
    "import pandas as pd\n",
    "import numpy as np"
   ]
  },
  {
   "cell_type": "markdown",
   "id": "f2d1c7dc-cf9d-4ff1-a5e3-ed38e596ea9b",
   "metadata": {},
   "source": [
    "## get the data"
   ]
  },
  {
   "cell_type": "code",
   "execution_count": 2,
   "id": "0e1ac939-5d90-4b2c-89b7-569eac962ee9",
   "metadata": {},
   "outputs": [
    {
     "data": {
      "text/html": [
       "<div>\n",
       "<style scoped>\n",
       "    .dataframe tbody tr th:only-of-type {\n",
       "        vertical-align: middle;\n",
       "    }\n",
       "\n",
       "    .dataframe tbody tr th {\n",
       "        vertical-align: top;\n",
       "    }\n",
       "\n",
       "    .dataframe thead th {\n",
       "        text-align: right;\n",
       "    }\n",
       "</style>\n",
       "<table border=\"1\" class=\"dataframe\">\n",
       "  <thead>\n",
       "    <tr style=\"text-align: right;\">\n",
       "      <th></th>\n",
       "      <th>Unnamed: 0</th>\n",
       "      <th>HELBIDEA/DIRECCION</th>\n",
       "    </tr>\n",
       "  </thead>\n",
       "  <tbody>\n",
       "    <tr>\n",
       "      <th>0</th>\n",
       "      <td>0</td>\n",
       "      <td>OLALDE</td>\n",
       "    </tr>\n",
       "    <tr>\n",
       "      <th>1</th>\n",
       "      <td>1</td>\n",
       "      <td>MCDONALD'S ABADIÑO</td>\n",
       "    </tr>\n",
       "    <tr>\n",
       "      <th>2</th>\n",
       "      <td>2</td>\n",
       "      <td>GEREDIAGA AUZOA 2</td>\n",
       "    </tr>\n",
       "    <tr>\n",
       "      <th>3</th>\n",
       "      <td>3</td>\n",
       "      <td>MUNTSARATZ Nº 19 A</td>\n",
       "    </tr>\n",
       "    <tr>\n",
       "      <th>4</th>\n",
       "      <td>4</td>\n",
       "      <td>ARRANKURRI KALEA 58</td>\n",
       "    </tr>\n",
       "  </tbody>\n",
       "</table>\n",
       "</div>"
      ],
      "text/plain": [
       "   Unnamed: 0     HELBIDEA/DIRECCION\n",
       "0           0                 OLALDE\n",
       "1           1     MCDONALD'S ABADIÑO\n",
       "2           2    GEREDIAGA AUZOA 2  \n",
       "3           3     MUNTSARATZ Nº 19 A\n",
       "4           4  ARRANKURRI KALEA 58  "
      ]
     },
     "execution_count": 2,
     "metadata": {},
     "output_type": "execute_result"
    }
   ],
   "source": [
    "QUEENtrain = pd.read_csv('./WBds03_QUEENtrain.csv', sep=',')\n",
    "QUEENtrain.head()"
   ]
  },
  {
   "cell_type": "code",
   "execution_count": 3,
   "id": "f127bbd7-ac89-4177-ab9a-7bec881c1d30",
   "metadata": {},
   "outputs": [
    {
     "data": {
      "text/html": [
       "<div>\n",
       "<style scoped>\n",
       "    .dataframe tbody tr th:only-of-type {\n",
       "        vertical-align: middle;\n",
       "    }\n",
       "\n",
       "    .dataframe tbody tr th {\n",
       "        vertical-align: top;\n",
       "    }\n",
       "\n",
       "    .dataframe thead th {\n",
       "        text-align: right;\n",
       "    }\n",
       "</style>\n",
       "<table border=\"1\" class=\"dataframe\">\n",
       "  <thead>\n",
       "    <tr style=\"text-align: right;\">\n",
       "      <th></th>\n",
       "      <th>Unnamed: 0</th>\n",
       "      <th>ESPEZIE/ESPECIE</th>\n",
       "    </tr>\n",
       "  </thead>\n",
       "  <tbody>\n",
       "    <tr>\n",
       "      <th>0</th>\n",
       "      <td>0</td>\n",
       "      <td>AVISPA ASIÁTICA</td>\n",
       "    </tr>\n",
       "    <tr>\n",
       "      <th>1</th>\n",
       "      <td>1</td>\n",
       "      <td>AVISPA ASIÁTICA</td>\n",
       "    </tr>\n",
       "    <tr>\n",
       "      <th>2</th>\n",
       "      <td>2</td>\n",
       "      <td>AVISPA COMÚN</td>\n",
       "    </tr>\n",
       "    <tr>\n",
       "      <th>3</th>\n",
       "      <td>3</td>\n",
       "      <td>AVISPA ASIÁTICA</td>\n",
       "    </tr>\n",
       "    <tr>\n",
       "      <th>4</th>\n",
       "      <td>4</td>\n",
       "      <td>AVISPA ASIÁTICA</td>\n",
       "    </tr>\n",
       "  </tbody>\n",
       "</table>\n",
       "</div>"
      ],
      "text/plain": [
       "   Unnamed: 0  ESPEZIE/ESPECIE\n",
       "0           0  AVISPA ASIÁTICA\n",
       "1           1  AVISPA ASIÁTICA\n",
       "2           2     AVISPA COMÚN\n",
       "3           3  AVISPA ASIÁTICA\n",
       "4           4  AVISPA ASIÁTICA"
      ]
     },
     "execution_count": 3,
     "metadata": {},
     "output_type": "execute_result"
    }
   ],
   "source": [
    "QUEENpredict = pd.read_csv('./WBds03_QUEENpredict.csv', sep=',')\n",
    "QUEENpredict.head()"
   ]
  },
  {
   "cell_type": "markdown",
   "id": "6a084a89-2fe4-48af-aea9-0556126cf2da",
   "metadata": {},
   "source": [
    "## do the HEX machine learning AI super cool stuff"
   ]
  },
  {
   "cell_type": "code",
   "execution_count": 4,
   "id": "8cdcd1d2-80dc-4f0a-bf34-b8fe71fb1879",
   "metadata": {},
   "outputs": [],
   "source": [
    "HEX = QUEENpredict + QUEENtrain"
   ]
  },
  {
   "cell_type": "markdown",
   "id": "3b4e42ca-ca10-44e1-9710-ceb126d094d9",
   "metadata": {},
   "source": [
    "## Export the data"
   ]
  },
  {
   "cell_type": "code",
   "execution_count": 5,
   "id": "dea2d3c5-613d-40f4-8f56-0dcbfe337bb9",
   "metadata": {},
   "outputs": [],
   "source": [
    "HEX.to_csv('WaspBusters_2021MMDD_batch_zzDummyFlow.csv')"
   ]
  }
 ],
 "metadata": {
  "kernelspec": {
   "display_name": "Python 3",
   "language": "python",
   "name": "python3"
  },
  "language_info": {
   "codemirror_mode": {
    "name": "ipython",
    "version": 3
   },
   "file_extension": ".py",
   "mimetype": "text/x-python",
   "name": "python",
   "nbconvert_exporter": "python",
   "pygments_lexer": "ipython3",
   "version": "3.8.8"
  }
 },
 "nbformat": 4,
 "nbformat_minor": 5
}

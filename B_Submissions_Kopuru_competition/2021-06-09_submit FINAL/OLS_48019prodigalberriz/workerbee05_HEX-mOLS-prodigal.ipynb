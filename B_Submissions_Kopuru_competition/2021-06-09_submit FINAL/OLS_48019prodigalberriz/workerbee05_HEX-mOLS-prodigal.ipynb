{
 "cells": [
  {
   "cell_type": "markdown",
   "id": "7766cce7-a0e7-4b55-9582-980cd2482fc2",
   "metadata": {
    "id": "9nkDv5dppU6B"
   },
   "source": [
    "# HEX algorithm **Kopuru Vespa Velutina Competition**\n",
    "\n",
    "**Linear Regression model**\n",
    "\n",
    "Purpose: Predict the number of Nests in each of Biscay's 112 municipalities for the year 2020.\n",
    "\n",
    "Output: *(WaspBusters_20210609_batch_OLSm_48019prodigal.csv)*\n",
    "\n",
    "@authors:\n",
    "* mario.bejar@student.ie.edu\n",
    "* pedro.geirinhas@student.ie.edu\n",
    "* a.berrizbeitia@student.ie.edu\n",
    "* pcasaverde@student.ie.edu"
   ]
  },
  {
   "cell_type": "markdown",
   "id": "c60e3d67-b7a8-42cc-9471-869d0e6cce8f",
   "metadata": {},
   "source": [
    "## Libraries"
   ]
  },
  {
   "cell_type": "code",
   "execution_count": 360,
   "id": "e221fd74-3f1c-4594-9011-94c90de48163",
   "metadata": {},
   "outputs": [],
   "source": [
    "# Base packages -----------------------------------\n",
    "import numpy as np\n",
    "import pandas as pd\n",
    "\n",
    "# Visualization -----------------------------------\n",
    "from matplotlib import pyplot\n",
    "pyplot.rcParams[\"figure.figsize\"] = (13, 8)\n",
    "\n",
    "# Scaling data ------------------------------------\n",
    "from sklearn import preprocessing\n",
    "\n",
    "# Linear Regression -------------------------------\n",
    "from statsmodels.formula.api import ols\n",
    "#from sklearn.datasets import make_regression\n",
    "from sklearn.linear_model import LinearRegression"
   ]
  },
  {
   "cell_type": "markdown",
   "id": "bf6b6a79-3b41-4f85-bab8-b394aeda7f77",
   "metadata": {},
   "source": [
    "## Functions"
   ]
  },
  {
   "cell_type": "code",
   "execution_count": 361,
   "id": "37489ce6-bcda-49e9-a0e8-9e9eae3954a0",
   "metadata": {},
   "outputs": [],
   "source": [
    "# Function that checks if final Output is ready for submission or needs revision   \n",
    "\n",
    "def check_data(HEX):\n",
    "    \n",
    "    def template_checker(HEX):\n",
    "        submission_df = (HEX[\"CODIGO MUNICIPIO\"].astype(\"string\") + HEX[\"NOMBRE MUNICIPIO\"]).sort_values().reset_index(drop=True)\n",
    "        template_df = (template[\"CODIGO MUNICIPIO\"].astype(\"string\") + template[\"NOMBRE MUNICIPIO\"]).sort_values().reset_index(drop=True)\n",
    "        check_df = pd.DataFrame({\"submission_df\":submission_df,\"template_df\":template_df})\n",
    "        check_df[\"check\"] = check_df.submission_df == check_df.template_df\n",
    "        if (check_df.check == False).any():\n",
    "            pd.options.display.max_rows = 112\n",
    "            return check_df.loc[check_df.check == False,:]\n",
    "        else:  \n",
    "            return \"All Municipality Names and Codes to be submitted match the Template\"\n",
    "    \n",
    "    print(\"Submission form Shape is\", HEX.shape)\n",
    "    print(\"Number of Municipalities is\", HEX[\"CODIGO MUNICIPIO\"].nunique())\n",
    "    print(\"The Total 2020 Nests' Prediction is\", int(HEX[\"NIDOS 2020\"].sum()))\n",
    "\n",
    "    assert HEX.shape == (112, 3), \"Error: Shape is incorrect.\"\n",
    "    assert HEX[\"CODIGO MUNICIPIO\"].nunique() == 112, \"Error: Number of unique municipalities is correct.\"    \n",
    "    return template_checker(HEX)"
   ]
  },
  {
   "cell_type": "markdown",
   "id": "3eff056c-41e9-4220-9b2e-f0ddd845a46a",
   "metadata": {},
   "source": [
    "## Get the data"
   ]
  },
  {
   "cell_type": "code",
   "execution_count": 362,
   "id": "fc6428aa-0349-4843-b72f-c9cd23fd171c",
   "metadata": {},
   "outputs": [],
   "source": [
    "QUEEN_train = pd.read_csv('../Feeder_months/WBds03_QUEENtrainMONTHS.csv', sep=',')\n",
    "QUEEN_predict = pd.read_csv('../Feeder_months/WBds03_QUEENpredictMONTHS.csv', sep=',')\n",
    "\n",
    "clustersMario = pd.read_csv(\"../auxiliary_files/WBds_CLUSTERSnests.csv\")\n",
    "\n",
    "template = pd.read_csv(\"../../../Input_open_data/ds01_PLANTILLA-RETO-AVISPAS-KOPURU.csv\",sep=\";\", encoding=\"utf-8\")"
   ]
  },
  {
   "cell_type": "code",
   "execution_count": 363,
   "id": "a928dc79-c853-4473-8727-bfc2bf531450",
   "metadata": {
    "tags": []
   },
   "outputs": [],
   "source": [
    "#QUEEN_predict.isnull().sum()"
   ]
  },
  {
   "cell_type": "code",
   "execution_count": 364,
   "id": "1f822825-ae00-49aa-944c-3d1574b16ad5",
   "metadata": {},
   "outputs": [
    {
     "data": {
      "text/plain": [
       "(2688, 43)"
      ]
     },
     "execution_count": 364,
     "metadata": {},
     "output_type": "execute_result"
    }
   ],
   "source": [
    "QUEEN_train.shape"
   ]
  },
  {
   "cell_type": "code",
   "execution_count": 365,
   "id": "97934c8c-c01a-4efd-98de-20b8de53731f",
   "metadata": {},
   "outputs": [
    {
     "data": {
      "text/plain": [
       "(1344, 43)"
      ]
     },
     "execution_count": 365,
     "metadata": {},
     "output_type": "execute_result"
    }
   ],
   "source": [
    "QUEEN_predict.shape"
   ]
  },
  {
   "cell_type": "markdown",
   "id": "694d1ce2-9927-4e1e-914c-8ff35476d7a6",
   "metadata": {},
   "source": [
    "## Add in more Clusters (nest amount clusters)"
   ]
  },
  {
   "cell_type": "code",
   "execution_count": 366,
   "id": "e3c48590-644d-4b24-91c2-1faf1dc642bf",
   "metadata": {},
   "outputs": [],
   "source": [
    "QUEEN_train = pd.merge(QUEEN_train, clustersMario, how = 'left', on = ['municip_code', 'municip_name'])\n",
    "QUEEN_predict = pd.merge(QUEEN_predict, clustersMario, how = 'left', on = ['municip_code', 'municip_name'])"
   ]
  },
  {
   "cell_type": "code",
   "execution_count": 367,
   "id": "cdd55894-0138-4630-920b-dc6464cc9d99",
   "metadata": {},
   "outputs": [],
   "source": [
    "QUEEN_train.fillna(4, inplace=True)\n",
    "QUEEN_predict.fillna(4, inplace=True)"
   ]
  },
  {
   "cell_type": "code",
   "execution_count": 368,
   "id": "87e6e96a-fc38-42dc-bd2b-7230f971d400",
   "metadata": {},
   "outputs": [
    {
     "data": {
      "text/plain": [
       "(2688, 44)"
      ]
     },
     "execution_count": 368,
     "metadata": {},
     "output_type": "execute_result"
    }
   ],
   "source": [
    "QUEEN_train.shape"
   ]
  },
  {
   "cell_type": "code",
   "execution_count": 369,
   "id": "22140af5-954f-4cee-b98f-7df933a6aa10",
   "metadata": {},
   "outputs": [
    {
     "data": {
      "text/plain": [
       "(1344, 44)"
      ]
     },
     "execution_count": 369,
     "metadata": {},
     "output_type": "execute_result"
    }
   ],
   "source": [
    "QUEEN_predict.shape"
   ]
  },
  {
   "cell_type": "code",
   "execution_count": 370,
   "id": "ba391735-1d39-46af-bdc8-956e34bcf0e1",
   "metadata": {
    "tags": []
   },
   "outputs": [],
   "source": [
    "#QUEEN_train.isnull().sum()"
   ]
  },
  {
   "cell_type": "code",
   "execution_count": 371,
   "id": "7fedca52-dcdd-49ff-b31a-9ba6610b2baf",
   "metadata": {
    "tags": []
   },
   "outputs": [],
   "source": [
    "#QUEEN_predict.isnull().sum()"
   ]
  },
  {
   "cell_type": "code",
   "execution_count": 372,
   "id": "67f03736-be03-459d-857f-f690047ce88a",
   "metadata": {},
   "outputs": [
    {
     "data": {
      "text/plain": [
       "0.0    1584\n",
       "2.0     984\n",
       "1.0      96\n",
       "4.0      24\n",
       "Name: Cluster, dtype: int64"
      ]
     },
     "execution_count": 372,
     "metadata": {},
     "output_type": "execute_result"
    }
   ],
   "source": [
    "QUEEN_train.Cluster.value_counts()"
   ]
  },
  {
   "cell_type": "markdown",
   "id": "326d88ec-3bf9-43ef-ad37-031b5e508802",
   "metadata": {},
   "source": [
    "## Determine feature importance"
   ]
  },
  {
   "cell_type": "code",
   "execution_count": 373,
   "id": "7a8aea40-8e17-4cd8-ab4f-a504712f0f0c",
   "metadata": {},
   "outputs": [],
   "source": [
    "X = QUEEN_train.drop(columns = ['municip_name', 'municip_code', 'NESTS', 'station_code', 'station_name', 'year'])"
   ]
  },
  {
   "cell_type": "code",
   "execution_count": 374,
   "id": "10a3394b-87c2-475b-afa8-e38132238f77",
   "metadata": {},
   "outputs": [],
   "source": [
    "y = QUEEN_train['NESTS']"
   ]
  },
  {
   "cell_type": "code",
   "execution_count": 375,
   "id": "22a0d35c-cc3b-48fc-9a32-a79d56f191f6",
   "metadata": {},
   "outputs": [],
   "source": [
    "# Scale the datasets using MinMaxScaler\n",
    "\n",
    "scalators = X.columns\n",
    "X[scalators] = preprocessing.minmax_scale(X[scalators])"
   ]
  },
  {
   "cell_type": "code",
   "execution_count": 376,
   "id": "a76b5c13-f485-4b9f-b472-1679e515b365",
   "metadata": {},
   "outputs": [
    {
     "name": "stdout",
     "output_type": "stream",
     "text": [
      "Feature: month, Score: 1.54334\n",
      "Feature: year_offset, Score: -1.62404\n",
      "Feature: colonies_amount, Score: 1.68467\n",
      "Feature: food_fruit, Score: 2.27094\n",
      "Feature: food_apple, Score: -1.09452\n",
      "Feature: food_txakoli, Score: 1.16425\n",
      "Feature: food_kiwi, Score: -0.06580\n",
      "Feature: food_pear, Score: 0.38219\n",
      "Feature: food_blueberry, Score: 1.24410\n",
      "Feature: food_raspberry, Score: 1.12594\n",
      "Feature: weath_days_frost, Score: 0.51534\n",
      "Feature: weath_humidity, Score: 1.47397\n",
      "Feature: weath_maxLevel, Score: 1.83954\n",
      "Feature: weath_midLevel, Score: -1.59402\n",
      "Feature: weath_minLevel, Score: -0.90977\n",
      "Feature: weath_days_rain, Score: -0.59735\n",
      "Feature: weath_days_rain1mm, Score: 0.44514\n",
      "Feature: weath_accuRainfall, Score: 1.63346\n",
      "Feature: weath_10minRainfall, Score: -0.86744\n",
      "Feature: weath_1dayRainfall, Score: -0.99070\n",
      "Feature: weath_solar, Score: 0.04989\n",
      "Feature: weath_meanTemp, Score: -9.04830\n",
      "Feature: weath_maxTemp, Score: 0.54039\n",
      "Feature: weath_maxMeanTemp, Score: 3.90312\n",
      "Feature: weath_minTemp, Score: 9.47661\n",
      "Feature: weath_meanWindM, Score: 1.93588\n",
      "Feature: weath_maxWindM, Score: -3.92394\n",
      "Feature: weath_meanDayMaxWind, Score: 0.53793\n",
      "Feature: population, Score: -0.59949\n",
      "Feature: cluster_size, Score: 2.92363\n",
      "Feature: cluster_cosmo, Score: -2.68652\n",
      "Feature: cluster_survive, Score: 3.81122\n",
      "Feature: cluster_food, Score: -1.14261\n",
      "Feature: cluster_weather_wet, Score: -0.14597\n",
      "Feature: cluster_weather_temp, Score: -0.13400\n",
      "Feature: cluster_weather_wind, Score: -0.34964\n",
      "Feature: cluster_weather_level, Score: 0.04391\n",
      "Feature: Cluster, Score: -0.32084\n"
     ]
    }
   ],
   "source": [
    "# define the model\n",
    "model_fi = LinearRegression()\n",
    "\n",
    "# fit the model\n",
    "model_fi.fit(X, y)\n",
    "\n",
    "# get importance\n",
    "importance = model_fi.coef_\n",
    "\n",
    "# summarize feature importance\n",
    "for i,v in enumerate(importance):\n",
    "\tprint('Feature: %0s, Score: %.5f' % (X.columns[i],v))"
   ]
  },
  {
   "cell_type": "code",
   "execution_count": 377,
   "id": "68fe56fe-0d87-41ce-ae70-4110e1c93aaf",
   "metadata": {},
   "outputs": [
    {
     "data": {
      "image/png": "[encoded data removed]",
      "text/plain": [
       "<Figure size 936x576 with 1 Axes>"
      ]
     },
     "metadata": {
      "needs_background": "light"
     },
     "output_type": "display_data"
    }
   ],
   "source": [
    "# plot feature importance\n",
    "pyplot.bar([x for x in range(len(importance))], importance)\n",
    "pyplot.show()"
   ]
  },
  {
   "cell_type": "code",
   "execution_count": 378,
   "id": "7171515b-39ea-4fa3-8502-1ad29223d9ce",
   "metadata": {},
   "outputs": [
    {
     "name": "stdout",
     "output_type": "stream",
     "text": [
      "Feature: month, Score: 1.54\n",
      "Feature: year_offset, Score: -1.62\n",
      "Feature: colonies_amount, Score: 1.68\n",
      "Feature: food_fruit, Score: 2.27\n",
      "Feature: food_apple, Score: -1.09\n",
      "Feature: food_txakoli, Score: 1.16\n",
      "Feature: food_blueberry, Score: 1.24\n",
      "Feature: food_raspberry, Score: 1.13\n",
      "Feature: weath_humidity, Score: 1.47\n",
      "Feature: weath_maxLevel, Score: 1.84\n",
      "Feature: weath_midLevel, Score: -1.59\n",
      "Feature: weath_accuRainfall, Score: 1.63\n",
      "Feature: weath_meanTemp, Score: -9.05\n",
      "Feature: weath_maxMeanTemp, Score: 3.90\n",
      "Feature: weath_minTemp, Score: 9.48\n",
      "Feature: weath_meanWindM, Score: 1.94\n",
      "Feature: weath_maxWindM, Score: -3.92\n",
      "Feature: cluster_size, Score: 2.92\n",
      "Feature: cluster_cosmo, Score: -2.69\n",
      "Feature: cluster_survive, Score: 3.81\n",
      "Feature: cluster_food, Score: -1.14\n"
     ]
    }
   ],
   "source": [
    "for i,v in enumerate(importance):\n",
    "    if abs(v) > 1:\n",
    "        print('Feature: %0s, Score: %.2f' % (X.columns[i],v))"
   ]
  },
  {
   "cell_type": "markdown",
   "id": "36b0df4a-03bf-4608-8e00-7f8de6b8fa50",
   "metadata": {},
   "source": [
    "## Train the model"
   ]
  },
  {
   "cell_type": "markdown",
   "id": "d338aa21-ba48-45d3-beff-409a08986d38",
   "metadata": {},
   "source": [
    "### With the variables suggested by the Feature Importance method"
   ]
  },
  {
   "cell_type": "code",
   "execution_count": 379,
   "id": "1a7d508f-709a-4610-9e66-1907d77076cc",
   "metadata": {
    "tags": []
   },
   "outputs": [
    {
     "name": "stdout",
     "output_type": "stream",
     "text": [
      "                            OLS Regression Results                            \n",
      "==============================================================================\n",
      "Dep. Variable:                  NESTS   R-squared:                       0.423\n",
      "Model:                            OLS   Adj. R-squared:                  0.418\n",
      "Method:                 Least Squares   F-statistic:                     88.72\n",
      "Date:                Tue, 08 Jun 2021   Prob (F-statistic):          9.26e-298\n",
      "Time:                        17:53:58   Log-Likelihood:                -6577.2\n",
      "No. Observations:                2688   AIC:                         1.320e+04\n",
      "Df Residuals:                    2665   BIC:                         1.334e+04\n",
      "Df Model:                          22                                         \n",
      "Covariance Type:            nonrobust                                         \n",
      "===========================================================================================\n",
      "                              coef    std err          t      P>|t|      [0.025      0.975]\n",
      "-------------------------------------------------------------------------------------------\n",
      "Intercept                  -1.7323      1.404     -1.234      0.217      -4.486       1.021\n",
      "C(cluster_cosmo)[T.1]      -1.3119      0.732     -1.792      0.073      -2.748       0.124\n",
      "C(cluster_size)[T.1]       -2.5381      0.678     -3.745      0.000      -3.867      -1.209\n",
      "C(cluster_size)[T.2]        6.6338      0.479     13.863      0.000       5.695       7.572\n",
      "C(cluster_size)[T.3]       -1.4627      0.697     -2.097      0.036      -2.830      -0.095\n",
      "C(cluster_size)[T.4]        2.8160      0.691      4.075      0.000       1.461       4.171\n",
      "C(cluster_survive)[T.1]     1.1077      0.930      1.191      0.234      -0.716       2.931\n",
      "C(cluster_food)[T.1]       -1.2066      0.469     -2.575      0.010      -2.125      -0.288\n",
      "month                       0.1458      0.017      8.394      0.000       0.112       0.180\n",
      "colonies_amount             0.0023      0.001      2.671      0.008       0.001       0.004\n",
      "food_fruit                  0.0018      0.003      0.645      0.519      -0.004       0.007\n",
      "food_apple                 -0.0184      0.010     -1.773      0.076      -0.039       0.002\n",
      "food_txakoli                0.0129      0.003      4.520      0.000       0.007       0.019\n",
      "food_blueberry              0.3446      0.076      4.527      0.000       0.195       0.494\n",
      "food_raspberry              0.9181      0.418      2.194      0.028       0.098       1.739\n",
      "weath_humidity              0.0366      0.009      4.041      0.000       0.019       0.054\n",
      "weath_maxLevel             -0.1323      0.132     -1.001      0.317      -0.391       0.127\n",
      "weath_midLevel              0.3177      0.577      0.550      0.582      -0.814       1.450\n",
      "weath_accuRainfall          0.0032      0.001      2.957      0.003       0.001       0.005\n",
      "weath_maxMeanTemp           0.1280      0.040      3.223      0.001       0.050       0.206\n",
      "weath_minTemp               0.0559      0.039      1.423      0.155      -0.021       0.133\n",
      "weath_meanWindM             0.0737      0.019      3.873      0.000       0.036       0.111\n",
      "weath_maxWindM             -0.0159      0.005     -3.436      0.001      -0.025      -0.007\n",
      "==============================================================================\n",
      "Omnibus:                     1535.979   Durbin-Watson:                   0.999\n",
      "Prob(Omnibus):                  0.000   Jarque-Bera (JB):            24691.222\n",
      "Skew:                           2.370   Prob(JB):                         0.00\n",
      "Kurtosis:                      17.071   Cond. No.                     5.97e+03\n",
      "==============================================================================\n",
      "\n",
      "Notes:\n",
      "[1] Standard Errors assume that the covariance matrix of the errors is correctly specified.\n",
      "[2] The condition number is large, 5.97e+03. This might indicate that there are\n",
      "strong multicollinearity or other numerical problems.\n"
     ]
    }
   ],
   "source": [
    "model = ols('NESTS ~ month + colonies_amount + food_fruit + food_apple + food_txakoli + food_blueberry + food_raspberry + weath_humidity + weath_maxLevel + weath_midLevel + weath_accuRainfall + weath_maxMeanTemp + weath_minTemp + weath_meanWindM + weath_maxWindM + C(cluster_cosmo) + C(cluster_size) + C(cluster_survive) + C(cluster_food)',\\\n",
    "            data=QUEEN_train).fit()\n",
    "print(model.summary())"
   ]
  },
  {
   "cell_type": "markdown",
   "id": "834a3c23-21b2-4b9d-862f-69e3f273c6c6",
   "metadata": {},
   "source": [
    "### Backward elimination"
   ]
  },
  {
   "cell_type": "code",
   "execution_count": 380,
   "id": "609ba3e6-ca4f-4f0d-846f-71a6c69f9063",
   "metadata": {
    "tags": []
   },
   "outputs": [
    {
     "name": "stdout",
     "output_type": "stream",
     "text": [
      "                            OLS Regression Results                            \n",
      "==============================================================================\n",
      "Dep. Variable:                  NESTS   R-squared:                       0.421\n",
      "Model:                            OLS   Adj. R-squared:                  0.418\n",
      "Method:                 Least Squares   F-statistic:                     114.4\n",
      "Date:                Tue, 08 Jun 2021   Prob (F-statistic):          1.53e-301\n",
      "Time:                        17:53:59   Log-Likelihood:                -6580.2\n",
      "No. Observations:                2688   AIC:                         1.320e+04\n",
      "Df Residuals:                    2670   BIC:                         1.330e+04\n",
      "Df Model:                          17                                         \n",
      "Covariance Type:            nonrobust                                         \n",
      "=========================================================================================\n",
      "                            coef    std err          t      P>|t|      [0.025      0.975]\n",
      "-----------------------------------------------------------------------------------------\n",
      "Intercept                -1.3347      0.847     -1.576      0.115      -2.995       0.326\n",
      "C(cluster_cosmo)[T.1]    -1.7936      0.469     -3.827      0.000      -2.713      -0.875\n",
      "C(cluster_size)[T.1]     -3.2917      0.464     -7.101      0.000      -4.201      -2.383\n",
      "C(cluster_size)[T.2]      6.5252      0.462     14.136      0.000       5.620       7.430\n",
      "C(cluster_size)[T.3]     -2.2183      0.488     -4.550      0.000      -3.174      -1.262\n",
      "C(cluster_size)[T.4]      2.5366      0.673      3.768      0.000       1.216       3.857\n",
      "C(cluster_food)[T.1]     -1.0649      0.443     -2.401      0.016      -1.934      -0.195\n",
      "month                     0.1469      0.017      8.478      0.000       0.113       0.181\n",
      "colonies_amount           0.0021      0.001      2.489      0.013       0.000       0.004\n",
      "food_apple               -0.0170      0.008     -2.153      0.031      -0.032      -0.002\n",
      "food_txakoli              0.0139      0.003      5.310      0.000       0.009       0.019\n",
      "food_blueberry            0.3606      0.074      4.891      0.000       0.216       0.505\n",
      "food_raspberry            0.9285      0.416      2.231      0.026       0.112       1.745\n",
      "weath_humidity            0.0405      0.009      4.695      0.000       0.024       0.057\n",
      "weath_accuRainfall        0.0032      0.001      3.101      0.002       0.001       0.005\n",
      "weath_maxMeanTemp         0.1792      0.016     10.909      0.000       0.147       0.211\n",
      "weath_meanWindM           0.0809      0.018      4.517      0.000       0.046       0.116\n",
      "weath_maxWindM           -0.0157      0.005     -3.389      0.001      -0.025      -0.007\n",
      "==============================================================================\n",
      "Omnibus:                     1535.341   Durbin-Watson:                   0.994\n",
      "Prob(Omnibus):                  0.000   Jarque-Bera (JB):            24729.372\n",
      "Skew:                           2.368   Prob(JB):                         0.00\n",
      "Kurtosis:                      17.084   Cond. No.                     2.92e+03\n",
      "==============================================================================\n",
      "\n",
      "Notes:\n",
      "[1] Standard Errors assume that the covariance matrix of the errors is correctly specified.\n",
      "[2] The condition number is large, 2.92e+03. This might indicate that there are\n",
      "strong multicollinearity or other numerical problems.\n"
     ]
    }
   ],
   "source": [
    "model = ols('NESTS ~ month + colonies_amount + food_apple + food_txakoli + food_blueberry + food_raspberry + weath_humidity + weath_accuRainfall + weath_maxMeanTemp + weath_meanWindM + weath_maxWindM + C(cluster_cosmo) + C(cluster_size) + C(cluster_food)',\\\n",
    "            data=QUEEN_train).fit()\n",
    "print(model.summary())"
   ]
  },
  {
   "cell_type": "markdown",
   "id": "ef41ba89-339e-4208-ac6e-c0c3143d70b7",
   "metadata": {},
   "source": [
    "## Predict 2020's nests"
   ]
  },
  {
   "cell_type": "code",
   "execution_count": 381,
   "id": "d250afb1-2573-46ab-8767-98586cdfdb12",
   "metadata": {},
   "outputs": [
    {
     "data": {
      "text/plain": [
       "0       0.814290\n",
       "1       0.852071\n",
       "2       1.104448\n",
       "3       1.635642\n",
       "4       2.296635\n",
       "          ...   \n",
       "1339    2.382078\n",
       "1340    2.303421\n",
       "1341    2.284491\n",
       "1342    2.314458\n",
       "1343    1.764163\n",
       "Length: 1344, dtype: float64"
      ]
     },
     "execution_count": 381,
     "metadata": {},
     "output_type": "execute_result"
    }
   ],
   "source": [
    "y_2020 = model.predict(QUEEN_predict)\n",
    "y_2020"
   ]
  },
  {
   "cell_type": "code",
   "execution_count": 382,
   "id": "8f279d86-f9cc-45a8-afae-d279f65a3946",
   "metadata": {},
   "outputs": [
    {
     "data": {
      "text/plain": [
       "2992.0886037186615"
      ]
     },
     "execution_count": 382,
     "metadata": {},
     "output_type": "execute_result"
    }
   ],
   "source": [
    "y_2020.sum()"
   ]
  },
  {
   "cell_type": "code",
   "execution_count": 383,
   "id": "5bac1795-4368-4a56-a432-124bf56ba8f2",
   "metadata": {
    "tags": []
   },
   "outputs": [
    {
     "data": {
      "text/plain": [
       "0       0.814290\n",
       "1       0.852071\n",
       "2       1.104448\n",
       "3       1.635642\n",
       "4       2.296635\n",
       "          ...   \n",
       "1339    2.382078\n",
       "1340    2.303421\n",
       "1341    2.284491\n",
       "1342    2.314458\n",
       "1343    1.764163\n",
       "Length: 1344, dtype: float64"
      ]
     },
     "execution_count": 383,
     "metadata": {},
     "output_type": "execute_result"
    }
   ],
   "source": [
    "# Take any municipality/month resulting in NESTS < 0 to = 0\n",
    "\n",
    "y_2020[y_2020 < 0] = 0\n",
    "y_2020"
   ]
  },
  {
   "cell_type": "code",
   "execution_count": 384,
   "id": "adfb88bb-2473-4b81-8030-42ab7c9a08e6",
   "metadata": {},
   "outputs": [
    {
     "data": {
      "text/plain": [
       "3082.4390826246654"
      ]
     },
     "execution_count": 384,
     "metadata": {},
     "output_type": "execute_result"
    }
   ],
   "source": [
    "y_2020.sum()"
   ]
  },
  {
   "cell_type": "code",
   "execution_count": 385,
   "id": "8cd46748-e5c8-41d2-8ff1-91a4add2a5a1",
   "metadata": {},
   "outputs": [],
   "source": [
    "QUEEN_predict['NESTS'] = y_2020"
   ]
  },
  {
   "cell_type": "code",
   "execution_count": 386,
   "id": "fcd0d3d9-6837-4faf-9af6-4d0650cc728b",
   "metadata": {},
   "outputs": [],
   "source": [
    "HEX = QUEEN_predict.loc[:,['municip_code', 'municip_name', 'NESTS']].groupby(by=['municip_code', 'municip_name'], as_index=False).sum()"
   ]
  },
  {
   "cell_type": "markdown",
   "id": "a3af46a0-7360-4eb8-83dc-464881c53e27",
   "metadata": {},
   "source": [
    "## Adjust manually for Bilbao 48020 and generate the output"
   ]
  },
  {
   "cell_type": "code",
   "execution_count": 387,
   "id": "dd999c63-94dd-4dc9-9790-06df12528179",
   "metadata": {},
   "outputs": [],
   "source": [
    "HEX.loc[HEX.municip_code.isin([48020]), 'NESTS'] = 0"
   ]
  },
  {
   "cell_type": "code",
   "execution_count": 388,
   "id": "baf08454-e11b-4cfd-b591-f63ae99e8c17",
   "metadata": {},
   "outputs": [
    {
     "data": {
      "text/html": [
       "<div>\n",
       "<style scoped>\n",
       "    .dataframe tbody tr th:only-of-type {\n",
       "        vertical-align: middle;\n",
       "    }\n",
       "\n",
       "    .dataframe tbody tr th {\n",
       "        vertical-align: top;\n",
       "    }\n",
       "\n",
       "    .dataframe thead th {\n",
       "        text-align: right;\n",
       "    }\n",
       "</style>\n",
       "<table border=\"1\" class=\"dataframe\">\n",
       "  <thead>\n",
       "    <tr style=\"text-align: right;\">\n",
       "      <th></th>\n",
       "      <th>municip_code</th>\n",
       "      <th>municip_name</th>\n",
       "      <th>NESTS</th>\n",
       "    </tr>\n",
       "  </thead>\n",
       "  <tbody>\n",
       "    <tr>\n",
       "      <th>19</th>\n",
       "      <td>48020</td>\n",
       "      <td>Bilbao</td>\n",
       "      <td>0.000000</td>\n",
       "    </tr>\n",
       "    <tr>\n",
       "      <th>21</th>\n",
       "      <td>48022</td>\n",
       "      <td>Karrantza Harana/Valle de Carranza</td>\n",
       "      <td>21.575224</td>\n",
       "    </tr>\n",
       "    <tr>\n",
       "      <th>50</th>\n",
       "      <td>48051</td>\n",
       "      <td>Lanestosa</td>\n",
       "      <td>11.137115</td>\n",
       "    </tr>\n",
       "    <tr>\n",
       "      <th>70</th>\n",
       "      <td>48071</td>\n",
       "      <td>Muskiz</td>\n",
       "      <td>17.123349</td>\n",
       "    </tr>\n",
       "    <tr>\n",
       "      <th>73</th>\n",
       "      <td>48074</td>\n",
       "      <td>Urduña/Orduña</td>\n",
       "      <td>22.149867</td>\n",
       "    </tr>\n",
       "    <tr>\n",
       "      <th>87</th>\n",
       "      <td>48088</td>\n",
       "      <td>Ubide</td>\n",
       "      <td>13.337843</td>\n",
       "    </tr>\n",
       "  </tbody>\n",
       "</table>\n",
       "</div>"
      ],
      "text/plain": [
       "    municip_code                        municip_name      NESTS\n",
       "19         48020                              Bilbao   0.000000\n",
       "21         48022  Karrantza Harana/Valle de Carranza  21.575224\n",
       "50         48051                           Lanestosa  11.137115\n",
       "70         48071                              Muskiz  17.123349\n",
       "73         48074                       Urduña/Orduña  22.149867\n",
       "87         48088                               Ubide  13.337843"
      ]
     },
     "execution_count": 388,
     "metadata": {},
     "output_type": "execute_result"
    }
   ],
   "source": [
    "HEX.loc[HEX.municip_code.isin([48022, 48071, 48088, 48074, 48051, 48020]), :]"
   ]
  },
  {
   "cell_type": "code",
   "execution_count": 389,
   "id": "9a980faf-65d6-43cc-9674-177e129959f6",
   "metadata": {},
   "outputs": [],
   "source": [
    "HEX.columns = [\"CODIGO MUNICIPIO\", \"NOMBRE MUNICIPIO\", \"NIDOS 2020\"] # change column names to Spanish (Competition template)"
   ]
  },
  {
   "cell_type": "code",
   "execution_count": 390,
   "id": "91670f6c-b8ac-449c-aa72-874b476b73f1",
   "metadata": {},
   "outputs": [
    {
     "name": "stdout",
     "output_type": "stream",
     "text": [
      "Submission form Shape is (112, 3)\n",
      "Number of Municipalities is 112\n",
      "The Total 2020 Nests' Prediction is 3059\n"
     ]
    },
    {
     "data": {
      "text/plain": [
       "'All Municipality Names and Codes to be submitted match the Template'"
      ]
     },
     "execution_count": 390,
     "metadata": {},
     "output_type": "execute_result"
    }
   ],
   "source": [
    "check_data(HEX)"
   ]
  },
  {
   "cell_type": "markdown",
   "id": "9ec5b0d8-0939-44f0-804f-a960622e2659",
   "metadata": {},
   "source": [
    "### Export dataset for submission"
   ]
  },
  {
   "cell_type": "code",
   "execution_count": 391,
   "id": "ac75ecb5-5eb4-4cbb-b978-de24949c25c1",
   "metadata": {},
   "outputs": [],
   "source": [
    "HEX.to_csv('WaspBusters_20210609_batch-OLSm-48019prodigal.csv', index=False)"
   ]
  },
  {
   "cell_type": "markdown",
   "id": "e83d9c73-3781-4e53-bf5e-0cf9c2580f10",
   "metadata": {},
   "source": [
    "## VERSION Manual adjustments"
   ]
  },
  {
   "cell_type": "code",
   "execution_count": 392,
   "id": "19299286-9f3d-4c38-a851-70a44efcced8",
   "metadata": {},
   "outputs": [],
   "source": [
    "HEX.columns = ['municip_code', 'municip_name', 'NESTS'] # change column names to Spanish (Competition template)"
   ]
  },
  {
   "cell_type": "code",
   "execution_count": 393,
   "id": "4b1fddf3-568d-487d-acf0-be0538a316a2",
   "metadata": {},
   "outputs": [],
   "source": [
    "HEX.loc[HEX.municip_code.isin([48022, 48071, 48088, 48074, 48051]), 'NESTS'] = [0,0,1,0,1]"
   ]
  },
  {
   "cell_type": "code",
   "execution_count": 394,
   "id": "e7c9a880-f373-4cca-8793-218fcc9a5ff8",
   "metadata": {},
   "outputs": [
    {
     "data": {
      "text/html": [
       "<div>\n",
       "<style scoped>\n",
       "    .dataframe tbody tr th:only-of-type {\n",
       "        vertical-align: middle;\n",
       "    }\n",
       "\n",
       "    .dataframe tbody tr th {\n",
       "        vertical-align: top;\n",
       "    }\n",
       "\n",
       "    .dataframe thead th {\n",
       "        text-align: right;\n",
       "    }\n",
       "</style>\n",
       "<table border=\"1\" class=\"dataframe\">\n",
       "  <thead>\n",
       "    <tr style=\"text-align: right;\">\n",
       "      <th></th>\n",
       "      <th>municip_code</th>\n",
       "      <th>municip_name</th>\n",
       "      <th>NESTS</th>\n",
       "    </tr>\n",
       "  </thead>\n",
       "  <tbody>\n",
       "    <tr>\n",
       "      <th>19</th>\n",
       "      <td>48020</td>\n",
       "      <td>Bilbao</td>\n",
       "      <td>0.0</td>\n",
       "    </tr>\n",
       "    <tr>\n",
       "      <th>21</th>\n",
       "      <td>48022</td>\n",
       "      <td>Karrantza Harana/Valle de Carranza</td>\n",
       "      <td>0.0</td>\n",
       "    </tr>\n",
       "    <tr>\n",
       "      <th>50</th>\n",
       "      <td>48051</td>\n",
       "      <td>Lanestosa</td>\n",
       "      <td>0.0</td>\n",
       "    </tr>\n",
       "    <tr>\n",
       "      <th>70</th>\n",
       "      <td>48071</td>\n",
       "      <td>Muskiz</td>\n",
       "      <td>1.0</td>\n",
       "    </tr>\n",
       "    <tr>\n",
       "      <th>73</th>\n",
       "      <td>48074</td>\n",
       "      <td>Urduña/Orduña</td>\n",
       "      <td>0.0</td>\n",
       "    </tr>\n",
       "    <tr>\n",
       "      <th>87</th>\n",
       "      <td>48088</td>\n",
       "      <td>Ubide</td>\n",
       "      <td>1.0</td>\n",
       "    </tr>\n",
       "  </tbody>\n",
       "</table>\n",
       "</div>"
      ],
      "text/plain": [
       "    municip_code                        municip_name  NESTS\n",
       "19         48020                              Bilbao    0.0\n",
       "21         48022  Karrantza Harana/Valle de Carranza    0.0\n",
       "50         48051                           Lanestosa    0.0\n",
       "70         48071                              Muskiz    1.0\n",
       "73         48074                       Urduña/Orduña    0.0\n",
       "87         48088                               Ubide    1.0"
      ]
     },
     "execution_count": 394,
     "metadata": {},
     "output_type": "execute_result"
    }
   ],
   "source": [
    "HEX.loc[HEX.municip_code.isin([48022, 48071, 48088, 48074, 48051, 48020]), :]"
   ]
  },
  {
   "cell_type": "code",
   "execution_count": 395,
   "id": "cafb62d1-e3dc-49c5-9f42-9af74aec2055",
   "metadata": {},
   "outputs": [],
   "source": [
    "HEX.columns = [\"CODIGO MUNICIPIO\", \"NOMBRE MUNICIPIO\", \"NIDOS 2020\"] # change column names to Spanish (Competition template)"
   ]
  },
  {
   "cell_type": "code",
   "execution_count": 396,
   "id": "23c670dc-0519-4dbf-b909-90583c91e39f",
   "metadata": {},
   "outputs": [
    {
     "name": "stdout",
     "output_type": "stream",
     "text": [
      "Submission form Shape is (112, 3)\n",
      "Number of Municipalities is 112\n",
      "The Total 2020 Nests' Prediction is 2976\n"
     ]
    },
    {
     "data": {
      "text/plain": [
       "'All Municipality Names and Codes to be submitted match the Template'"
      ]
     },
     "execution_count": 396,
     "metadata": {},
     "output_type": "execute_result"
    }
   ],
   "source": [
    "check_data(HEX)"
   ]
  },
  {
   "cell_type": "markdown",
   "id": "c9b74131-7aff-4917-a606-7b0a63112c6e",
   "metadata": {},
   "source": [
    "### Export dataset for submission"
   ]
  },
  {
   "cell_type": "code",
   "execution_count": 397,
   "id": "96153bc3-3289-4a73-b091-79c2aa571d8e",
   "metadata": {},
   "outputs": [],
   "source": [
    "HEX.to_csv('WaspBusters_20210609_batch-OLSm-48019prodigal-manual0s.csv', index=False)"
   ]
  }
 ],
 "metadata": {
  "kernelspec": {
   "display_name": "Python 3",
   "language": "python",
   "name": "python3"
  },
  "language_info": {
   "codemirror_mode": {
    "name": "ipython",
    "version": 3
   },
   "file_extension": ".py",
   "mimetype": "text/x-python",
   "name": "python",
   "nbconvert_exporter": "python",
   "pygments_lexer": "ipython3",
   "version": "3.8.8"
  }
 },
 "nbformat": 4,
 "nbformat_minor": 5
}

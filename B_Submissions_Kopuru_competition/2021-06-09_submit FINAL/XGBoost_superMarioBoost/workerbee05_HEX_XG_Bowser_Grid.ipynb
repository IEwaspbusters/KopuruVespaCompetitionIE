{
 "cells": [
  {
   "cell_type": "markdown",
   "metadata": {},
   "source": [
    "# XGBoost Years: clusters using PCA and commercial density as external variable + gridsearch"
   ]
  },
  {
   "cell_type": "code",
   "execution_count": 93,
   "metadata": {},
   "outputs": [
    {
     "name": "stdout",
     "output_type": "stream",
     "text": [
      "Requirement already satisfied: xgboost in c:\\users\\bejar\\anaconda3\\lib\\site-packages (1.4.2)Note: you may need to restart the kernel to use updated packages.\n",
      "Requirement already satisfied: numpy in c:\\users\\bejar\\anaconda3\\lib\\site-packages (from xgboost) (1.19.2)\n",
      "\n",
      "Requirement already satisfied: scipy in c:\\users\\bejar\\anaconda3\\lib\\site-packages (from xgboost) (1.5.2)\n"
     ]
    }
   ],
   "source": [
    "pip install xgboost"
   ]
  },
  {
   "cell_type": "markdown",
   "metadata": {},
   "source": [
    "## Import the Data & Modules"
   ]
  },
  {
   "cell_type": "code",
   "execution_count": 94,
   "metadata": {
    "colab": {
     "base_uri": "https://localhost:8080/"
    },
    "id": "rt-Jj2BjesTz",
    "outputId": "171cecde-0242-4aaf-82b8-0e3458dff994"
   },
   "outputs": [],
   "source": [
    "# Base packages -----------------------------------\n",
    "import pandas as pd\n",
    "import numpy as np\n",
    "import warnings\n",
    "\n",
    "# Data Viz -----------------------------------\n",
    "import matplotlib.pyplot as plt\n",
    "plt.rcParams[\"figure.figsize\"] = (15, 10) # to set figure size when ploting feature_importance\n",
    "\n",
    "\n",
    "# XGBoost -------------------------------\n",
    "import xgboost as xgb\n",
    "from xgboost import XGBRegressor\n",
    "from xgboost import plot_importance # built-in function to plot features ordered by their importance\n",
    "\n",
    "# SKLearn -----------------------------------------\n",
    "from sklearn import preprocessing # scaling data\n",
    "from sklearn.model_selection import GridSearchCV\n",
    "#Cluster\n",
    "from sklearn.decomposition import PCA\n",
    "from sklearn.cluster import KMeans\n",
    "from sklearn.metrics import silhouette_score\n",
    "from plotnine import *"
   ]
  },
  {
   "cell_type": "code",
   "execution_count": 95,
   "metadata": {
    "code_folding": []
   },
   "outputs": [],
   "source": [
    "# Function that checks if final Output is ready for submission or needs revision   \n",
    "\n",
    "def check_data(HEX):\n",
    "    \n",
    "    def template_checker(HEX):\n",
    "        submission_df = (HEX[\"CODIGO MUNICIPIO\"].astype(\"string\")+HEX[\"NOMBRE MUNICIPIO\"]).sort_values().reset_index(drop=True)\n",
    "        template_df = (template[\"CODIGO MUNICIPIO\"].astype(\"string\")+template[\"NOMBRE MUNICIPIO\"]).sort_values().reset_index(drop=True)\n",
    "        check_df = pd.DataFrame({\"submission_df\":submission_df,\"template_df\":template_df})\n",
    "        check_df[\"check\"] = check_df.submission_df == check_df.template_df\n",
    "        if (check_df.check == False).any():\n",
    "            pd.options.display.max_rows = 112\n",
    "            return check_df.loc[check_df.check == False,:]\n",
    "        else:  \n",
    "            return \"All Municipality Names and Codes to be submitted match the Template\"\n",
    "    \n",
    "    print(\"Submission form Shape is\", HEX.shape)\n",
    "    print(\"Number of Municipalities is\", HEX[\"CODIGO MUNICIPIO\"].nunique())\n",
    "    print(\"The Total 2020 Nests' Prediction is\", int(HEX[\"NIDOS 2020\"].sum()))\n",
    "\n",
    "    assert HEX.shape == (112, 3), \"Error: Shape is incorrect.\"\n",
    "    assert HEX[\"CODIGO MUNICIPIO\"].nunique() == 112, \"Error: Number of unique municipalities is correct.\"    \n",
    "    return template_checker(HEX)"
   ]
  },
  {
   "cell_type": "code",
   "execution_count": 96,
   "metadata": {
    "id": "9MLidG_FwhYB"
   },
   "outputs": [],
   "source": [
    "# Importing datasets from GitHub as Pandas Dataframes\n",
    "queen_train = pd.read_csv(\"../Feeder_years/WBds03_QUEENtrainYEARS.csv\", encoding=\"utf-8\") #2018+2019 test df\n",
    "queen_predict = pd.read_csv(\"../Feeder_years/WBds03_QUEENpredictYEARS.csv\", encoding=\"utf-8\") #2020 prediction df\n",
    "template = pd.read_csv(\"../../../Input_open_data/ds01_PLANTILLA-RETO-AVISPAS-KOPURU.csv\",sep=\";\", encoding=\"utf-8\")\n",
    "den_com = pd.read_excel(\"../../../Other_open_data/densidad comercial.xlsx\")"
   ]
  },
  {
   "cell_type": "code",
   "execution_count": 97,
   "metadata": {},
   "outputs": [],
   "source": [
    "den_com.rename(columns={\"Código municipio\": \"municip_code\"}, inplace = True )"
   ]
  },
  {
   "cell_type": "code",
   "execution_count": 98,
   "metadata": {},
   "outputs": [],
   "source": [
    "den_com = pd.melt(den_com, id_vars=['municip_code'], value_vars=['2019','2018', '2017'], var_name='year', value_name='density')"
   ]
  },
  {
   "cell_type": "code",
   "execution_count": 99,
   "metadata": {},
   "outputs": [],
   "source": [
    "den_com['density'] = den_com['density'].str.replace( ',', '.')"
   ]
  },
  {
   "cell_type": "code",
   "execution_count": 100,
   "metadata": {},
   "outputs": [],
   "source": [
    "den_com = den_com.astype({\"municip_code\": int, \"year\": int, \"density\": float})"
   ]
  },
  {
   "cell_type": "code",
   "execution_count": 101,
   "metadata": {},
   "outputs": [
    {
     "data": {
      "text/plain": [
       "(224, 40)"
      ]
     },
     "execution_count": 101,
     "metadata": {},
     "output_type": "execute_result"
    }
   ],
   "source": [
    "queen_train.shape"
   ]
  },
  {
   "cell_type": "code",
   "execution_count": 102,
   "metadata": {},
   "outputs": [],
   "source": [
    "wasps = pd.merge(queen_train, den_com, how='left', left_on=['municip_code','year_offset'], right_on=['municip_code', 'year'] )"
   ]
  },
  {
   "cell_type": "code",
   "execution_count": 103,
   "metadata": {},
   "outputs": [],
   "source": [
    "wasps.drop(columns=['year', 'station_code'], inplace=True) "
   ]
  },
  {
   "cell_type": "code",
   "execution_count": 104,
   "metadata": {},
   "outputs": [
    {
     "data": {
      "text/plain": [
       "(224, 40)"
      ]
     },
     "execution_count": 104,
     "metadata": {},
     "output_type": "execute_result"
    }
   ],
   "source": [
    "wasps.shape"
   ]
  },
  {
   "cell_type": "code",
   "execution_count": 105,
   "metadata": {},
   "outputs": [],
   "source": [
    "aux = wasps.iloc[:,np.r_[4:31, 39]].copy()"
   ]
  },
  {
   "cell_type": "code",
   "execution_count": 106,
   "metadata": {},
   "outputs": [
    {
     "data": {
      "text/plain": [
       "(224, 28)"
      ]
     },
     "execution_count": 106,
     "metadata": {},
     "output_type": "execute_result"
    }
   ],
   "source": [
    "aux.shape"
   ]
  },
  {
   "cell_type": "code",
   "execution_count": 107,
   "metadata": {},
   "outputs": [],
   "source": [
    "municip_code = wasps.municip_code\n",
    "year_offset = wasps.year_offset\n",
    "NESTS = wasps.NESTS"
   ]
  },
  {
   "cell_type": "code",
   "execution_count": 108,
   "metadata": {},
   "outputs": [],
   "source": [
    "scalators = list(aux.columns)\n",
    "aux[scalators] = preprocessing.minmax_scale(aux[scalators])"
   ]
  },
  {
   "cell_type": "code",
   "execution_count": 109,
   "metadata": {},
   "outputs": [],
   "source": [
    "pca = PCA(n_components = 10)"
   ]
  },
  {
   "cell_type": "code",
   "execution_count": 110,
   "metadata": {},
   "outputs": [
    {
     "data": {
      "text/plain": [
       "PCA(n_components=10)"
      ]
     },
     "execution_count": 110,
     "metadata": {},
     "output_type": "execute_result"
    }
   ],
   "source": [
    "pca.fit(aux)"
   ]
  },
  {
   "cell_type": "code",
   "execution_count": 111,
   "metadata": {},
   "outputs": [
    {
     "data": {
      "text/plain": [
       "array([17.39, 31.52, 42.63, 50.92, 58.51, 64.3 , 69.34, 73.67, 77.52,\n",
       "       80.94])"
      ]
     },
     "execution_count": 111,
     "metadata": {},
     "output_type": "execute_result"
    }
   ],
   "source": [
    "var = pca.explained_variance_ratio_\n",
    "var = np.cumsum(np.round(var, decimals=4)*100)\n",
    "var"
   ]
  },
  {
   "cell_type": "code",
   "execution_count": 112,
   "metadata": {},
   "outputs": [],
   "source": [
    "projected = pca.transform(aux)\n",
    "projected = pd.DataFrame(projected)\n",
    "projected.columns = [\"PC1\",\"PC2\", \"PC3\",\"PC4\",\"PC5\",\"PC6\", \"PC7\", \"PC8\", \"PC9\", \"PC10\"]\n",
    "projected[\"NESTS\"] = NESTS.astype(object)\n",
    "projected[\"municip_code\"] = municip_code.astype(object)\n",
    "projected[\"year_offset\"] = year_offset.astype(object)\n",
    "projected = projected.loc[projected.year_offset==2018,:].copy()\n"
   ]
  },
  {
   "cell_type": "code",
   "execution_count": 113,
   "metadata": {},
   "outputs": [
    {
     "data": {
      "text/plain": [
       "(112, 13)"
      ]
     },
     "execution_count": 113,
     "metadata": {},
     "output_type": "execute_result"
    }
   ],
   "source": [
    "projected.shape"
   ]
  },
  {
   "cell_type": "code",
   "execution_count": 114,
   "metadata": {},
   "outputs": [],
   "source": [
    "X_k = projected.loc[:,[\"PC1\",\"PC2\", \"PC3\",\"PC4\",\"PC5\", \"PC6\", \"PC7\", \"PC8\", \"PC9\", \"PC10\"]]"
   ]
  },
  {
   "cell_type": "code",
   "execution_count": 115,
   "metadata": {},
   "outputs": [
    {
     "data": {
      "text/plain": [
       "(112, 10)"
      ]
     },
     "execution_count": 115,
     "metadata": {},
     "output_type": "execute_result"
    }
   ],
   "source": [
    "X_k.shape"
   ]
  },
  {
   "cell_type": "code",
   "execution_count": 116,
   "metadata": {},
   "outputs": [],
   "source": [
    "silhouettes = []\n",
    "\n",
    "for i in range(2,10,1):\n",
    "  model = KMeans(n_clusters=i)\n",
    "  X_k = projected.loc[:,[\"PC1\",\"PC2\", \"PC3\",\"PC4\",\"PC5\", \"PC6\", \"PC7\", \"PC8\", \"PC9\", \"PC10\"]]\n",
    "  model.fit(X_k)\n",
    "  labels = model.labels_\n",
    "  sol = silhouette_score(X_k, labels)\n",
    "  silhouettes.append(sol)"
   ]
  },
  {
   "cell_type": "code",
   "execution_count": 117,
   "metadata": {},
   "outputs": [
    {
     "data": {
      "image/png": "[encoded data removed]",
      "text/plain": [
       "<Figure size 640x480 with 1 Axes>"
      ]
     },
     "metadata": {},
     "output_type": "display_data"
    },
    {
     "data": {
      "text/plain": [
       "<ggplot: (141928915562)>"
      ]
     },
     "execution_count": 117,
     "metadata": {},
     "output_type": "execute_result"
    }
   ],
   "source": [
    "silhouette = pd.DataFrame()\n",
    "silhouette['Labels'] = silhouettes\n",
    "silhouette['NumberOfClusters'] = range(2,10,1)\n",
    "\n",
    "ggplot(aes(x='NumberOfClusters', y='Labels'), silhouette) + geom_line() + geom_point()"
   ]
  },
  {
   "cell_type": "code",
   "execution_count": 118,
   "metadata": {},
   "outputs": [],
   "source": [
    "kmeans = KMeans(n_clusters = 3, random_state = 0)"
   ]
  },
  {
   "cell_type": "code",
   "execution_count": 119,
   "metadata": {},
   "outputs": [
    {
     "data": {
      "text/plain": [
       "KMeans(n_clusters=3, random_state=0)"
      ]
     },
     "execution_count": 119,
     "metadata": {},
     "output_type": "execute_result"
    }
   ],
   "source": [
    "kmeans.fit(X_k)"
   ]
  },
  {
   "cell_type": "code",
   "execution_count": 120,
   "metadata": {},
   "outputs": [
    {
     "data": {
      "text/plain": [
       "112"
      ]
     },
     "execution_count": 120,
     "metadata": {},
     "output_type": "execute_result"
    }
   ],
   "source": [
    "len(kmeans.labels_)"
   ]
  },
  {
   "cell_type": "code",
   "execution_count": 121,
   "metadata": {},
   "outputs": [],
   "source": [
    "projected['cluster'] = pd.Series(kmeans.labels_, index = projected.index)"
   ]
  },
  {
   "cell_type": "code",
   "execution_count": 122,
   "metadata": {},
   "outputs": [],
   "source": [
    "cluster = projected.loc[:,['municip_code', 'cluster', 'year_offset']].groupby(by=['municip_code','cluster'], as_index = False).count()"
   ]
  },
  {
   "cell_type": "code",
   "execution_count": 123,
   "metadata": {},
   "outputs": [],
   "source": [
    "cluster.drop(columns=['year_offset'], inplace=True) "
   ]
  },
  {
   "cell_type": "code",
   "execution_count": 124,
   "metadata": {},
   "outputs": [
    {
     "data": {
      "text/plain": [
       "112"
      ]
     },
     "execution_count": 124,
     "metadata": {},
     "output_type": "execute_result"
    }
   ],
   "source": [
    "cluster.municip_code.nunique()"
   ]
  },
  {
   "cell_type": "code",
   "execution_count": 125,
   "metadata": {},
   "outputs": [],
   "source": [
    "cluster.drop_duplicates(inplace=True)"
   ]
  },
  {
   "cell_type": "code",
   "execution_count": 126,
   "metadata": {},
   "outputs": [
    {
     "data": {
      "text/plain": [
       "(112, 2)"
      ]
     },
     "execution_count": 126,
     "metadata": {},
     "output_type": "execute_result"
    }
   ],
   "source": [
    "cluster.shape"
   ]
  },
  {
   "cell_type": "code",
   "execution_count": 127,
   "metadata": {},
   "outputs": [],
   "source": [
    "wasps = pd.merge(wasps, cluster, how=\"left\", on=\"municip_code\")"
   ]
  },
  {
   "cell_type": "code",
   "execution_count": 128,
   "metadata": {},
   "outputs": [
    {
     "data": {
      "text/plain": [
       "(224, 41)"
      ]
     },
     "execution_count": 128,
     "metadata": {},
     "output_type": "execute_result"
    }
   ],
   "source": [
    "wasps.shape"
   ]
  },
  {
   "cell_type": "code",
   "execution_count": 129,
   "metadata": {},
   "outputs": [
    {
     "data": {
      "text/html": [
       "<div>\n",
       "<style scoped>\n",
       "    .dataframe tbody tr th:only-of-type {\n",
       "        vertical-align: middle;\n",
       "    }\n",
       "\n",
       "    .dataframe tbody tr th {\n",
       "        vertical-align: top;\n",
       "    }\n",
       "\n",
       "    .dataframe thead th {\n",
       "        text-align: right;\n",
       "    }\n",
       "</style>\n",
       "<table border=\"1\" class=\"dataframe\">\n",
       "  <thead>\n",
       "    <tr style=\"text-align: right;\">\n",
       "      <th></th>\n",
       "      <th>municip_name</th>\n",
       "      <th>municip_code</th>\n",
       "      <th>year_offset</th>\n",
       "      <th>NESTS</th>\n",
       "      <th>colonies_amount</th>\n",
       "      <th>food_fruit</th>\n",
       "      <th>food_apple</th>\n",
       "      <th>food_txakoli</th>\n",
       "      <th>food_kiwi</th>\n",
       "      <th>food_pear</th>\n",
       "      <th>...</th>\n",
       "      <th>cluster_size</th>\n",
       "      <th>cluster_cosmo</th>\n",
       "      <th>cluster_survive</th>\n",
       "      <th>cluster_food</th>\n",
       "      <th>cluster_weather_wet</th>\n",
       "      <th>cluster_weather_temp</th>\n",
       "      <th>cluster_weather_wind</th>\n",
       "      <th>cluster_weather_level</th>\n",
       "      <th>density</th>\n",
       "      <th>cluster</th>\n",
       "    </tr>\n",
       "  </thead>\n",
       "  <tbody>\n",
       "    <tr>\n",
       "      <th>0</th>\n",
       "      <td>Abadiño</td>\n",
       "      <td>48001</td>\n",
       "      <td>2017</td>\n",
       "      <td>54</td>\n",
       "      <td>160.0</td>\n",
       "      <td>0.0</td>\n",
       "      <td>0.0</td>\n",
       "      <td>0.0</td>\n",
       "      <td>0.0</td>\n",
       "      <td>0.0</td>\n",
       "      <td>...</td>\n",
       "      <td>1</td>\n",
       "      <td>0</td>\n",
       "      <td>1</td>\n",
       "      <td>0</td>\n",
       "      <td>1</td>\n",
       "      <td>1</td>\n",
       "      <td>0</td>\n",
       "      <td>0</td>\n",
       "      <td>8.37</td>\n",
       "      <td>0</td>\n",
       "    </tr>\n",
       "  </tbody>\n",
       "</table>\n",
       "<p>1 rows × 41 columns</p>\n",
       "</div>"
      ],
      "text/plain": [
       "  municip_name  municip_code  year_offset  NESTS  colonies_amount  food_fruit  \\\n",
       "0      Abadiño         48001         2017     54            160.0         0.0   \n",
       "\n",
       "   food_apple  food_txakoli  food_kiwi  food_pear  ...  cluster_size  \\\n",
       "0         0.0           0.0        0.0        0.0  ...             1   \n",
       "\n",
       "   cluster_cosmo  cluster_survive  cluster_food  cluster_weather_wet  \\\n",
       "0              0                1             0                    1   \n",
       "\n",
       "   cluster_weather_temp  cluster_weather_wind  cluster_weather_level  density  \\\n",
       "0                     1                     0                      0     8.37   \n",
       "\n",
       "   cluster  \n",
       "0        0  \n",
       "\n",
       "[1 rows x 41 columns]"
      ]
     },
     "execution_count": 129,
     "metadata": {},
     "output_type": "execute_result"
    }
   ],
   "source": [
    "wasps.head(1)"
   ]
  },
  {
   "cell_type": "code",
   "execution_count": 130,
   "metadata": {},
   "outputs": [],
   "source": [
    "X_train = wasps.iloc[:,np.r_[4:31, 39, 40]]"
   ]
  },
  {
   "cell_type": "code",
   "execution_count": 131,
   "metadata": {},
   "outputs": [
    {
     "data": {
      "text/html": [
       "<div>\n",
       "<style scoped>\n",
       "    .dataframe tbody tr th:only-of-type {\n",
       "        vertical-align: middle;\n",
       "    }\n",
       "\n",
       "    .dataframe tbody tr th {\n",
       "        vertical-align: top;\n",
       "    }\n",
       "\n",
       "    .dataframe thead th {\n",
       "        text-align: right;\n",
       "    }\n",
       "</style>\n",
       "<table border=\"1\" class=\"dataframe\">\n",
       "  <thead>\n",
       "    <tr style=\"text-align: right;\">\n",
       "      <th></th>\n",
       "      <th>colonies_amount</th>\n",
       "      <th>food_fruit</th>\n",
       "      <th>food_apple</th>\n",
       "      <th>food_txakoli</th>\n",
       "      <th>food_kiwi</th>\n",
       "      <th>food_pear</th>\n",
       "      <th>food_blueberry</th>\n",
       "      <th>food_raspberry</th>\n",
       "      <th>weath_days_frost</th>\n",
       "      <th>weath_humidity</th>\n",
       "      <th>...</th>\n",
       "      <th>weath_meanTemp</th>\n",
       "      <th>weath_maxTemp</th>\n",
       "      <th>weath_maxMeanTemp</th>\n",
       "      <th>weath_minTemp</th>\n",
       "      <th>weath_meanWindM</th>\n",
       "      <th>weath_maxWindM</th>\n",
       "      <th>weath_meanDayMaxWind</th>\n",
       "      <th>population</th>\n",
       "      <th>density</th>\n",
       "      <th>cluster</th>\n",
       "    </tr>\n",
       "  </thead>\n",
       "  <tbody>\n",
       "    <tr>\n",
       "      <th>0</th>\n",
       "      <td>160.0</td>\n",
       "      <td>0.0</td>\n",
       "      <td>0.0</td>\n",
       "      <td>0.0</td>\n",
       "      <td>0.0</td>\n",
       "      <td>0.0</td>\n",
       "      <td>0.0</td>\n",
       "      <td>0.0</td>\n",
       "      <td>2.0</td>\n",
       "      <td>78.058333</td>\n",
       "      <td>...</td>\n",
       "      <td>13.283333</td>\n",
       "      <td>38.4</td>\n",
       "      <td>26.1</td>\n",
       "      <td>0.8</td>\n",
       "      <td>10.868514</td>\n",
       "      <td>82.102336</td>\n",
       "      <td>40.190008</td>\n",
       "      <td>7522</td>\n",
       "      <td>8.37</td>\n",
       "      <td>0</td>\n",
       "    </tr>\n",
       "    <tr>\n",
       "      <th>1</th>\n",
       "      <td>160.0</td>\n",
       "      <td>0.0</td>\n",
       "      <td>0.0</td>\n",
       "      <td>0.0</td>\n",
       "      <td>0.0</td>\n",
       "      <td>0.0</td>\n",
       "      <td>0.0</td>\n",
       "      <td>0.0</td>\n",
       "      <td>1.0</td>\n",
       "      <td>79.491667</td>\n",
       "      <td>...</td>\n",
       "      <td>13.675000</td>\n",
       "      <td>37.0</td>\n",
       "      <td>26.6</td>\n",
       "      <td>2.2</td>\n",
       "      <td>11.036587</td>\n",
       "      <td>76.642772</td>\n",
       "      <td>40.302092</td>\n",
       "      <td>7533</td>\n",
       "      <td>8.19</td>\n",
       "      <td>0</td>\n",
       "    </tr>\n",
       "  </tbody>\n",
       "</table>\n",
       "<p>2 rows × 29 columns</p>\n",
       "</div>"
      ],
      "text/plain": [
       "   colonies_amount  food_fruit  food_apple  food_txakoli  food_kiwi  \\\n",
       "0            160.0         0.0         0.0           0.0        0.0   \n",
       "1            160.0         0.0         0.0           0.0        0.0   \n",
       "\n",
       "   food_pear  food_blueberry  food_raspberry  weath_days_frost  \\\n",
       "0        0.0             0.0             0.0               2.0   \n",
       "1        0.0             0.0             0.0               1.0   \n",
       "\n",
       "   weath_humidity  ...  weath_meanTemp  weath_maxTemp  weath_maxMeanTemp  \\\n",
       "0       78.058333  ...       13.283333           38.4               26.1   \n",
       "1       79.491667  ...       13.675000           37.0               26.6   \n",
       "\n",
       "   weath_minTemp  weath_meanWindM  weath_maxWindM  weath_meanDayMaxWind  \\\n",
       "0            0.8        10.868514       82.102336             40.190008   \n",
       "1            2.2        11.036587       76.642772             40.302092   \n",
       "\n",
       "   population  density  cluster  \n",
       "0        7522     8.37        0  \n",
       "1        7533     8.19        0  \n",
       "\n",
       "[2 rows x 29 columns]"
      ]
     },
     "execution_count": 131,
     "metadata": {},
     "output_type": "execute_result"
    }
   ],
   "source": [
    "X_train.head(2)"
   ]
  },
  {
   "cell_type": "code",
   "execution_count": 132,
   "metadata": {},
   "outputs": [
    {
     "data": {
      "text/plain": [
       "(224, 29)"
      ]
     },
     "execution_count": 132,
     "metadata": {},
     "output_type": "execute_result"
    }
   ],
   "source": [
    "X_train.shape"
   ]
  },
  {
   "cell_type": "code",
   "execution_count": 133,
   "metadata": {},
   "outputs": [],
   "source": [
    "y_train = wasps.iloc[:,[3,40]]"
   ]
  },
  {
   "cell_type": "code",
   "execution_count": 134,
   "metadata": {},
   "outputs": [
    {
     "data": {
      "text/plain": [
       "(224, 2)"
      ]
     },
     "execution_count": 134,
     "metadata": {},
     "output_type": "execute_result"
    }
   ],
   "source": [
    "y_train.shape"
   ]
  },
  {
   "cell_type": "code",
   "execution_count": 135,
   "metadata": {},
   "outputs": [],
   "source": [
    "X_0 = X_train.loc[X_train.cluster == 0 ,:]\n",
    "y_0 = y_train.loc[X_train.cluster == 0 ,'NESTS']\n",
    "\n",
    "X_1 = X_train.loc[X_train.cluster == 1 ,:]\n",
    "y_1 = y_train.loc[X_train.cluster == 1 ,'NESTS']\n",
    "\n",
    "X_2 = X_train.loc[X_train.cluster == 2 ,:]\n",
    "y_2 = y_train.loc[X_train.cluster == 2 ,'NESTS']\n"
   ]
  },
  {
   "cell_type": "code",
   "execution_count": 136,
   "metadata": {},
   "outputs": [
    {
     "data": {
      "text/plain": [
       "(112, 40)"
      ]
     },
     "execution_count": 136,
     "metadata": {},
     "output_type": "execute_result"
    }
   ],
   "source": [
    "queen_predict.shape"
   ]
  },
  {
   "cell_type": "code",
   "execution_count": 137,
   "metadata": {},
   "outputs": [],
   "source": [
    "queen_predict = pd.merge(queen_predict, den_com, how='left', left_on=['municip_code'], right_on=['municip_code'] )"
   ]
  },
  {
   "cell_type": "code",
   "execution_count": 138,
   "metadata": {},
   "outputs": [],
   "source": [
    "queen_predict = queen_predict.loc[queen_predict.year == 2019,:]"
   ]
  },
  {
   "cell_type": "code",
   "execution_count": 139,
   "metadata": {},
   "outputs": [],
   "source": [
    "queen_predict = pd.merge(queen_predict, cluster, how='left', on='municip_code')"
   ]
  },
  {
   "cell_type": "code",
   "execution_count": 140,
   "metadata": {},
   "outputs": [
    {
     "data": {
      "text/html": [
       "<div>\n",
       "<style scoped>\n",
       "    .dataframe tbody tr th:only-of-type {\n",
       "        vertical-align: middle;\n",
       "    }\n",
       "\n",
       "    .dataframe tbody tr th {\n",
       "        vertical-align: top;\n",
       "    }\n",
       "\n",
       "    .dataframe thead th {\n",
       "        text-align: right;\n",
       "    }\n",
       "</style>\n",
       "<table border=\"1\" class=\"dataframe\">\n",
       "  <thead>\n",
       "    <tr style=\"text-align: right;\">\n",
       "      <th></th>\n",
       "      <th>municip_name</th>\n",
       "      <th>municip_code</th>\n",
       "      <th>year_offset</th>\n",
       "      <th>NESTS</th>\n",
       "      <th>colonies_amount</th>\n",
       "      <th>food_fruit</th>\n",
       "      <th>food_apple</th>\n",
       "      <th>food_txakoli</th>\n",
       "      <th>food_kiwi</th>\n",
       "      <th>food_pear</th>\n",
       "      <th>...</th>\n",
       "      <th>cluster_cosmo</th>\n",
       "      <th>cluster_survive</th>\n",
       "      <th>cluster_food</th>\n",
       "      <th>cluster_weather_wet</th>\n",
       "      <th>cluster_weather_temp</th>\n",
       "      <th>cluster_weather_wind</th>\n",
       "      <th>cluster_weather_level</th>\n",
       "      <th>year</th>\n",
       "      <th>density</th>\n",
       "      <th>cluster</th>\n",
       "    </tr>\n",
       "  </thead>\n",
       "  <tbody>\n",
       "    <tr>\n",
       "      <th>0</th>\n",
       "      <td>Abadiño</td>\n",
       "      <td>48001</td>\n",
       "      <td>2019</td>\n",
       "      <td>0</td>\n",
       "      <td>160.0</td>\n",
       "      <td>0.0</td>\n",
       "      <td>0.0</td>\n",
       "      <td>0.0</td>\n",
       "      <td>0.0</td>\n",
       "      <td>0.0</td>\n",
       "      <td>...</td>\n",
       "      <td>0</td>\n",
       "      <td>1</td>\n",
       "      <td>0</td>\n",
       "      <td>1</td>\n",
       "      <td>1</td>\n",
       "      <td>0</td>\n",
       "      <td>0</td>\n",
       "      <td>2019</td>\n",
       "      <td>7.60</td>\n",
       "      <td>0</td>\n",
       "    </tr>\n",
       "    <tr>\n",
       "      <th>1</th>\n",
       "      <td>Abanto y Ciérvana-Abanto Zierbena</td>\n",
       "      <td>48002</td>\n",
       "      <td>2019</td>\n",
       "      <td>0</td>\n",
       "      <td>161.0</td>\n",
       "      <td>0.0</td>\n",
       "      <td>0.0</td>\n",
       "      <td>0.0</td>\n",
       "      <td>0.0</td>\n",
       "      <td>0.0</td>\n",
       "      <td>...</td>\n",
       "      <td>1</td>\n",
       "      <td>0</td>\n",
       "      <td>0</td>\n",
       "      <td>1</td>\n",
       "      <td>1</td>\n",
       "      <td>1</td>\n",
       "      <td>0</td>\n",
       "      <td>2019</td>\n",
       "      <td>6.66</td>\n",
       "      <td>1</td>\n",
       "    </tr>\n",
       "  </tbody>\n",
       "</table>\n",
       "<p>2 rows × 43 columns</p>\n",
       "</div>"
      ],
      "text/plain": [
       "                        municip_name  municip_code  year_offset  NESTS  \\\n",
       "0                            Abadiño         48001         2019      0   \n",
       "1  Abanto y Ciérvana-Abanto Zierbena         48002         2019      0   \n",
       "\n",
       "   colonies_amount  food_fruit  food_apple  food_txakoli  food_kiwi  \\\n",
       "0            160.0         0.0         0.0           0.0        0.0   \n",
       "1            161.0         0.0         0.0           0.0        0.0   \n",
       "\n",
       "   food_pear  ...  cluster_cosmo  cluster_survive cluster_food  \\\n",
       "0        0.0  ...              0                1            0   \n",
       "1        0.0  ...              1                0            0   \n",
       "\n",
       "   cluster_weather_wet  cluster_weather_temp  cluster_weather_wind  \\\n",
       "0                    1                     1                     0   \n",
       "1                    1                     1                     1   \n",
       "\n",
       "   cluster_weather_level  year  density  cluster  \n",
       "0                      0  2019     7.60        0  \n",
       "1                      0  2019     6.66        1  \n",
       "\n",
       "[2 rows x 43 columns]"
      ]
     },
     "execution_count": 140,
     "metadata": {},
     "output_type": "execute_result"
    }
   ],
   "source": [
    "queen_predict.head(2)"
   ]
  },
  {
   "cell_type": "code",
   "execution_count": 141,
   "metadata": {},
   "outputs": [],
   "source": [
    "queen_predict.drop(columns=['station_code'], inplace=True) "
   ]
  },
  {
   "cell_type": "code",
   "execution_count": 142,
   "metadata": {},
   "outputs": [],
   "source": [
    "queen_predict_0 = queen_predict.loc[queen_predict.cluster == 0, :].copy(True)\n",
    "queen_predict_1 = queen_predict.loc[queen_predict.cluster == 1 , :].copy(True)\n",
    "queen_predict_2 = queen_predict.loc[queen_predict.cluster == 2 ,:].copy(True)"
   ]
  },
  {
   "cell_type": "code",
   "execution_count": 143,
   "metadata": {},
   "outputs": [],
   "source": [
    "# selecting the XGBoost model and fitting with the train data\n",
    "model = XGBRegressor(random_state=0, objective=\"reg:squarederror\")"
   ]
  },
  {
   "cell_type": "code",
   "execution_count": 144,
   "metadata": {},
   "outputs": [
    {
     "name": "stdout",
     "output_type": "stream",
     "text": [
      "The number homogeneous splits conducted by GridSearchCV are: 3.\n",
      "The best hyperparameters found were: {'gamma': 0.5, 'learning_rate': 0.2, 'max_depth': 6, 'min_child_weight': 9, 'n_estimators': 200, 'reg_lambda': 1.5, 'scale_pos_weight': 3.5}.\n",
      "The best score found was: -0.47901077003862325.\n"
     ]
    }
   ],
   "source": [
    "# Use GridSearchCV that will automatically split the data and give us the best estimator by:\n",
    "\n",
    "#1) Establishing hyperparameters to change \n",
    "param_grid = {\n",
    "              \"learning_rate\": [0.2], \n",
    "              \"max_depth\": [6],\n",
    "              \"gamma\" : [0.5],\n",
    "              #\"max_delta_step\" : [3],\n",
    "              \"min_child_weight\": [9],\n",
    "              #\"subsample\": [0.9],\n",
    "              #\"colsample_bytree\": [0.4],\n",
    "              \"reg_lambda\" : [1.5],\n",
    "              \"n_estimators\": [200],\n",
    "              \"scale_pos_weight\" : [3.5]\n",
    "              }\n",
    "\n",
    "warnings.filterwarnings(action='ignore', category=UserWarning)\n",
    "grid = GridSearchCV(model, param_grid, cv=3)\n",
    "\n",
    "#2) Fitting the model with our desired data and check for best results\n",
    "grid.fit(X_0, y_0)\n",
    "\n",
    "#) Retrieve the summary of GridSearchCV for analysis\n",
    "print(F\"The number homogeneous splits conducted by GridSearchCV are: {grid.n_splits_}.\")\n",
    "print(F\"The best hyperparameters found were: {grid.best_params_}.\")\n",
    "print(F\"The best score found was: {grid.best_score_}.\")"
   ]
  },
  {
   "cell_type": "code",
   "execution_count": 145,
   "metadata": {},
   "outputs": [],
   "source": [
    "# Reset warnigns to default (this is used to suppred a warning message from XGBoost model and avoid converting X_train to numpy to keep features name)\n",
    "\n",
    "warnings.filterwarnings(action='default', category=UserWarning)"
   ]
  },
  {
   "cell_type": "code",
   "execution_count": 146,
   "metadata": {},
   "outputs": [
    {
     "data": {
      "text/plain": [
       "XGBRegressor(base_score=0.5, booster='gbtree', colsample_bylevel=1,\n",
       "             colsample_bynode=1, colsample_bytree=1, gamma=0.5, gpu_id=-1,\n",
       "             importance_type='gain', interaction_constraints='',\n",
       "             learning_rate=0.2, max_delta_step=0, max_depth=6,\n",
       "             min_child_weight=9, missing=nan, monotone_constraints='()',\n",
       "             n_estimators=200, n_jobs=8, num_parallel_tree=1, random_state=0,\n",
       "             reg_alpha=0, reg_lambda=1.5, scale_pos_weight=3.5, subsample=1,\n",
       "             tree_method='exact', validate_parameters=1, verbosity=None)"
      ]
     },
     "execution_count": 146,
     "metadata": {},
     "output_type": "execute_result"
    }
   ],
   "source": [
    "model = grid.best_estimator_\n",
    "model.fit(X_0, y_0)"
   ]
  },
  {
   "cell_type": "code",
   "execution_count": 147,
   "metadata": {},
   "outputs": [
    {
     "data": {
      "image/png": "[encoded data removed]",
      "text/plain": [
       "<Figure size 1080x720 with 1 Axes>"
      ]
     },
     "metadata": {
      "needs_background": "light"
     },
     "output_type": "display_data"
    }
   ],
   "source": [
    "# Plot the Relevant Variables in order to filter the relevant ones per Cluster\n",
    "\n",
    "plot_importance(model,height=0.5,xlabel=\"F-Score\",ylabel=\"Feature Importance\",grid=False)\n",
    "plt.show()"
   ]
  },
  {
   "cell_type": "code",
   "execution_count": 148,
   "metadata": {},
   "outputs": [
    {
     "data": {
      "text/plain": [
       "Index(['colonies_amount', 'food_fruit', 'food_apple', 'food_txakoli',\n",
       "       'food_kiwi', 'food_pear', 'food_blueberry', 'food_raspberry',\n",
       "       'weath_days_frost', 'weath_humidity', 'weath_maxLevel',\n",
       "       'weath_midLevel', 'weath_minLevel', 'weath_days_rain',\n",
       "       'weath_days_rain1mm', 'weath_accuRainfall', 'weath_10minRainfall',\n",
       "       'weath_1dayRainfall', 'weath_solar', 'weath_meanTemp', 'weath_maxTemp',\n",
       "       'weath_maxMeanTemp', 'weath_minTemp', 'weath_meanWindM',\n",
       "       'weath_maxWindM', 'weath_meanDayMaxWind', 'population', 'density',\n",
       "       'cluster'],\n",
       "      dtype='object')"
      ]
     },
     "execution_count": 148,
     "metadata": {},
     "output_type": "execute_result"
    }
   ],
   "source": [
    "X_0.columns"
   ]
  },
  {
   "cell_type": "code",
   "execution_count": 149,
   "metadata": {},
   "outputs": [
    {
     "data": {
      "text/plain": [
       "XGBRegressor(base_score=0.5, booster='gbtree', colsample_bylevel=1,\n",
       "             colsample_bynode=1, colsample_bytree=1, gamma=0.5, gpu_id=-1,\n",
       "             importance_type='gain', interaction_constraints='',\n",
       "             learning_rate=0.2, max_delta_step=0, max_depth=6,\n",
       "             min_child_weight=9, missing=nan, monotone_constraints='()',\n",
       "             n_estimators=200, n_jobs=8, num_parallel_tree=1, random_state=0,\n",
       "             reg_alpha=0, reg_lambda=1.5, scale_pos_weight=3.5, subsample=1,\n",
       "             tree_method='exact', validate_parameters=1, verbosity=None)"
      ]
     },
     "execution_count": 149,
     "metadata": {},
     "output_type": "execute_result"
    }
   ],
   "source": [
    "model.fit(X_0.loc[:,['population','density', 'weath_maxWindM', 'weath_1dayRainfall', 'food_fruit']],y_0)"
   ]
  },
  {
   "cell_type": "code",
   "execution_count": 150,
   "metadata": {},
   "outputs": [],
   "source": [
    "predictions_0 = model.predict(queen_predict_0.loc[:,['population','density', 'weath_maxWindM', 'weath_1dayRainfall', 'food_fruit']])"
   ]
  },
  {
   "cell_type": "code",
   "execution_count": 151,
   "metadata": {},
   "outputs": [],
   "source": [
    "# selecting the XGBoost model and fitting with the train data\n",
    "model = XGBRegressor(random_state=0, objective=\"reg:squarederror\")"
   ]
  },
  {
   "cell_type": "code",
   "execution_count": 152,
   "metadata": {},
   "outputs": [
    {
     "name": "stdout",
     "output_type": "stream",
     "text": [
      "The number homogeneous splits conducted by GridSearchCV are: 3.\n",
      "The best hyperparameters found were: {'gamma': 0.5, 'learning_rate': 0.2, 'max_depth': 6, 'min_child_weight': 9, 'n_estimators': 200, 'reg_lambda': 1.5, 'scale_pos_weight': 3.5}.\n",
      "The best score found was: -0.3703771562758928.\n"
     ]
    }
   ],
   "source": [
    "# Use GridSearchCV that will automatically split the data and give us the best estimator by:\n",
    "\n",
    "#1) Establishing hyperparameters to change \n",
    "param_grid = {\n",
    "              \"learning_rate\": [0.2], \n",
    "              \"max_depth\": [6],\n",
    "              \"gamma\" : [0.5],\n",
    "              #\"max_delta_step\" : [3],\n",
    "              \"min_child_weight\": [9],\n",
    "              #\"subsample\": [0.9],\n",
    "              #\"colsample_bytree\": [0.4],\n",
    "              \"reg_lambda\" : [1.5],\n",
    "              \"n_estimators\": [200],\n",
    "              \"scale_pos_weight\" : [3.5]\n",
    "              }\n",
    "\n",
    "warnings.filterwarnings(action='ignore', category=UserWarning)\n",
    "grid = GridSearchCV(model, param_grid, cv=3)\n",
    "\n",
    "#2) Fitting the model with our desired data and check for best results\n",
    "grid.fit(X_1, y_1)\n",
    "\n",
    "#) Retrieve the summary of GridSearchCV for analysis\n",
    "print(F\"The number homogeneous splits conducted by GridSearchCV are: {grid.n_splits_}.\")\n",
    "print(F\"The best hyperparameters found were: {grid.best_params_}.\")\n",
    "print(F\"The best score found was: {grid.best_score_}.\")"
   ]
  },
  {
   "cell_type": "code",
   "execution_count": 153,
   "metadata": {},
   "outputs": [],
   "source": [
    "# Reset warnigns to default (this is used to suppred a warning message from XGBoost model and avoid converting X_train to numpy to keep features name)\n",
    "\n",
    "warnings.filterwarnings(action='default', category=UserWarning)"
   ]
  },
  {
   "cell_type": "code",
   "execution_count": 154,
   "metadata": {},
   "outputs": [
    {
     "data": {
      "text/plain": [
       "XGBRegressor(base_score=0.5, booster='gbtree', colsample_bylevel=1,\n",
       "             colsample_bynode=1, colsample_bytree=1, gamma=0.5, gpu_id=-1,\n",
       "             importance_type='gain', interaction_constraints='',\n",
       "             learning_rate=0.2, max_delta_step=0, max_depth=6,\n",
       "             min_child_weight=9, missing=nan, monotone_constraints='()',\n",
       "             n_estimators=200, n_jobs=8, num_parallel_tree=1, random_state=0,\n",
       "             reg_alpha=0, reg_lambda=1.5, scale_pos_weight=3.5, subsample=1,\n",
       "             tree_method='exact', validate_parameters=1, verbosity=None)"
      ]
     },
     "execution_count": 154,
     "metadata": {},
     "output_type": "execute_result"
    }
   ],
   "source": [
    "model = grid.best_estimator_\n",
    "model.fit(X_1, y_1)"
   ]
  },
  {
   "cell_type": "code",
   "execution_count": 155,
   "metadata": {},
   "outputs": [
    {
     "data": {
      "image/png": "[encoded data removed]",
      "text/plain": [
       "<Figure size 1080x720 with 1 Axes>"
      ]
     },
     "metadata": {
      "needs_background": "light"
     },
     "output_type": "display_data"
    }
   ],
   "source": [
    "plot_importance(model,height=0.5,xlabel=\"F-Score\",ylabel=\"Feature Importance\",grid=False)\n",
    "plt.show()"
   ]
  },
  {
   "cell_type": "code",
   "execution_count": 156,
   "metadata": {},
   "outputs": [
    {
     "data": {
      "text/plain": [
       "XGBRegressor(base_score=0.5, booster='gbtree', colsample_bylevel=1,\n",
       "             colsample_bynode=1, colsample_bytree=1, gamma=0.5, gpu_id=-1,\n",
       "             importance_type='gain', interaction_constraints='',\n",
       "             learning_rate=0.2, max_delta_step=0, max_depth=6,\n",
       "             min_child_weight=9, missing=nan, monotone_constraints='()',\n",
       "             n_estimators=200, n_jobs=8, num_parallel_tree=1, random_state=0,\n",
       "             reg_alpha=0, reg_lambda=1.5, scale_pos_weight=3.5, subsample=1,\n",
       "             tree_method='exact', validate_parameters=1, verbosity=None)"
      ]
     },
     "execution_count": 156,
     "metadata": {},
     "output_type": "execute_result"
    }
   ],
   "source": [
    "model.fit(X_1.loc[:,['density', 'food_fruit', 'population']],y_1)"
   ]
  },
  {
   "cell_type": "code",
   "execution_count": 157,
   "metadata": {},
   "outputs": [],
   "source": [
    "predictions_1 = model.predict(queen_predict_1.loc[:,['density', 'food_fruit', 'population']])"
   ]
  },
  {
   "cell_type": "code",
   "execution_count": 158,
   "metadata": {},
   "outputs": [],
   "source": [
    "# selecting the XGBoost model and fitting with the train data\n",
    "model = XGBRegressor(random_state=0, objective=\"reg:squarederror\")"
   ]
  },
  {
   "cell_type": "code",
   "execution_count": 159,
   "metadata": {},
   "outputs": [
    {
     "name": "stdout",
     "output_type": "stream",
     "text": [
      "The number homogeneous splits conducted by GridSearchCV are: 3.\n",
      "The best hyperparameters found were: {'gamma': 0.5, 'learning_rate': 0.2, 'max_depth': 6, 'min_child_weight': 9, 'n_estimators': 200, 'reg_lambda': 1.5, 'scale_pos_weight': 3.5}.\n",
      "The best score found was: -2.8911030324854727.\n"
     ]
    }
   ],
   "source": [
    "# Use GridSearchCV that will automatically split the data and give us the best estimator by:\n",
    "\n",
    "#1) Establishing hyperparameters to change \n",
    "param_grid = {\n",
    "              \"learning_rate\": [0.2], \n",
    "              \"max_depth\": [6],\n",
    "              \"gamma\" : [0.5],\n",
    "              #\"max_delta_step\" : [3],\n",
    "              \"min_child_weight\": [9],\n",
    "              #\"subsample\": [0.9],\n",
    "              #\"colsample_bytree\": [0.4],\n",
    "              \"reg_lambda\" : [1.5],\n",
    "              \"n_estimators\": [200],\n",
    "              \"scale_pos_weight\" : [3.5]\n",
    "              }\n",
    "\n",
    "warnings.filterwarnings(action='ignore', category=UserWarning)\n",
    "grid = GridSearchCV(model, param_grid, cv=3)\n",
    "\n",
    "#2) Fitting the model with our desired data and check for best results\n",
    "grid.fit(X_2, y_2)\n",
    "\n",
    "#) Retrieve the summary of GridSearchCV for analysis\n",
    "print(F\"The number homogeneous splits conducted by GridSearchCV are: {grid.n_splits_}.\")\n",
    "print(F\"The best hyperparameters found were: {grid.best_params_}.\")\n",
    "print(F\"The best score found was: {grid.best_score_}.\")"
   ]
  },
  {
   "cell_type": "code",
   "execution_count": 160,
   "metadata": {},
   "outputs": [],
   "source": [
    "# Reset warnigns to default (this is used to suppred a warning message from XGBoost model and avoid converting X_train to numpy to keep features name)\n",
    "\n",
    "warnings.filterwarnings(action='default', category=UserWarning)"
   ]
  },
  {
   "cell_type": "code",
   "execution_count": 161,
   "metadata": {},
   "outputs": [
    {
     "data": {
      "text/plain": [
       "XGBRegressor(base_score=0.5, booster='gbtree', colsample_bylevel=1,\n",
       "             colsample_bynode=1, colsample_bytree=1, gamma=0.5, gpu_id=-1,\n",
       "             importance_type='gain', interaction_constraints='',\n",
       "             learning_rate=0.2, max_delta_step=0, max_depth=6,\n",
       "             min_child_weight=9, missing=nan, monotone_constraints='()',\n",
       "             n_estimators=200, n_jobs=8, num_parallel_tree=1, random_state=0,\n",
       "             reg_alpha=0, reg_lambda=1.5, scale_pos_weight=3.5, subsample=1,\n",
       "             tree_method='exact', validate_parameters=1, verbosity=None)"
      ]
     },
     "execution_count": 161,
     "metadata": {},
     "output_type": "execute_result"
    }
   ],
   "source": [
    "model = grid.best_estimator_\n",
    "model.fit(X_2, y_2)"
   ]
  },
  {
   "cell_type": "code",
   "execution_count": 162,
   "metadata": {},
   "outputs": [
    {
     "data": {
      "image/png": "[encoded data removed]",
      "text/plain": [
       "<Figure size 1080x720 with 1 Axes>"
      ]
     },
     "metadata": {
      "needs_background": "light"
     },
     "output_type": "display_data"
    }
   ],
   "source": [
    "# Plot the Relevant Variables in order to filter the relevant ones per Cluster\n",
    "\n",
    "plot_importance(model,height=0.5,xlabel=\"F-Score\",ylabel=\"Feature Importance\",grid=False)\n",
    "plt.show()"
   ]
  },
  {
   "cell_type": "code",
   "execution_count": 163,
   "metadata": {},
   "outputs": [
    {
     "data": {
      "text/plain": [
       "XGBRegressor(base_score=0.5, booster='gbtree', colsample_bylevel=1,\n",
       "             colsample_bynode=1, colsample_bytree=1, gamma=0.5, gpu_id=-1,\n",
       "             importance_type='gain', interaction_constraints='',\n",
       "             learning_rate=0.2, max_delta_step=0, max_depth=6,\n",
       "             min_child_weight=9, missing=nan, monotone_constraints='()',\n",
       "             n_estimators=200, n_jobs=8, num_parallel_tree=1, random_state=0,\n",
       "             reg_alpha=0, reg_lambda=1.5, scale_pos_weight=3.5, subsample=1,\n",
       "             tree_method='exact', validate_parameters=1, verbosity=None)"
      ]
     },
     "execution_count": 163,
     "metadata": {},
     "output_type": "execute_result"
    }
   ],
   "source": [
    "model.fit(X_2.loc[:,['weath_days_frost','density','weath_humidity']],y_2)"
   ]
  },
  {
   "cell_type": "code",
   "execution_count": 164,
   "metadata": {},
   "outputs": [],
   "source": [
    "predictions_2 = model.predict(queen_predict_2.loc[:,['weath_days_frost','density','weath_humidity']])"
   ]
  },
  {
   "cell_type": "code",
   "execution_count": 165,
   "metadata": {},
   "outputs": [],
   "source": [
    "queen_predict_0['nests_2020'] = predictions_0\n",
    "queen_predict_1['nests_2020'] = predictions_1\n",
    "queen_predict_2['nests_2020'] = predictions_2"
   ]
  },
  {
   "cell_type": "code",
   "execution_count": 166,
   "metadata": {},
   "outputs": [],
   "source": [
    "HEX_0 = queen_predict_0.loc[:,['municip_code','municip_name','nests_2020']].groupby(by=['municip_code','municip_name'], as_index=False).sum().round().dropna()\n",
    "HEX_1 = queen_predict_1.loc[:,['municip_code','municip_name','nests_2020']].groupby(by=['municip_code','municip_name'], as_index=False).sum().round().dropna()\n",
    "HEX_2 = queen_predict_2.loc[:,['municip_code','municip_name','nests_2020']].groupby(by=['municip_code','municip_name'], as_index=False).sum().round().dropna()"
   ]
  },
  {
   "cell_type": "code",
   "execution_count": 167,
   "metadata": {},
   "outputs": [],
   "source": [
    "HEX = HEX_0.append(HEX_1, ignore_index = True).append(HEX_2, ignore_index = True)"
   ]
  },
  {
   "cell_type": "code",
   "execution_count": 168,
   "metadata": {},
   "outputs": [],
   "source": [
    "#HEX.loc[HEX.municip_code.isin([48020,48071, 48088]),'nests_2020']= 0\n",
    "#HEX.loc[HEX.municip_code.isin([48022,48074, 48051]),'nests_2020']= 1"
   ]
  },
  {
   "cell_type": "code",
   "execution_count": 169,
   "metadata": {},
   "outputs": [],
   "source": [
    "HEX.columns = ['CODIGO MUNICIPIO','NOMBRE MUNICIPIO','NIDOS 2020']"
   ]
  },
  {
   "cell_type": "code",
   "execution_count": 170,
   "metadata": {},
   "outputs": [
    {
     "name": "stdout",
     "output_type": "stream",
     "text": [
      "Submission form Shape is (112, 3)\n",
      "Number of Municipalities is 112\n",
      "The Total 2020 Nests' Prediction is 2781\n"
     ]
    },
    {
     "data": {
      "text/plain": [
       "'All Municipality Names and Codes to be submitted match the Template'"
      ]
     },
     "execution_count": 170,
     "metadata": {},
     "output_type": "execute_result"
    }
   ],
   "source": [
    "# Final check\n",
    "\n",
    "check_data(HEX)"
   ]
  },
  {
   "cell_type": "code",
   "execution_count": 171,
   "metadata": {},
   "outputs": [
    {
     "data": {
      "text/html": [
       "<div>\n",
       "<style scoped>\n",
       "    .dataframe tbody tr th:only-of-type {\n",
       "        vertical-align: middle;\n",
       "    }\n",
       "\n",
       "    .dataframe tbody tr th {\n",
       "        vertical-align: top;\n",
       "    }\n",
       "\n",
       "    .dataframe thead th {\n",
       "        text-align: right;\n",
       "    }\n",
       "</style>\n",
       "<table border=\"1\" class=\"dataframe\">\n",
       "  <thead>\n",
       "    <tr style=\"text-align: right;\">\n",
       "      <th></th>\n",
       "      <th>CODIGO MUNICIPIO</th>\n",
       "      <th>NOMBRE MUNICIPIO</th>\n",
       "      <th>NIDOS 2020</th>\n",
       "    </tr>\n",
       "  </thead>\n",
       "  <tbody>\n",
       "    <tr>\n",
       "      <th>0</th>\n",
       "      <td>48001</td>\n",
       "      <td>Abadiño</td>\n",
       "      <td>18.0</td>\n",
       "    </tr>\n",
       "    <tr>\n",
       "      <th>1</th>\n",
       "      <td>48003</td>\n",
       "      <td>Amorebieta-Etxano</td>\n",
       "      <td>76.0</td>\n",
       "    </tr>\n",
       "    <tr>\n",
       "      <th>2</th>\n",
       "      <td>48004</td>\n",
       "      <td>Amoroto</td>\n",
       "      <td>3.0</td>\n",
       "    </tr>\n",
       "    <tr>\n",
       "      <th>3</th>\n",
       "      <td>48005</td>\n",
       "      <td>Arakaldo</td>\n",
       "      <td>2.0</td>\n",
       "    </tr>\n",
       "    <tr>\n",
       "      <th>4</th>\n",
       "      <td>48006</td>\n",
       "      <td>Arantzazu</td>\n",
       "      <td>0.0</td>\n",
       "    </tr>\n",
       "  </tbody>\n",
       "</table>\n",
       "</div>"
      ],
      "text/plain": [
       "   CODIGO MUNICIPIO   NOMBRE MUNICIPIO  NIDOS 2020\n",
       "0             48001            Abadiño        18.0\n",
       "1             48003  Amorebieta-Etxano        76.0\n",
       "2             48004            Amoroto         3.0\n",
       "3             48005           Arakaldo         2.0\n",
       "4             48006          Arantzazu         0.0"
      ]
     },
     "execution_count": 171,
     "metadata": {},
     "output_type": "execute_result"
    }
   ],
   "source": [
    "HEX.head()"
   ]
  },
  {
   "cell_type": "code",
   "execution_count": 172,
   "metadata": {
    "id": "uiPq7zXi0STt"
   },
   "outputs": [],
   "source": [
    "# Save the new dataFrame as a .csv in the current working directory\n",
    "HEX.to_csv(\"WaspBusters_20210609_XG_Bowser_Grid.csv\", index=False)"
   ]
  },
  {
   "cell_type": "code",
   "execution_count": null,
   "metadata": {},
   "outputs": [],
   "source": []
  }
 ],
 "metadata": {
  "kernelspec": {
   "display_name": "Python 3",
   "language": "python",
   "name": "python3"
  },
  "language_info": {
   "codemirror_mode": {
    "name": "ipython",
    "version": 3
   },
   "file_extension": ".py",
   "mimetype": "text/x-python",
   "name": "python",
   "nbconvert_exporter": "python",
   "pygments_lexer": "ipython3",
   "version": "3.8.5"
  }
 },
 "nbformat": 4,
 "nbformat_minor": 4
}

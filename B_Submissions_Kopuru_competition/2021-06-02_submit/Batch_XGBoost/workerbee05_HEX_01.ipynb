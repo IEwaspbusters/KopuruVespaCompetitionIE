{
 "cells": [
  {
   "cell_type": "markdown",
   "metadata": {},
   "source": [
    "# XGBoost Months: Prediction per Cluster with selected Weather Variables (according to Weather Variables)"
   ]
  },
  {
   "cell_type": "markdown",
   "metadata": {},
   "source": [
    "## Loading and Cleaning the Data"
   ]
  },
  {
   "cell_type": "markdown",
   "metadata": {},
   "source": [
    "### Loading Packages, Datasets & Defining Functions"
   ]
  },
  {
   "cell_type": "code",
   "execution_count": 1,
   "metadata": {
    "colab": {
     "base_uri": "https://localhost:8080/"
    },
    "id": "rt-Jj2BjesTz",
    "outputId": "171cecde-0242-4aaf-82b8-0e3458dff994"
   },
   "outputs": [],
   "source": [
    "# Base packages -----------------------------------\n",
    "import pandas as pd\n",
    "import numpy as np\n",
    "\n",
    "# Data Viz -----------------------------------\n",
    "import matplotlib.pyplot as plt\n",
    "\n",
    "# XGBoost -------------------------------\n",
    "import xgboost as xgb\n",
    "from xgboost import XGBRegressor\n",
    "from xgboost import plot_importance # built-in function to plot features ordered by their importance\n",
    "\n",
    "# SKLearn -----------------------------------------\n",
    "from sklearn.model_selection import train_test_split\n",
    "from sklearn.model_selection import StratifiedKFold, GridSearchCV, cross_val_score\n",
    "from sklearn import preprocessing # scaling data"
   ]
  },
  {
   "cell_type": "code",
   "execution_count": 2,
   "metadata": {},
   "outputs": [],
   "source": [
    "# Function that checks if final Output is ready for submission or needs revision   \n",
    "\n",
    "def check_data(HEX):\n",
    "\n",
    "    if HEX.shape == (112, 3):\n",
    "        print(HEX.shape,\": Shape is correct.\")\n",
    "    else:\n",
    "        print(HEX.shape,\": Shape is **INCORRECT!**\")\n",
    "\n",
    "    if HEX[\"CODIGO MUNICIPIO\"].nunique() == 112:\n",
    "        print(HEX[\"CODIGO MUNICIPIO\"].nunique(),\": Number of unique municipalities is correct.\")\n",
    "    else:\n",
    "        print(HEX[\"CODIGO MUNICIPIO\"].nunique(),\": Number of unique municipalities is **INCORRECT!**\")\n",
    "    \n",
    "    print(\"The Total 2020 Nests' Prediction is\", int(HEX[\"NIDOS 2020\"].sum()))"
   ]
  },
  {
   "cell_type": "code",
   "execution_count": 3,
   "metadata": {
    "id": "9MLidG_FwhYB"
   },
   "outputs": [],
   "source": [
    "# Importing datasets from GitHub as Pandas Dataframes\n",
    "queen_train = pd.read_csv(\"../Feeder_months/WBds03_QUEENtrain_months_DataWig.csv\") #2018+2019 test df\n",
    "queen_predict = pd.read_csv(\"../Feeder_months/WBds03_QUEENpredict_months_DataWig.csv\") #2020 prediction df\n",
    "queen_clusters = pd.read_csv(\"../../../Other_open_data/cluster.csv\")"
   ]
  },
  {
   "cell_type": "markdown",
   "metadata": {},
   "source": [
    "### Further Clean the Data"
   ]
  },
  {
   "cell_type": "code",
   "execution_count": 4,
   "metadata": {},
   "outputs": [],
   "source": [
    "# Adding cluster labels\n",
    "\n",
    "queen_train = pd.merge(queen_train, queen_clusters, how = 'left', left_on = 'municip_code', right_on = 'CODIGO MUNICIPIO')\n",
    "queen_predict = pd.merge(queen_predict, queen_clusters, how = 'left', left_on = 'municip_code', right_on = 'CODIGO MUNICIPIO')"
   ]
  },
  {
   "cell_type": "code",
   "execution_count": 5,
   "metadata": {},
   "outputs": [],
   "source": [
    "# Remove the Municipalities that we did not assign a Cluster since there was not reliable data for us to predict \n",
    "\n",
    "queen_train = queen_train.loc[~queen_train.municip_code.isin([48071, 48074, 48022, 48088, 48051, 48020]),:].copy()\n",
    "queen_predict = queen_predict.loc[~queen_predict.municip_code.isin([48071, 48074, 48022, 48088, 48051, 48020]),:].copy()"
   ]
  },
  {
   "cell_type": "markdown",
   "metadata": {},
   "source": [
    "## Generate a ML Model for Each Cluster"
   ]
  },
  {
   "cell_type": "markdown",
   "metadata": {},
   "source": [
    "### Scale the Data to extract Feature Importance for Each Cluster"
   ]
  },
  {
   "cell_type": "markdown",
   "metadata": {},
   "source": [
    "#### Arrange data into a features matrix and target vector"
   ]
  },
  {
   "cell_type": "code",
   "execution_count": 6,
   "metadata": {},
   "outputs": [],
   "source": [
    "# selecting the train X & y variables\n",
    "\n",
    "# Y will be the response variable (filter for the number of wasp nests - waspbust_id)  \n",
    "y_cluster1 = queen_train.loc[queen_train.Cluster == 0,\"waspbust_id\"]\n",
    "y_cluster2 = queen_train.loc[queen_train.Cluster == 1,\"waspbust_id\"]\n",
    "y_cluster3 = queen_train.loc[queen_train.Cluster == 2,\"waspbust_id\"]\n",
    "y_cluster4 = queen_train.loc[queen_train.Cluster == 3,\"waspbust_id\"]\n",
    "\n",
    "# X will be the explanatory variables. Remove response variable and non desired categorical columns such as (municip code, year, etc...)\n",
    "X_cluster1 = queen_train.loc[queen_train.Cluster == 0,:].iloc[:,7:].drop([\"station_code\",\"MMM\",\"station_name\",\"index\",\"CODIGO MUNICIPIO\"],axis=1,inplace=False).copy()\n",
    "X_cluster2 = queen_train.loc[queen_train.Cluster == 1,:].iloc[:,7:].drop([\"station_code\",\"MMM\",\"station_name\",\"index\",\"CODIGO MUNICIPIO\"],axis=1,inplace=False).copy()\n",
    "X_cluster3 = queen_train.loc[queen_train.Cluster == 2,:].iloc[:,7:].drop([\"station_code\",\"MMM\",\"station_name\",\"index\",\"CODIGO MUNICIPIO\"],axis=1,inplace=False).copy()\n",
    "X_cluster4 = queen_train.loc[queen_train.Cluster == 3,:].iloc[:,7:].drop([\"station_code\",\"MMM\",\"station_name\",\"index\",\"CODIGO MUNICIPIO\"],axis=1,inplace=False).copy()\n",
    "\n",
    "# We want to predict our response variable (number of nests in 2020). Remove response variable and non desired categorical columns such as (municip code, year, etc...)\n",
    "queen_predict2020_cluster1 = queen_predict.loc[queen_predict.Cluster == 0,:].iloc[:,5:].drop([\"station_code\",\"MMM\",\"station_name\",\"index\",\"CODIGO MUNICIPIO\"],axis=1,inplace=False).copy()\n",
    "queen_predict2020_cluster2 = queen_predict.loc[queen_predict.Cluster == 1,:].iloc[:,5:].drop([\"station_code\",\"MMM\",\"station_name\",\"index\",\"CODIGO MUNICIPIO\"],axis=1,inplace=False).copy()\n",
    "queen_predict2020_cluster3 = queen_predict.loc[queen_predict.Cluster == 2,:].iloc[:,5:].drop([\"station_code\",\"MMM\",\"station_name\",\"index\",\"CODIGO MUNICIPIO\"],axis=1,inplace=False).copy()\n",
    "queen_predict2020_cluster4 = queen_predict.loc[queen_predict.Cluster == 3,:].iloc[:,5:].drop([\"station_code\",\"MMM\",\"station_name\",\"index\",\"CODIGO MUNICIPIO\"],axis=1,inplace=False).copy()"
   ]
  },
  {
   "cell_type": "code",
   "execution_count": 7,
   "metadata": {},
   "outputs": [],
   "source": [
    "# Scale the datasets using MinMaxScaler for each cluster\n",
    "\n",
    "X_scaled_cluster1 = preprocessing.minmax_scale(X_cluster1) # this creates a numpy array\n",
    "X_scaled_cluster1 = pd.DataFrame(X_scaled_cluster1,index=X_cluster1.index,columns=X_cluster1.columns) # create a Pandas Dataframe == X\n",
    "\n",
    "X_scaled_cluster2 = preprocessing.minmax_scale(X_cluster2) # this creates a numpy array\n",
    "X_scaled_cluster2 = pd.DataFrame(X_scaled_cluster2,index=X_cluster2.index,columns=X_cluster2.columns) # create a Pandas Dataframe == X\n",
    "\n",
    "X_scaled_cluster3 = preprocessing.minmax_scale(X_cluster3) # this creates a numpy array\n",
    "X_scaled_cluster3 = pd.DataFrame(X_scaled_cluster3,index=X_cluster3.index,columns=X_cluster3.columns) # create a Pandas Dataframe == X\n",
    "\n",
    "X_scaled_cluster4 = preprocessing.minmax_scale(X_cluster4) # this creates a numpy array\n",
    "X_scaled_cluster4 = pd.DataFrame(X_scaled_cluster4,index=X_cluster4.index,columns=X_cluster4.columns) # create a Pandas Dataframe == X"
   ]
  },
  {
   "cell_type": "markdown",
   "metadata": {},
   "source": [
    "#### Choose a class of model by importing the appropriate estimator class"
   ]
  },
  {
   "cell_type": "code",
   "execution_count": 8,
   "metadata": {},
   "outputs": [],
   "source": [
    "# selecting the XGBoost model and fitting with the train data\n",
    "\n",
    "model_cluster1 = XGBRegressor()\n",
    "model_cluster2 = XGBRegressor()\n",
    "model_cluster3 = XGBRegressor()\n",
    "model_cluster4 = XGBRegressor()"
   ]
  },
  {
   "cell_type": "markdown",
   "metadata": {},
   "source": [
    "#### Fit the model to your data by calling the `.fit()` method of the model instance"
   ]
  },
  {
   "cell_type": "code",
   "execution_count": 9,
   "metadata": {},
   "outputs": [
    {
     "name": "stdout",
     "output_type": "stream",
     "text": [
      "XGBRegressor(base_score=0.5, booster='gbtree', colsample_bylevel=1,\n",
      "             colsample_bynode=1, colsample_bytree=1, gamma=0, gpu_id=-1,\n",
      "             importance_type='gain', interaction_constraints='',\n",
      "             learning_rate=0.300000012, max_delta_step=0, max_depth=6,\n",
      "             min_child_weight=1, missing=nan, monotone_constraints='()',\n",
      "             n_estimators=100, n_jobs=8, num_parallel_tree=1, random_state=0,\n",
      "             reg_alpha=0, reg_lambda=1, scale_pos_weight=1, subsample=1,\n",
      "             tree_method='exact', validate_parameters=1, verbosity=None) \n",
      "\n",
      "XGBRegressor(base_score=0.5, booster='gbtree', colsample_bylevel=1,\n",
      "             colsample_bynode=1, colsample_bytree=1, gamma=0, gpu_id=-1,\n",
      "             importance_type='gain', interaction_constraints='',\n",
      "             learning_rate=0.300000012, max_delta_step=0, max_depth=6,\n",
      "             min_child_weight=1, missing=nan, monotone_constraints='()',\n",
      "             n_estimators=100, n_jobs=8, num_parallel_tree=1, random_state=0,\n",
      "             reg_alpha=0, reg_lambda=1, scale_pos_weight=1, subsample=1,\n",
      "             tree_method='exact', validate_parameters=1, verbosity=None) \n",
      "\n",
      "XGBRegressor(base_score=0.5, booster='gbtree', colsample_bylevel=1,\n",
      "             colsample_bynode=1, colsample_bytree=1, gamma=0, gpu_id=-1,\n",
      "             importance_type='gain', interaction_constraints='',\n",
      "             learning_rate=0.300000012, max_delta_step=0, max_depth=6,\n",
      "             min_child_weight=1, missing=nan, monotone_constraints='()',\n",
      "             n_estimators=100, n_jobs=8, num_parallel_tree=1, random_state=0,\n",
      "             reg_alpha=0, reg_lambda=1, scale_pos_weight=1, subsample=1,\n",
      "             tree_method='exact', validate_parameters=1, verbosity=None) \n",
      "\n",
      "XGBRegressor(base_score=0.5, booster='gbtree', colsample_bylevel=1,\n",
      "             colsample_bynode=1, colsample_bytree=1, gamma=0, gpu_id=-1,\n",
      "             importance_type='gain', interaction_constraints='',\n",
      "             learning_rate=0.300000012, max_delta_step=0, max_depth=6,\n",
      "             min_child_weight=1, missing=nan, monotone_constraints='()',\n",
      "             n_estimators=100, n_jobs=8, num_parallel_tree=1, random_state=0,\n",
      "             reg_alpha=0, reg_lambda=1, scale_pos_weight=1, subsample=1,\n",
      "             tree_method='exact', validate_parameters=1, verbosity=None)\n"
     ]
    }
   ],
   "source": [
    "# selecting the XGBoost model and fitting with the train data for each cluster\n",
    "\n",
    "print(model_cluster1.fit(X_scaled_cluster1, y_cluster1),\"\\n\")\n",
    "print(model_cluster2.fit(X_scaled_cluster2, y_cluster2),\"\\n\")\n",
    "print(model_cluster3.fit(X_scaled_cluster3, y_cluster3),\"\\n\")\n",
    "print(model_cluster4.fit(X_scaled_cluster4, y_cluster4))"
   ]
  },
  {
   "cell_type": "markdown",
   "metadata": {},
   "source": [
    "#### Selecting the Relevant Variables and filtering according to the results"
   ]
  },
  {
   "cell_type": "code",
   "execution_count": 10,
   "metadata": {},
   "outputs": [
    {
     "data": {
      "image/png": "[encoded data removed]",
      "text/plain": [
       "<Figure size 1008x720 with 4 Axes>"
      ]
     },
     "metadata": {
      "needs_background": "light"
     },
     "output_type": "display_data"
    }
   ],
   "source": [
    "# Plot the Relevant Variables in order to filter the relevant ones per Cluster\n",
    "\n",
    "fig = plt.figure(figsize=(14, 10))\n",
    "fig.suptitle('10 Most Relevant Variables per Cluster (F-Score)', fontsize=20, weight=\"heavy\")\n",
    "\n",
    "ax1 = plt.subplot(2, 2, 1,frame_on=False)\n",
    "xgb.plot_importance(model_cluster1,height=0.5,ax=ax1,xlabel=None,ylabel=None,max_num_features=10,grid=False)\n",
    "ax1.set_title('Cluster 1',size=15)\n",
    "ax1.set_xticklabels([])\n",
    "ax1.set_xticks([])\n",
    "\n",
    "ax2 = plt.subplot(2, 2, 2,frame_on=False)\n",
    "xgb.plot_importance(model_cluster2,height=0.5,ax=ax2,xlabel=None,ylabel=None,max_num_features=10,grid=False)\n",
    "ax2.set_title('Cluster 2',size=15)\n",
    "ax2.set_xticklabels([])\n",
    "ax2.set_xticks([])\n",
    "\n",
    "ax3 = plt.subplot(2, 2, 3,frame_on=False)\n",
    "xgb.plot_importance(model_cluster3,height=0.5,ax=ax3,xlabel=None,ylabel=None,max_num_features=10,grid=False)\n",
    "ax3.set_title('Cluster 3',size=15)\n",
    "ax3.set_xticklabels([])\n",
    "ax3.set_xticks([])\n",
    "\n",
    "ax4 = plt.subplot(2, 2, 4,frame_on=False)\n",
    "xgb.plot_importance(model_cluster4,height=0.5,ax=ax4,xlabel=None,ylabel=None,max_num_features=10,grid=False)\n",
    "ax4.set_title('Cluster 4',size=15)\n",
    "ax4.set_xticklabels([])\n",
    "ax4.set_xticks([])\n",
    "\n",
    "plt.tight_layout()\n",
    "plt.show()"
   ]
  },
  {
   "cell_type": "code",
   "execution_count": 11,
   "metadata": {},
   "outputs": [],
   "source": [
    "# selecting the XGBoost model and fitting with the train data without the irrelevant variables\n",
    "# selecting the train X & y variables\n",
    "\n",
    "# selecting the train X & y variables\n",
    "\n",
    "# Y/Response variable have been defined previously\n",
    "\n",
    "# X will be the explanatory variables. Remove response variable and non desired categorical columns such as (municip code, year, etc...)\n",
    "X_cluster1 = queen_train.loc[queen_train.Cluster == 0,[\"population\",\"food_fruit\",\"weath_humidity\"]].copy()\n",
    "X_cluster2 = queen_train.loc[queen_train.Cluster == 1,[\"weath_humidity\",\"food_fruit\"]].copy()\n",
    "X_cluster3 = queen_train.loc[queen_train.Cluster == 2,[\"weath_humidity\",\"population\",\"food_fruit\"]].copy()\n",
    "X_cluster4 = queen_train.loc[queen_train.Cluster == 3,[\"weath_humidity\",\"colonies_amount\",\"food_fruit\"]].copy()\n",
    "\n",
    "# We want to predict our response variable (number of nests in 2020). Remove response variable and non desired categorical columns such as (municip code, year, etc...)\n",
    "queen_predict2020_cluster1 = queen_predict.loc[queen_predict.Cluster == 0,[\"population\",\"food_fruit\",\"weath_humidity\"]].copy()\n",
    "queen_predict2020_cluster2 = queen_predict.loc[queen_predict.Cluster == 1,[\"weath_humidity\",\"food_fruit\"]].copy()\n",
    "queen_predict2020_cluster3 = queen_predict.loc[queen_predict.Cluster == 2,[\"weath_humidity\",\"population\",\"food_fruit\"]].copy()\n",
    "queen_predict2020_cluster4 = queen_predict.loc[queen_predict.Cluster == 3,[\"weath_humidity\",\"colonies_amount\",\"food_fruit\"]].copy()"
   ]
  },
  {
   "cell_type": "markdown",
   "metadata": {},
   "source": [
    "### Choose a class of model by importing the appropriate estimator class"
   ]
  },
  {
   "cell_type": "code",
   "execution_count": 12,
   "metadata": {},
   "outputs": [],
   "source": [
    "# selecting the XGBoost model and fitting with the train data\n",
    "\n",
    "model_cluster1 = XGBRegressor()\n",
    "model_cluster2 = XGBRegressor()\n",
    "model_cluster3 = XGBRegressor()\n",
    "model_cluster4 = XGBRegressor()"
   ]
  },
  {
   "cell_type": "markdown",
   "metadata": {},
   "source": [
    "### Fit the model to your data by calling the `.fit()` method of the model instance"
   ]
  },
  {
   "cell_type": "code",
   "execution_count": 13,
   "metadata": {},
   "outputs": [
    {
     "name": "stdout",
     "output_type": "stream",
     "text": [
      "XGBRegressor(base_score=0.5, booster='gbtree', colsample_bylevel=1,\n",
      "             colsample_bynode=1, colsample_bytree=1, gamma=0, gpu_id=-1,\n",
      "             importance_type='gain', interaction_constraints='',\n",
      "             learning_rate=0.300000012, max_delta_step=0, max_depth=6,\n",
      "             min_child_weight=1, missing=nan, monotone_constraints='()',\n",
      "             n_estimators=100, n_jobs=8, num_parallel_tree=1, random_state=0,\n",
      "             reg_alpha=0, reg_lambda=1, scale_pos_weight=1, subsample=1,\n",
      "             tree_method='exact', validate_parameters=1, verbosity=None) \n",
      "\n",
      "XGBRegressor(base_score=0.5, booster='gbtree', colsample_bylevel=1,\n",
      "             colsample_bynode=1, colsample_bytree=1, gamma=0, gpu_id=-1,\n",
      "             importance_type='gain', interaction_constraints='',\n",
      "             learning_rate=0.300000012, max_delta_step=0, max_depth=6,\n",
      "             min_child_weight=1, missing=nan, monotone_constraints='()',\n",
      "             n_estimators=100, n_jobs=8, num_parallel_tree=1, random_state=0,\n",
      "             reg_alpha=0, reg_lambda=1, scale_pos_weight=1, subsample=1,\n",
      "             tree_method='exact', validate_parameters=1, verbosity=None) \n",
      "\n",
      "XGBRegressor(base_score=0.5, booster='gbtree', colsample_bylevel=1,\n",
      "             colsample_bynode=1, colsample_bytree=1, gamma=0, gpu_id=-1,\n",
      "             importance_type='gain', interaction_constraints='',\n",
      "             learning_rate=0.300000012, max_delta_step=0, max_depth=6,\n",
      "             min_child_weight=1, missing=nan, monotone_constraints='()',\n",
      "             n_estimators=100, n_jobs=8, num_parallel_tree=1, random_state=0,\n",
      "             reg_alpha=0, reg_lambda=1, scale_pos_weight=1, subsample=1,\n",
      "             tree_method='exact', validate_parameters=1, verbosity=None) \n",
      "\n",
      "XGBRegressor(base_score=0.5, booster='gbtree', colsample_bylevel=1,\n",
      "             colsample_bynode=1, colsample_bytree=1, gamma=0, gpu_id=-1,\n",
      "             importance_type='gain', interaction_constraints='',\n",
      "             learning_rate=0.300000012, max_delta_step=0, max_depth=6,\n",
      "             min_child_weight=1, missing=nan, monotone_constraints='()',\n",
      "             n_estimators=100, n_jobs=8, num_parallel_tree=1, random_state=0,\n",
      "             reg_alpha=0, reg_lambda=1, scale_pos_weight=1, subsample=1,\n",
      "             tree_method='exact', validate_parameters=1, verbosity=None)\n"
     ]
    }
   ],
   "source": [
    "# refitting the model\n",
    "\n",
    "print(model_cluster1.fit(X_cluster1, y_cluster1),\"\\n\")\n",
    "print(model_cluster2.fit(X_cluster2, y_cluster2),\"\\n\")\n",
    "print(model_cluster3.fit(X_cluster3, y_cluster3),\"\\n\")\n",
    "print(model_cluster4.fit(X_cluster4, y_cluster4))"
   ]
  },
  {
   "cell_type": "markdown",
   "metadata": {},
   "source": [
    "### Apply the model to new data:\n",
    "\n",
    "- For supervised learning, predict labels for unknown data using the `.predict()` method"
   ]
  },
  {
   "cell_type": "code",
   "execution_count": 15,
   "metadata": {},
   "outputs": [],
   "source": [
    "# make a prediction\n",
    "\n",
    "prediction_2020_cluster1 = model_cluster1.predict(queen_predict2020_cluster1)\n",
    "prediction_2020_cluster2 = model_cluster2.predict(queen_predict2020_cluster2)\n",
    "prediction_2020_cluster3 = model_cluster3.predict(queen_predict2020_cluster3)\n",
    "prediction_2020_cluster4 = model_cluster4.predict(queen_predict2020_cluster4)"
   ]
  },
  {
   "cell_type": "markdown",
   "metadata": {},
   "source": [
    "## Add Each Cluster Predictions to the original DataFrame and Save it as a `.csv file`"
   ]
  },
  {
   "cell_type": "code",
   "execution_count": 16,
   "metadata": {},
   "outputs": [],
   "source": [
    "# Create a new Column with the 2020 prediction\n",
    "queen_predict[\"nests_2020\"] = 0"
   ]
  },
  {
   "cell_type": "code",
   "execution_count": 17,
   "metadata": {},
   "outputs": [],
   "source": [
    "# Add the cluster predictions to the newly created column \n",
    "\n",
    "queen_predict.loc[queen_predict.Cluster == 0,\"nests_2020\"] = prediction_2020_cluster1\n",
    "queen_predict.loc[queen_predict.Cluster == 1,\"nests_2020\"] = prediction_2020_cluster2\n",
    "queen_predict.loc[queen_predict.Cluster == 2,\"nests_2020\"] = prediction_2020_cluster3\n",
    "queen_predict.loc[queen_predict.Cluster == 3,\"nests_2020\"] = prediction_2020_cluster4"
   ]
  },
  {
   "cell_type": "code",
   "execution_count": 18,
   "metadata": {},
   "outputs": [],
   "source": [
    "# group by municip code\n",
    "group_predict = queen_predict.groupby(by=[\"municip_code\",\"municip_name\"], as_index=False).sum()"
   ]
  },
  {
   "cell_type": "code",
   "execution_count": 19,
   "metadata": {},
   "outputs": [],
   "source": [
    "# Create a new DataFrame with the Municipalities to insert manualy\n",
    "\n",
    "HEX_aux = pd.DataFrame({\"CODIGO MUNICIPIO\":[48022, 48071, 48088, 48074, 48051, 48020],\\\n",
    "             \"NOMBRE MUNICIPIO\":[\"Karrantza Harana/Valle de Carranza\",\"Muskiz\",\"Ubide\",\"Urduña/Orduña\",\"Lanestosa\",\"Bilbao\"],\\\n",
    "             \"NIDOS 2020\":[0,0,0,0,0,0]})"
   ]
  },
  {
   "cell_type": "code",
   "execution_count": 20,
   "metadata": {
    "id": "Z3PcQ4UnACCA"
   },
   "outputs": [],
   "source": [
    "HEX = group_predict.loc[:,[\"municip_code\",\"municip_name\",\"nests_2020\"]].round() # create a new Dataframe for Kopuru submission\n",
    "HEX.columns = [\"CODIGO MUNICIPIO\",\"NOMBRE MUNICIPIO\",\"NIDOS 2020\"] # change column names to Spanish (Decidata template)\n",
    "HEX = HEX.append(HEX_aux, ignore_index=True) # Add rows of municipalities to add manually"
   ]
  },
  {
   "cell_type": "code",
   "execution_count": 21,
   "metadata": {},
   "outputs": [
    {
     "name": "stdout",
     "output_type": "stream",
     "text": [
      "(112, 3) : Shape is correct.\n",
      "112 : Number of unique municipalities is correct.\n",
      "The Total 2020 Nests' Prediction is 3547\n"
     ]
    }
   ],
   "source": [
    "# Final check\n",
    "\n",
    "check_data(HEX)"
   ]
  },
  {
   "cell_type": "code",
   "execution_count": null,
   "metadata": {
    "id": "uiPq7zXi0STt"
   },
   "outputs": [],
   "source": [
    "# Save the new dataFrame as a .csv in the current working directory on Windows\n",
    "\n",
    "HEX.to_csv(\"WaspBusters_20210512_batch_XGmonths.csv\", index=False)"
   ]
  }
 ],
 "metadata": {
  "colab": {
   "collapsed_sections": [],
   "include_colab_link": true,
   "name": "HEX draft.ipynb",
   "provenance": []
  },
  "kernelspec": {
   "display_name": "Python 3",
   "language": "python",
   "name": "python3"
  },
  "language_info": {
   "codemirror_mode": {
    "name": "ipython",
    "version": 3
   },
   "file_extension": ".py",
   "mimetype": "text/x-python",
   "name": "python",
   "nbconvert_exporter": "python",
   "pygments_lexer": "ipython3",
   "version": "3.8.8"
  },
  "toc": {
   "base_numbering": 1,
   "nav_menu": {},
   "number_sections": true,
   "sideBar": true,
   "skip_h1_title": false,
   "title_cell": "Table of Contents",
   "title_sidebar": "Contents",
   "toc_cell": false,
   "toc_position": {
    "height": "calc(100% - 180px)",
    "left": "10px",
    "top": "150px",
    "width": "472.431px"
   },
   "toc_section_display": true,
   "toc_window_display": true
  }
 },
 "nbformat": 4,
 "nbformat_minor": 4
}

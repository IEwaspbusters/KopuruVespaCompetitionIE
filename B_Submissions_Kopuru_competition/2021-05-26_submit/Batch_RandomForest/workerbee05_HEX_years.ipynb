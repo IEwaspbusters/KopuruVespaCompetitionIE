{
 "cells": [
  {
   "cell_type": "markdown",
   "metadata": {},
   "source": [
    "# Random Forest Model (months) with previous clustering\n",
    "# In preparation for the May 19th submission to the Kopuru challenge"
   ]
  },
  {
   "cell_type": "code",
   "execution_count": 44,
   "metadata": {},
   "outputs": [],
   "source": [
    "# Base packages -----------------------------------\n",
    "import pandas as pd\n",
    "import numpy as np\n",
    "from matplotlib import pyplot as plt\n",
    "\n",
    "# Linear Regression -------------------------------\n",
    "from statsmodels.formula.api import ols\n",
    "\n",
    "# SKLearn -----------------------------------------\n",
    "from sklearn.model_selection import train_test_split\n",
    "\n",
    "\n",
    "# Random Forest Regressort------------------------\n",
    "from sklearn.ensemble import RandomForestRegressor"
   ]
  },
  {
   "cell_type": "code",
   "execution_count": 45,
   "metadata": {},
   "outputs": [],
   "source": [
    "## Functions"
   ]
  },
  {
   "cell_type": "code",
   "execution_count": 46,
   "metadata": {},
   "outputs": [],
   "source": [
    "# Function that checks if final Output is ready for submission or needs revision   \n",
    "\n",
    "def check_data(HEX):\n",
    "\n",
    "    if HEX.shape == (112, 3):\n",
    "        print(HEX.shape,\": Shape is correct.\")\n",
    "    else:\n",
    "        print(HEX.shape,\": Shape is **INCORRECT!**\")\n",
    "\n",
    "    if HEX[\"CODIGO MUNICIPIO\"].nunique() == 112:\n",
    "        print(HEX[\"CODIGO MUNICIPIO\"].nunique(),\": Number of unique municipalities is correct.\")\n",
    "    else:\n",
    "        print(HEX[\"CODIGO MUNICIPIO\"].nunique(),\": Number of unique municipalities is **INCORRECT!**\")\n",
    "        \n",
    "    if any(HEX[\"NIDOS 2020\"] < 0):\n",
    "        print(\"**INCORRECT!** At least one municipality has NESTS <= 0.\")\n",
    "    else:\n",
    "        print(\"Great! All municipalities have NESTS >= 0.\")\n",
    "    \n",
    "    print(\"The Total 2020 Nests' Prediction is\", int(HEX[\"NIDOS 2020\"].sum()))"
   ]
  },
  {
   "cell_type": "markdown",
   "metadata": {},
   "source": [
    "# Loading and massaging data"
   ]
  },
  {
   "cell_type": "code",
   "execution_count": 4,
   "metadata": {},
   "outputs": [],
   "source": [
    "# Importing datasets from GitHub as Pandas Dataframes\n",
    "queen_train = pd.read_csv(\"../Feeder_years/WBds03_QUEENtrainYEARS.csv\") #2018+2019 test df\n",
    "queen_predict = pd.read_csv(\"../Feeder_years/WBds03_QUEENpredictYEARS.csv\") #2018+2019 test df\n",
    "queen_cluster = pd.read_csv(\"../../../Other_open_data/cluster.csv\") "
   ]
  },
  {
   "cell_type": "code",
   "execution_count": 7,
   "metadata": {},
   "outputs": [
    {
     "data": {
      "text/html": [
       "<div>\n",
       "<style scoped>\n",
       "    .dataframe tbody tr th:only-of-type {\n",
       "        vertical-align: middle;\n",
       "    }\n",
       "\n",
       "    .dataframe tbody tr th {\n",
       "        vertical-align: top;\n",
       "    }\n",
       "\n",
       "    .dataframe thead th {\n",
       "        text-align: right;\n",
       "    }\n",
       "</style>\n",
       "<table border=\"1\" class=\"dataframe\">\n",
       "  <thead>\n",
       "    <tr style=\"text-align: right;\">\n",
       "      <th></th>\n",
       "      <th>municip_name</th>\n",
       "      <th>municip_code</th>\n",
       "      <th>year_offset</th>\n",
       "      <th>NESTS</th>\n",
       "      <th>colonies_amount</th>\n",
       "      <th>food_fruit</th>\n",
       "      <th>food_apple</th>\n",
       "      <th>food_txakoli</th>\n",
       "      <th>food_kiwi</th>\n",
       "      <th>food_pear</th>\n",
       "      <th>...</th>\n",
       "      <th>rain_max_day</th>\n",
       "      <th>sun</th>\n",
       "      <th>temp_avg</th>\n",
       "      <th>temp_max_abs</th>\n",
       "      <th>temp_max_avg</th>\n",
       "      <th>temp_min_abs</th>\n",
       "      <th>wind_avg</th>\n",
       "      <th>wind_max</th>\n",
       "      <th>wind_max_avg</th>\n",
       "      <th>population</th>\n",
       "    </tr>\n",
       "  </thead>\n",
       "  <tbody>\n",
       "    <tr>\n",
       "      <th>0</th>\n",
       "      <td>Abadiño</td>\n",
       "      <td>48001</td>\n",
       "      <td>2017</td>\n",
       "      <td>54</td>\n",
       "      <td>160.0</td>\n",
       "      <td>0.0</td>\n",
       "      <td>0.0</td>\n",
       "      <td>0.0</td>\n",
       "      <td>0.0</td>\n",
       "      <td>0.0</td>\n",
       "      <td>...</td>\n",
       "      <td>63.1</td>\n",
       "      <td>12.529042</td>\n",
       "      <td>13.283333</td>\n",
       "      <td>38.4</td>\n",
       "      <td>26.1</td>\n",
       "      <td>0.8</td>\n",
       "      <td>10.868514</td>\n",
       "      <td>82.102336</td>\n",
       "      <td>40.190008</td>\n",
       "      <td>7522</td>\n",
       "    </tr>\n",
       "    <tr>\n",
       "      <th>1</th>\n",
       "      <td>Abadiño</td>\n",
       "      <td>48001</td>\n",
       "      <td>2018</td>\n",
       "      <td>22</td>\n",
       "      <td>160.0</td>\n",
       "      <td>0.0</td>\n",
       "      <td>0.0</td>\n",
       "      <td>0.0</td>\n",
       "      <td>0.0</td>\n",
       "      <td>0.0</td>\n",
       "      <td>...</td>\n",
       "      <td>71.2</td>\n",
       "      <td>12.519172</td>\n",
       "      <td>13.675000</td>\n",
       "      <td>37.0</td>\n",
       "      <td>26.6</td>\n",
       "      <td>2.2</td>\n",
       "      <td>11.036587</td>\n",
       "      <td>76.642772</td>\n",
       "      <td>40.302092</td>\n",
       "      <td>7533</td>\n",
       "    </tr>\n",
       "    <tr>\n",
       "      <th>2</th>\n",
       "      <td>Abanto y Ciérvana-Abanto Zierbena</td>\n",
       "      <td>48002</td>\n",
       "      <td>2017</td>\n",
       "      <td>92</td>\n",
       "      <td>161.0</td>\n",
       "      <td>0.0</td>\n",
       "      <td>0.0</td>\n",
       "      <td>0.0</td>\n",
       "      <td>0.0</td>\n",
       "      <td>0.0</td>\n",
       "      <td>...</td>\n",
       "      <td>74.9</td>\n",
       "      <td>11.183333</td>\n",
       "      <td>13.433333</td>\n",
       "      <td>34.1</td>\n",
       "      <td>23.6</td>\n",
       "      <td>2.9</td>\n",
       "      <td>11.541667</td>\n",
       "      <td>142.900000</td>\n",
       "      <td>59.400000</td>\n",
       "      <td>9543</td>\n",
       "    </tr>\n",
       "    <tr>\n",
       "      <th>3</th>\n",
       "      <td>Abanto y Ciérvana-Abanto Zierbena</td>\n",
       "      <td>48002</td>\n",
       "      <td>2018</td>\n",
       "      <td>47</td>\n",
       "      <td>161.0</td>\n",
       "      <td>0.0</td>\n",
       "      <td>0.0</td>\n",
       "      <td>0.0</td>\n",
       "      <td>0.0</td>\n",
       "      <td>0.0</td>\n",
       "      <td>...</td>\n",
       "      <td>43.3</td>\n",
       "      <td>12.086274</td>\n",
       "      <td>13.700000</td>\n",
       "      <td>36.0</td>\n",
       "      <td>24.8</td>\n",
       "      <td>3.0</td>\n",
       "      <td>12.816667</td>\n",
       "      <td>118.100000</td>\n",
       "      <td>70.700000</td>\n",
       "      <td>9545</td>\n",
       "    </tr>\n",
       "    <tr>\n",
       "      <th>4</th>\n",
       "      <td>Ajangiz</td>\n",
       "      <td>48911</td>\n",
       "      <td>2017</td>\n",
       "      <td>19</td>\n",
       "      <td>0.0</td>\n",
       "      <td>17.0</td>\n",
       "      <td>1.0</td>\n",
       "      <td>3.0</td>\n",
       "      <td>15.0</td>\n",
       "      <td>0.0</td>\n",
       "      <td>...</td>\n",
       "      <td>47.0</td>\n",
       "      <td>12.526743</td>\n",
       "      <td>14.033333</td>\n",
       "      <td>37.8</td>\n",
       "      <td>25.6</td>\n",
       "      <td>2.0</td>\n",
       "      <td>11.073450</td>\n",
       "      <td>80.263148</td>\n",
       "      <td>40.287502</td>\n",
       "      <td>474</td>\n",
       "    </tr>\n",
       "  </tbody>\n",
       "</table>\n",
       "<p>5 rows × 32 columns</p>\n",
       "</div>"
      ],
      "text/plain": [
       "                        municip_name  municip_code  year_offset  NESTS  \\\n",
       "0                            Abadiño         48001         2017     54   \n",
       "1                            Abadiño         48001         2018     22   \n",
       "2  Abanto y Ciérvana-Abanto Zierbena         48002         2017     92   \n",
       "3  Abanto y Ciérvana-Abanto Zierbena         48002         2018     47   \n",
       "4                            Ajangiz         48911         2017     19   \n",
       "\n",
       "   colonies_amount  food_fruit  food_apple  food_txakoli  food_kiwi  \\\n",
       "0            160.0         0.0         0.0           0.0        0.0   \n",
       "1            160.0         0.0         0.0           0.0        0.0   \n",
       "2            161.0         0.0         0.0           0.0        0.0   \n",
       "3            161.0         0.0         0.0           0.0        0.0   \n",
       "4              0.0        17.0         1.0           3.0       15.0   \n",
       "\n",
       "   food_pear  ...  rain_max_day        sun   temp_avg  temp_max_abs  \\\n",
       "0        0.0  ...          63.1  12.529042  13.283333          38.4   \n",
       "1        0.0  ...          71.2  12.519172  13.675000          37.0   \n",
       "2        0.0  ...          74.9  11.183333  13.433333          34.1   \n",
       "3        0.0  ...          43.3  12.086274  13.700000          36.0   \n",
       "4        0.0  ...          47.0  12.526743  14.033333          37.8   \n",
       "\n",
       "   temp_max_avg  temp_min_abs   wind_avg    wind_max  wind_max_avg  population  \n",
       "0          26.1           0.8  10.868514   82.102336     40.190008        7522  \n",
       "1          26.6           2.2  11.036587   76.642772     40.302092        7533  \n",
       "2          23.6           2.9  11.541667  142.900000     59.400000        9543  \n",
       "3          24.8           3.0  12.816667  118.100000     70.700000        9545  \n",
       "4          25.6           2.0  11.073450   80.263148     40.287502         474  \n",
       "\n",
       "[5 rows x 32 columns]"
      ]
     },
     "execution_count": 7,
     "metadata": {},
     "output_type": "execute_result"
    }
   ],
   "source": [
    "queen_train.head()"
   ]
  },
  {
   "cell_type": "code",
   "execution_count": 8,
   "metadata": {},
   "outputs": [],
   "source": [
    "queen_train = queen_train.loc[queen_train.year_offset == 2018,:].copy(True)"
   ]
  },
  {
   "cell_type": "code",
   "execution_count": 9,
   "metadata": {},
   "outputs": [],
   "source": [
    "# Adding cluster labels\n",
    "queen_train = pd.merge(queen_train, queen_cluster, how = 'left', left_on = 'municip_code', right_on = 'CODIGO MUNICIPIO')\n",
    "queen_predict = pd.merge(queen_predict, queen_cluster, how = 'left', left_on = 'municip_code', right_on = 'CODIGO MUNICIPIO')"
   ]
  },
  {
   "cell_type": "code",
   "execution_count": 10,
   "metadata": {},
   "outputs": [
    {
     "data": {
      "text/plain": [
       "Index(['municip_name', 'municip_code', 'year_offset', 'NESTS',\n",
       "       'colonies_amount', 'food_fruit', 'food_apple', 'food_txakoli',\n",
       "       'food_kiwi', 'food_pear', 'food_blueberry', 'food_raspberry',\n",
       "       'station_code', 'freez', 'hum', 'lev_max', 'lev_mid', 'lev_min', 'rain',\n",
       "       'rain_1mm', 'rain_cum', 'rain_max_10', 'rain_max_day', 'sun',\n",
       "       'temp_avg', 'temp_max_abs', 'temp_max_avg', 'temp_min_abs', 'wind_avg',\n",
       "       'wind_max', 'wind_max_avg', 'population', 'CODIGO MUNICIPIO',\n",
       "       'Cluster'],\n",
       "      dtype='object')"
      ]
     },
     "execution_count": 10,
     "metadata": {},
     "output_type": "execute_result"
    }
   ],
   "source": [
    "queen_train.columns"
   ]
  },
  {
   "cell_type": "code",
   "execution_count": 12,
   "metadata": {},
   "outputs": [],
   "source": [
    "queen_train.drop(columns=['year_offset','municip_name','municip_code','station_code','CODIGO MUNICIPIO'], inplace=True)"
   ]
  },
  {
   "cell_type": "markdown",
   "metadata": {},
   "source": [
    "# Model"
   ]
  },
  {
   "cell_type": "code",
   "execution_count": 13,
   "metadata": {},
   "outputs": [],
   "source": [
    "# Instantiate the models with 100 decision trees\n",
    "rf_0 = RandomForestRegressor(n_estimators = 1000, random_state = 42)\n",
    "rf_1 = RandomForestRegressor(n_estimators = 1000, random_state = 42)\n",
    "rf_2 = RandomForestRegressor(n_estimators = 1000, random_state = 42)\n",
    "rf_3 = RandomForestRegressor(n_estimators = 1000, random_state = 42)"
   ]
  },
  {
   "cell_type": "code",
   "execution_count": 14,
   "metadata": {},
   "outputs": [
    {
     "data": {
      "text/plain": [
       "RandomForestRegressor(n_estimators=1000, random_state=42)"
      ]
     },
     "execution_count": 14,
     "metadata": {},
     "output_type": "execute_result"
    }
   ],
   "source": [
    "# Train the model by cluster\n",
    "\n",
    "train_x_0 = queen_train.loc[queen_train.Cluster == 0 ,:].drop('NESTS', axis = 1)\n",
    "train_y_0 = queen_train.loc[queen_train.Cluster == 0 ,:].loc[:, 'NESTS']\n",
    "\n",
    "train_x_1 = queen_train.loc[queen_train.Cluster == 1 ,:].drop('NESTS', axis = 1)\n",
    "train_y_1 = queen_train.loc[queen_train.Cluster == 1 ,:].loc[:, 'NESTS']\n",
    "\n",
    "train_x_2 = queen_train.loc[queen_train.Cluster == 2 ,:].drop('NESTS', axis = 1)\n",
    "train_y_2 = queen_train.loc[queen_train.Cluster == 2 ,:].loc[:, 'NESTS']\n",
    "\n",
    "train_x_3 = queen_train.loc[queen_train.Cluster == 3 ,:].drop('NESTS', axis = 1)\n",
    "train_y_3 = queen_train.loc[queen_train.Cluster == 3 ,:].loc[:, 'NESTS']\n",
    "\n",
    "rf_0.fit(train_x_0, train_y_0)\n",
    "rf_1.fit(train_x_1, train_y_1)\n",
    "rf_2.fit(train_x_2, train_y_2)\n",
    "rf_3.fit(train_x_3, train_y_3)\n"
   ]
  },
  {
   "cell_type": "markdown",
   "metadata": {},
   "source": [
    "# Feature importance"
   ]
  },
  {
   "cell_type": "code",
   "execution_count": 15,
   "metadata": {},
   "outputs": [
    {
     "name": "stdout",
     "output_type": "stream",
     "text": [
      "Variable: food_fruit           Importance: 0.2054\n",
      "Variable: population           Importance: 0.1825\n",
      "Variable: food_txakoli         Importance: 0.1184\n",
      "Variable: lev_max              Importance: 0.0426\n",
      "Variable: lev_mid              Importance: 0.037\n",
      "Variable: hum                  Importance: 0.0361\n",
      "Variable: wind_avg             Importance: 0.0354\n",
      "Variable: temp_max_abs         Importance: 0.0318\n",
      "Variable: rain_max_day         Importance: 0.0311\n",
      "Variable: temp_max_avg         Importance: 0.0268\n",
      "Variable: colonies_amount      Importance: 0.0223\n",
      "Variable: temp_avg             Importance: 0.0213\n",
      "Variable: rain_max_10          Importance: 0.0209\n",
      "Variable: wind_max_avg         Importance: 0.0185\n",
      "Variable: lev_min              Importance: 0.0184\n",
      "Variable: sun                  Importance: 0.0178\n",
      "Variable: rain_1mm             Importance: 0.017\n",
      "Variable: food_kiwi            Importance: 0.0165\n",
      "Variable: food_apple           Importance: 0.016\n",
      "Variable: food_blueberry       Importance: 0.016\n",
      "Variable: wind_max             Importance: 0.0157\n",
      "Variable: temp_min_abs         Importance: 0.0145\n",
      "Variable: freez                Importance: 0.0117\n",
      "Variable: rain_cum             Importance: 0.0111\n",
      "Variable: rain                 Importance: 0.0095\n",
      "Variable: food_pear            Importance: 0.0056\n",
      "Variable: food_raspberry       Importance: 0.0001\n",
      "Variable: Cluster              Importance: 0.0\n"
     ]
    }
   ],
   "source": [
    "# Get numerical feature importances\n",
    "feature_list_0 = list(train_x_0.columns)\n",
    "\n",
    "# List of tuples with variable and importance\n",
    "importances_0 = list(rf_0.feature_importances_)\n",
    "feature_importances_0 = [(feature, round(importance, 4)) for feature, importance in zip(feature_list_0, importances_0)]\n",
    "\n",
    "# Sort the feature importances by most important first\n",
    "feature_importances_0 = sorted(feature_importances_0, key = lambda x: x[1], reverse = True)\n",
    "\n",
    "# Print out the feature and importances \n",
    "[print('Variable: {:20} Importance: {}'.format(*pair)) for pair in feature_importances_0];"
   ]
  },
  {
   "cell_type": "code",
   "execution_count": 16,
   "metadata": {},
   "outputs": [
    {
     "name": "stdout",
     "output_type": "stream",
     "text": [
      "Variable: colonies_amount      Importance: 0.1478\n",
      "Variable: rain_cum             Importance: 0.1162\n",
      "Variable: food_fruit           Importance: 0.116\n",
      "Variable: population           Importance: 0.0864\n",
      "Variable: temp_max_avg         Importance: 0.0741\n",
      "Variable: temp_min_abs         Importance: 0.0422\n",
      "Variable: food_txakoli         Importance: 0.0363\n",
      "Variable: rain_1mm             Importance: 0.0357\n",
      "Variable: sun                  Importance: 0.0326\n",
      "Variable: lev_max              Importance: 0.03\n",
      "Variable: wind_avg             Importance: 0.0271\n",
      "Variable: rain_max_10          Importance: 0.0268\n",
      "Variable: lev_mid              Importance: 0.0263\n",
      "Variable: wind_max             Importance: 0.0251\n",
      "Variable: food_kiwi            Importance: 0.0239\n",
      "Variable: lev_min              Importance: 0.0236\n",
      "Variable: wind_max_avg         Importance: 0.0236\n",
      "Variable: temp_avg             Importance: 0.0206\n",
      "Variable: temp_max_abs         Importance: 0.0194\n",
      "Variable: rain_max_day         Importance: 0.0184\n",
      "Variable: freez                Importance: 0.0142\n",
      "Variable: hum                  Importance: 0.0133\n",
      "Variable: rain                 Importance: 0.011\n",
      "Variable: food_apple           Importance: 0.0089\n",
      "Variable: food_blueberry       Importance: 0.0004\n",
      "Variable: food_pear            Importance: 0.0\n",
      "Variable: food_raspberry       Importance: 0.0\n",
      "Variable: Cluster              Importance: 0.0\n"
     ]
    }
   ],
   "source": [
    "# Get numerical feature importances\n",
    "feature_list_1 = list(train_x_1.columns)\n",
    "\n",
    "# List of tuples with variable and importance\n",
    "importances_1 = list(rf_1.feature_importances_)\n",
    "feature_importances_1 = [(feature, round(importance, 4)) for feature, importance in zip(feature_list_1, importances_1)]\n",
    "\n",
    "# Sort the feature importances by most important first\n",
    "feature_importances_1 = sorted(feature_importances_1, key = lambda x: x[1], reverse = True)\n",
    "\n",
    "# Print out the feature and importances \n",
    "[print('Variable: {:20} Importance: {}'.format(*pair)) for pair in feature_importances_1];"
   ]
  },
  {
   "cell_type": "code",
   "execution_count": 17,
   "metadata": {},
   "outputs": [
    {
     "name": "stdout",
     "output_type": "stream",
     "text": [
      "Variable: population           Importance: 0.3192\n",
      "Variable: rain_max_day         Importance: 0.0724\n",
      "Variable: lev_min              Importance: 0.0696\n",
      "Variable: hum                  Importance: 0.068\n",
      "Variable: lev_mid              Importance: 0.0604\n",
      "Variable: rain_1mm             Importance: 0.0582\n",
      "Variable: temp_max_abs         Importance: 0.0553\n",
      "Variable: food_fruit           Importance: 0.0513\n",
      "Variable: temp_avg             Importance: 0.0468\n",
      "Variable: food_txakoli         Importance: 0.0413\n",
      "Variable: lev_max              Importance: 0.0386\n",
      "Variable: sun                  Importance: 0.0302\n",
      "Variable: temp_max_avg         Importance: 0.0202\n",
      "Variable: food_kiwi            Importance: 0.0149\n",
      "Variable: wind_max             Importance: 0.0132\n",
      "Variable: food_apple           Importance: 0.0077\n",
      "Variable: wind_max_avg         Importance: 0.0077\n",
      "Variable: food_pear            Importance: 0.0054\n",
      "Variable: temp_min_abs         Importance: 0.0045\n",
      "Variable: wind_avg             Importance: 0.0039\n",
      "Variable: freez                Importance: 0.0036\n",
      "Variable: rain                 Importance: 0.0025\n",
      "Variable: rain_max_10          Importance: 0.0025\n",
      "Variable: rain_cum             Importance: 0.0022\n",
      "Variable: food_blueberry       Importance: 0.0004\n",
      "Variable: colonies_amount      Importance: 0.0\n",
      "Variable: food_raspberry       Importance: 0.0\n",
      "Variable: Cluster              Importance: 0.0\n"
     ]
    }
   ],
   "source": [
    "# Get numerical feature importances\n",
    "feature_list_2 = list(train_x_2.columns)\n",
    "\n",
    "# List of tuples with variable and importance\n",
    "importances_2 = list(rf_2.feature_importances_)\n",
    "feature_importances_2 = [(feature, round(importance, 4)) for feature, importance in zip(feature_list_2, importances_2)]\n",
    "\n",
    "# Sort the feature importances by most important first\n",
    "feature_importances_2 = sorted(feature_importances_2, key = lambda x: x[1], reverse = True)\n",
    "\n",
    "# Print out the feature and importances \n",
    "[print('Variable: {:20} Importance: {}'.format(*pair)) for pair in feature_importances_2];"
   ]
  },
  {
   "cell_type": "code",
   "execution_count": 18,
   "metadata": {},
   "outputs": [
    {
     "name": "stdout",
     "output_type": "stream",
     "text": [
      "Variable: food_apple           Importance: 0.1493\n",
      "Variable: lev_min              Importance: 0.1408\n",
      "Variable: colonies_amount      Importance: 0.1265\n",
      "Variable: wind_max_avg         Importance: 0.077\n",
      "Variable: lev_max              Importance: 0.0588\n",
      "Variable: wind_max             Importance: 0.0587\n",
      "Variable: temp_max_avg         Importance: 0.0525\n",
      "Variable: hum                  Importance: 0.0375\n",
      "Variable: rain_1mm             Importance: 0.0317\n",
      "Variable: rain_cum             Importance: 0.0316\n",
      "Variable: rain_max_day         Importance: 0.0273\n",
      "Variable: food_kiwi            Importance: 0.0247\n",
      "Variable: rain                 Importance: 0.0241\n",
      "Variable: lev_mid              Importance: 0.0228\n",
      "Variable: population           Importance: 0.021\n",
      "Variable: sun                  Importance: 0.0201\n",
      "Variable: temp_max_abs         Importance: 0.018\n",
      "Variable: food_fruit           Importance: 0.0171\n",
      "Variable: rain_max_10          Importance: 0.0146\n",
      "Variable: wind_avg             Importance: 0.0112\n",
      "Variable: temp_min_abs         Importance: 0.011\n",
      "Variable: temp_avg             Importance: 0.009\n",
      "Variable: freez                Importance: 0.0079\n",
      "Variable: food_txakoli         Importance: 0.0045\n",
      "Variable: food_blueberry       Importance: 0.0024\n",
      "Variable: food_pear            Importance: 0.0\n",
      "Variable: food_raspberry       Importance: 0.0\n",
      "Variable: Cluster              Importance: 0.0\n"
     ]
    }
   ],
   "source": [
    "# Get numerical feature importances\n",
    "feature_list_3 = list(train_x_3.columns)\n",
    "\n",
    "# List of tuples with variable and importance\n",
    "importances_3 = list(rf_3.feature_importances_)\n",
    "feature_importances_3 = [(feature, round(importance, 4)) for feature, importance in zip(feature_list_3, importances_3)]\n",
    "\n",
    "# Sort the feature importances by most important first\n",
    "feature_importances_3 = sorted(feature_importances_3, key = lambda x: x[1], reverse = True)\n",
    "\n",
    "# Print out the feature and importances \n",
    "[print('Variable: {:20} Importance: {}'.format(*pair)) for pair in feature_importances_3];"
   ]
  },
  {
   "cell_type": "markdown",
   "metadata": {},
   "source": [
    "# New model with relevant variables"
   ]
  },
  {
   "cell_type": "code",
   "execution_count": 65,
   "metadata": {},
   "outputs": [
    {
     "data": {
      "text/plain": [
       "RandomForestRegressor(n_estimators=1000, random_state=42)"
      ]
     },
     "execution_count": 65,
     "metadata": {},
     "output_type": "execute_result"
    }
   ],
   "source": [
    "# Train new models by cluster\n",
    "\n",
    "train2_x_0 = queen_train.loc[queen_train.Cluster == 0 ,['food_fruit', 'food_txakoli', 'population', 'wind_avg', 'hum']]   \n",
    "train2_x_1 = queen_train.loc[queen_train.Cluster == 1 ,['colonies_amount','rain_cum','food_fruit', 'temp_max_avg', 'temp_min_abs', 'food_txakoli']]\n",
    "train2_x_2 = queen_train.loc[queen_train.Cluster == 2 ,['population', 'rain_max_day', 'rain_1mm', 'hum', 'temp_max_abs', 'food_fruit']] \n",
    "train2_x_3 = queen_train.loc[queen_train.Cluster == 3 ,['food_apple', 'colonies_amount','wind_max_avg', 'temp_max_avg']]\n",
    " \n",
    "rf_0.fit(train2_x_0, train_y_0)\n",
    "rf_1.fit(train2_x_1, train_y_1)\n",
    "rf_2.fit(train2_x_2, train_y_2)\n",
    "rf_3.fit(train2_x_3, train_y_3)"
   ]
  },
  {
   "cell_type": "markdown",
   "metadata": {},
   "source": [
    "# Predictions"
   ]
  },
  {
   "cell_type": "code",
   "execution_count": 66,
   "metadata": {},
   "outputs": [],
   "source": [
    "queen_predict_0 = queen_predict.loc[queen_predict.Cluster == 0, :].copy(True)\n",
    "queen_predict_1 = queen_predict.loc[queen_predict.Cluster == 1 , :].copy(True)\n",
    "queen_predict_2 = queen_predict.loc[queen_predict.Cluster == 2 ,:].copy(True)\n",
    "queen_predict_3 = queen_predict.loc[queen_predict.Cluster == 3 ,:].copy(True)\n"
   ]
  },
  {
   "cell_type": "code",
   "execution_count": 67,
   "metadata": {},
   "outputs": [],
   "source": [
    "predictions_0 = rf_0.predict(queen_predict_0.loc[:,['food_fruit', 'food_txakoli', 'population', 'wind_avg', 'hum']])\n",
    "predictions_1 = rf_1.predict(queen_predict_1.loc[:,['colonies_amount','rain_cum','food_fruit', 'temp_max_avg', 'temp_min_abs', 'food_txakoli']])\n",
    "predictions_2 = rf_2.predict(queen_predict_2.loc[:,['population', 'rain_max_day', 'rain_1mm', 'hum', 'temp_max_abs', 'food_fruit']])\n",
    "predictions_3 = rf_3.predict(queen_predict_3.loc[:,['food_apple', 'colonies_amount','wind_max_avg', 'temp_max_avg']])"
   ]
  },
  {
   "cell_type": "code",
   "execution_count": 68,
   "metadata": {},
   "outputs": [],
   "source": [
    "queen_predict_0['nests_2020'] = predictions_0\n",
    "queen_predict_1['nests_2020'] = predictions_1\n",
    "queen_predict_2['nests_2020'] = predictions_2\n",
    "queen_predict_3['nests_2020'] = predictions_3"
   ]
  },
  {
   "cell_type": "code",
   "execution_count": 69,
   "metadata": {},
   "outputs": [],
   "source": [
    "HEX_0 = queen_predict_0.loc[:,['municip_code','municip_name','nests_2020']].groupby(by=['municip_code','municip_name'], as_index=False).sum().round().dropna()\n",
    "HEX_1 = queen_predict_1.loc[:,['municip_code','municip_name','nests_2020']].groupby(by=['municip_code','municip_name'], as_index=False).sum().round().dropna()\n",
    "HEX_2 = queen_predict_2.loc[:,['municip_code','municip_name','nests_2020']].groupby(by=['municip_code','municip_name'], as_index=False).sum().round().dropna()\n",
    "HEX_3 = queen_predict_3.loc[:,['municip_code','municip_name','nests_2020']].groupby(by=['municip_code','municip_name'], as_index=False).sum().round().dropna()\n"
   ]
  },
  {
   "cell_type": "code",
   "execution_count": 70,
   "metadata": {},
   "outputs": [],
   "source": [
    "aux = pd.DataFrame({\"municip_code\":[48020, 48022, 48071, 48088,48074,48051],\n",
    "                    \"municip_name\":['Bilbao','Karrantza Harana/Valle de Carranza','Muskiz', 'Ubide','UrduÃ±a/OrduÃ±a','Lanestosa'],\n",
    "                    \"nests_2020\":[0, 1, 0, 0, 1, 1]})"
   ]
  },
  {
   "cell_type": "code",
   "execution_count": 71,
   "metadata": {},
   "outputs": [],
   "source": [
    "HEX = HEX_0.append(HEX_1, ignore_index = True).append(HEX_2, ignore_index = True).append(HEX_3, ignore_index = True).append(aux, ignore_index = True)"
   ]
  },
  {
   "cell_type": "code",
   "execution_count": 72,
   "metadata": {},
   "outputs": [],
   "source": [
    "HEX.loc[HEX.municip_code.isin(['48015','48036']),'nests_2020'] = 0"
   ]
  },
  {
   "cell_type": "code",
   "execution_count": 73,
   "metadata": {},
   "outputs": [],
   "source": [
    "HEX.columns = ['CODIGO MUNICIPIO','NOMBRE MUNICIPIO','NIDOS 2020']"
   ]
  },
  {
   "cell_type": "code",
   "execution_count": 74,
   "metadata": {},
   "outputs": [
    {
     "name": "stdout",
     "output_type": "stream",
     "text": [
      "(112, 3) : Shape is correct.\n",
      "112 : Number of unique municipalities is correct.\n",
      "Great! All municipalities have NESTS >= 0.\n",
      "The Total 2020 Nests' Prediction is 1945\n"
     ]
    }
   ],
   "source": [
    "check_data(HEX)"
   ]
  },
  {
   "cell_type": "code",
   "execution_count": 75,
   "metadata": {},
   "outputs": [],
   "source": [
    "HEX.to_csv('WaspBusters_20210526_RandomForestyears_v1.csv', index=False)"
   ]
  },
  {
   "cell_type": "code",
   "execution_count": null,
   "metadata": {},
   "outputs": [],
   "source": []
  }
 ],
 "metadata": {
  "kernelspec": {
   "display_name": "Python 3",
   "language": "python",
   "name": "python3"
  },
  "language_info": {
   "codemirror_mode": {
    "name": "ipython",
    "version": 3
   },
   "file_extension": ".py",
   "mimetype": "text/x-python",
   "name": "python",
   "nbconvert_exporter": "python",
   "pygments_lexer": "ipython3",
   "version": "3.8.5"
  }
 },
 "nbformat": 4,
 "nbformat_minor": 4
}

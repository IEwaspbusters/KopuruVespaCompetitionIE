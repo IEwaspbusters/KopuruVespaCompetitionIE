{
 "cells": [
  {
   "cell_type": "markdown",
   "metadata": {},
   "source": [
    "# Random Forest Model: years with clusters done by MB.\n"
   ]
  },
  {
   "cell_type": "code",
   "execution_count": 229,
   "metadata": {},
   "outputs": [],
   "source": [
    "# Base packages -----------------------------------\n",
    "import pandas as pd\n",
    "import numpy as np\n",
    "from matplotlib import pyplot as plt\n",
    "\n",
    "# Linear Regression -------------------------------\n",
    "from statsmodels.formula.api import ols\n",
    "\n",
    "# SKLearn -----------------------------------------\n",
    "from sklearn.model_selection import train_test_split\n",
    "\n",
    "\n",
    "# Random Forest Regressort------------------------\n",
    "from sklearn.ensemble import RandomForestRegressor"
   ]
  },
  {
   "cell_type": "markdown",
   "metadata": {},
   "source": [
    "## Functions"
   ]
  },
  {
   "cell_type": "code",
   "execution_count": 230,
   "metadata": {},
   "outputs": [],
   "source": [
    "# Function that checks if final Output is ready for submission or needs revision   \n",
    "\n",
    "def check_data(HEX):\n",
    "\n",
    "    if HEX.shape == (112, 3):\n",
    "        print(HEX.shape,\": Shape is correct.\")\n",
    "    else:\n",
    "        print(HEX.shape,\": Shape is **INCORRECT!**\")\n",
    "\n",
    "    if HEX[\"CODIGO MUNICIPIO\"].nunique() == 112:\n",
    "        print(HEX[\"CODIGO MUNICIPIO\"].nunique(),\": Number of unique municipalities is correct.\")\n",
    "    else:\n",
    "        print(HEX[\"CODIGO MUNICIPIO\"].nunique(),\": Number of unique municipalities is **INCORRECT!**\")\n",
    "        \n",
    "    if any(HEX[\"NIDOS 2020\"] < 0):\n",
    "        print(\"**INCORRECT!** At least one municipality has NESTS <= 0.\")\n",
    "    else:\n",
    "        print(\"Great! All municipalities have NESTS >= 0.\")\n",
    "    \n",
    "    print(\"The Total 2020 Nests' Prediction is\", int(HEX[\"NIDOS 2020\"].sum()))"
   ]
  },
  {
   "cell_type": "markdown",
   "metadata": {},
   "source": [
    "# Loading and massaging data"
   ]
  },
  {
   "cell_type": "code",
   "execution_count": 231,
   "metadata": {},
   "outputs": [],
   "source": [
    "# Importing datasets from GitHub as Pandas Dataframes\n",
    "queen_train = pd.read_csv(\"../Feeder_years/WBds03_QUEENtrainYEARS.csv\") #2018+2019 test df\n",
    "queen_predict = pd.read_csv(\"../Feeder_years/WBds03_QUEENpredictYEARS.csv\") #2018+2019 test df\n",
    "queen_cluster = pd.read_csv(\"../Feeder_years/WBds_CLUSTERSnests.csv\") "
   ]
  },
  {
   "cell_type": "code",
   "execution_count": 232,
   "metadata": {},
   "outputs": [
    {
     "data": {
      "text/html": [
       "<div>\n",
       "<style scoped>\n",
       "    .dataframe tbody tr th:only-of-type {\n",
       "        vertical-align: middle;\n",
       "    }\n",
       "\n",
       "    .dataframe tbody tr th {\n",
       "        vertical-align: top;\n",
       "    }\n",
       "\n",
       "    .dataframe thead th {\n",
       "        text-align: right;\n",
       "    }\n",
       "</style>\n",
       "<table border=\"1\" class=\"dataframe\">\n",
       "  <thead>\n",
       "    <tr style=\"text-align: right;\">\n",
       "      <th></th>\n",
       "      <th>municip_name</th>\n",
       "      <th>municip_code</th>\n",
       "      <th>year_offset</th>\n",
       "      <th>NESTS</th>\n",
       "      <th>colonies_amount</th>\n",
       "      <th>food_fruit</th>\n",
       "      <th>food_apple</th>\n",
       "      <th>food_txakoli</th>\n",
       "      <th>food_kiwi</th>\n",
       "      <th>food_pear</th>\n",
       "      <th>...</th>\n",
       "      <th>weath_meanDayMaxWind</th>\n",
       "      <th>population</th>\n",
       "      <th>cluster_size</th>\n",
       "      <th>cluster_cosmo</th>\n",
       "      <th>cluster_survive</th>\n",
       "      <th>cluster_food</th>\n",
       "      <th>cluster_weather_wet</th>\n",
       "      <th>cluster_weather_temp</th>\n",
       "      <th>cluster_weather_wind</th>\n",
       "      <th>cluster_weather_level</th>\n",
       "    </tr>\n",
       "  </thead>\n",
       "  <tbody>\n",
       "    <tr>\n",
       "      <th>0</th>\n",
       "      <td>Abadiño</td>\n",
       "      <td>48001</td>\n",
       "      <td>2017</td>\n",
       "      <td>54</td>\n",
       "      <td>160.0</td>\n",
       "      <td>0.0</td>\n",
       "      <td>0.0</td>\n",
       "      <td>0.0</td>\n",
       "      <td>0.0</td>\n",
       "      <td>0.0</td>\n",
       "      <td>...</td>\n",
       "      <td>40.190008</td>\n",
       "      <td>7522</td>\n",
       "      <td>0</td>\n",
       "      <td>0</td>\n",
       "      <td>0</td>\n",
       "      <td>0</td>\n",
       "      <td>1</td>\n",
       "      <td>1</td>\n",
       "      <td>0</td>\n",
       "      <td>1</td>\n",
       "    </tr>\n",
       "    <tr>\n",
       "      <th>1</th>\n",
       "      <td>Abadiño</td>\n",
       "      <td>48001</td>\n",
       "      <td>2018</td>\n",
       "      <td>22</td>\n",
       "      <td>160.0</td>\n",
       "      <td>0.0</td>\n",
       "      <td>0.0</td>\n",
       "      <td>0.0</td>\n",
       "      <td>0.0</td>\n",
       "      <td>0.0</td>\n",
       "      <td>...</td>\n",
       "      <td>40.302092</td>\n",
       "      <td>7533</td>\n",
       "      <td>0</td>\n",
       "      <td>0</td>\n",
       "      <td>0</td>\n",
       "      <td>0</td>\n",
       "      <td>1</td>\n",
       "      <td>1</td>\n",
       "      <td>0</td>\n",
       "      <td>1</td>\n",
       "    </tr>\n",
       "    <tr>\n",
       "      <th>2</th>\n",
       "      <td>Abanto y Ciérvana-Abanto Zierbena</td>\n",
       "      <td>48002</td>\n",
       "      <td>2017</td>\n",
       "      <td>92</td>\n",
       "      <td>161.0</td>\n",
       "      <td>0.0</td>\n",
       "      <td>0.0</td>\n",
       "      <td>0.0</td>\n",
       "      <td>0.0</td>\n",
       "      <td>0.0</td>\n",
       "      <td>...</td>\n",
       "      <td>59.400000</td>\n",
       "      <td>9543</td>\n",
       "      <td>4</td>\n",
       "      <td>1</td>\n",
       "      <td>1</td>\n",
       "      <td>0</td>\n",
       "      <td>1</td>\n",
       "      <td>1</td>\n",
       "      <td>1</td>\n",
       "      <td>1</td>\n",
       "    </tr>\n",
       "    <tr>\n",
       "      <th>3</th>\n",
       "      <td>Abanto y Ciérvana-Abanto Zierbena</td>\n",
       "      <td>48002</td>\n",
       "      <td>2018</td>\n",
       "      <td>47</td>\n",
       "      <td>161.0</td>\n",
       "      <td>0.0</td>\n",
       "      <td>0.0</td>\n",
       "      <td>0.0</td>\n",
       "      <td>0.0</td>\n",
       "      <td>0.0</td>\n",
       "      <td>...</td>\n",
       "      <td>70.700000</td>\n",
       "      <td>9545</td>\n",
       "      <td>4</td>\n",
       "      <td>1</td>\n",
       "      <td>1</td>\n",
       "      <td>0</td>\n",
       "      <td>1</td>\n",
       "      <td>1</td>\n",
       "      <td>1</td>\n",
       "      <td>1</td>\n",
       "    </tr>\n",
       "    <tr>\n",
       "      <th>4</th>\n",
       "      <td>Ajangiz</td>\n",
       "      <td>48911</td>\n",
       "      <td>2017</td>\n",
       "      <td>19</td>\n",
       "      <td>0.0</td>\n",
       "      <td>17.0</td>\n",
       "      <td>1.0</td>\n",
       "      <td>3.0</td>\n",
       "      <td>15.0</td>\n",
       "      <td>0.0</td>\n",
       "      <td>...</td>\n",
       "      <td>40.287502</td>\n",
       "      <td>474</td>\n",
       "      <td>1</td>\n",
       "      <td>0</td>\n",
       "      <td>0</td>\n",
       "      <td>0</td>\n",
       "      <td>1</td>\n",
       "      <td>1</td>\n",
       "      <td>0</td>\n",
       "      <td>1</td>\n",
       "    </tr>\n",
       "  </tbody>\n",
       "</table>\n",
       "<p>5 rows × 40 columns</p>\n",
       "</div>"
      ],
      "text/plain": [
       "                        municip_name  municip_code  year_offset  NESTS  \\\n",
       "0                            Abadiño         48001         2017     54   \n",
       "1                            Abadiño         48001         2018     22   \n",
       "2  Abanto y Ciérvana-Abanto Zierbena         48002         2017     92   \n",
       "3  Abanto y Ciérvana-Abanto Zierbena         48002         2018     47   \n",
       "4                            Ajangiz         48911         2017     19   \n",
       "\n",
       "   colonies_amount  food_fruit  food_apple  food_txakoli  food_kiwi  \\\n",
       "0            160.0         0.0         0.0           0.0        0.0   \n",
       "1            160.0         0.0         0.0           0.0        0.0   \n",
       "2            161.0         0.0         0.0           0.0        0.0   \n",
       "3            161.0         0.0         0.0           0.0        0.0   \n",
       "4              0.0        17.0         1.0           3.0       15.0   \n",
       "\n",
       "   food_pear  ...  weath_meanDayMaxWind  population cluster_size  \\\n",
       "0        0.0  ...             40.190008        7522            0   \n",
       "1        0.0  ...             40.302092        7533            0   \n",
       "2        0.0  ...             59.400000        9543            4   \n",
       "3        0.0  ...             70.700000        9545            4   \n",
       "4        0.0  ...             40.287502         474            1   \n",
       "\n",
       "   cluster_cosmo  cluster_survive  cluster_food  cluster_weather_wet  \\\n",
       "0              0                0             0                    1   \n",
       "1              0                0             0                    1   \n",
       "2              1                1             0                    1   \n",
       "3              1                1             0                    1   \n",
       "4              0                0             0                    1   \n",
       "\n",
       "   cluster_weather_temp  cluster_weather_wind  cluster_weather_level  \n",
       "0                     1                     0                      1  \n",
       "1                     1                     0                      1  \n",
       "2                     1                     1                      1  \n",
       "3                     1                     1                      1  \n",
       "4                     1                     0                      1  \n",
       "\n",
       "[5 rows x 40 columns]"
      ]
     },
     "execution_count": 232,
     "metadata": {},
     "output_type": "execute_result"
    }
   ],
   "source": [
    "queen_train.head()"
   ]
  },
  {
   "cell_type": "code",
   "execution_count": 233,
   "metadata": {},
   "outputs": [],
   "source": [
    "queen_train = queen_train.loc[queen_train.year_offset == 2018,:].copy(True)"
   ]
  },
  {
   "cell_type": "code",
   "execution_count": 234,
   "metadata": {},
   "outputs": [],
   "source": [
    "# Adding cluster labels\n",
    "queen_train = pd.merge(queen_train, queen_cluster, how = 'left', on = 'municip_code')\n",
    "queen_predict = pd.merge(queen_predict, queen_cluster, how = 'left', on = 'municip_code')"
   ]
  },
  {
   "cell_type": "code",
   "execution_count": 235,
   "metadata": {},
   "outputs": [
    {
     "data": {
      "text/plain": [
       "Index(['municip_name_x', 'municip_code', 'year_offset', 'NESTS',\n",
       "       'colonies_amount', 'food_fruit', 'food_apple', 'food_txakoli',\n",
       "       'food_kiwi', 'food_pear', 'food_blueberry', 'food_raspberry',\n",
       "       'station_code', 'weath_days_frost', 'weath_humidity', 'weath_maxLevel',\n",
       "       'weath_midLevel', 'weath_minLevel', 'weath_days_rain',\n",
       "       'weath_days_rain1mm', 'weath_accuRainfall', 'weath_10minRainfall',\n",
       "       'weath_1dayRainfall', 'weath_solar', 'weath_meanTemp', 'weath_maxTemp',\n",
       "       'weath_maxMeanTemp', 'weath_minTemp', 'weath_meanWindM',\n",
       "       'weath_maxWindM', 'weath_meanDayMaxWind', 'population', 'cluster_size',\n",
       "       'cluster_cosmo', 'cluster_survive', 'cluster_food',\n",
       "       'cluster_weather_wet', 'cluster_weather_temp', 'cluster_weather_wind',\n",
       "       'cluster_weather_level', 'municip_name_y', 'Cluster'],\n",
       "      dtype='object')"
      ]
     },
     "execution_count": 235,
     "metadata": {},
     "output_type": "execute_result"
    }
   ],
   "source": [
    "queen_train.columns"
   ]
  },
  {
   "cell_type": "code",
   "execution_count": 236,
   "metadata": {},
   "outputs": [
    {
     "data": {
      "text/html": [
       "<div>\n",
       "<style scoped>\n",
       "    .dataframe tbody tr th:only-of-type {\n",
       "        vertical-align: middle;\n",
       "    }\n",
       "\n",
       "    .dataframe tbody tr th {\n",
       "        vertical-align: top;\n",
       "    }\n",
       "\n",
       "    .dataframe thead th {\n",
       "        text-align: right;\n",
       "    }\n",
       "</style>\n",
       "<table border=\"1\" class=\"dataframe\">\n",
       "  <thead>\n",
       "    <tr style=\"text-align: right;\">\n",
       "      <th></th>\n",
       "      <th>municip_name_x</th>\n",
       "      <th>municip_code</th>\n",
       "      <th>year_offset</th>\n",
       "      <th>NESTS</th>\n",
       "      <th>colonies_amount</th>\n",
       "      <th>food_fruit</th>\n",
       "      <th>food_apple</th>\n",
       "      <th>food_txakoli</th>\n",
       "      <th>food_kiwi</th>\n",
       "      <th>food_pear</th>\n",
       "      <th>...</th>\n",
       "      <th>cluster_size</th>\n",
       "      <th>cluster_cosmo</th>\n",
       "      <th>cluster_survive</th>\n",
       "      <th>cluster_food</th>\n",
       "      <th>cluster_weather_wet</th>\n",
       "      <th>cluster_weather_temp</th>\n",
       "      <th>cluster_weather_wind</th>\n",
       "      <th>cluster_weather_level</th>\n",
       "      <th>municip_name_y</th>\n",
       "      <th>Cluster</th>\n",
       "    </tr>\n",
       "  </thead>\n",
       "  <tbody>\n",
       "    <tr>\n",
       "      <th>0</th>\n",
       "      <td>Abadiño</td>\n",
       "      <td>48001</td>\n",
       "      <td>2018</td>\n",
       "      <td>22</td>\n",
       "      <td>160.0</td>\n",
       "      <td>0.0</td>\n",
       "      <td>0.0</td>\n",
       "      <td>0.0</td>\n",
       "      <td>0.0</td>\n",
       "      <td>0.0</td>\n",
       "      <td>...</td>\n",
       "      <td>0</td>\n",
       "      <td>0</td>\n",
       "      <td>0</td>\n",
       "      <td>0</td>\n",
       "      <td>1</td>\n",
       "      <td>1</td>\n",
       "      <td>0</td>\n",
       "      <td>1</td>\n",
       "      <td>Abadiño</td>\n",
       "      <td>2.0</td>\n",
       "    </tr>\n",
       "    <tr>\n",
       "      <th>1</th>\n",
       "      <td>Abanto y Ciérvana-Abanto Zierbena</td>\n",
       "      <td>48002</td>\n",
       "      <td>2018</td>\n",
       "      <td>47</td>\n",
       "      <td>161.0</td>\n",
       "      <td>0.0</td>\n",
       "      <td>0.0</td>\n",
       "      <td>0.0</td>\n",
       "      <td>0.0</td>\n",
       "      <td>0.0</td>\n",
       "      <td>...</td>\n",
       "      <td>4</td>\n",
       "      <td>1</td>\n",
       "      <td>1</td>\n",
       "      <td>0</td>\n",
       "      <td>1</td>\n",
       "      <td>1</td>\n",
       "      <td>1</td>\n",
       "      <td>1</td>\n",
       "      <td>Abanto y Ciérvana-Abanto Zierbena</td>\n",
       "      <td>2.0</td>\n",
       "    </tr>\n",
       "  </tbody>\n",
       "</table>\n",
       "<p>2 rows × 42 columns</p>\n",
       "</div>"
      ],
      "text/plain": [
       "                      municip_name_x  municip_code  year_offset  NESTS  \\\n",
       "0                            Abadiño         48001         2018     22   \n",
       "1  Abanto y Ciérvana-Abanto Zierbena         48002         2018     47   \n",
       "\n",
       "   colonies_amount  food_fruit  food_apple  food_txakoli  food_kiwi  \\\n",
       "0            160.0         0.0         0.0           0.0        0.0   \n",
       "1            161.0         0.0         0.0           0.0        0.0   \n",
       "\n",
       "   food_pear  ...  cluster_size  cluster_cosmo cluster_survive  cluster_food  \\\n",
       "0        0.0  ...             0              0               0             0   \n",
       "1        0.0  ...             4              1               1             0   \n",
       "\n",
       "   cluster_weather_wet  cluster_weather_temp  cluster_weather_wind  \\\n",
       "0                    1                     1                     0   \n",
       "1                    1                     1                     1   \n",
       "\n",
       "   cluster_weather_level                     municip_name_y  Cluster  \n",
       "0                      1                            Abadiño      2.0  \n",
       "1                      1  Abanto y Ciérvana-Abanto Zierbena      2.0  \n",
       "\n",
       "[2 rows x 42 columns]"
      ]
     },
     "execution_count": 236,
     "metadata": {},
     "output_type": "execute_result"
    }
   ],
   "source": [
    "queen_train.head(2)"
   ]
  },
  {
   "cell_type": "code",
   "execution_count": 237,
   "metadata": {},
   "outputs": [
    {
     "data": {
      "text/plain": [
       "(112, 42)"
      ]
     },
     "execution_count": 237,
     "metadata": {},
     "output_type": "execute_result"
    }
   ],
   "source": [
    "queen_train.shape"
   ]
  },
  {
   "cell_type": "code",
   "execution_count": 238,
   "metadata": {},
   "outputs": [],
   "source": [
    "X = queen_train.drop(columns=['NESTS','year_offset','municip_name_x','municip_name_y', 'municip_code','station_code', 'cluster_size', 'cluster_cosmo', 'cluster_survive', 'cluster_food', 'cluster_weather_wet', 'cluster_weather_temp', 'cluster_weather_wind' ,'cluster_weather_level']).copy(True).dropna()"
   ]
  },
  {
   "cell_type": "code",
   "execution_count": 239,
   "metadata": {},
   "outputs": [
    {
     "data": {
      "text/plain": [
       "(111, 28)"
      ]
     },
     "execution_count": 239,
     "metadata": {},
     "output_type": "execute_result"
    }
   ],
   "source": [
    "X.shape"
   ]
  },
  {
   "cell_type": "code",
   "execution_count": 240,
   "metadata": {},
   "outputs": [],
   "source": [
    "y = queen_train.dropna().NESTS"
   ]
  },
  {
   "cell_type": "code",
   "execution_count": 241,
   "metadata": {},
   "outputs": [
    {
     "data": {
      "text/plain": [
       "(111,)"
      ]
     },
     "execution_count": 241,
     "metadata": {},
     "output_type": "execute_result"
    }
   ],
   "source": [
    "y.shape"
   ]
  },
  {
   "cell_type": "code",
   "execution_count": 242,
   "metadata": {},
   "outputs": [
    {
     "data": {
      "text/plain": [
       "dtype('int64')"
      ]
     },
     "execution_count": 242,
     "metadata": {},
     "output_type": "execute_result"
    }
   ],
   "source": [
    "y.dtypes"
   ]
  },
  {
   "cell_type": "markdown",
   "metadata": {},
   "source": [
    "# Model"
   ]
  },
  {
   "cell_type": "code",
   "execution_count": 243,
   "metadata": {},
   "outputs": [],
   "source": [
    "# Instantiate the models with 1000 decision trees\n",
    "model = RandomForestRegressor(n_estimators = 1000, random_state = 42)"
   ]
  },
  {
   "cell_type": "code",
   "execution_count": 244,
   "metadata": {},
   "outputs": [
    {
     "data": {
      "text/plain": [
       "RandomForestRegressor(n_estimators=1000, random_state=42)"
      ]
     },
     "execution_count": 244,
     "metadata": {},
     "output_type": "execute_result"
    }
   ],
   "source": [
    "# Train the model\n",
    "model.fit(X,y)"
   ]
  },
  {
   "cell_type": "markdown",
   "metadata": {},
   "source": [
    "# Feature importance"
   ]
  },
  {
   "cell_type": "code",
   "execution_count": 245,
   "metadata": {},
   "outputs": [
    {
     "name": "stdout",
     "output_type": "stream",
     "text": [
      "Variable: population           Importance: 0.4075\n",
      "Variable: Cluster              Importance: 0.1664\n",
      "Variable: food_fruit           Importance: 0.088\n",
      "Variable: food_txakoli         Importance: 0.0548\n",
      "Variable: weath_minLevel       Importance: 0.0276\n",
      "Variable: colonies_amount      Importance: 0.0242\n",
      "Variable: weath_midLevel       Importance: 0.0198\n",
      "Variable: food_blueberry       Importance: 0.0159\n",
      "Variable: weath_10minRainfall  Importance: 0.0152\n",
      "Variable: weath_1dayRainfall   Importance: 0.014\n",
      "Variable: weath_humidity       Importance: 0.0134\n",
      "Variable: weath_days_rain1mm   Importance: 0.0134\n",
      "Variable: weath_maxLevel       Importance: 0.0129\n",
      "Variable: weath_solar          Importance: 0.0125\n",
      "Variable: food_apple           Importance: 0.0121\n",
      "Variable: weath_days_frost     Importance: 0.0108\n",
      "Variable: weath_meanTemp       Importance: 0.0108\n",
      "Variable: weath_minTemp        Importance: 0.0099\n",
      "Variable: weath_maxTemp        Importance: 0.0098\n",
      "Variable: weath_accuRainfall   Importance: 0.0095\n",
      "Variable: weath_meanDayMaxWind Importance: 0.0095\n",
      "Variable: weath_maxMeanTemp    Importance: 0.0087\n",
      "Variable: weath_meanWindM      Importance: 0.0087\n",
      "Variable: weath_maxWindM       Importance: 0.0085\n",
      "Variable: weath_days_rain      Importance: 0.0072\n",
      "Variable: food_kiwi            Importance: 0.0066\n",
      "Variable: food_pear            Importance: 0.0022\n",
      "Variable: food_raspberry       Importance: 0.0001\n"
     ]
    }
   ],
   "source": [
    "# Get numerical feature importances\n",
    "feature_list = list(X.columns)\n",
    "\n",
    "# List of tuples with variable and importance\n",
    "importances = list(model.feature_importances_)\n",
    "feature_importances = [(feature, round(importance, 4)) for feature, importance in zip(feature_list, importances)]\n",
    "\n",
    "# Sort the feature importances by most important first\n",
    "feature_importances = sorted(feature_importances, key = lambda x: x[1], reverse = True)\n",
    "\n",
    "# Print out the feature and importances \n",
    "[print('Variable: {:20} Importance: {}'.format(*pair)) for pair in feature_importances];"
   ]
  },
  {
   "cell_type": "markdown",
   "metadata": {},
   "source": [
    "# New model with relevant variables"
   ]
  },
  {
   "cell_type": "code",
   "execution_count": 246,
   "metadata": {},
   "outputs": [
    {
     "data": {
      "text/plain": [
       "RandomForestRegressor(n_estimators=1000, random_state=42)"
      ]
     },
     "execution_count": 246,
     "metadata": {},
     "output_type": "execute_result"
    }
   ],
   "source": [
    "# Train new models by cluster\n",
    "X_1 = X.loc[:,['population', 'Cluster','food_fruit']] #,'food_txakoli', 'weath_minLevel', 'colonies_amount', 'weath_midLevel','food_blueberry'\n",
    "model.fit(X_1, y)"
   ]
  },
  {
   "cell_type": "markdown",
   "metadata": {},
   "source": [
    "# Predictions"
   ]
  },
  {
   "cell_type": "code",
   "execution_count": 247,
   "metadata": {},
   "outputs": [],
   "source": [
    "X_test = queen_predict.loc[queen_predict.municip_code != 48020, :].copy(True)"
   ]
  },
  {
   "cell_type": "code",
   "execution_count": 248,
   "metadata": {},
   "outputs": [],
   "source": [
    "predictions = model.predict(X_test.loc[:,['population', 'Cluster','food_fruit']])"
   ]
  },
  {
   "cell_type": "code",
   "execution_count": 249,
   "metadata": {},
   "outputs": [],
   "source": [
    "X_test['nests_2020'] = predictions"
   ]
  },
  {
   "cell_type": "code",
   "execution_count": 250,
   "metadata": {},
   "outputs": [],
   "source": [
    "HEX = X_test.loc[:,['municip_code','municip_name_x','nests_2020']].groupby(by=['municip_code','municip_name_x'], as_index=False).sum().round().dropna()"
   ]
  },
  {
   "cell_type": "code",
   "execution_count": 251,
   "metadata": {},
   "outputs": [
    {
     "data": {
      "text/plain": [
       "(111, 3)"
      ]
     },
     "execution_count": 251,
     "metadata": {},
     "output_type": "execute_result"
    }
   ],
   "source": [
    "HEX.shape"
   ]
  },
  {
   "cell_type": "code",
   "execution_count": 252,
   "metadata": {},
   "outputs": [],
   "source": [
    "aux = pd.DataFrame({\"municip_code\": [48020],\n",
    "                    \"municip_name_x\":['Bilbao'],\n",
    "                    \"nests_2020\": [0]})"
   ]
  },
  {
   "cell_type": "code",
   "execution_count": 253,
   "metadata": {},
   "outputs": [],
   "source": [
    "HEX = HEX.append(aux, ignore_index = True)"
   ]
  },
  {
   "cell_type": "code",
   "execution_count": 226,
   "metadata": {},
   "outputs": [],
   "source": [
    "HEX.loc[HEX.municip_code.isin([48020,48071, 48088]),'nests_2020']= 0\n",
    "HEX.loc[HEX.municip_code.isin([48022,48074, 48051]),'nests_2020']= 1"
   ]
  },
  {
   "cell_type": "code",
   "execution_count": 227,
   "metadata": {},
   "outputs": [],
   "source": [
    "HEX.columns = ['CODIGO MUNICIPIO','NOMBRE MUNICIPIO','NIDOS 2020']"
   ]
  },
  {
   "cell_type": "code",
   "execution_count": 228,
   "metadata": {},
   "outputs": [
    {
     "name": "stdout",
     "output_type": "stream",
     "text": [
      "(112, 3) : Shape is correct.\n",
      "112 : Number of unique municipalities is correct.\n",
      "Great! All municipalities have NESTS >= 0.\n",
      "The Total 2020 Nests' Prediction is 1930\n"
     ]
    }
   ],
   "source": [
    "check_data(HEX)"
   ]
  },
  {
   "cell_type": "code",
   "execution_count": 75,
   "metadata": {},
   "outputs": [],
   "source": [
    "HEX.to_csv('WaspBusters_20210526_RandomForestyears_v1.csv', index=False)"
   ]
  },
  {
   "cell_type": "code",
   "execution_count": null,
   "metadata": {},
   "outputs": [],
   "source": []
  }
 ],
 "metadata": {
  "kernelspec": {
   "display_name": "Python 3",
   "language": "python",
   "name": "python3"
  },
  "language_info": {
   "codemirror_mode": {
    "name": "ipython",
    "version": 3
   },
   "file_extension": ".py",
   "mimetype": "text/x-python",
   "name": "python",
   "nbconvert_exporter": "python",
   "pygments_lexer": "ipython3",
   "version": "3.8.5"
  }
 },
 "nbformat": 4,
 "nbformat_minor": 4
}

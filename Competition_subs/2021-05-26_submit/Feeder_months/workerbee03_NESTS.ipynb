{
 "cells": [
  {
   "cell_type": "markdown",
   "metadata": {
    "id": "9nkDv5dppU6B"
   },
   "source": [
    "# NESTS algorithm **Kopuru Vespa Velutina Competition**\n",
    "\n",
    "Purpose: Bring together weather data, geographic data, food availability data, and identified nests in each municipality of Biscay in order to have a dataset suitable for analysis and potential predictions in a Machine Learning model.\n",
    "\n",
    "Outputs: QUEENtrain and QUEENpredict datasets *(WBds03_QUEENtrain.csv & WBds03_QUEENpredict.csv)*\n",
    "\n",
    "@authors:\n",
    "* mario.bejar@student.ie.edu\n",
    "* pedro.geirinhas@student.ie.edu\n",
    "* a.berrizbeitia@student.ie.edu\n",
    "* pcasaverde@student.ie.edu"
   ]
  },
  {
   "cell_type": "markdown",
   "metadata": {},
   "source": [
    "## Libraries"
   ]
  },
  {
   "cell_type": "code",
   "execution_count": 1,
   "metadata": {},
   "outputs": [],
   "source": [
    "import pandas as pd\n",
    "import numpy as np\n",
    "import math\n",
    "from plotnine import *"
   ]
  },
  {
   "cell_type": "code",
   "execution_count": 2,
   "metadata": {},
   "outputs": [],
   "source": [
    "from sklearn.cluster import KMeans\n",
    "from sklearn.metrics import silhouette_score\n",
    "from sklearn import preprocessing"
   ]
  },
  {
   "cell_type": "markdown",
   "metadata": {},
   "source": [
    "## Get the data"
   ]
  },
  {
   "cell_type": "code",
   "execution_count": 3,
   "metadata": {},
   "outputs": [],
   "source": [
    "df01 = pd.read_csv('../../../Input_open_data/ds01_PLANTILLA-RETO-AVISPAS-KOPURU.csv', sep=\";\")\n",
    "df02 = pd.read_csv('../../../Input_open_data/ds02_datos-nidos-avispa-asiatica.csv', sep=\",\")\n",
    "df03 = pd.read_csv('../../../Input_open_data/ds03_APICULTURA_COLMENAS_KOPURU.csv', sep=\";\")\n",
    "df04 = pd.read_csv('../../../Input_open_data/ds04_FRUTALES-DECLARADOS-KOPURU.csv', sep=\";\")\n",
    "WBdf01 = pd.read_csv('./WBds01_GEO.csv', sep=',')\n",
    "WBdf02 = pd.read_csv('./WBds02_METEO.csv', sep=',')\n",
    "df_population = pd.read_csv('../../../Other_open_data/population.csv', sep=',')"
   ]
  },
  {
   "cell_type": "markdown",
   "metadata": {},
   "source": [
    "## Data cleanup"
   ]
  },
  {
   "cell_type": "markdown",
   "metadata": {},
   "source": [
    "### Getting the names right"
   ]
  },
  {
   "cell_type": "code",
   "execution_count": 4,
   "metadata": {},
   "outputs": [],
   "source": [
    "# Dropping and Renaming columns in accordance to the DataMap\n",
    "# DataMap's URL: https://docs.google.com/spreadsheets/d/1Ad7s4IOmj9Tn2WcEOz4ArwedTzDs9Y0_EaUSm6uRHMQ/edit#gid=0\n",
    "\n",
    "df01.columns = ['municip_code', 'municip_name', 'nests_2020']\n",
    "df01.drop(columns=['nests_2020'], inplace=True) # just note that this is the final variable to predict in the competition\n",
    "\n",
    "df02.drop(columns=['JARDUERA_ZENBAKIA/NUM_ACTUACION', 'ERABILTZAILEA_EU/USUARIO_EU', 'ERABILTZAILEA_CAS/USUARIO_CAS', 'HELBIDEA/DIRECCION', 'EGOERA_EU/ESTADO_EU', 'ITXIERA_DATA/FECHA CIERRE', 'ITXIERAKO AGENTEA_EU/AGENTE CIERRE_EU', 'ITXIERAKO AGENTEA_CAS/AGENTE CIERRE_CAS'], inplace=True)\n",
    "df02.columns = ['waspbust_id', 'year', 'nest_foundDate', 'municip_name', 'species', 'nest_locType', 'nest_hight', 'nest_diameter', 'nest_longitude', 'nest_latitude', 'nest_status']\n",
    "\n",
    "df03.drop(columns=['CP'], inplace=True)\n",
    "df03.columns = ['municip_name','municip_code','colonies_amount']\n",
    "\n",
    "df04.columns = ['agriculture_type','municip_code','municip_name']"
   ]
  },
  {
   "cell_type": "code",
   "execution_count": 5,
   "metadata": {},
   "outputs": [],
   "source": [
    "# We don't have the \"months\" specified for any of the records in 2017 ('nest_foundDate' is incorrect for this year), so we'll drop those records\n",
    "df02 = df02.drop(df02[df02['year'] == 2017].index, inplace = False)"
   ]
  },
  {
   "cell_type": "code",
   "execution_count": 6,
   "metadata": {},
   "outputs": [
    {
     "data": {
      "text/plain": [
       "(6682, 11)"
      ]
     },
     "execution_count": 6,
     "metadata": {},
     "output_type": "execute_result"
    }
   ],
   "source": [
    "# Cleaning municipality names in ds02 with names from ds01\n",
    "df02_wrong_mun = ['ABADIÑO' ,'ABANTO Y CIERVANA' ,'ABANTO Y CIERVANA-ABANTO ZIERBENA' ,'AJANGIZ' ,'ALONSOTEGI' ,'AMOREBIETA-ETXANO' ,'AMOROTO' ,'ARAKALDO' ,'ARANTZAZU' ,'AREATZA' ,'ARRANKUDIAGA' ,'ARRATZU' ,'ARRIETA' ,'ARRIGORRIAGA' ,'ARTEA' ,'ARTZENTALES' ,'ATXONDO' ,'AULESTI' ,'BAKIO' ,'BALMASEDA' ,'BARAKALDO' ,'BARRIKA' ,'BASAURI' ,'BEDIA' ,'BERANGO' ,'BERMEO' ,'BERRIATUA' ,'BERRIZ' ,'BUSTURIA' ,'DERIO' ,'DIMA' ,'DURANGO' ,'EA' ,'ELANTXOBE' ,'ELORRIO' ,'ERANDIO' ,'EREÑO' ,'ERMUA' ,'ERRIGOITI' ,'ETXEBARRI' ,'ETXEBARRIA', 'ETXEBARRIa','FORUA' ,'FRUIZ' ,'GALDAKAO' ,'GALDAMES' ,'GAMIZ-FIKA' ,'GARAI' ,'GATIKA' ,'GAUTEGIZ ARTEAGA' ,'GERNIKA-LUMO' ,'GETXO' ,'GETXO ' ,'GIZABURUAGA' ,'GORDEXOLA' ,'GORLIZ' ,'GUEÑES' ,'IBARRANGELU' ,'IGORRE' ,'ISPASTER' ,'IURRETA' ,'IZURTZA' ,'KARRANTZA HARANA/VALLE DE CARRANZA' ,'KARRANTZA HARANA-VALLE DE CARRANZA' ,'KORTEZUBI' ,'LANESTOSA' ,'LARRABETZU' ,'LAUKIZ' ,'LEIOA' ,'LEKEITIO' ,'LEMOA' ,'LEMOIZ' ,'LEZAMA' ,'LOIU' ,'MALLABIA' ,'MAÑARIA' ,'MARKINA-XEMEIN' ,'MARURI-JATABE' ,'MEÑAKA' ,'MENDATA' ,'MENDEXA' ,'MORGA' ,'MUNDAKA' ,'MUNGIA' ,'MUNITIBAR-ARBATZEGI' ,'MUNITIBAR-ARBATZEGI GERRIKAITZ' ,'MURUETA' ,'MUSKIZ' ,'MUXIKA' ,'NABARNIZ' ,'ONDARROA' ,'OROZKO' ,'ORTUELLA' ,'OTXANDIO' ,'PLENTZIA' ,'PORTUGALETE' ,'SANTURTZI' ,'SESTAO' ,'SONDIKA' ,'SOPELA' ,'SOPUERTA' ,'SUKARRIETA' ,'TRUCIOS-TURTZIOZ' ,'UBIDE' ,'UGAO-MIRABALLES' ,'URDULIZ' ,'URDUÑA/ORDUÑA' ,'URDUÑA-ORDUÑA' ,'VALLE DE TRAPAGA' ,'VALLE DE TRAPAGA-TRAPAGARAN' ,'ZALDIBAR' ,'ZALLA' ,'ZAMUDIO' ,'ZARATAMO' ,'ZEANURI' ,'ZEBERIO' ,'ZIERBENA' ,'ZIORTZA-BOLIBAR' ]\n",
    "df02_correct_mun = ['Abadiño' ,'Abanto y Ciérvana-Abanto Zierbena' ,'Abanto y Ciérvana-Abanto Zierbena' ,'Ajangiz' ,'Alonsotegi' ,'Amorebieta-Etxano' ,'Amoroto' ,'Arakaldo' ,'Arantzazu' ,'Areatza' ,'Arrankudiaga' ,'Arratzu' ,'Arrieta' ,'Arrigorriaga' ,'Artea' ,'Artzentales' ,'Atxondo' ,'Aulesti' ,'Bakio' ,'Balmaseda' ,'Barakaldo' ,'Barrika' ,'Basauri' ,'Bedia' ,'Berango' ,'Bermeo' ,'Berriatua' ,'Berriz' ,'Busturia' ,'Derio' ,'Dima' ,'Durango' ,'Ea' ,'Elantxobe' ,'Elorrio' ,'Erandio' ,'Ereño' ,'Ermua' ,'Errigoiti' ,'Etxebarri' , 'Etxebarria', 'Etxebarria','Forua' ,'Fruiz' ,'Galdakao' ,'Galdames' ,'Gamiz-Fika' ,'Garai' ,'Gatika' ,'Gautegiz Arteaga' ,'Gernika-Lumo' ,'Getxo' ,'Getxo' ,'Gizaburuaga' ,'Gordexola' ,'Gorliz' ,'Güeñes' ,'Ibarrangelu' ,'Igorre' ,'Ispaster' ,'Iurreta' ,'Izurtza' ,'Karrantza Harana/Valle de Carranza' ,'Karrantza Harana/Valle de Carranza' ,'Kortezubi' ,'Lanestosa' ,'Larrabetzu' ,'Laukiz' ,'Leioa' ,'Lekeitio' ,'Lemoa' ,'Lemoiz' ,'Lezama' ,'Loiu' ,'Mallabia' ,'Mañaria' ,'Markina-Xemein' ,'Maruri-Jatabe' ,'Meñaka' ,'Mendata' ,'Mendexa' ,'Morga' ,'Mundaka' ,'Mungia' ,'Munitibar-Arbatzegi Gerrikaitz' ,'Munitibar-Arbatzegi Gerrikaitz' ,'Murueta' ,'Muskiz' ,'Muxika' ,'Nabarniz' ,'Ondarroa' ,'Orozko' ,'Ortuella' ,'Otxandio' ,'Plentzia' ,'Portugalete' ,'Santurtzi' ,'Sestao' ,'Sondika' ,'Sopela' ,'Sopuerta' ,'Sukarrieta' ,'Trucios-Turtzioz' ,'Ubide' ,'Ugao-Miraballes' ,'Urduliz' ,'Urduña/Orduña' ,'Urduña/Orduña' ,'Valle de Trápaga-Trapagaran' ,'Valle de Trápaga-Trapagaran' ,'Zaldibar' ,'Zalla' ,'Zamudio' ,'Zaratamo' ,'Zeanuri' ,'Zeberio' ,'Zierbena' ,'Ziortza-Bolibar',]\n",
    "df02.municip_name.replace(to_replace = df02_wrong_mun, value = df02_correct_mun, inplace = True)\n",
    "df02.shape"
   ]
  },
  {
   "cell_type": "code",
   "execution_count": 7,
   "metadata": {},
   "outputs": [],
   "source": [
    "# Translate the `species` variable contents to English\n",
    "df02.species.replace(to_replace=['AVISPA ASIÁTICA', 'AVISPA COMÚN', 'ABEJA'], value=['Vespa Velutina', 'Common Wasp', 'Wild Bee'], inplace=True)"
   ]
  },
  {
   "cell_type": "code",
   "execution_count": 8,
   "metadata": {},
   "outputs": [],
   "source": [
    "# Translate the contents of the `nest_locType` and `nest_status` variables to English\n",
    "# But note that this data makes is of no use from a \"forecastoing\" standpoint eventually, since we will predict with a one-year offset (and thus, use thigs like weather mostly)\n",
    "\n",
    "df02.nest_locType.replace(to_replace=['CONSTRUCCIÓN', 'ARBOLADO'], value=['Urban Environment', 'Natural Environment'], inplace=True)\n",
    "df02.nest_status.replace(to_replace=['CERRADA - ELIMINADO', 'CERRADA - NO ELIMINABLE', 'PENDIENTE DE GRUPO'], value=['Nest Terminated', 'Cannot Terminate', 'Pending classification'], inplace=True)"
   ]
  },
  {
   "cell_type": "markdown",
   "metadata": {},
   "source": [
    "### Getting the dates right\n",
    "Including the addition of a `year_offset` variable to comply with the competition's rules"
   ]
  },
  {
   "cell_type": "code",
   "execution_count": 9,
   "metadata": {},
   "outputs": [],
   "source": [
    "# Changing 'nest_foundDate' the to \"datetime\" format\n",
    "df02['nest_foundDate'] = pd.to_datetime(df02['nest_foundDate'])\n",
    "\n",
    "# Create a \"month\" variable in the main dataframe\n",
    "df02['month'] = pd.DatetimeIndex(df02['nest_foundDate']).month\n",
    "\n",
    "# Create a \"year_offset\" variable in the main dataframe\n",
    "# IMPORTANT: THIS REFLECTS OUR ASSUMPTION THAT `YEAR-1` DATA CAN BE USE TO PREDICT `YEAR` DATA, AS MANDATED BY THE COMPETITION'S BASE REQUIREMENTS\n",
    "df02['year_offset'] = pd.DatetimeIndex(df02['nest_foundDate']).year - 1"
   ]
  },
  {
   "cell_type": "code",
   "execution_count": 10,
   "metadata": {},
   "outputs": [
    {
     "data": {
      "text/plain": [
       "Index(['waspbust_id', 'year', 'nest_foundDate', 'municip_name', 'species',\n",
       "       'nest_locType', 'nest_hight', 'nest_diameter', 'nest_longitude',\n",
       "       'nest_latitude', 'nest_status', 'month', 'year_offset'],\n",
       "      dtype='object')"
      ]
     },
     "execution_count": 10,
     "metadata": {},
     "output_type": "execute_result"
    }
   ],
   "source": [
    "df02.columns"
   ]
  },
  {
   "cell_type": "markdown",
   "metadata": {},
   "source": [
    "### Creating distinct dataFrames for each `species`"
   ]
  },
  {
   "cell_type": "code",
   "execution_count": 11,
   "metadata": {
    "tags": []
   },
   "outputs": [
    {
     "data": {
      "text/plain": [
       "Vespa Velutina    6042\n",
       "Common Wasp        274\n",
       "Wild Bee           145\n",
       "Name: species, dtype: int64"
      ]
     },
     "execution_count": 11,
     "metadata": {},
     "output_type": "execute_result"
    }
   ],
   "source": [
    "df02.species.value_counts()"
   ]
  },
  {
   "cell_type": "code",
   "execution_count": 12,
   "metadata": {},
   "outputs": [],
   "source": [
    "df02_vespas = df02.loc[df02.species == 'Vespa Velutina', :]\n",
    "df02_wasps = df02.loc[df02.species == 'Common Wasp', :]\n",
    "df02_bees = df02.loc[df02.species == 'Wild Bee', :]"
   ]
  },
  {
   "cell_type": "code",
   "execution_count": 13,
   "metadata": {},
   "outputs": [
    {
     "data": {
      "text/plain": [
       "(6042, 13)"
      ]
     },
     "execution_count": 13,
     "metadata": {},
     "output_type": "execute_result"
    }
   ],
   "source": [
    "df02_vespas.shape"
   ]
  },
  {
   "cell_type": "markdown",
   "metadata": {},
   "source": [
    "## Create a TEMPLATE dataframe with the missing municipalities and months"
   ]
  },
  {
   "cell_type": "code",
   "execution_count": 14,
   "metadata": {},
   "outputs": [],
   "source": [
    "template = pd.read_csv('../../../Input_open_data/ds01_PLANTILLA-RETO-AVISPAS-KOPURU.csv', sep=\";\")\n",
    "template.drop(columns='NIDOS 2020', inplace=True)\n",
    "template.columns = ['municip_code', 'municip_name']\n",
    "template['year2019'] = 2019\n",
    "template['year2018'] = 2018\n",
    "template['year2017'] = 2017\n",
    "template = pd.melt(template, id_vars=['municip_code', 'municip_name'], value_vars=['year2019', 'year2018', 'year2017'], value_name = 'year_offset')\n",
    "template.drop(columns='variable', inplace=True)"
   ]
  },
  {
   "cell_type": "code",
   "execution_count": 15,
   "metadata": {},
   "outputs": [],
   "source": [
    "for i in range(1,13,1):\n",
    "    template[i] = i\n",
    "template = pd.melt(template, id_vars=['municip_code', 'municip_name', 'year_offset'],\\\n",
    "                   value_vars=[1,2,3,4,5,6,7,8,9,10,11,12], value_name = 'month')\n",
    "template.drop(columns='variable', inplace=True)"
   ]
  },
  {
   "cell_type": "code",
   "execution_count": 16,
   "metadata": {},
   "outputs": [
    {
     "data": {
      "text/plain": [
       "(4032, 4)"
      ]
     },
     "execution_count": 16,
     "metadata": {},
     "output_type": "execute_result"
    }
   ],
   "source": [
    "template.shape"
   ]
  },
  {
   "cell_type": "code",
   "execution_count": 17,
   "metadata": {},
   "outputs": [
    {
     "data": {
      "text/plain": [
       "True"
      ]
     },
     "execution_count": 17,
     "metadata": {},
     "output_type": "execute_result"
    }
   ],
   "source": [
    "112*12*3 == template.shape[0]"
   ]
  },
  {
   "cell_type": "code",
   "execution_count": 18,
   "metadata": {},
   "outputs": [
    {
     "data": {
      "text/plain": [
       "Index(['municip_code', 'municip_name', 'year_offset', 'month'], dtype='object')"
      ]
     },
     "execution_count": 18,
     "metadata": {},
     "output_type": "execute_result"
    }
   ],
   "source": [
    "template.columns"
   ]
  },
  {
   "cell_type": "code",
   "execution_count": 19,
   "metadata": {},
   "outputs": [
    {
     "data": {
      "text/plain": [
       "2010"
      ]
     },
     "execution_count": 19,
     "metadata": {},
     "output_type": "execute_result"
    }
   ],
   "source": [
    "df02_vespas.shape[0] - template.shape[0]"
   ]
  },
  {
   "cell_type": "markdown",
   "metadata": {},
   "source": [
    "## Merge the datasets"
   ]
  },
  {
   "cell_type": "markdown",
   "metadata": {},
   "source": [
    "### Match each `municip_name` to its `municip_code` as per the competition's official template (i.e. `df01`)"
   ]
  },
  {
   "cell_type": "code",
   "execution_count": 20,
   "metadata": {},
   "outputs": [],
   "source": [
    "# Merge dataFrames df01 and df02 by 'municip_name', in order to identify every wasp nest with its 'municip_code'\n",
    "# The intention is that 'all_the_queens-wasps' will be the final dataFrame to use in the ML model eventually\n",
    "\n",
    "all_the_queens_wasps = pd.merge(df02_vespas, df01, how = 'left', on = 'municip_name')"
   ]
  },
  {
   "cell_type": "code",
   "execution_count": 21,
   "metadata": {},
   "outputs": [
    {
     "data": {
      "text/plain": [
       "27    48020\n",
       "Name: municip_code, dtype: int64"
      ]
     },
     "execution_count": 21,
     "metadata": {},
     "output_type": "execute_result"
    }
   ],
   "source": [
    "# check if there are any municipalities missing from the df02 dataframe, and add them if necessary\n",
    "\n",
    "df01.municip_code[~df01.municip_code.isin(all_the_queens_wasps.municip_code.unique())]"
   ]
  },
  {
   "cell_type": "markdown",
   "metadata": {},
   "source": [
    "### Input municipalities and months missing from the dataset"
   ]
  },
  {
   "cell_type": "code",
   "execution_count": 22,
   "metadata": {},
   "outputs": [],
   "source": [
    "all_the_queens_wasps = pd.merge(all_the_queens_wasps, template,\\\n",
    "                                      how = 'outer', left_on = ['municip_code', 'municip_name', 'year_offset', 'month'],\\\n",
    "                                      right_on = ['municip_code', 'municip_name', 'year_offset', 'month'])"
   ]
  },
  {
   "cell_type": "code",
   "execution_count": 23,
   "metadata": {
    "tags": []
   },
   "outputs": [
    {
     "data": {
      "text/plain": [
       "waspbust_id       2394\n",
       "year              2394\n",
       "nest_foundDate    2394\n",
       "municip_name         0\n",
       "species           2394\n",
       "nest_locType      2565\n",
       "nest_hight        2394\n",
       "nest_diameter     2394\n",
       "nest_longitude    3298\n",
       "nest_latitude     3298\n",
       "nest_status       2394\n",
       "month                0\n",
       "year_offset          0\n",
       "municip_code         0\n",
       "dtype: int64"
      ]
     },
     "execution_count": 23,
     "metadata": {},
     "output_type": "execute_result"
    }
   ],
   "source": [
    "all_the_queens_wasps.isnull().sum()"
   ]
  },
  {
   "cell_type": "code",
   "execution_count": 24,
   "metadata": {},
   "outputs": [],
   "source": [
    "all_the_queens_wasps.year.fillna(value='no registers', inplace=True)"
   ]
  },
  {
   "cell_type": "code",
   "execution_count": 25,
   "metadata": {},
   "outputs": [
    {
     "data": {
      "text/plain": [
       "(8436, 14)"
      ]
     },
     "execution_count": 25,
     "metadata": {},
     "output_type": "execute_result"
    }
   ],
   "source": [
    "all_the_queens_wasps.shape"
   ]
  },
  {
   "cell_type": "markdown",
   "metadata": {},
   "source": [
    "### Discarding some variables"
   ]
  },
  {
   "cell_type": "code",
   "execution_count": 26,
   "metadata": {},
   "outputs": [],
   "source": [
    "all_the_queens_wasps.drop(columns=['nest_foundDate', 'nest_longitude', 'nest_latitude', 'species'], inplace=True)"
   ]
  },
  {
   "cell_type": "markdown",
   "metadata": {},
   "source": [
    "### Creating a new categorical variable for Nest Size\n",
    "**THIS WAS LEFT PENDING, SINCE THE OUTLIERS ARE BOTHERSOME**\n",
    "\n",
    "[Formula for nest volume](https://www.ncbi.nlm.nih.gov/pmc/articles/PMC6723431/)\n",
    "\n",
    "[Example calculation in cubic meters](https://www.easycalculation.com/shapes/volume-of-prolate-spheroid.php)"
   ]
  },
  {
   "cell_type": "code",
   "execution_count": 27,
   "metadata": {},
   "outputs": [],
   "source": [
    "all_the_queens_wasps['nest_volume_l'] = 4/3 * math.pi * (all_the_queens_wasps['nest_hight']/100/2)**2 * (all_the_queens_wasps['nest_diameter']/100/2) * 1000\n",
    "all_the_queens_wasps['nest_volume_l'].fillna(0, inplace=True)"
   ]
  },
  {
   "cell_type": "code",
   "execution_count": 28,
   "metadata": {},
   "outputs": [
    {
     "data": {
      "text/plain": [
       "count    8436.000000\n",
       "mean        3.647638\n",
       "std        99.007358\n",
       "min         0.000000\n",
       "25%         0.000000\n",
       "50%         0.047124\n",
       "75%         1.047198\n",
       "max      8344.855486\n",
       "Name: nest_volume_l, dtype: float64"
      ]
     },
     "execution_count": 28,
     "metadata": {},
     "output_type": "execute_result"
    }
   ],
   "source": [
    "all_the_queens_wasps['nest_volume_l'].describe()"
   ]
  },
  {
   "cell_type": "code",
   "execution_count": 29,
   "metadata": {},
   "outputs": [
    {
     "name": "stderr",
     "output_type": "stream",
     "text": [
      "C:\\Users\\alebe\\anaconda3\\lib\\site-packages\\plotnine\\layer.py:401: PlotnineWarning: geom_point : Removed 2394 rows containing missing values.\n"
     ]
    },
    {
     "data": {
      "image/png": "[encoded data removed]",
      "text/plain": [
       "<Figure size 640x480 with 1 Axes>"
      ]
     },
     "metadata": {},
     "output_type": "display_data"
    },
    {
     "data": {
      "text/plain": [
       "<ggplot: (190968629179)>"
      ]
     },
     "execution_count": 29,
     "metadata": {},
     "output_type": "execute_result"
    }
   ],
   "source": [
    "ggplot(aes(x='nest_hight', y='nest_diameter'), all_the_queens_wasps) + geom_point(stat='identity')"
   ]
  },
  {
   "cell_type": "code",
   "execution_count": 30,
   "metadata": {},
   "outputs": [],
   "source": [
    "all_the_queens_wasps['nest_volume_l'] = pd.cut(all_the_queens_wasps['nest_volume_l'], bins=3, labels=['small', 'mid', 'large'])"
   ]
  },
  {
   "cell_type": "code",
   "execution_count": 31,
   "metadata": {},
   "outputs": [],
   "source": [
    "#all_the_queens_wasps.drop(columns=['nest_hight', 'nest_diameter', 'nest_volume_l'], inplace=True)\n",
    "# THIS CELL SHOULD BE DELETED IN A FUTURE ITERATION"
   ]
  },
  {
   "cell_type": "markdown",
   "metadata": {},
   "source": [
    "### Converting categoricals to dummy variables"
   ]
  },
  {
   "cell_type": "code",
   "execution_count": 32,
   "metadata": {},
   "outputs": [],
   "source": [
    "queen_volume = pd.get_dummies(all_the_queens_wasps.nest_volume_l)\n",
    "all_the_queens_wasps = pd.concat([all_the_queens_wasps, queen_volume], axis=1)\n",
    "\n",
    "queen_urban = pd.get_dummies(all_the_queens_wasps.nest_locType)\n",
    "all_the_queens_wasps = pd.concat([all_the_queens_wasps, queen_urban], axis=1)\n",
    "\n",
    "queen_hastalavista = pd.get_dummies(all_the_queens_wasps.nest_status)\n",
    "all_the_queens_wasps = pd.concat([all_the_queens_wasps, queen_hastalavista], axis=1)\n",
    "\n",
    "all_the_queens_wasps.drop(columns=['nest_locType', 'nest_hight', 'nest_diameter', 'nest_volume_l', 'nest_status'], inplace=True)\n",
    "\n",
    "all_the_queens_wasps.rename(columns = {\"small\":\"fv_size_small\", \"mid\":\"fv_size_mid\", \"large\":\"fv_size_large\",\\\n",
    "                                      \"Natural Environment\":\"fv_type_natural\", \"Urban Environment\":\"fv_type_urban\",\\\n",
    "                                      \"Cannot Terminate\":\"fv_status_cantkill\", \"Nest Terminated\":\"fv_status_dead\", \"Pending classification\":\"fv_status_pending\"}, inplace = True)\n",
    "\n",
    "#all_the_queens_wasps"
   ]
  },
  {
   "cell_type": "code",
   "execution_count": 33,
   "metadata": {},
   "outputs": [
    {
     "data": {
      "text/plain": [
       "waspbust_id           2394\n",
       "year                     0\n",
       "municip_name             0\n",
       "month                    0\n",
       "year_offset              0\n",
       "municip_code             0\n",
       "fv_size_small            0\n",
       "fv_size_mid              0\n",
       "fv_size_large            0\n",
       "fv_type_natural          0\n",
       "fv_type_urban            0\n",
       "fv_status_cantkill       0\n",
       "fv_status_dead           0\n",
       "fv_status_pending        0\n",
       "dtype: int64"
      ]
     },
     "execution_count": 33,
     "metadata": {},
     "output_type": "execute_result"
    }
   ],
   "source": [
    "all_the_queens_wasps.isnull().sum()"
   ]
  },
  {
   "cell_type": "markdown",
   "metadata": {},
   "source": [
    "### Counting the amount of wasp nests in each municipality, for each month and year\n",
    "... and dropping some variables along the way.\n",
    "Namely: **species** (keeping the Vespa Velutina only), **nest_foundDate**, **nest_locType**, **nest_hight**, **nest_diameter**, **nest_longitude**, **nest_latitude**, **nest_status**"
   ]
  },
  {
   "cell_type": "code",
   "execution_count": 34,
   "metadata": {},
   "outputs": [],
   "source": [
    "# Filtering the rest of variables now, and counting\n",
    "all_the_queens_wasps = all_the_queens_wasps.loc[:, ['waspbust_id', 'fv_size_small', 'fv_size_mid', 'fv_size_large', 'fv_type_natural', 'fv_type_urban',\\\n",
    "                                                    'fv_status_cantkill', 'fv_status_dead', 'fv_status_pending', 'year', 'municip_name', 'municip_code', 'month', 'year_offset']]\\\n",
    ".groupby(by =['year', 'municip_name', 'municip_code', 'month', 'year_offset'], as_index = False).count()"
   ]
  },
  {
   "cell_type": "code",
   "execution_count": 35,
   "metadata": {},
   "outputs": [],
   "source": [
    "# let's rename the id to NESTS, now that it has been counted\n",
    "all_the_queens_wasps.rename(columns = {\"waspbust_id\":\"NESTS\"}, inplace = True)"
   ]
  },
  {
   "cell_type": "code",
   "execution_count": 36,
   "metadata": {},
   "outputs": [
    {
     "data": {
      "text/plain": [
       "Index(['year', 'municip_name', 'municip_code', 'month', 'year_offset', 'NESTS',\n",
       "       'fv_size_small', 'fv_size_mid', 'fv_size_large', 'fv_type_natural',\n",
       "       'fv_type_urban', 'fv_status_cantkill', 'fv_status_dead',\n",
       "       'fv_status_pending'],\n",
       "      dtype='object')"
      ]
     },
     "execution_count": 36,
     "metadata": {},
     "output_type": "execute_result"
    }
   ],
   "source": [
    "all_the_queens_wasps.columns"
   ]
  },
  {
   "cell_type": "code",
   "execution_count": 37,
   "metadata": {},
   "outputs": [
    {
     "data": {
      "text/plain": [
       "True"
      ]
     },
     "execution_count": 37,
     "metadata": {},
     "output_type": "execute_result"
    }
   ],
   "source": [
    "# verifying that the DataFrame has the right number of rows\n",
    "all_the_queens_wasps.shape[0] == 112*12*3"
   ]
  },
  {
   "cell_type": "code",
   "execution_count": 38,
   "metadata": {},
   "outputs": [
    {
     "data": {
      "text/plain": [
       "True"
      ]
     },
     "execution_count": 38,
     "metadata": {},
     "output_type": "execute_result"
    }
   ],
   "source": [
    "all_the_queens_wasps.NESTS.sum() == df02_vespas.shape[0]"
   ]
  },
  {
   "cell_type": "code",
   "execution_count": 39,
   "metadata": {},
   "outputs": [],
   "source": [
    "# for all those \"outer merge\" rows with no associated year, set their NESTS to zero\n",
    "all_the_queens_wasps.loc[all_the_queens_wasps.year == 'no registers', ['NESTS']] = 0"
   ]
  },
  {
   "cell_type": "code",
   "execution_count": 40,
   "metadata": {},
   "outputs": [
    {
     "data": {
      "text/plain": [
       "True"
      ]
     },
     "execution_count": 40,
     "metadata": {},
     "output_type": "execute_result"
    }
   ],
   "source": [
    "all_the_queens_wasps.NESTS.sum() == df02_vespas.shape[0]"
   ]
  },
  {
   "cell_type": "code",
   "execution_count": 41,
   "metadata": {
    "tags": []
   },
   "outputs": [
    {
     "data": {
      "text/plain": [
       "year                  0\n",
       "municip_name          0\n",
       "municip_code          0\n",
       "month                 0\n",
       "year_offset           0\n",
       "NESTS                 0\n",
       "fv_size_small         0\n",
       "fv_size_mid           0\n",
       "fv_size_large         0\n",
       "fv_type_natural       0\n",
       "fv_type_urban         0\n",
       "fv_status_cantkill    0\n",
       "fv_status_dead        0\n",
       "fv_status_pending     0\n",
       "dtype: int64"
      ]
     },
     "execution_count": 41,
     "metadata": {},
     "output_type": "execute_result"
    }
   ],
   "source": [
    "all_the_queens_wasps.isnull().sum()"
   ]
  },
  {
   "cell_type": "markdown",
   "metadata": {},
   "source": [
    "### Food sources"
   ]
  },
  {
   "cell_type": "code",
   "execution_count": 42,
   "metadata": {},
   "outputs": [],
   "source": [
    "# Group df03 by 'municip_code' because there are multiple rows for each municipality (and we need a 1:1 relationship)\n",
    "df03 = df03.groupby(by = 'municip_code', as_index= False).colonies_amount.sum()"
   ]
  },
  {
   "cell_type": "code",
   "execution_count": 43,
   "metadata": {},
   "outputs": [],
   "source": [
    "# Now merge df03 to add number of bee hives (which is a food source for the wasp) in each municipality\n",
    "# Note that NaNs (unknown amount of hives) are replaced with zeroes for the 'colonies_amount' variable\n",
    "\n",
    "all_the_queens_wasps = pd.merge(all_the_queens_wasps, df03, how = 'left', on = 'municip_code')\n",
    "all_the_queens_wasps.colonies_amount.fillna(value=0, inplace=True)"
   ]
  },
  {
   "cell_type": "code",
   "execution_count": 44,
   "metadata": {},
   "outputs": [
    {
     "data": {
      "text/plain": [
       "(4032, 15)"
      ]
     },
     "execution_count": 44,
     "metadata": {},
     "output_type": "execute_result"
    }
   ],
   "source": [
    "all_the_queens_wasps.shape"
   ]
  },
  {
   "cell_type": "code",
   "execution_count": 45,
   "metadata": {
    "tags": []
   },
   "outputs": [],
   "source": [
    "#all_the_queens_wasps.isnull().sum()"
   ]
  },
  {
   "cell_type": "code",
   "execution_count": 46,
   "metadata": {},
   "outputs": [],
   "source": [
    "# Group df04 (agricultural food sources) by municipality code, after appending variables with the amount of each type of agricultural product\n",
    "\n",
    "aux = df04.copy(deep=True)\n",
    "aux.drop(columns=['municip_name'], inplace=True)\n",
    "\n",
    "aux['food_fruit'] = np.where(aux['agriculture_type'] == 'FRUTALES', '1', '0')\n",
    "aux['food_fruit'] = aux['food_fruit'].astype('int')\n",
    "\n",
    "aux['food_apple'] = np.where(aux['agriculture_type'] == 'MANZANO', '1', '0')\n",
    "aux['food_apple'] = aux['food_apple'].astype('int')\n",
    "\n",
    "txakoli_string = df04.agriculture_type[45]\n",
    "aux['food_txakoli'] = np.where(aux['agriculture_type'] == txakoli_string, '1', '0')\n",
    "aux['food_txakoli'] = aux['food_txakoli'].astype('int')\n",
    "\n",
    "aux['food_kiwi'] = np.where(aux['agriculture_type'] == 'AKTINIDIA (KIWI)', '1', '0')\n",
    "aux['food_kiwi'] = aux['food_kiwi'].astype('int')\n",
    "\n",
    "aux['food_pear'] = np.where(aux['agriculture_type'] == 'PERAL', '1', '0')\n",
    "aux['food_pear'] = aux['food_pear'].astype('int')\n",
    "\n",
    "aux['food_blueberry'] = np.where(aux['agriculture_type'] == 'ARANDANOS', '1', '0')\n",
    "aux['food_blueberry'] = aux['food_blueberry'].astype('int')\n",
    "\n",
    "aux['food_raspberry'] = np.where(aux['agriculture_type'] == 'FRAMBUESAS', '1', '0')\n",
    "aux['food_raspberry'] = aux['food_raspberry'].astype('int')\n",
    "\n",
    "aux = aux.groupby(by='municip_code', as_index=False).sum()\n",
    "df04 = aux.copy(deep=True)"
   ]
  },
  {
   "cell_type": "code",
   "execution_count": 47,
   "metadata": {},
   "outputs": [],
   "source": [
    "# Now merge df04 to add number of each type of food source ('agriculture_type') present in each municipality\n",
    "# Any municipality not present in df04 will get assigned 'zero' food sources for any given type of fruit\n",
    "\n",
    "all_the_queens_wasps = pd.merge(all_the_queens_wasps, df04, how = 'left', on= 'municip_code')\n",
    "all_the_queens_wasps.food_fruit.fillna(value=0, inplace=True)\n",
    "all_the_queens_wasps.food_apple.fillna(value=0, inplace=True)\n",
    "all_the_queens_wasps.food_txakoli.fillna(value=0, inplace=True)\n",
    "all_the_queens_wasps.food_kiwi.fillna(value=0, inplace=True)\n",
    "all_the_queens_wasps.food_pear.fillna(value=0, inplace=True)\n",
    "all_the_queens_wasps.food_blueberry.fillna(value=0, inplace=True)\n",
    "all_the_queens_wasps.food_raspberry.fillna(value=0, inplace=True)"
   ]
  },
  {
   "cell_type": "code",
   "execution_count": 48,
   "metadata": {},
   "outputs": [
    {
     "data": {
      "text/plain": [
       "(4032, 22)"
      ]
     },
     "execution_count": 48,
     "metadata": {},
     "output_type": "execute_result"
    }
   ],
   "source": [
    "all_the_queens_wasps.shape"
   ]
  },
  {
   "cell_type": "code",
   "execution_count": 49,
   "metadata": {
    "tags": []
   },
   "outputs": [],
   "source": [
    "#all_the_queens_wasps.isnull().sum()"
   ]
  },
  {
   "cell_type": "markdown",
   "metadata": {},
   "source": [
    "### Geographic\n",
    "Here, a very important assumption regarding which station corresponds to each municipality is being brought from the HONEYCOMB script"
   ]
  },
  {
   "cell_type": "code",
   "execution_count": 50,
   "metadata": {},
   "outputs": [],
   "source": [
    "# Adding weather station code to each municipality in all_the_queens_wasps. \"No municipality left behind!\"\n",
    "all_the_queens_wasps = pd.merge(all_the_queens_wasps, WBdf01, how = 'left', on= 'municip_code')"
   ]
  },
  {
   "cell_type": "code",
   "execution_count": 51,
   "metadata": {},
   "outputs": [
    {
     "data": {
      "text/plain": [
       "(4032, 23)"
      ]
     },
     "execution_count": 51,
     "metadata": {},
     "output_type": "execute_result"
    }
   ],
   "source": [
    "all_the_queens_wasps.shape"
   ]
  },
  {
   "cell_type": "code",
   "execution_count": 52,
   "metadata": {
    "tags": []
   },
   "outputs": [],
   "source": [
    "#all_the_queens_wasps.isnull().sum()"
   ]
  },
  {
   "cell_type": "code",
   "execution_count": 53,
   "metadata": {},
   "outputs": [
    {
     "data": {
      "text/plain": [
       "2018    1344\n",
       "2017    1344\n",
       "2019    1344\n",
       "Name: year_offset, dtype: int64"
      ]
     },
     "execution_count": 53,
     "metadata": {},
     "output_type": "execute_result"
    }
   ],
   "source": [
    "all_the_queens_wasps.year_offset.value_counts()"
   ]
  },
  {
   "cell_type": "markdown",
   "metadata": {},
   "source": [
    "### Weather\n",
    "\n",
    "MANDATORY ASSUMPTION: As per the competition's rules. 2020 weather data cannot be used to predict 2020's number of wasp nests.\n",
    "\n",
    "Therefore, **this merge links 2018's wasp nests to 2017's weather data for each corresponding month** (all of which falls under the $2017$ value for `year_offset`).\n",
    "\n",
    "Likewise, **2019's wasp nests are linked to 2018's weather data for the corresponding month** (all of which falls under the $2018$ value for `year_offset`).\n",
    "\n",
    "Finally, the $2019$ value for `year_offset` contains zero NESTS and the year 2019's weather which we will use to predict 2020's number of NESTS (the target variable of the competition)"
   ]
  },
  {
   "cell_type": "code",
   "execution_count": 54,
   "metadata": {},
   "outputs": [],
   "source": [
    "# Now, merge the Main 'all_the_queens_wasps' dataFrame with the weather data 'WBdf02' dataFrame\n",
    "all_the_queens_wasps = pd.merge(all_the_queens_wasps, WBdf02, how = 'left',\\\n",
    "                                      left_on = ['station_code', 'month', 'year_offset'],\\\n",
    "                                      right_on = ['station_code', 'month', 'year'])"
   ]
  },
  {
   "cell_type": "code",
   "execution_count": 55,
   "metadata": {
    "tags": []
   },
   "outputs": [
    {
     "data": {
      "text/plain": [
       "Index(['year_x', 'municip_name', 'municip_code', 'month', 'year_offset',\n",
       "       'NESTS', 'fv_size_small', 'fv_size_mid', 'fv_size_large',\n",
       "       'fv_type_natural', 'fv_type_urban', 'fv_status_cantkill',\n",
       "       'fv_status_dead', 'fv_status_pending', 'colonies_amount', 'food_fruit',\n",
       "       'food_apple', 'food_txakoli', 'food_kiwi', 'food_pear',\n",
       "       'food_blueberry', 'food_raspberry', 'station_code', 'index', 'MMM',\n",
       "       'year_y', 'station_name', 'code_merge', 'merge_cod', 'weath_days_frost',\n",
       "       'weath_humidity', 'weath_maxLevel', 'weath_midLevel', 'weath_minLevel',\n",
       "       'weath_days_rain', 'weath_days_rain1mm', 'weath_accuRainfall',\n",
       "       'weath_10minRainfall', 'weath_1dayRainfall', 'weath_solar',\n",
       "       'weath_meanTemp', 'weath_maxTemp', 'weath_maxMeanTemp', 'weath_minTemp',\n",
       "       'weath_meanWindM', 'weath_maxWindM', 'weath_meanDayMaxWind'],\n",
       "      dtype='object')"
      ]
     },
     "execution_count": 55,
     "metadata": {},
     "output_type": "execute_result"
    }
   ],
   "source": [
    "# note that this relabels `year` from the `all_the_queens_wasps` dataframe as `year_x`, and likewise as `year_y` from the WBdf02 dataframe\n",
    "all_the_queens_wasps.columns"
   ]
  },
  {
   "cell_type": "code",
   "execution_count": 56,
   "metadata": {},
   "outputs": [],
   "source": [
    "all_the_queens_wasps_TRAIN = all_the_queens_wasps.loc[all_the_queens_wasps.year_offset.isin([2017, 2018]),:]\n",
    "all_the_queens_wasps_PREDICT = all_the_queens_wasps.loc[all_the_queens_wasps.year_offset.isin([2019]),:]"
   ]
  },
  {
   "cell_type": "markdown",
   "metadata": {},
   "source": [
    "### Adding `Population`, a publicly available dataset"
   ]
  },
  {
   "cell_type": "code",
   "execution_count": 57,
   "metadata": {},
   "outputs": [],
   "source": [
    "# Adding population by municipality\n",
    "all_the_queens_wasps_TRAIN = pd.merge(all_the_queens_wasps_TRAIN, df_population, how = 'left',\\\n",
    "                                      left_on= ['municip_code', 'year_offset'],\\\n",
    "                                      right_on = ['municip_code', 'year'])\n",
    "\n",
    "all_the_queens_wasps_PREDICT = pd.merge(all_the_queens_wasps_PREDICT, df_population, how = 'left',\\\n",
    "                                        left_on= ['municip_code', 'year_offset'],\\\n",
    "                                        right_on = ['municip_code', 'year'])"
   ]
  },
  {
   "cell_type": "code",
   "execution_count": 58,
   "metadata": {},
   "outputs": [
    {
     "data": {
      "text/plain": [
       "(2688, 49)"
      ]
     },
     "execution_count": 58,
     "metadata": {},
     "output_type": "execute_result"
    }
   ],
   "source": [
    "all_the_queens_wasps_TRAIN.shape"
   ]
  },
  {
   "cell_type": "code",
   "execution_count": 59,
   "metadata": {},
   "outputs": [
    {
     "data": {
      "text/plain": [
       "(1344, 49)"
      ]
     },
     "execution_count": 59,
     "metadata": {},
     "output_type": "execute_result"
    }
   ],
   "source": [
    "all_the_queens_wasps_PREDICT.shape"
   ]
  },
  {
   "cell_type": "code",
   "execution_count": 60,
   "metadata": {},
   "outputs": [
    {
     "data": {
      "text/plain": [
       "True"
      ]
     },
     "execution_count": 60,
     "metadata": {},
     "output_type": "execute_result"
    }
   ],
   "source": [
    "all_the_queens_wasps_PREDICT.shape[0] + all_the_queens_wasps_TRAIN.shape[0] == template.shape[0]"
   ]
  },
  {
   "cell_type": "markdown",
   "metadata": {},
   "source": [
    "## Further cleanup"
   ]
  },
  {
   "cell_type": "code",
   "execution_count": 61,
   "metadata": {},
   "outputs": [],
   "source": [
    "#dropping unnecessary/duplicate columns\n",
    "all_the_queens_wasps_TRAIN.drop(columns=['year_y','code_merge', 'merge_cod', 'year_x', 'index', 'MMM'], inplace=True)"
   ]
  },
  {
   "cell_type": "code",
   "execution_count": 62,
   "metadata": {
    "tags": []
   },
   "outputs": [
    {
     "data": {
      "text/plain": [
       "Index(['municip_name', 'municip_code', 'month', 'year_offset', 'NESTS',\n",
       "       'fv_size_small', 'fv_size_mid', 'fv_size_large', 'fv_type_natural',\n",
       "       'fv_type_urban', 'fv_status_cantkill', 'fv_status_dead',\n",
       "       'fv_status_pending', 'colonies_amount', 'food_fruit', 'food_apple',\n",
       "       'food_txakoli', 'food_kiwi', 'food_pear', 'food_blueberry',\n",
       "       'food_raspberry', 'station_code', 'station_name', 'weath_days_frost',\n",
       "       'weath_humidity', 'weath_maxLevel', 'weath_midLevel', 'weath_minLevel',\n",
       "       'weath_days_rain', 'weath_days_rain1mm', 'weath_accuRainfall',\n",
       "       'weath_10minRainfall', 'weath_1dayRainfall', 'weath_solar',\n",
       "       'weath_meanTemp', 'weath_maxTemp', 'weath_maxMeanTemp', 'weath_minTemp',\n",
       "       'weath_meanWindM', 'weath_maxWindM', 'weath_meanDayMaxWind', 'year',\n",
       "       'population'],\n",
       "      dtype='object')"
      ]
     },
     "execution_count": 62,
     "metadata": {},
     "output_type": "execute_result"
    }
   ],
   "source": [
    "all_the_queens_wasps_TRAIN.columns"
   ]
  },
  {
   "cell_type": "code",
   "execution_count": 63,
   "metadata": {},
   "outputs": [],
   "source": [
    "all_the_queens_wasps_PREDICT.drop(columns=['year_y', 'code_merge', 'merge_cod', 'year_x', 'index', 'MMM'], inplace=True)"
   ]
  },
  {
   "cell_type": "code",
   "execution_count": 64,
   "metadata": {
    "tags": []
   },
   "outputs": [
    {
     "data": {
      "text/plain": [
       "Index(['municip_name', 'municip_code', 'month', 'year_offset', 'NESTS',\n",
       "       'fv_size_small', 'fv_size_mid', 'fv_size_large', 'fv_type_natural',\n",
       "       'fv_type_urban', 'fv_status_cantkill', 'fv_status_dead',\n",
       "       'fv_status_pending', 'colonies_amount', 'food_fruit', 'food_apple',\n",
       "       'food_txakoli', 'food_kiwi', 'food_pear', 'food_blueberry',\n",
       "       'food_raspberry', 'station_code', 'station_name', 'weath_days_frost',\n",
       "       'weath_humidity', 'weath_maxLevel', 'weath_midLevel', 'weath_minLevel',\n",
       "       'weath_days_rain', 'weath_days_rain1mm', 'weath_accuRainfall',\n",
       "       'weath_10minRainfall', 'weath_1dayRainfall', 'weath_solar',\n",
       "       'weath_meanTemp', 'weath_maxTemp', 'weath_maxMeanTemp', 'weath_minTemp',\n",
       "       'weath_meanWindM', 'weath_maxWindM', 'weath_meanDayMaxWind', 'year',\n",
       "       'population'],\n",
       "      dtype='object')"
      ]
     },
     "execution_count": 64,
     "metadata": {},
     "output_type": "execute_result"
    }
   ],
   "source": [
    "all_the_queens_wasps_PREDICT.columns"
   ]
  },
  {
   "cell_type": "code",
   "execution_count": 65,
   "metadata": {},
   "outputs": [
    {
     "data": {
      "text/plain": [
       "True"
      ]
     },
     "execution_count": 65,
     "metadata": {},
     "output_type": "execute_result"
    }
   ],
   "source": [
    "all_the_queens_wasps_TRAIN.NESTS.sum() == df02_vespas.shape[0]"
   ]
  },
  {
   "cell_type": "code",
   "execution_count": 66,
   "metadata": {},
   "outputs": [
    {
     "data": {
      "text/plain": [
       "True"
      ]
     },
     "execution_count": 66,
     "metadata": {},
     "output_type": "execute_result"
    }
   ],
   "source": [
    "all_the_queens_wasps_PREDICT.NESTS.sum() == 0"
   ]
  },
  {
   "cell_type": "markdown",
   "metadata": {},
   "source": [
    "## Clustering"
   ]
  },
  {
   "cell_type": "markdown",
   "metadata": {},
   "source": [
    "### Exploring clustering of future variables (`fv_...`)"
   ]
  },
  {
   "cell_type": "code",
   "execution_count": 76,
   "metadata": {},
   "outputs": [
    {
     "data": {
      "image/png": "[encoded data removed]",
      "text/plain": [
       "<Figure size 640x480 with 1 Axes>"
      ]
     },
     "metadata": {},
     "output_type": "display_data"
    },
    {
     "data": {
      "text/plain": [
       "<ggplot: (190967443725)>"
      ]
     },
     "execution_count": 76,
     "metadata": {},
     "output_type": "execute_result"
    }
   ],
   "source": [
    "silhouettes = []\n",
    "\n",
    "for i in range(2,15,1):\n",
    "  model = KMeans(n_clusters=i)\n",
    "  aux = all_the_queens_wasps_TRAIN.loc[all_the_queens_wasps_TRAIN.year_offset == 2018, ['fv_size_small', 'fv_size_mid', 'fv_size_large', 'fv_type_natural', 'fv_type_urban', 'fv_status_cantkill', 'fv_status_dead', 'fv_status_pending']]\n",
    "  model.fit(aux)\n",
    "  labels = model.labels_\n",
    "  sol = silhouette_score(aux, labels)\n",
    "  silhouettes.append(sol)\n",
    "\n",
    "silhouette = pd.DataFrame()\n",
    "silhouette['Labels'] = silhouettes\n",
    "silhouette['NumberOfClusters'] = range(2,15,1)\n",
    "\n",
    "ggplot(aes(x='NumberOfClusters', y='Labels'), silhouette) + geom_line() + geom_point()"
   ]
  },
  {
   "cell_type": "code",
   "execution_count": 68,
   "metadata": {},
   "outputs": [
    {
     "data": {
      "image/png": "[encoded data removed]",
      "text/plain": [
       "<Figure size 640x480 with 1 Axes>"
      ]
     },
     "metadata": {},
     "output_type": "display_data"
    },
    {
     "data": {
      "text/plain": [
       "<ggplot: (190968667495)>"
      ]
     },
     "execution_count": 68,
     "metadata": {},
     "output_type": "execute_result"
    }
   ],
   "source": [
    "inertias = []\n",
    "for i in range(1,10,1):\n",
    "  model = KMeans(n_clusters=i)\n",
    "  aux = all_the_queens_wasps_TRAIN.loc[all_the_queens_wasps_TRAIN.year_offset == 2018, ['fv_size_small', 'fv_size_mid', 'fv_size_large', 'fv_type_natural', 'fv_type_urban', 'fv_status_cantkill', 'fv_status_dead', 'fv_status_pending']]\n",
    "  model.fit(aux)\n",
    "  inertias.append(model.inertia_)\n",
    "\n",
    "elbow = pd.DataFrame()\n",
    "elbow['Inertia'] = inertias\n",
    "elbow['NumberOfClusters'] = range(1,10,1)\n",
    "\n",
    "ggplot(aes(x='NumberOfClusters', y='Inertia'), elbow) + geom_line() + geom_point()"
   ]
  },
  {
   "cell_type": "markdown",
   "metadata": {},
   "source": [
    "### Exploring clustering of weather variables (`weath_`)"
   ]
  },
  {
   "cell_type": "code",
   "execution_count": 69,
   "metadata": {},
   "outputs": [],
   "source": [
    "# scale the dataset using MinMaxScaler, the most common approach\n",
    "\n",
    "scalators = ['weath_days_frost', 'weath_humidity', 'weath_maxLevel', 'weath_midLevel', 'weath_minLevel', 'weath_days_rain', 'weath_days_rain1mm', 'weath_accuRainfall', 'weath_10minRainfall', 'weath_1dayRainfall', 'weath_solar', 'weath_meanTemp', 'weath_maxTemp', 'weath_maxMeanTemp', 'weath_minTemp', 'weath_meanWindM', 'weath_maxWindM', 'weath_meanDayMaxWind']\n",
    "all_the_queens_wasps_TRAIN[scalators] = preprocessing.minmax_scale(all_the_queens_wasps_TRAIN[scalators])"
   ]
  },
  {
   "cell_type": "code",
   "execution_count": 70,
   "metadata": {},
   "outputs": [
    {
     "data": {
      "image/png": "[encoded data removed]",
      "text/plain": [
       "<Figure size 640x480 with 1 Axes>"
      ]
     },
     "metadata": {},
     "output_type": "display_data"
    },
    {
     "data": {
      "text/plain": [
       "<ggplot: (190969282862)>"
      ]
     },
     "execution_count": 70,
     "metadata": {},
     "output_type": "execute_result"
    }
   ],
   "source": [
    "silhouettes = []\n",
    "\n",
    "for i in range(2,10,1):\n",
    "  model = KMeans(n_clusters=i)\n",
    "  aux = all_the_queens_wasps_TRAIN.loc[all_the_queens_wasps_TRAIN.year_offset == 2018, ['weath_days_frost', 'weath_humidity', 'weath_maxLevel', 'weath_midLevel', 'weath_minLevel', 'weath_days_rain', 'weath_days_rain1mm', 'weath_accuRainfall', 'weath_10minRainfall', 'weath_1dayRainfall', 'weath_solar', 'weath_meanTemp', 'weath_maxTemp', 'weath_maxMeanTemp', 'weath_minTemp', 'weath_meanWindM', 'weath_maxWindM', 'weath_meanDayMaxWind']]\n",
    "  model.fit(aux)\n",
    "  labels = model.labels_\n",
    "  sol = silhouette_score(aux, labels)\n",
    "  silhouettes.append(sol)\n",
    "\n",
    "silhouette = pd.DataFrame()\n",
    "silhouette['Labels'] = silhouettes\n",
    "silhouette['NumberOfClusters'] = range(2,10,1)\n",
    "\n",
    "ggplot(aes(x='NumberOfClusters', y='Labels'), silhouette) + geom_line() + geom_point()"
   ]
  },
  {
   "cell_type": "code",
   "execution_count": 71,
   "metadata": {},
   "outputs": [
    {
     "data": {
      "image/png": "[encoded data removed]",
      "text/plain": [
       "<Figure size 640x480 with 1 Axes>"
      ]
     },
     "metadata": {},
     "output_type": "display_data"
    },
    {
     "data": {
      "text/plain": [
       "<ggplot: (190969406341)>"
      ]
     },
     "execution_count": 71,
     "metadata": {},
     "output_type": "execute_result"
    }
   ],
   "source": [
    "inertias = []\n",
    "for i in range(1,10,1):\n",
    "  model = KMeans(n_clusters=i)\n",
    "  aux = all_the_queens_wasps_TRAIN.loc[all_the_queens_wasps_TRAIN.year_offset == 2018, ['weath_days_frost', 'weath_humidity', 'weath_maxLevel', 'weath_midLevel', 'weath_minLevel', 'weath_days_rain', 'weath_days_rain1mm', 'weath_accuRainfall', 'weath_10minRainfall', 'weath_1dayRainfall', 'weath_solar', 'weath_meanTemp', 'weath_maxTemp', 'weath_maxMeanTemp', 'weath_minTemp', 'weath_meanWindM', 'weath_maxWindM', 'weath_meanDayMaxWind']]\n",
    "  model.fit(aux)\n",
    "  inertias.append(model.inertia_)\n",
    "\n",
    "elbow = pd.DataFrame()\n",
    "elbow['Inertia'] = inertias\n",
    "elbow['NumberOfClusters'] = range(1,10,1)\n",
    "\n",
    "ggplot(aes(x='NumberOfClusters', y='Inertia'), elbow) + geom_line() + geom_point()"
   ]
  },
  {
   "cell_type": "markdown",
   "metadata": {},
   "source": [
    "### Exploring clustering of food variables (`food_`)"
   ]
  },
  {
   "cell_type": "code",
   "execution_count": 72,
   "metadata": {},
   "outputs": [
    {
     "data": {
      "image/png": "[encoded data removed]",
      "text/plain": [
       "<Figure size 640x480 with 1 Axes>"
      ]
     },
     "metadata": {},
     "output_type": "display_data"
    },
    {
     "data": {
      "text/plain": [
       "<ggplot: (190969358306)>"
      ]
     },
     "execution_count": 72,
     "metadata": {},
     "output_type": "execute_result"
    }
   ],
   "source": [
    "silhouettes = []\n",
    "\n",
    "for i in range(2,10,1):\n",
    "  model = KMeans(n_clusters=i)\n",
    "  aux = all_the_queens_wasps_TRAIN.loc[all_the_queens_wasps_TRAIN.year_offset == 2018, ['colonies_amount', 'food_fruit', 'food_apple', 'food_txakoli', 'food_kiwi', 'food_pear', 'food_blueberry', 'food_raspberry']]\n",
    "  model.fit(aux)\n",
    "  labels = model.labels_\n",
    "  sol = silhouette_score(aux, labels)\n",
    "  silhouettes.append(sol)\n",
    "\n",
    "silhouette = pd.DataFrame()\n",
    "silhouette['Labels'] = silhouettes\n",
    "silhouette['NumberOfClusters'] = range(2,10,1)\n",
    "\n",
    "ggplot(aes(x='NumberOfClusters', y='Labels'), silhouette) + geom_line() + geom_point()"
   ]
  },
  {
   "cell_type": "code",
   "execution_count": 73,
   "metadata": {},
   "outputs": [
    {
     "data": {
      "image/png": "[encoded data removed]",
      "text/plain": [
       "<Figure size 640x480 with 1 Axes>"
      ]
     },
     "metadata": {},
     "output_type": "display_data"
    },
    {
     "data": {
      "text/plain": [
       "<ggplot: (190969292216)>"
      ]
     },
     "execution_count": 73,
     "metadata": {},
     "output_type": "execute_result"
    }
   ],
   "source": [
    "inertias = []\n",
    "for i in range(1,10,1):\n",
    "  model = KMeans(n_clusters=i)\n",
    "  aux = all_the_queens_wasps_TRAIN.loc[all_the_queens_wasps_TRAIN.year_offset == 2018, ['colonies_amount', 'food_fruit', 'food_apple', 'food_txakoli', 'food_kiwi', 'food_pear', 'food_blueberry', 'food_raspberry']]\n",
    "  model.fit(aux)\n",
    "  inertias.append(model.inertia_)\n",
    "\n",
    "elbow = pd.DataFrame()\n",
    "elbow['Inertia'] = inertias\n",
    "elbow['NumberOfClusters'] = range(1,10,1)\n",
    "\n",
    "ggplot(aes(x='NumberOfClusters', y='Inertia'), elbow) + geom_line() + geom_point()"
   ]
  },
  {
   "cell_type": "markdown",
   "metadata": {},
   "source": [
    "### How many clusters do we need?"
   ]
  },
  {
   "cell_type": "code",
   "execution_count": 75,
   "metadata": {},
   "outputs": [],
   "source": [
    "#silhouette_output = "
   ]
  },
  {
   "cell_type": "markdown",
   "metadata": {},
   "source": [
    "### Cluster up"
   ]
  },
  {
   "cell_type": "code",
   "execution_count": null,
   "metadata": {},
   "outputs": [],
   "source": [
    "model = KMeans(n_clusters = silhouette_output)\n",
    "\n",
    "aux = all_the_queens_wasps_TRAIN.loc[:,['Defense', 'Attack', 'Speed']]\n",
    "model.fit(aux)\n",
    "modelLabels = model.labels_\n",
    "modelCenters = model.cluster_centers_\n",
    "\n",
    "all_the_queens_wasps_TRAIN['Cluster'] = pd.Series(modelLabels, index=all_the_queens_wasps_TRAIN.index)"
   ]
  },
  {
   "cell_type": "code",
   "execution_count": null,
   "metadata": {},
   "outputs": [],
   "source": [
    "clusters_table = all_the_queens_wasps_TRAIN.groupby('Cluster').mean()\n",
    "pd.value_counts(all_the_queens_wasps_TRAIN.Cluster)"
   ]
  },
  {
   "cell_type": "code",
   "execution_count": null,
   "metadata": {},
   "outputs": [],
   "source": [
    "clusters_table.drop(columns=['Id'], inplace=True)\n",
    "clusters_table"
   ]
  },
  {
   "cell_type": "code",
   "execution_count": null,
   "metadata": {},
   "outputs": [],
   "source": [
    "clusters_table.to_excel(\"/Kopuru-VespaVelutina-Clustering.xlsx\", index=False)"
   ]
  },
  {
   "cell_type": "markdown",
   "metadata": {},
   "source": [
    "## Final check"
   ]
  },
  {
   "cell_type": "code",
   "execution_count": null,
   "metadata": {
    "tags": []
   },
   "outputs": [],
   "source": [
    "all_the_queens_wasps.isnull().sum()"
   ]
  },
  {
   "cell_type": "code",
   "execution_count": null,
   "metadata": {
    "tags": []
   },
   "outputs": [],
   "source": [
    "# check how many rows (municipalities) are there in the dataframe for each year/month combination\n",
    "pd.crosstab(all_the_queens_wasps.year_offset, all_the_queens_wasps.month)"
   ]
  },
  {
   "cell_type": "code",
   "execution_count": null,
   "metadata": {
    "tags": []
   },
   "outputs": [],
   "source": [
    "# this loops helps verify which municipality may be missing from any given year/month combination\n",
    "for i in range(1,13,1):\n",
    "    print(df01.municip_code[~df01.municip_code.isin\\\n",
    "                  (all_the_queens_wasps.loc[(all_the_queens_wasps.month == i) &\\\n",
    "                                            (all_the_queens_wasps.year_offset == 2019),:].\\\n",
    "                   municip_code.unique())])"
   ]
  },
  {
   "cell_type": "code",
   "execution_count": null,
   "metadata": {},
   "outputs": [],
   "source": [
    "all_the_queens_wasps_TRAIN.NESTS.sum() == df02_vespas.shape[0]"
   ]
  },
  {
   "cell_type": "code",
   "execution_count": null,
   "metadata": {},
   "outputs": [],
   "source": [
    "all_the_queens_wasps_PREDICT.NESTS.sum() == 0"
   ]
  },
  {
   "cell_type": "markdown",
   "metadata": {
    "tags": []
   },
   "source": [
    "## Export the TRAINING dataset for the model\n",
    "A dataset which relates the weather from a previous year (12 months ago) to an amount of NESTS in any given year (and month)."
   ]
  },
  {
   "cell_type": "code",
   "execution_count": 61,
   "metadata": {},
   "outputs": [],
   "source": [
    "all_the_queens_wasps_TRAIN.to_csv('WBds03_QUEENtrainMONTHS.csv', index=False)"
   ]
  },
  {
   "cell_type": "markdown",
   "metadata": {},
   "source": [
    "## Export the PREDICTION dataset for the model"
   ]
  },
  {
   "cell_type": "code",
   "execution_count": 62,
   "metadata": {},
   "outputs": [],
   "source": [
    "all_the_queens_wasps_PREDICT.to_csv('WBds03_QUEENpredictMONTHS.csv', index=False)"
   ]
  }
 ],
 "metadata": {
  "kernelspec": {
   "display_name": "Python 3",
   "language": "python",
   "name": "python3"
  },
  "language_info": {
   "codemirror_mode": {
    "name": "ipython",
    "version": 3
   },
   "file_extension": ".py",
   "mimetype": "text/x-python",
   "name": "python",
   "nbconvert_exporter": "python",
   "pygments_lexer": "ipython3",
   "version": "3.8.8"
  }
 },
 "nbformat": 4,
 "nbformat_minor": 4
}

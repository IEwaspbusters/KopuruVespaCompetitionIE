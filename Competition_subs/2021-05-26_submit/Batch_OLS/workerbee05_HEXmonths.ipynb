{
 "cells": [
  {
   "cell_type": "markdown",
   "id": "7766cce7-a0e7-4b55-9582-980cd2482fc2",
   "metadata": {
    "id": "9nkDv5dppU6B"
   },
   "source": [
    "# HEX algorithm **Kopuru Vespa Velutina Competition**\n",
    "\n",
    "**Linear Regression model**\n",
    "\n",
    "Purpose: Predict the number of Nests in each of Biscay's 112 municipalities for the year 2020.\n",
    "\n",
    "Output: *(WaspBusters_20210512_batch_OLSmonths.csv)*\n",
    "\n",
    "@authors:\n",
    "* mario.bejar@student.ie.edu\n",
    "* pedro.geirinhas@student.ie.edu\n",
    "* a.berrizbeitia@student.ie.edu\n",
    "* pcasaverde@student.ie.edu"
   ]
  },
  {
   "cell_type": "markdown",
   "id": "c60e3d67-b7a8-42cc-9471-869d0e6cce8f",
   "metadata": {},
   "source": [
    "## Libraries"
   ]
  },
  {
   "cell_type": "code",
   "execution_count": 53,
   "id": "e221fd74-3f1c-4594-9011-94c90de48163",
   "metadata": {},
   "outputs": [],
   "source": [
    "# Base packages -----------------------------------\n",
    "import numpy as np\n",
    "import pandas as pd\n",
    "\n",
    "# Visualization -----------------------------------\n",
    "from matplotlib import pyplot\n",
    "\n",
    "# Scaling data ------------------------------------\n",
    "from sklearn import preprocessing\n",
    "\n",
    "# Linear Regression -------------------------------\n",
    "from statsmodels.formula.api import ols\n",
    "#from sklearn.datasets import make_regression\n",
    "from sklearn.linear_model import LinearRegression\n"
   ]
  },
  {
   "cell_type": "markdown",
   "id": "bf6b6a79-3b41-4f85-bab8-b394aeda7f77",
   "metadata": {},
   "source": [
    "## Functions"
   ]
  },
  {
   "cell_type": "code",
   "execution_count": 54,
   "id": "37489ce6-bcda-49e9-a0e8-9e9eae3954a0",
   "metadata": {},
   "outputs": [],
   "source": [
    "# Function that checks if final Output is ready for submission or needs revision   \n",
    "\n",
    "def check_data(HEX):\n",
    "\n",
    "    if HEX.shape == (112, 3):\n",
    "        print(HEX.shape,\": Shape is correct.\")\n",
    "    else:\n",
    "        print(HEX.shape,\": Shape is **INCORRECT!**\")\n",
    "\n",
    "    if HEX[\"CODIGO MUNICIPIO\"].nunique() == 112:\n",
    "        print(HEX[\"CODIGO MUNICIPIO\"].nunique(),\": Number of unique municipalities is correct.\")\n",
    "    else:\n",
    "        print(HEX[\"CODIGO MUNICIPIO\"].nunique(),\": Number of unique municipalities is **INCORRECT!**\")\n",
    "        \n",
    "    if any(HEX[\"NIDOS 2020\"] < 0):\n",
    "        print(\"**INCORRECT!** At least one municipality has NESTS <= 0.\")\n",
    "    else:\n",
    "        print(\"Great! All municipalities have NESTS >= 0.\")\n",
    "    \n",
    "    print(\"The Total 2020 Nests' Prediction is\", int(HEX[\"NIDOS 2020\"].sum()))"
   ]
  },
  {
   "cell_type": "markdown",
   "id": "3eff056c-41e9-4220-9b2e-f0ddd845a46a",
   "metadata": {},
   "source": [
    "## Get the data"
   ]
  },
  {
   "cell_type": "code",
   "execution_count": 55,
   "id": "fc6428aa-0349-4843-b72f-c9cd23fd171c",
   "metadata": {},
   "outputs": [],
   "source": [
    "QUEEN_train = pd.read_csv('../Feeder_months/WBds03_QUEENtrainMONTHS.csv', sep=',')\n",
    "QUEEN_predict = pd.read_csv('../Feeder_months/WBds03_QUEENpredictMONTHS.csv', sep=',')\n",
    "\n",
    "clustersMario = pd.read_csv(\"../Feeder_years/WBds_CLUSTERSnests.csv\")"
   ]
  },
  {
   "cell_type": "code",
   "execution_count": 56,
   "id": "a928dc79-c853-4473-8727-bfc2bf531450",
   "metadata": {
    "tags": []
   },
   "outputs": [],
   "source": [
    "#QUEEN_predict.isnull().sum()"
   ]
  },
  {
   "cell_type": "code",
   "execution_count": 57,
   "id": "1f822825-ae00-49aa-944c-3d1574b16ad5",
   "metadata": {},
   "outputs": [
    {
     "data": {
      "text/plain": [
       "(2688, 43)"
      ]
     },
     "execution_count": 57,
     "metadata": {},
     "output_type": "execute_result"
    }
   ],
   "source": [
    "QUEEN_train.shape"
   ]
  },
  {
   "cell_type": "code",
   "execution_count": 58,
   "id": "97934c8c-c01a-4efd-98de-20b8de53731f",
   "metadata": {},
   "outputs": [
    {
     "data": {
      "text/plain": [
       "(1344, 43)"
      ]
     },
     "execution_count": 58,
     "metadata": {},
     "output_type": "execute_result"
    }
   ],
   "source": [
    "QUEEN_predict.shape"
   ]
  },
  {
   "cell_type": "markdown",
   "id": "694d1ce2-9927-4e1e-914c-8ff35476d7a6",
   "metadata": {},
   "source": [
    "## Add in more Clusters (nest amount clusters)"
   ]
  },
  {
   "cell_type": "code",
   "execution_count": 59,
   "id": "e3c48590-644d-4b24-91c2-1faf1dc642bf",
   "metadata": {},
   "outputs": [],
   "source": [
    "QUEEN_train = pd.merge(QUEEN_train, clustersMario, how = 'left', on = ['municip_code', 'municip_name'])\n",
    "QUEEN_predict = pd.merge(QUEEN_predict, clustersMario, how = 'left', on = ['municip_code', 'municip_name'])"
   ]
  },
  {
   "cell_type": "code",
   "execution_count": 60,
   "id": "cdd55894-0138-4630-920b-dc6464cc9d99",
   "metadata": {},
   "outputs": [],
   "source": [
    "QUEEN_train.fillna(4, inplace=True)\n",
    "QUEEN_predict.fillna(4, inplace=True)"
   ]
  },
  {
   "cell_type": "code",
   "execution_count": 61,
   "id": "87e6e96a-fc38-42dc-bd2b-7230f971d400",
   "metadata": {},
   "outputs": [
    {
     "data": {
      "text/plain": [
       "(2688, 44)"
      ]
     },
     "execution_count": 61,
     "metadata": {},
     "output_type": "execute_result"
    }
   ],
   "source": [
    "QUEEN_train.shape"
   ]
  },
  {
   "cell_type": "code",
   "execution_count": 62,
   "id": "22140af5-954f-4cee-b98f-7df933a6aa10",
   "metadata": {},
   "outputs": [
    {
     "data": {
      "text/plain": [
       "(1344, 44)"
      ]
     },
     "execution_count": 62,
     "metadata": {},
     "output_type": "execute_result"
    }
   ],
   "source": [
    "QUEEN_predict.shape"
   ]
  },
  {
   "cell_type": "code",
   "execution_count": 63,
   "id": "ba391735-1d39-46af-bdc8-956e34bcf0e1",
   "metadata": {
    "tags": []
   },
   "outputs": [
    {
     "data": {
      "text/plain": [
       "municip_name             0\n",
       "municip_code             0\n",
       "month                    0\n",
       "year_offset              0\n",
       "NESTS                    0\n",
       "colonies_amount          0\n",
       "food_fruit               0\n",
       "food_apple               0\n",
       "food_txakoli             0\n",
       "food_kiwi                0\n",
       "food_pear                0\n",
       "food_blueberry           0\n",
       "food_raspberry           0\n",
       "station_code             0\n",
       "station_name             0\n",
       "weath_days_frost         0\n",
       "weath_humidity           0\n",
       "weath_maxLevel           0\n",
       "weath_midLevel           0\n",
       "weath_minLevel           0\n",
       "weath_days_rain          0\n",
       "weath_days_rain1mm       0\n",
       "weath_accuRainfall       0\n",
       "weath_10minRainfall      0\n",
       "weath_1dayRainfall       0\n",
       "weath_solar              0\n",
       "weath_meanTemp           0\n",
       "weath_maxTemp            0\n",
       "weath_maxMeanTemp        0\n",
       "weath_minTemp            0\n",
       "weath_meanWindM          0\n",
       "weath_maxWindM           0\n",
       "weath_meanDayMaxWind     0\n",
       "year                     0\n",
       "population               0\n",
       "cluster_size             0\n",
       "cluster_cosmo            0\n",
       "cluster_survive          0\n",
       "cluster_food             0\n",
       "cluster_weather_wet      0\n",
       "cluster_weather_temp     0\n",
       "cluster_weather_wind     0\n",
       "cluster_weather_level    0\n",
       "Cluster                  0\n",
       "dtype: int64"
      ]
     },
     "execution_count": 63,
     "metadata": {},
     "output_type": "execute_result"
    }
   ],
   "source": [
    "QUEEN_train.isnull().sum()"
   ]
  },
  {
   "cell_type": "code",
   "execution_count": 64,
   "id": "7fedca52-dcdd-49ff-b31a-9ba6610b2baf",
   "metadata": {
    "tags": []
   },
   "outputs": [
    {
     "data": {
      "text/plain": [
       "municip_name             0\n",
       "municip_code             0\n",
       "month                    0\n",
       "year_offset              0\n",
       "NESTS                    0\n",
       "colonies_amount          0\n",
       "food_fruit               0\n",
       "food_apple               0\n",
       "food_txakoli             0\n",
       "food_kiwi                0\n",
       "food_pear                0\n",
       "food_blueberry           0\n",
       "food_raspberry           0\n",
       "station_code             0\n",
       "station_name             0\n",
       "weath_days_frost         0\n",
       "weath_humidity           0\n",
       "weath_maxLevel           0\n",
       "weath_midLevel           0\n",
       "weath_minLevel           0\n",
       "weath_days_rain          0\n",
       "weath_days_rain1mm       0\n",
       "weath_accuRainfall       0\n",
       "weath_10minRainfall      0\n",
       "weath_1dayRainfall       0\n",
       "weath_solar              0\n",
       "weath_meanTemp           0\n",
       "weath_maxTemp            0\n",
       "weath_maxMeanTemp        0\n",
       "weath_minTemp            0\n",
       "weath_meanWindM          0\n",
       "weath_maxWindM           0\n",
       "weath_meanDayMaxWind     0\n",
       "year                     0\n",
       "population               0\n",
       "cluster_size             0\n",
       "cluster_cosmo            0\n",
       "cluster_survive          0\n",
       "cluster_food             0\n",
       "cluster_weather_wet      0\n",
       "cluster_weather_temp     0\n",
       "cluster_weather_wind     0\n",
       "cluster_weather_level    0\n",
       "Cluster                  0\n",
       "dtype: int64"
      ]
     },
     "execution_count": 64,
     "metadata": {},
     "output_type": "execute_result"
    }
   ],
   "source": [
    "QUEEN_predict.isnull().sum()"
   ]
  },
  {
   "cell_type": "markdown",
   "id": "326d88ec-3bf9-43ef-ad37-031b5e508802",
   "metadata": {},
   "source": [
    "## Determine feature importance"
   ]
  },
  {
   "cell_type": "code",
   "execution_count": 65,
   "id": "7a8aea40-8e17-4cd8-ab4f-a504712f0f0c",
   "metadata": {},
   "outputs": [],
   "source": [
    "X = QUEEN_train.drop(columns = ['municip_name', 'municip_code', 'NESTS', 'station_code', 'station_name', 'year'])"
   ]
  },
  {
   "cell_type": "code",
   "execution_count": 66,
   "id": "10a3394b-87c2-475b-afa8-e38132238f77",
   "metadata": {},
   "outputs": [],
   "source": [
    "y = QUEEN_train['NESTS']"
   ]
  },
  {
   "cell_type": "code",
   "execution_count": 67,
   "id": "22a0d35c-cc3b-48fc-9a32-a79d56f191f6",
   "metadata": {},
   "outputs": [],
   "source": [
    "# Scale the datasets using MinMaxScaler\n",
    "\n",
    "scalators = X.columns\n",
    "X[scalators] = preprocessing.minmax_scale(X[scalators])"
   ]
  },
  {
   "cell_type": "code",
   "execution_count": 68,
   "id": "a76b5c13-f485-4b9f-b472-1679e515b365",
   "metadata": {},
   "outputs": [
    {
     "name": "stdout",
     "output_type": "stream",
     "text": [
      "Feature: month, Score: 1.54742\n",
      "Feature: year_offset, Score: -1.62654\n",
      "Feature: colonies_amount, Score: 1.64459\n",
      "Feature: food_fruit, Score: 2.29941\n",
      "Feature: food_apple, Score: -1.12020\n",
      "Feature: food_txakoli, Score: 1.18769\n",
      "Feature: food_kiwi, Score: -0.05182\n",
      "Feature: food_pear, Score: 0.37333\n",
      "Feature: food_blueberry, Score: 1.24348\n",
      "Feature: food_raspberry, Score: 1.06059\n",
      "Feature: weath_days_frost, Score: 0.51725\n",
      "Feature: weath_humidity, Score: 1.43421\n",
      "Feature: weath_maxLevel, Score: 1.84008\n",
      "Feature: weath_midLevel, Score: -1.62255\n",
      "Feature: weath_minLevel, Score: -0.88248\n",
      "Feature: weath_days_rain, Score: -0.59654\n",
      "Feature: weath_days_rain1mm, Score: 0.42149\n",
      "Feature: weath_accuRainfall, Score: 1.64616\n",
      "Feature: weath_10minRainfall, Score: -0.85979\n",
      "Feature: weath_1dayRainfall, Score: -1.02334\n",
      "Feature: weath_solar, Score: 0.05157\n",
      "Feature: weath_meanTemp, Score: -8.89484\n",
      "Feature: weath_maxTemp, Score: 0.55743\n",
      "Feature: weath_maxMeanTemp, Score: 3.66499\n",
      "Feature: weath_minTemp, Score: 9.49536\n",
      "Feature: weath_meanWindM, Score: 1.83840\n",
      "Feature: weath_maxWindM, Score: -3.94140\n",
      "Feature: weath_meanDayMaxWind, Score: 0.58751\n",
      "Feature: population, Score: -0.55432\n",
      "Feature: cluster_size, Score: 2.93400\n",
      "Feature: cluster_cosmo, Score: 4.90916\n",
      "Feature: cluster_survive, Score: -1.58837\n",
      "Feature: cluster_food, Score: -1.13438\n",
      "Feature: cluster_weather_wet, Score: 0.10256\n",
      "Feature: cluster_weather_temp, Score: -0.13898\n",
      "Feature: cluster_weather_wind, Score: 0.35825\n",
      "Feature: cluster_weather_level, Score: 0.06669\n",
      "Feature: Cluster, Score: -0.31913\n"
     ]
    }
   ],
   "source": [
    "# define the model\n",
    "model_fi = LinearRegression()\n",
    "\n",
    "# fit the model\n",
    "model_fi.fit(X, y)\n",
    "\n",
    "# get importance\n",
    "importance = model_fi.coef_\n",
    "\n",
    "# summarize feature importance\n",
    "for i,v in enumerate(importance):\n",
    "\tprint('Feature: %0s, Score: %.5f' % (X.columns[i],v))"
   ]
  },
  {
   "cell_type": "code",
   "execution_count": 69,
   "id": "68fe56fe-0d87-41ce-ae70-4110e1c93aaf",
   "metadata": {},
   "outputs": [
    {
     "data": {
      "image/png": "[encoded data removed]",
      "text/plain": [
       "<Figure size 432x288 with 1 Axes>"
      ]
     },
     "metadata": {
      "needs_background": "light"
     },
     "output_type": "display_data"
    }
   ],
   "source": [
    "# plot feature importance\n",
    "pyplot.bar([x for x in range(len(importance))], importance)\n",
    "pyplot.show()"
   ]
  },
  {
   "cell_type": "code",
   "execution_count": 70,
   "id": "7171515b-39ea-4fa3-8502-1ad29223d9ce",
   "metadata": {},
   "outputs": [
    {
     "name": "stdout",
     "output_type": "stream",
     "text": [
      "Feature: weath_meanTemp, Score: -8.89\n",
      "Feature: weath_maxMeanTemp, Score: 3.66\n",
      "Feature: weath_minTemp, Score: 9.50\n",
      "Feature: weath_maxWindM, Score: -3.94\n",
      "Feature: cluster_size, Score: 2.93\n",
      "Feature: cluster_cosmo, Score: 4.91\n"
     ]
    }
   ],
   "source": [
    "for i,v in enumerate(importance):\n",
    "    if abs(v) > 2.5:\n",
    "        print('Feature: %0s, Score: %.2f' % (X.columns[i],v))"
   ]
  },
  {
   "cell_type": "markdown",
   "id": "36b0df4a-03bf-4608-8e00-7f8de6b8fa50",
   "metadata": {},
   "source": [
    "## Train the model"
   ]
  },
  {
   "cell_type": "markdown",
   "id": "d338aa21-ba48-45d3-beff-409a08986d38",
   "metadata": {},
   "source": [
    "### With the variables suggested by the Feature Importance method"
   ]
  },
  {
   "cell_type": "code",
   "execution_count": 71,
   "id": "6b8fffb8-297a-4349-968f-c55e569cf87e",
   "metadata": {},
   "outputs": [
    {
     "name": "stdout",
     "output_type": "stream",
     "text": [
      "                            OLS Regression Results                            \n",
      "==============================================================================\n",
      "Dep. Variable:                  NESTS   R-squared:                       0.394\n",
      "Model:                            OLS   Adj. R-squared:                  0.392\n",
      "Method:                 Least Squares   F-statistic:                     193.6\n",
      "Date:                Wed, 02 Jun 2021   Prob (F-statistic):          1.07e-283\n",
      "Time:                        17:06:51   Log-Likelihood:                -6642.2\n",
      "No. Observations:                2688   AIC:                         1.330e+04\n",
      "Df Residuals:                    2678   BIC:                         1.336e+04\n",
      "Df Model:                           9                                         \n",
      "Covariance Type:            nonrobust                                         \n",
      "=========================================================================================\n",
      "                            coef    std err          t      P>|t|      [0.025      0.975]\n",
      "-----------------------------------------------------------------------------------------\n",
      "Intercept                 1.9336      0.768      2.517      0.012       0.427       3.440\n",
      "C(cluster_cosmo)[T.1]     2.9250      0.595      4.913      0.000       1.758       4.092\n",
      "C(cluster_size)[T.1]     -1.9664      0.635     -3.095      0.002      -3.212      -0.720\n",
      "C(cluster_size)[T.2]      6.7751      0.472     14.355      0.000       5.850       7.701\n",
      "C(cluster_size)[T.3]     -0.9494      0.651     -1.458      0.145      -2.226       0.327\n",
      "C(cluster_size)[T.4]      2.0935      0.629      3.326      0.001       0.859       3.328\n",
      "weath_meanTemp           -2.0594      0.222     -9.262      0.000      -2.495      -1.623\n",
      "weath_maxMeanTemp         0.9393      0.106      8.825      0.000       0.731       1.148\n",
      "weath_minTemp             1.3056      0.125     10.468      0.000       1.061       1.550\n",
      "weath_maxWindM           -0.0031      0.003     -0.905      0.366      -0.010       0.004\n",
      "==============================================================================\n",
      "Omnibus:                     1486.308   Durbin-Watson:                   0.951\n",
      "Prob(Omnibus):                  0.000   Jarque-Bera (JB):            21406.267\n",
      "Skew:                           2.304   Prob(JB):                         0.00\n",
      "Kurtosis:                      16.034   Cond. No.                     1.81e+03\n",
      "==============================================================================\n",
      "\n",
      "Notes:\n",
      "[1] Standard Errors assume that the covariance matrix of the errors is correctly specified.\n",
      "[2] The condition number is large, 1.81e+03. This might indicate that there are\n",
      "strong multicollinearity or other numerical problems.\n"
     ]
    }
   ],
   "source": [
    "model = ols('NESTS ~ weath_meanTemp + weath_maxMeanTemp + weath_minTemp + weath_maxWindM + C(cluster_cosmo) + C(cluster_size)',\\\n",
    "            data=QUEEN_train).fit()\n",
    "print(model.summary())"
   ]
  },
  {
   "cell_type": "markdown",
   "id": "834a3c23-21b2-4b9d-862f-69e3f273c6c6",
   "metadata": {},
   "source": [
    "### Backward elimination"
   ]
  },
  {
   "cell_type": "code",
   "execution_count": 72,
   "id": "f8891da6-e81f-489a-b5a2-1cb65de4651a",
   "metadata": {},
   "outputs": [
    {
     "name": "stdout",
     "output_type": "stream",
     "text": [
      "                            OLS Regression Results                            \n",
      "==============================================================================\n",
      "Dep. Variable:                  NESTS   R-squared:                       0.394\n",
      "Model:                            OLS   Adj. R-squared:                  0.392\n",
      "Method:                 Least Squares   F-statistic:                     217.7\n",
      "Date:                Wed, 02 Jun 2021   Prob (F-statistic):          1.06e-284\n",
      "Time:                        17:06:51   Log-Likelihood:                -6642.6\n",
      "No. Observations:                2688   AIC:                         1.330e+04\n",
      "Df Residuals:                    2679   BIC:                         1.336e+04\n",
      "Df Model:                           8                                         \n",
      "Covariance Type:            nonrobust                                         \n",
      "=========================================================================================\n",
      "                            coef    std err          t      P>|t|      [0.025      0.975]\n",
      "-----------------------------------------------------------------------------------------\n",
      "Intercept                 1.5906      0.668      2.381      0.017       0.281       2.901\n",
      "C(cluster_cosmo)[T.1]     2.8928      0.594      4.868      0.000       1.728       4.058\n",
      "C(cluster_size)[T.1]     -1.9933      0.635     -3.141      0.002      -3.238      -0.749\n",
      "C(cluster_size)[T.2]      6.7891      0.472     14.392      0.000       5.864       7.714\n",
      "C(cluster_size)[T.3]     -0.9775      0.650     -1.503      0.133      -2.253       0.298\n",
      "C(cluster_size)[T.4]      2.0837      0.629      3.311      0.001       0.850       3.318\n",
      "weath_meanTemp           -2.0819      0.221     -9.423      0.000      -2.515      -1.649\n",
      "weath_maxMeanTemp         0.9625      0.103      9.320      0.000       0.760       1.165\n",
      "weath_minTemp             1.3078      0.125     10.488      0.000       1.063       1.552\n",
      "==============================================================================\n",
      "Omnibus:                     1490.090   Durbin-Watson:                   0.953\n",
      "Prob(Omnibus):                  0.000   Jarque-Bera (JB):            21590.928\n",
      "Skew:                           2.310   Prob(JB):                         0.00\n",
      "Kurtosis:                      16.093   Cond. No.                         592.\n",
      "==============================================================================\n",
      "\n",
      "Notes:\n",
      "[1] Standard Errors assume that the covariance matrix of the errors is correctly specified.\n"
     ]
    }
   ],
   "source": [
    "model = ols('NESTS ~ weath_meanTemp + weath_maxMeanTemp + weath_minTemp + C(cluster_cosmo) + C(cluster_size)',\\\n",
    "            data=QUEEN_train).fit()\n",
    "print(model.summary())"
   ]
  },
  {
   "cell_type": "markdown",
   "id": "36ca108e-97a4-4e0d-aeec-28d88e348c4c",
   "metadata": {},
   "source": [
    "### With the additional Cluster Categorical for nest amounts"
   ]
  },
  {
   "cell_type": "code",
   "execution_count": 73,
   "id": "797e8bf5-fbf6-4039-bda3-b0e089d075cf",
   "metadata": {},
   "outputs": [
    {
     "name": "stdout",
     "output_type": "stream",
     "text": [
      "                            OLS Regression Results                            \n",
      "==============================================================================\n",
      "Dep. Variable:                  NESTS   R-squared:                       0.399\n",
      "Model:                            OLS   Adj. R-squared:                  0.396\n",
      "Method:                 Least Squares   F-statistic:                     161.3\n",
      "Date:                Wed, 02 Jun 2021   Prob (F-statistic):          1.11e-285\n",
      "Time:                        17:06:51   Log-Likelihood:                -6632.3\n",
      "No. Observations:                2688   AIC:                         1.329e+04\n",
      "Df Residuals:                    2676   BIC:                         1.336e+04\n",
      "Df Model:                          11                                         \n",
      "Covariance Type:            nonrobust                                         \n",
      "=========================================================================================\n",
      "                            coef    std err          t      P>|t|      [0.025      0.975]\n",
      "-----------------------------------------------------------------------------------------\n",
      "Intercept                 1.2600      0.674      1.868      0.062      -0.062       2.582\n",
      "C(cluster_cosmo)[T.1]     2.8266      0.599      4.718      0.000       1.652       4.001\n",
      "C(cluster_size)[T.1]     -1.7020      0.638     -2.670      0.008      -2.952      -0.452\n",
      "C(cluster_size)[T.2]      4.7992      0.722      6.650      0.000       3.384       6.214\n",
      "C(cluster_size)[T.3]     -0.7158      0.655     -1.094      0.274      -1.999       0.568\n",
      "C(cluster_size)[T.4]      0.0801      0.835      0.096      0.924      -1.558       1.718\n",
      "C(Cluster)[T.1.0]         2.3378      0.647      3.611      0.000       1.068       3.607\n",
      "C(Cluster)[T.2.0]         0.0259      0.133      0.194      0.846      -0.236       0.287\n",
      "C(Cluster)[T.4.0]        -1.5832      0.589     -2.690      0.007      -2.737      -0.429\n",
      "weath_meanTemp           -2.1298      0.223     -9.550      0.000      -2.567      -1.693\n",
      "weath_maxMeanTemp         0.9926      0.104      9.501      0.000       0.788       1.197\n",
      "weath_minTemp             1.3235      0.125     10.549      0.000       1.078       1.570\n",
      "==============================================================================\n",
      "Omnibus:                     1483.827   Durbin-Watson:                   0.962\n",
      "Prob(Omnibus):                  0.000   Jarque-Bera (JB):            21394.627\n",
      "Skew:                           2.299   Prob(JB):                         0.00\n",
      "Kurtosis:                      16.034   Cond. No.                         595.\n",
      "==============================================================================\n",
      "\n",
      "Notes:\n",
      "[1] Standard Errors assume that the covariance matrix of the errors is correctly specified.\n"
     ]
    }
   ],
   "source": [
    "model = ols('NESTS ~ weath_meanTemp + weath_maxMeanTemp + weath_minTemp + C(cluster_cosmo) + C(cluster_size) + C(Cluster)',\\\n",
    "            data=QUEEN_train).fit()\n",
    "print(model.summary())"
   ]
  },
  {
   "cell_type": "markdown",
   "id": "d940e9e9-b841-45a6-b9ec-0a6c98494ac7",
   "metadata": {},
   "source": [
    "## With both the Cluster and Month categorical variables"
   ]
  },
  {
   "cell_type": "code",
   "execution_count": 74,
   "id": "e83ab2c9-1031-4ccf-9de0-b855eaeda9a2",
   "metadata": {},
   "outputs": [
    {
     "name": "stdout",
     "output_type": "stream",
     "text": [
      "                            OLS Regression Results                            \n",
      "==============================================================================\n",
      "Dep. Variable:                  NESTS   R-squared:                       0.442\n",
      "Model:                            OLS   Adj. R-squared:                  0.438\n",
      "Method:                 Least Squares   F-statistic:                     96.14\n",
      "Date:                Wed, 02 Jun 2021   Prob (F-statistic):          1.16e-317\n",
      "Time:                        17:06:51   Log-Likelihood:                -6530.5\n",
      "No. Observations:                2688   AIC:                         1.311e+04\n",
      "Df Residuals:                    2665   BIC:                         1.324e+04\n",
      "Df Model:                          22                                         \n",
      "Covariance Type:            nonrobust                                         \n",
      "=========================================================================================\n",
      "                            coef    std err          t      P>|t|      [0.025      0.975]\n",
      "-----------------------------------------------------------------------------------------\n",
      "Intercept                 1.7761      0.681      2.607      0.009       0.440       3.112\n",
      "C(cluster_cosmo)[T.1]     3.2712      0.580      5.645      0.000       2.135       4.408\n",
      "C(cluster_size)[T.1]     -1.3530      0.616     -2.196      0.028      -2.561      -0.145\n",
      "C(cluster_size)[T.2]      4.7174      0.698      6.762      0.000       3.350       6.085\n",
      "C(cluster_size)[T.3]     -0.3417      0.633     -0.540      0.589      -1.582       0.899\n",
      "C(cluster_size)[T.4]     -0.0222      0.808     -0.027      0.978      -1.607       1.563\n",
      "C(Cluster)[T.1.0]         2.4455      0.626      3.909      0.000       1.219       3.672\n",
      "C(Cluster)[T.2.0]         0.1109      0.129      0.860      0.390      -0.142       0.364\n",
      "C(Cluster)[T.4.0]        -1.4661      0.568     -2.581      0.010      -2.580      -0.352\n",
      "C(month)[T.2]             0.3120      0.262      1.190      0.234      -0.202       0.826\n",
      "C(month)[T.3]             0.5781      0.281      2.054      0.040       0.026       1.130\n",
      "C(month)[T.4]             0.7815      0.303      2.578      0.010       0.187       1.376\n",
      "C(month)[T.5]             1.2278      0.343      3.575      0.000       0.554       1.901\n",
      "C(month)[T.6]             1.6595      0.416      3.986      0.000       0.843       2.476\n",
      "C(month)[T.7]             3.2311      0.460      7.018      0.000       2.328       4.134\n",
      "C(month)[T.8]             3.6234      0.454      7.974      0.000       2.732       4.514\n",
      "C(month)[T.9]             3.3837      0.409      8.279      0.000       2.582       4.185\n",
      "C(month)[T.10]            3.2391      0.347      9.333      0.000       2.559       3.920\n",
      "C(month)[T.11]            2.2276      0.279      7.982      0.000       1.680       2.775\n",
      "C(month)[T.12]            0.5271      0.265      1.991      0.047       0.008       1.046\n",
      "weath_meanTemp           -0.9883      0.245     -4.028      0.000      -1.469      -0.507\n",
      "weath_maxMeanTemp         0.3921      0.115      3.408      0.001       0.167       0.618\n",
      "weath_minTemp             0.5784      0.145      3.994      0.000       0.294       0.862\n",
      "==============================================================================\n",
      "Omnibus:                     1452.479   Durbin-Watson:                   0.973\n",
      "Prob(Omnibus):                  0.000   Jarque-Bera (JB):            21507.430\n",
      "Skew:                           2.223   Prob(JB):                         0.00\n",
      "Kurtosis:                      16.125   Cond. No.                         596.\n",
      "==============================================================================\n",
      "\n",
      "Notes:\n",
      "[1] Standard Errors assume that the covariance matrix of the errors is correctly specified.\n"
     ]
    }
   ],
   "source": [
    "model = ols('NESTS ~ weath_meanTemp + weath_maxMeanTemp + weath_minTemp + C(cluster_cosmo) + C(cluster_size) + C(Cluster) + C(month)',\\\n",
    "            data=QUEEN_train).fit()\n",
    "print(model.summary())"
   ]
  },
  {
   "cell_type": "markdown",
   "id": "ef41ba89-339e-4208-ac6e-c0c3143d70b7",
   "metadata": {},
   "source": [
    "## Predict 2020's nests"
   ]
  },
  {
   "cell_type": "code",
   "execution_count": 75,
   "id": "d250afb1-2573-46ab-8767-98586cdfdb12",
   "metadata": {},
   "outputs": [
    {
     "data": {
      "text/plain": [
       "0       0.933906\n",
       "1       1.005979\n",
       "2       0.934872\n",
       "3       1.288419\n",
       "4       1.672569\n",
       "          ...   \n",
       "1339    3.020901\n",
       "1340    2.915696\n",
       "1341    3.123365\n",
       "1342    2.056314\n",
       "1343    0.456227\n",
       "Length: 1344, dtype: float64"
      ]
     },
     "execution_count": 75,
     "metadata": {},
     "output_type": "execute_result"
    }
   ],
   "source": [
    "y_2020 = model.predict(QUEEN_predict)\n",
    "y_2020"
   ]
  },
  {
   "cell_type": "code",
   "execution_count": 76,
   "id": "5bac1795-4368-4a56-a432-124bf56ba8f2",
   "metadata": {},
   "outputs": [
    {
     "data": {
      "text/plain": [
       "0       0.933906\n",
       "1       1.005979\n",
       "2       0.934872\n",
       "3       1.288419\n",
       "4       1.672569\n",
       "          ...   \n",
       "1339    3.020901\n",
       "1340    2.915696\n",
       "1341    3.123365\n",
       "1342    2.056314\n",
       "1343    0.456227\n",
       "Length: 1344, dtype: float64"
      ]
     },
     "execution_count": 76,
     "metadata": {},
     "output_type": "execute_result"
    }
   ],
   "source": [
    "# Any municipality/month resulting in NESTS<0 is equivalent to = 0\n",
    "\n",
    "y_2020[y_2020 < 0] = 0\n",
    "y_2020"
   ]
  },
  {
   "cell_type": "code",
   "execution_count": 77,
   "id": "8cd46748-e5c8-41d2-8ff1-91a4add2a5a1",
   "metadata": {},
   "outputs": [],
   "source": [
    "QUEEN_predict['NESTS'] = y_2020"
   ]
  },
  {
   "cell_type": "code",
   "execution_count": 78,
   "id": "fcd0d3d9-6837-4faf-9af6-4d0650cc728b",
   "metadata": {},
   "outputs": [],
   "source": [
    "HEX = QUEEN_predict.loc[:,['municip_code','municip_name','NESTS']].groupby(by=['municip_code','municip_name'], as_index=False).sum()"
   ]
  },
  {
   "cell_type": "markdown",
   "id": "e83d9c73-3781-4e53-bf5e-0cf9c2580f10",
   "metadata": {},
   "source": [
    "## Manual adjustments"
   ]
  },
  {
   "cell_type": "code",
   "execution_count": 79,
   "id": "4b1fddf3-568d-487d-acf0-be0538a316a2",
   "metadata": {},
   "outputs": [],
   "source": [
    "HEX.loc[HEX.municip_code.isin([48022, 48071, 48088, 48074, 48051, 48020]), 'NESTS'] = 0"
   ]
  },
  {
   "cell_type": "code",
   "execution_count": 80,
   "id": "e7c9a880-f373-4cca-8793-218fcc9a5ff8",
   "metadata": {},
   "outputs": [
    {
     "data": {
      "text/html": [
       "<div>\n",
       "<style scoped>\n",
       "    .dataframe tbody tr th:only-of-type {\n",
       "        vertical-align: middle;\n",
       "    }\n",
       "\n",
       "    .dataframe tbody tr th {\n",
       "        vertical-align: top;\n",
       "    }\n",
       "\n",
       "    .dataframe thead th {\n",
       "        text-align: right;\n",
       "    }\n",
       "</style>\n",
       "<table border=\"1\" class=\"dataframe\">\n",
       "  <thead>\n",
       "    <tr style=\"text-align: right;\">\n",
       "      <th></th>\n",
       "      <th>municip_code</th>\n",
       "      <th>municip_name</th>\n",
       "      <th>NESTS</th>\n",
       "    </tr>\n",
       "  </thead>\n",
       "  <tbody>\n",
       "    <tr>\n",
       "      <th>19</th>\n",
       "      <td>48020</td>\n",
       "      <td>Bilbao</td>\n",
       "      <td>0.0</td>\n",
       "    </tr>\n",
       "    <tr>\n",
       "      <th>21</th>\n",
       "      <td>48022</td>\n",
       "      <td>Karrantza Harana/Valle de Carranza</td>\n",
       "      <td>0.0</td>\n",
       "    </tr>\n",
       "    <tr>\n",
       "      <th>50</th>\n",
       "      <td>48051</td>\n",
       "      <td>Lanestosa</td>\n",
       "      <td>0.0</td>\n",
       "    </tr>\n",
       "    <tr>\n",
       "      <th>70</th>\n",
       "      <td>48071</td>\n",
       "      <td>Muskiz</td>\n",
       "      <td>0.0</td>\n",
       "    </tr>\n",
       "    <tr>\n",
       "      <th>73</th>\n",
       "      <td>48074</td>\n",
       "      <td>Urduña/Orduña</td>\n",
       "      <td>0.0</td>\n",
       "    </tr>\n",
       "    <tr>\n",
       "      <th>87</th>\n",
       "      <td>48088</td>\n",
       "      <td>Ubide</td>\n",
       "      <td>0.0</td>\n",
       "    </tr>\n",
       "  </tbody>\n",
       "</table>\n",
       "</div>"
      ],
      "text/plain": [
       "    municip_code                        municip_name  NESTS\n",
       "19         48020                              Bilbao    0.0\n",
       "21         48022  Karrantza Harana/Valle de Carranza    0.0\n",
       "50         48051                           Lanestosa    0.0\n",
       "70         48071                              Muskiz    0.0\n",
       "73         48074                       Urduña/Orduña    0.0\n",
       "87         48088                               Ubide    0.0"
      ]
     },
     "execution_count": 80,
     "metadata": {},
     "output_type": "execute_result"
    }
   ],
   "source": [
    "HEX.loc[HEX.municip_code.isin([48022, 48071, 48088, 48074, 48051, 48020]), :]"
   ]
  },
  {
   "cell_type": "code",
   "execution_count": 81,
   "id": "ffe08eff-aadc-442f-a84e-63f7427235d3",
   "metadata": {},
   "outputs": [],
   "source": [
    "HEX.columns = [\"CODIGO MUNICIPIO\", \"NOMBRE MUNICIPIO\", \"NIDOS 2020\"] # change column names to Spanish (Competition template)"
   ]
  },
  {
   "cell_type": "markdown",
   "id": "e6835b86-6239-4592-ab5b-419579682fc1",
   "metadata": {},
   "source": [
    "## Verify dataset format"
   ]
  },
  {
   "cell_type": "code",
   "execution_count": 82,
   "id": "23c670dc-0519-4dbf-b909-90583c91e39f",
   "metadata": {},
   "outputs": [
    {
     "name": "stdout",
     "output_type": "stream",
     "text": [
      "(112, 3) : Shape is correct.\n",
      "112 : Number of unique municipalities is correct.\n",
      "Great! All municipalities have NESTS >= 0.\n",
      "The Total 2020 Nests' Prediction is 2910\n"
     ]
    }
   ],
   "source": [
    "check_data(HEX)"
   ]
  },
  {
   "cell_type": "markdown",
   "id": "c9b74131-7aff-4917-a606-7b0a63112c6e",
   "metadata": {},
   "source": [
    "## Export dataset for submission"
   ]
  },
  {
   "cell_type": "code",
   "execution_count": 83,
   "id": "96153bc3-3289-4a73-b091-79c2aa571d8e",
   "metadata": {},
   "outputs": [],
   "source": [
    "HEX.to_csv('WaspBusters_20210526_OLSmonthsClustersGalore.csv', index=False)"
   ]
  }
 ],
 "metadata": {
  "kernelspec": {
   "display_name": "Python 3",
   "language": "python",
   "name": "python3"
  },
  "language_info": {
   "codemirror_mode": {
    "name": "ipython",
    "version": 3
   },
   "file_extension": ".py",
   "mimetype": "text/x-python",
   "name": "python",
   "nbconvert_exporter": "python",
   "pygments_lexer": "ipython3",
   "version": "3.8.8"
  }
 },
 "nbformat": 4,
 "nbformat_minor": 5
}

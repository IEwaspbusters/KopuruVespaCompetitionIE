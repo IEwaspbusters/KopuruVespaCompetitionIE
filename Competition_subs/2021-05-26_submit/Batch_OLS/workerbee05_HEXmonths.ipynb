{
 "cells": [
  {
   "cell_type": "markdown",
   "id": "7766cce7-a0e7-4b55-9582-980cd2482fc2",
   "metadata": {
    "id": "9nkDv5dppU6B"
   },
   "source": [
    "# HEX algorithm **Kopuru Vespa Velutina Competition**\n",
    "\n",
    "**Linear Regression model**\n",
    "\n",
    "Purpose: Predict the number of Nests in each of Biscay's 112 municipalities for the year 2020.\n",
    "\n",
    "Output: *(WaspBusters_20210512_batch_OLSmonths.csv)*\n",
    "\n",
    "@authors:\n",
    "* mario.bejar@student.ie.edu\n",
    "* pedro.geirinhas@student.ie.edu\n",
    "* a.berrizbeitia@student.ie.edu\n",
    "* pcasaverde@student.ie.edu"
   ]
  },
  {
   "cell_type": "markdown",
   "id": "c60e3d67-b7a8-42cc-9471-869d0e6cce8f",
   "metadata": {},
   "source": [
    "## Libraries"
   ]
  },
  {
   "cell_type": "code",
   "execution_count": 16,
   "id": "e221fd74-3f1c-4594-9011-94c90de48163",
   "metadata": {},
   "outputs": [],
   "source": [
    "# Base packages -----------------------------------\n",
    "import numpy as np\n",
    "import pandas as pd\n",
    "\n",
    "# Visualization -----------------------------------\n",
    "from matplotlib import pyplot\n",
    "\n",
    "# Scaling data ------------------------------------\n",
    "from sklearn import preprocessing\n",
    "\n",
    "# Linear Regression -------------------------------\n",
    "from statsmodels.formula.api import ols\n",
    "#from sklearn.datasets import make_regression\n",
    "from sklearn.linear_model import LinearRegression\n"
   ]
  },
  {
   "cell_type": "markdown",
   "id": "bf6b6a79-3b41-4f85-bab8-b394aeda7f77",
   "metadata": {},
   "source": [
    "## Functions"
   ]
  },
  {
   "cell_type": "code",
   "execution_count": 17,
   "id": "37489ce6-bcda-49e9-a0e8-9e9eae3954a0",
   "metadata": {},
   "outputs": [],
   "source": [
    "# Function that checks if final Output is ready for submission or needs revision   \n",
    "\n",
    "def check_data(HEX):\n",
    "\n",
    "    if HEX.shape == (112, 3):\n",
    "        print(HEX.shape,\": Shape is correct.\")\n",
    "    else:\n",
    "        print(HEX.shape,\": Shape is **INCORRECT!**\")\n",
    "\n",
    "    if HEX[\"CODIGO MUNICIPIO\"].nunique() == 112:\n",
    "        print(HEX[\"CODIGO MUNICIPIO\"].nunique(),\": Number of unique municipalities is correct.\")\n",
    "    else:\n",
    "        print(HEX[\"CODIGO MUNICIPIO\"].nunique(),\": Number of unique municipalities is **INCORRECT!**\")\n",
    "        \n",
    "    if any(HEX[\"NIDOS 2020\"] < 0):\n",
    "        print(\"**INCORRECT!** At least one municipality has NESTS <= 0.\")\n",
    "    else:\n",
    "        print(\"Great! All municipalities have NESTS >= 0.\")\n",
    "    \n",
    "    print(\"The Total 2020 Nests' Prediction is\", int(HEX[\"NIDOS 2020\"].sum()))"
   ]
  },
  {
   "cell_type": "markdown",
   "id": "3eff056c-41e9-4220-9b2e-f0ddd845a46a",
   "metadata": {},
   "source": [
    "## Get the data"
   ]
  },
  {
   "cell_type": "code",
   "execution_count": 18,
   "id": "fc6428aa-0349-4843-b72f-c9cd23fd171c",
   "metadata": {},
   "outputs": [],
   "source": [
    "QUEEN_train = pd.read_csv('../Feeder_months/WBds03_QUEENtrainMONTHS.csv', sep=',')\n",
    "QUEEN_predict = pd.read_csv('../Feeder_months/WBds03_QUEENpredictMONTHS.csv', sep=',')\n",
    "\n",
    "clustersMario = pd.read_csv(\"../Feeder_years/WBds_CLUSTERSnests.csv\")"
   ]
  },
  {
   "cell_type": "code",
   "execution_count": 19,
   "id": "a928dc79-c853-4473-8727-bfc2bf531450",
   "metadata": {
    "tags": []
   },
   "outputs": [],
   "source": [
    "#QUEEN_predict.isnull().sum()"
   ]
  },
  {
   "cell_type": "code",
   "execution_count": 20,
   "id": "1f822825-ae00-49aa-944c-3d1574b16ad5",
   "metadata": {},
   "outputs": [
    {
     "data": {
      "text/plain": [
       "(2688, 43)"
      ]
     },
     "execution_count": 20,
     "metadata": {},
     "output_type": "execute_result"
    }
   ],
   "source": [
    "QUEEN_train.shape"
   ]
  },
  {
   "cell_type": "code",
   "execution_count": 21,
   "id": "97934c8c-c01a-4efd-98de-20b8de53731f",
   "metadata": {},
   "outputs": [
    {
     "data": {
      "text/plain": [
       "(1344, 43)"
      ]
     },
     "execution_count": 21,
     "metadata": {},
     "output_type": "execute_result"
    }
   ],
   "source": [
    "QUEEN_predict.shape"
   ]
  },
  {
   "cell_type": "markdown",
   "id": "694d1ce2-9927-4e1e-914c-8ff35476d7a6",
   "metadata": {},
   "source": [
    "## Caracterize in clusters"
   ]
  },
  {
   "cell_type": "code",
   "execution_count": 23,
   "id": "e3c48590-644d-4b24-91c2-1faf1dc642bf",
   "metadata": {},
   "outputs": [],
   "source": [
    "QUEEN_train = pd.merge(QUEEN_train, clustersMario, how = 'left', on = ['municip_code', 'municip_name'])\n",
    "QUEEN_predict = pd.merge(QUEEN_predict, clustersMario, how = 'left', on = ['municip_code', 'municip_name'])"
   ]
  },
  {
   "cell_type": "code",
   "execution_count": 24,
   "id": "87e6e96a-fc38-42dc-bd2b-7230f971d400",
   "metadata": {},
   "outputs": [
    {
     "data": {
      "text/plain": [
       "(2688, 44)"
      ]
     },
     "execution_count": 24,
     "metadata": {},
     "output_type": "execute_result"
    }
   ],
   "source": [
    "QUEEN_train.shape"
   ]
  },
  {
   "cell_type": "code",
   "execution_count": 25,
   "id": "22140af5-954f-4cee-b98f-7df933a6aa10",
   "metadata": {},
   "outputs": [
    {
     "data": {
      "text/plain": [
       "(1344, 44)"
      ]
     },
     "execution_count": 25,
     "metadata": {},
     "output_type": "execute_result"
    }
   ],
   "source": [
    "QUEEN_predict.shape"
   ]
  },
  {
   "cell_type": "code",
   "execution_count": 26,
   "id": "ba391735-1d39-46af-bdc8-956e34bcf0e1",
   "metadata": {
    "tags": []
   },
   "outputs": [
    {
     "data": {
      "text/plain": [
       "municip_name              0\n",
       "municip_code              0\n",
       "month                     0\n",
       "year_offset               0\n",
       "NESTS                     0\n",
       "colonies_amount           0\n",
       "food_fruit                0\n",
       "food_apple                0\n",
       "food_txakoli              0\n",
       "food_kiwi                 0\n",
       "food_pear                 0\n",
       "food_blueberry            0\n",
       "food_raspberry            0\n",
       "station_code              0\n",
       "station_name              0\n",
       "weath_days_frost          0\n",
       "weath_humidity            0\n",
       "weath_maxLevel            0\n",
       "weath_midLevel            0\n",
       "weath_minLevel            0\n",
       "weath_days_rain           0\n",
       "weath_days_rain1mm        0\n",
       "weath_accuRainfall        0\n",
       "weath_10minRainfall       0\n",
       "weath_1dayRainfall        0\n",
       "weath_solar               0\n",
       "weath_meanTemp            0\n",
       "weath_maxTemp             0\n",
       "weath_maxMeanTemp         0\n",
       "weath_minTemp             0\n",
       "weath_meanWindM           0\n",
       "weath_maxWindM            0\n",
       "weath_meanDayMaxWind      0\n",
       "year                      0\n",
       "population                0\n",
       "cluster_size              0\n",
       "cluster_cosmo             0\n",
       "cluster_survive           0\n",
       "cluster_food              0\n",
       "cluster_weather_wet       0\n",
       "cluster_weather_temp      0\n",
       "cluster_weather_wind      0\n",
       "cluster_weather_level     0\n",
       "Cluster                  24\n",
       "dtype: int64"
      ]
     },
     "execution_count": 26,
     "metadata": {},
     "output_type": "execute_result"
    }
   ],
   "source": [
    "QUEEN_train.isnull().sum()"
   ]
  },
  {
   "cell_type": "code",
   "execution_count": 27,
   "id": "7fedca52-dcdd-49ff-b31a-9ba6610b2baf",
   "metadata": {
    "tags": []
   },
   "outputs": [
    {
     "data": {
      "text/plain": [
       "municip_name              0\n",
       "municip_code              0\n",
       "month                     0\n",
       "year_offset               0\n",
       "NESTS                     0\n",
       "colonies_amount           0\n",
       "food_fruit                0\n",
       "food_apple                0\n",
       "food_txakoli              0\n",
       "food_kiwi                 0\n",
       "food_pear                 0\n",
       "food_blueberry            0\n",
       "food_raspberry            0\n",
       "station_code              0\n",
       "station_name              0\n",
       "weath_days_frost          0\n",
       "weath_humidity            0\n",
       "weath_maxLevel            0\n",
       "weath_midLevel            0\n",
       "weath_minLevel            0\n",
       "weath_days_rain           0\n",
       "weath_days_rain1mm        0\n",
       "weath_accuRainfall        0\n",
       "weath_10minRainfall       0\n",
       "weath_1dayRainfall        0\n",
       "weath_solar               0\n",
       "weath_meanTemp            0\n",
       "weath_maxTemp             0\n",
       "weath_maxMeanTemp         0\n",
       "weath_minTemp             0\n",
       "weath_meanWindM           0\n",
       "weath_maxWindM            0\n",
       "weath_meanDayMaxWind      0\n",
       "year                      0\n",
       "population                0\n",
       "cluster_size              0\n",
       "cluster_cosmo             0\n",
       "cluster_survive           0\n",
       "cluster_food              0\n",
       "cluster_weather_wet       0\n",
       "cluster_weather_temp      0\n",
       "cluster_weather_wind      0\n",
       "cluster_weather_level     0\n",
       "Cluster                  12\n",
       "dtype: int64"
      ]
     },
     "execution_count": 27,
     "metadata": {},
     "output_type": "execute_result"
    }
   ],
   "source": [
    "QUEEN_predict.isnull().sum()"
   ]
  },
  {
   "cell_type": "markdown",
   "id": "326d88ec-3bf9-43ef-ad37-031b5e508802",
   "metadata": {},
   "source": [
    "## Determine feature importance"
   ]
  },
  {
   "cell_type": "code",
   "execution_count": 256,
   "id": "7a8aea40-8e17-4cd8-ab4f-a504712f0f0c",
   "metadata": {},
   "outputs": [],
   "source": [
    "X = QUEEN_train.drop(columns = ['municip_name', 'municip_code', 'NESTS', 'station_code', 'station_name', 'year'])"
   ]
  },
  {
   "cell_type": "code",
   "execution_count": 257,
   "id": "10a3394b-87c2-475b-afa8-e38132238f77",
   "metadata": {},
   "outputs": [],
   "source": [
    "y = QUEEN_train['NESTS']"
   ]
  },
  {
   "cell_type": "code",
   "execution_count": 258,
   "id": "22a0d35c-cc3b-48fc-9a32-a79d56f191f6",
   "metadata": {},
   "outputs": [],
   "source": [
    "# Scale the datasets using MinMaxScaler\n",
    "\n",
    "scalators = X.columns\n",
    "X[scalators] = preprocessing.minmax_scale(X[scalators])"
   ]
  },
  {
   "cell_type": "code",
   "execution_count": 259,
   "id": "a76b5c13-f485-4b9f-b472-1679e515b365",
   "metadata": {},
   "outputs": [
    {
     "name": "stdout",
     "output_type": "stream",
     "text": [
      "Feature: month, Score: 1.50430\n",
      "Feature: year_offset, Score: -1.71620\n",
      "Feature: colonies_amount, Score: -0.00777\n",
      "Feature: food_fruit, Score: 4.53189\n",
      "Feature: food_apple, Score: -2.23837\n",
      "Feature: food_txakoli, Score: 2.07314\n",
      "Feature: food_kiwi, Score: -1.39543\n",
      "Feature: food_pear, Score: -1.36268\n",
      "Feature: food_blueberry, Score: 1.33340\n",
      "Feature: food_raspberry, Score: 0.19340\n",
      "Feature: weath_days_frost, Score: -0.38944\n",
      "Feature: weath_humidity, Score: 1.52093\n",
      "Feature: weath_maxLevel, Score: -0.84793\n",
      "Feature: weath_midLevel, Score: 2.84264\n",
      "Feature: weath_minLevel, Score: 0.89802\n",
      "Feature: weath_days_rain, Score: -0.76892\n",
      "Feature: weath_days_rain1mm, Score: -0.45304\n",
      "Feature: weath_accuRainfall, Score: 1.33040\n",
      "Feature: weath_10minRainfall, Score: -1.51007\n",
      "Feature: weath_1dayRainfall, Score: -0.40241\n",
      "Feature: weath_solar, Score: 0.00947\n",
      "Feature: weath_meanTemp, Score: -16.44949\n",
      "Feature: weath_maxTemp, Score: 1.28507\n",
      "Feature: weath_maxMeanTemp, Score: 3.13410\n",
      "Feature: weath_minTemp, Score: 17.05640\n",
      "Feature: weath_meanWindM, Score: 0.25126\n",
      "Feature: weath_maxWindM, Score: -4.58054\n",
      "Feature: weath_meanDayMaxWind, Score: 3.90974\n",
      "Feature: population, Score: 2.78807\n",
      "Feature: Cluster, Score: -0.99411\n"
     ]
    }
   ],
   "source": [
    "# define the model\n",
    "model_fi = LinearRegression()\n",
    "\n",
    "# fit the model\n",
    "model_fi.fit(X, y)\n",
    "\n",
    "# get importance\n",
    "importance = model_fi.coef_\n",
    "\n",
    "# summarize feature importance\n",
    "for i,v in enumerate(importance):\n",
    "\tprint('Feature: %0s, Score: %.5f' % (X.columns[i],v))"
   ]
  },
  {
   "cell_type": "code",
   "execution_count": 260,
   "id": "68fe56fe-0d87-41ce-ae70-4110e1c93aaf",
   "metadata": {},
   "outputs": [
    {
     "data": {
      "image/png": "[encoded data removed]",
      "text/plain": [
       "<Figure size 432x288 with 1 Axes>"
      ]
     },
     "metadata": {
      "needs_background": "light"
     },
     "output_type": "display_data"
    }
   ],
   "source": [
    "# plot feature importance\n",
    "pyplot.bar([x for x in range(len(importance))], importance)\n",
    "pyplot.show()"
   ]
  },
  {
   "cell_type": "code",
   "execution_count": 261,
   "id": "7171515b-39ea-4fa3-8502-1ad29223d9ce",
   "metadata": {},
   "outputs": [
    {
     "name": "stdout",
     "output_type": "stream",
     "text": [
      "Feature: food_fruit, Score: 4.53\n",
      "Feature: weath_meanTemp, Score: -16.45\n",
      "Feature: weath_maxMeanTemp, Score: 3.13\n",
      "Feature: weath_minTemp, Score: 17.06\n",
      "Feature: weath_maxWindM, Score: -4.58\n",
      "Feature: weath_meanDayMaxWind, Score: 3.91\n"
     ]
    }
   ],
   "source": [
    "for i,v in enumerate(importance):\n",
    "    if abs(v) > 3:\n",
    "        print('Feature: %0s, Score: %.2f' % (X.columns[i],v))"
   ]
  },
  {
   "cell_type": "markdown",
   "id": "36b0df4a-03bf-4608-8e00-7f8de6b8fa50",
   "metadata": {},
   "source": [
    "## Train the model"
   ]
  },
  {
   "cell_type": "markdown",
   "id": "d338aa21-ba48-45d3-beff-409a08986d38",
   "metadata": {},
   "source": [
    "### With the variables suggested by the Feature Importance method"
   ]
  },
  {
   "cell_type": "code",
   "execution_count": 262,
   "id": "6b8fffb8-297a-4349-968f-c55e569cf87e",
   "metadata": {},
   "outputs": [
    {
     "name": "stdout",
     "output_type": "stream",
     "text": [
      "                            OLS Regression Results                            \n",
      "==============================================================================\n",
      "Dep. Variable:                  NESTS   R-squared:                       0.106\n",
      "Model:                            OLS   Adj. R-squared:                  0.104\n",
      "Method:                 Least Squares   F-statistic:                     52.92\n",
      "Date:                Wed, 26 May 2021   Prob (F-statistic):           7.02e-62\n",
      "Time:                        00:43:30   Log-Likelihood:                -7165.3\n",
      "No. Observations:                2688   AIC:                         1.434e+04\n",
      "Df Residuals:                    2681   BIC:                         1.439e+04\n",
      "Df Model:                           6                                         \n",
      "Covariance Type:            nonrobust                                         \n",
      "========================================================================================\n",
      "                           coef    std err          t      P>|t|      [0.025      0.975]\n",
      "----------------------------------------------------------------------------------------\n",
      "Intercept                0.6361      0.645      0.986      0.324      -0.629       1.902\n",
      "food_fruit               0.0083      0.002      3.808      0.000       0.004       0.013\n",
      "weath_maxMeanTemp        0.8812      0.129      6.850      0.000       0.629       1.133\n",
      "weath_minTemp            1.4458      0.150      9.607      0.000       1.151       1.741\n",
      "weath_meanDayMaxWind     0.0113      0.014      0.819      0.413      -0.016       0.038\n",
      "weath_meanTemp          -2.1080      0.269     -7.848      0.000      -2.635      -1.581\n",
      "weath_maxWindM          -0.0044      0.006     -0.679      0.497      -0.017       0.008\n",
      "==============================================================================\n",
      "Omnibus:                     2179.543   Durbin-Watson:                   0.634\n",
      "Prob(Omnibus):                  0.000   Jarque-Bera (JB):            62830.036\n",
      "Skew:                           3.685   Prob(JB):                         0.00\n",
      "Kurtosis:                      25.509   Cond. No.                         886.\n",
      "==============================================================================\n",
      "\n",
      "Notes:\n",
      "[1] Standard Errors assume that the covariance matrix of the errors is correctly specified.\n"
     ]
    }
   ],
   "source": [
    "model = ols('NESTS ~ food_fruit + weath_maxMeanTemp + weath_minTemp + weath_meanDayMaxWind + weath_meanTemp + weath_maxWindM',\\\n",
    "            data=QUEEN_train).fit()\n",
    "print(model.summary())"
   ]
  },
  {
   "cell_type": "markdown",
   "id": "834a3c23-21b2-4b9d-862f-69e3f273c6c6",
   "metadata": {},
   "source": [
    "### Backward elimination"
   ]
  },
  {
   "cell_type": "code",
   "execution_count": 263,
   "id": "f8891da6-e81f-489a-b5a2-1cb65de4651a",
   "metadata": {},
   "outputs": [
    {
     "name": "stdout",
     "output_type": "stream",
     "text": [
      "                            OLS Regression Results                            \n",
      "==============================================================================\n",
      "Dep. Variable:                  NESTS   R-squared:                       0.106\n",
      "Model:                            OLS   Adj. R-squared:                  0.104\n",
      "Method:                 Least Squares   F-statistic:                     79.25\n",
      "Date:                Wed, 26 May 2021   Prob (F-statistic):           1.23e-63\n",
      "Time:                        00:43:30   Log-Likelihood:                -7165.7\n",
      "No. Observations:                2688   AIC:                         1.434e+04\n",
      "Df Residuals:                    2683   BIC:                         1.437e+04\n",
      "Df Model:                           4                                         \n",
      "Covariance Type:            nonrobust                                         \n",
      "=====================================================================================\n",
      "                        coef    std err          t      P>|t|      [0.025      0.975]\n",
      "-------------------------------------------------------------------------------------\n",
      "Intercept             0.7889      0.338      2.334      0.020       0.126       1.452\n",
      "food_fruit            0.0083      0.002      3.814      0.000       0.004       0.013\n",
      "weath_maxMeanTemp     0.8771      0.125      7.012      0.000       0.632       1.122\n",
      "weath_minTemp         1.4461      0.150      9.612      0.000       1.151       1.741\n",
      "weath_meanTemp       -2.1058      0.267     -7.881      0.000      -2.630      -1.582\n",
      "==============================================================================\n",
      "Omnibus:                     2181.131   Durbin-Watson:                   0.634\n",
      "Prob(Omnibus):                  0.000   Jarque-Bera (JB):            63061.209\n",
      "Skew:                           3.688   Prob(JB):                         0.00\n",
      "Kurtosis:                      25.553   Cond. No.                         225.\n",
      "==============================================================================\n",
      "\n",
      "Notes:\n",
      "[1] Standard Errors assume that the covariance matrix of the errors is correctly specified.\n"
     ]
    }
   ],
   "source": [
    "model = ols('NESTS ~ food_fruit + weath_maxMeanTemp + weath_minTemp + weath_meanTemp',\\\n",
    "            data=QUEEN_train).fit()\n",
    "print(model.summary())"
   ]
  },
  {
   "cell_type": "markdown",
   "id": "36ca108e-97a4-4e0d-aeec-28d88e348c4c",
   "metadata": {},
   "source": [
    "### With the Cluster Categorical"
   ]
  },
  {
   "cell_type": "code",
   "execution_count": 264,
   "id": "797e8bf5-fbf6-4039-bda3-b0e089d075cf",
   "metadata": {},
   "outputs": [
    {
     "name": "stdout",
     "output_type": "stream",
     "text": [
      "                            OLS Regression Results                            \n",
      "==============================================================================\n",
      "Dep. Variable:                  NESTS   R-squared:                       0.269\n",
      "Model:                            OLS   Adj. R-squared:                  0.266\n",
      "Method:                 Least Squares   F-statistic:                     123.0\n",
      "Date:                Wed, 26 May 2021   Prob (F-statistic):          7.94e-176\n",
      "Time:                        00:43:30   Log-Likelihood:                -6895.3\n",
      "No. Observations:                2688   AIC:                         1.381e+04\n",
      "Df Residuals:                    2679   BIC:                         1.386e+04\n",
      "Df Model:                           8                                         \n",
      "Covariance Type:            nonrobust                                         \n",
      "=====================================================================================\n",
      "                        coef    std err          t      P>|t|      [0.025      0.975]\n",
      "-------------------------------------------------------------------------------------\n",
      "Intercept             0.1929      0.319      0.605      0.545      -0.432       0.818\n",
      "C(Cluster)[T.1.0]     4.2212      0.192     22.017      0.000       3.845       4.597\n",
      "C(Cluster)[T.2.0]    -0.4857      0.210     -2.316      0.021      -0.897      -0.074\n",
      "C(Cluster)[T.3.0]    -0.7474      0.220     -3.405      0.001      -1.178      -0.317\n",
      "C(Cluster)[T.4.0]    -1.1717      0.278     -4.212      0.000      -1.717      -0.626\n",
      "food_fruit            0.0128      0.002      6.390      0.000       0.009       0.017\n",
      "weath_maxMeanTemp     0.6561      0.114      5.750      0.000       0.432       0.880\n",
      "weath_minTemp         1.1139      0.138      8.060      0.000       0.843       1.385\n",
      "weath_meanTemp       -1.5641      0.245     -6.391      0.000      -2.044      -1.084\n",
      "==============================================================================\n",
      "Omnibus:                     1987.338   Durbin-Watson:                   0.777\n",
      "Prob(Omnibus):                  0.000   Jarque-Bera (JB):            53740.137\n",
      "Skew:                           3.215   Prob(JB):                         0.00\n",
      "Kurtosis:                      23.940   Cond. No.                         246.\n",
      "==============================================================================\n",
      "\n",
      "Notes:\n",
      "[1] Standard Errors assume that the covariance matrix of the errors is correctly specified.\n"
     ]
    }
   ],
   "source": [
    "model = ols('NESTS ~ food_fruit + weath_maxMeanTemp + weath_minTemp + weath_meanTemp + C(Cluster)',\\\n",
    "            data=QUEEN_train).fit()\n",
    "print(model.summary())"
   ]
  },
  {
   "cell_type": "code",
   "execution_count": 265,
   "id": "b709ad34-d028-46b3-97fc-8a694e1609a5",
   "metadata": {},
   "outputs": [],
   "source": [
    "## With both the Cluster and Month categorical variables"
   ]
  },
  {
   "cell_type": "code",
   "execution_count": 266,
   "id": "e83ab2c9-1031-4ccf-9de0-b855eaeda9a2",
   "metadata": {},
   "outputs": [
    {
     "name": "stdout",
     "output_type": "stream",
     "text": [
      "                            OLS Regression Results                            \n",
      "==============================================================================\n",
      "Dep. Variable:                  NESTS   R-squared:                       0.316\n",
      "Model:                            OLS   Adj. R-squared:                  0.311\n",
      "Method:                 Least Squares   F-statistic:                     64.79\n",
      "Date:                Wed, 26 May 2021   Prob (F-statistic):          2.76e-203\n",
      "Time:                        00:43:30   Log-Likelihood:                -6805.9\n",
      "No. Observations:                2688   AIC:                         1.365e+04\n",
      "Df Residuals:                    2668   BIC:                         1.377e+04\n",
      "Df Model:                          19                                         \n",
      "Covariance Type:            nonrobust                                         \n",
      "=====================================================================================\n",
      "                        coef    std err          t      P>|t|      [0.025      0.975]\n",
      "-------------------------------------------------------------------------------------\n",
      "Intercept             1.1651      0.404      2.884      0.004       0.373       1.957\n",
      "C(Cluster)[T.1.0]     4.3233      0.186     23.199      0.000       3.958       4.689\n",
      "C(Cluster)[T.2.0]    -0.6103      0.204     -2.996      0.003      -1.010      -0.211\n",
      "C(Cluster)[T.3.0]    -0.8227      0.213     -3.863      0.000      -1.240      -0.405\n",
      "C(Cluster)[T.4.0]    -1.4759      0.276     -5.354      0.000      -2.016      -0.935\n",
      "C(month)[T.2]         0.2695      0.290      0.928      0.353      -0.300       0.839\n",
      "C(month)[T.3]         0.4360      0.313      1.394      0.163      -0.177       1.049\n",
      "C(month)[T.4]         0.6882      0.338      2.034      0.042       0.025       1.352\n",
      "C(month)[T.5]         1.1073      0.385      2.878      0.004       0.353       1.862\n",
      "C(month)[T.6]         1.3790      0.467      2.954      0.003       0.464       2.294\n",
      "C(month)[T.7]         2.8975      0.517      5.609      0.000       1.885       3.911\n",
      "C(month)[T.8]         3.4104      0.511      6.678      0.000       2.409       4.412\n",
      "C(month)[T.9]         3.3194      0.459      7.235      0.000       2.420       4.219\n",
      "C(month)[T.10]        3.2584      0.388      8.397      0.000       2.498       4.019\n",
      "C(month)[T.11]        2.1825      0.310      7.041      0.000       1.575       2.790\n",
      "C(month)[T.12]        0.4461      0.293      1.521      0.128      -0.129       1.021\n",
      "food_fruit            0.0127      0.002      6.521      0.000       0.009       0.017\n",
      "weath_maxMeanTemp     0.0390      0.126      0.310      0.757      -0.208       0.286\n",
      "weath_minTemp         0.3784      0.159      2.373      0.018       0.066       0.691\n",
      "weath_meanTemp       -0.4009      0.270     -1.486      0.137      -0.930       0.128\n",
      "==============================================================================\n",
      "Omnibus:                     1994.450   Durbin-Watson:                   0.787\n",
      "Prob(Omnibus):                  0.000   Jarque-Bera (JB):            57048.736\n",
      "Skew:                           3.210   Prob(JB):                         0.00\n",
      "Kurtosis:                      24.637   Cond. No.                         791.\n",
      "==============================================================================\n",
      "\n",
      "Notes:\n",
      "[1] Standard Errors assume that the covariance matrix of the errors is correctly specified.\n"
     ]
    }
   ],
   "source": [
    "model = ols('NESTS ~ food_fruit + weath_maxMeanTemp + weath_minTemp + weath_meanTemp + C(Cluster) + C(month)',\\\n",
    "            data=QUEEN_train).fit()\n",
    "print(model.summary())"
   ]
  },
  {
   "cell_type": "markdown",
   "id": "ef41ba89-339e-4208-ac6e-c0c3143d70b7",
   "metadata": {},
   "source": [
    "## Predict 2020's nests"
   ]
  },
  {
   "cell_type": "code",
   "execution_count": 267,
   "id": "d250afb1-2573-46ab-8767-98586cdfdb12",
   "metadata": {},
   "outputs": [
    {
     "data": {
      "text/plain": [
       "0       0.349691\n",
       "1      -0.167459\n",
       "2      -0.248094\n",
       "3       0.263748\n",
       "4       0.638197\n",
       "          ...   \n",
       "1339    2.642811\n",
       "1340    2.496458\n",
       "1341    2.617280\n",
       "1342    1.793487\n",
       "1343   -0.204260\n",
       "Length: 1344, dtype: float64"
      ]
     },
     "execution_count": 267,
     "metadata": {},
     "output_type": "execute_result"
    }
   ],
   "source": [
    "y_2020 = model.predict(QUEEN_predict)\n",
    "y_2020"
   ]
  },
  {
   "cell_type": "code",
   "execution_count": 268,
   "id": "5bac1795-4368-4a56-a432-124bf56ba8f2",
   "metadata": {},
   "outputs": [
    {
     "data": {
      "text/plain": [
       "0       0.349691\n",
       "1       0.000000\n",
       "2       0.000000\n",
       "3       0.263748\n",
       "4       0.638197\n",
       "          ...   \n",
       "1339    2.642811\n",
       "1340    2.496458\n",
       "1341    2.617280\n",
       "1342    1.793487\n",
       "1343    0.000000\n",
       "Length: 1344, dtype: float64"
      ]
     },
     "execution_count": 268,
     "metadata": {},
     "output_type": "execute_result"
    }
   ],
   "source": [
    "# Any municipality/month resulting in NESTS<0 is equivalent to = 0\n",
    "\n",
    "y_2020[y_2020 < 0] = 0\n",
    "y_2020"
   ]
  },
  {
   "cell_type": "code",
   "execution_count": 269,
   "id": "8cd46748-e5c8-41d2-8ff1-91a4add2a5a1",
   "metadata": {},
   "outputs": [],
   "source": [
    "QUEEN_predict['NESTS'] = y_2020"
   ]
  },
  {
   "cell_type": "code",
   "execution_count": 270,
   "id": "fcd0d3d9-6837-4faf-9af6-4d0650cc728b",
   "metadata": {},
   "outputs": [],
   "source": [
    "HEX = QUEEN_predict.loc[:,['municip_code','municip_name','NESTS']].groupby(by=['municip_code','municip_name'], as_index=False).sum()"
   ]
  },
  {
   "cell_type": "markdown",
   "id": "e83d9c73-3781-4e53-bf5e-0cf9c2580f10",
   "metadata": {},
   "source": [
    "## Manual adjustments"
   ]
  },
  {
   "cell_type": "code",
   "execution_count": 271,
   "id": "4b1fddf3-568d-487d-acf0-be0538a316a2",
   "metadata": {},
   "outputs": [],
   "source": [
    "HEX.loc[HEX.municip_code.isin([48022, 48071, 48088, 48074, 48051, 48020]), 'NESTS'] = 0"
   ]
  },
  {
   "cell_type": "code",
   "execution_count": 272,
   "id": "e7c9a880-f373-4cca-8793-218fcc9a5ff8",
   "metadata": {},
   "outputs": [
    {
     "data": {
      "text/html": [
       "<div>\n",
       "<style scoped>\n",
       "    .dataframe tbody tr th:only-of-type {\n",
       "        vertical-align: middle;\n",
       "    }\n",
       "\n",
       "    .dataframe tbody tr th {\n",
       "        vertical-align: top;\n",
       "    }\n",
       "\n",
       "    .dataframe thead th {\n",
       "        text-align: right;\n",
       "    }\n",
       "</style>\n",
       "<table border=\"1\" class=\"dataframe\">\n",
       "  <thead>\n",
       "    <tr style=\"text-align: right;\">\n",
       "      <th></th>\n",
       "      <th>municip_code</th>\n",
       "      <th>municip_name</th>\n",
       "      <th>NESTS</th>\n",
       "    </tr>\n",
       "  </thead>\n",
       "  <tbody>\n",
       "    <tr>\n",
       "      <th>19</th>\n",
       "      <td>48020</td>\n",
       "      <td>Bilbao</td>\n",
       "      <td>0.0</td>\n",
       "    </tr>\n",
       "    <tr>\n",
       "      <th>21</th>\n",
       "      <td>48022</td>\n",
       "      <td>Karrantza Harana/Valle de Carranza</td>\n",
       "      <td>0.0</td>\n",
       "    </tr>\n",
       "    <tr>\n",
       "      <th>50</th>\n",
       "      <td>48051</td>\n",
       "      <td>Lanestosa</td>\n",
       "      <td>0.0</td>\n",
       "    </tr>\n",
       "    <tr>\n",
       "      <th>70</th>\n",
       "      <td>48071</td>\n",
       "      <td>Muskiz</td>\n",
       "      <td>0.0</td>\n",
       "    </tr>\n",
       "    <tr>\n",
       "      <th>73</th>\n",
       "      <td>48074</td>\n",
       "      <td>Urduña/Orduña</td>\n",
       "      <td>0.0</td>\n",
       "    </tr>\n",
       "    <tr>\n",
       "      <th>87</th>\n",
       "      <td>48088</td>\n",
       "      <td>Ubide</td>\n",
       "      <td>0.0</td>\n",
       "    </tr>\n",
       "  </tbody>\n",
       "</table>\n",
       "</div>"
      ],
      "text/plain": [
       "    municip_code                        municip_name  NESTS\n",
       "19         48020                              Bilbao    0.0\n",
       "21         48022  Karrantza Harana/Valle de Carranza    0.0\n",
       "50         48051                           Lanestosa    0.0\n",
       "70         48071                              Muskiz    0.0\n",
       "73         48074                       Urduña/Orduña    0.0\n",
       "87         48088                               Ubide    0.0"
      ]
     },
     "execution_count": 272,
     "metadata": {},
     "output_type": "execute_result"
    }
   ],
   "source": [
    "HEX.loc[HEX.municip_code.isin([48022, 48071, 48088, 48074, 48051, 48020]), :]"
   ]
  },
  {
   "cell_type": "code",
   "execution_count": 273,
   "id": "ffe08eff-aadc-442f-a84e-63f7427235d3",
   "metadata": {},
   "outputs": [],
   "source": [
    "HEX.columns = [\"CODIGO MUNICIPIO\", \"NOMBRE MUNICIPIO\", \"NIDOS 2020\"] # change column names to Spanish (Competition template)"
   ]
  },
  {
   "cell_type": "markdown",
   "id": "e6835b86-6239-4592-ab5b-419579682fc1",
   "metadata": {},
   "source": [
    "## Verify dataset format"
   ]
  },
  {
   "cell_type": "code",
   "execution_count": 274,
   "id": "23c670dc-0519-4dbf-b909-90583c91e39f",
   "metadata": {},
   "outputs": [
    {
     "name": "stdout",
     "output_type": "stream",
     "text": [
      "(112, 3) : Shape is correct.\n",
      "112 : Number of unique municipalities is correct.\n",
      "Great! All municipalities have NESTS >= 0.\n",
      "The Total 2020 Nests' Prediction is 2914\n"
     ]
    }
   ],
   "source": [
    "check_data(HEX)"
   ]
  },
  {
   "cell_type": "markdown",
   "id": "c9b74131-7aff-4917-a606-7b0a63112c6e",
   "metadata": {},
   "source": [
    "## Export dataset for submission"
   ]
  },
  {
   "cell_type": "code",
   "execution_count": 275,
   "id": "96153bc3-3289-4a73-b091-79c2aa571d8e",
   "metadata": {},
   "outputs": [],
   "source": [
    "HEX.to_csv('WaspBusters_20210526_OLSmonths.csv', index=False)"
   ]
  }
 ],
 "metadata": {
  "kernelspec": {
   "display_name": "Python 3",
   "language": "python",
   "name": "python3"
  },
  "language_info": {
   "codemirror_mode": {
    "name": "ipython",
    "version": 3
   },
   "file_extension": ".py",
   "mimetype": "text/x-python",
   "name": "python",
   "nbconvert_exporter": "python",
   "pygments_lexer": "ipython3",
   "version": "3.8.8"
  }
 },
 "nbformat": 4,
 "nbformat_minor": 5
}

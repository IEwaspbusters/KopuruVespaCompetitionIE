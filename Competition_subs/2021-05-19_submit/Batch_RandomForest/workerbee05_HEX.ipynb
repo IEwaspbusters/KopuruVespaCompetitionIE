{
 "cells": [
  {
   "cell_type": "markdown",
   "metadata": {},
   "source": [
    "# Random Forest Model (months) with previous clustering\n",
    "# In preparation for the May 19th submission to the Kopuru challenge"
   ]
  },
  {
   "cell_type": "code",
   "execution_count": 1,
   "metadata": {},
   "outputs": [],
   "source": [
    "# Base packages -----------------------------------\n",
    "import pandas as pd\n",
    "import numpy as np\n",
    "from matplotlib import pyplot as plt\n",
    "\n",
    "# Linear Regression -------------------------------\n",
    "from statsmodels.formula.api import ols\n",
    "\n",
    "# SKLearn -----------------------------------------\n",
    "from sklearn.model_selection import train_test_split\n",
    "\n",
    "\n",
    "# Random Forest Regressort------------------------\n",
    "from sklearn.ensemble import RandomForestRegressor"
   ]
  },
  {
   "cell_type": "markdown",
   "metadata": {},
   "source": [
    "# Loading and massaging data"
   ]
  },
  {
   "cell_type": "code",
   "execution_count": 2,
   "metadata": {},
   "outputs": [],
   "source": [
    "# Importing datasets from GitHub as Pandas Dataframes\n",
    "queen_train = pd.read_csv(\"../Feeder_months/WBds03_QUEENtrain_months_DataWig.csv\") #2018+2019 test df\n",
    "queen_predict = pd.read_csv(\"../Feeder_months/WBds03_QUEENpredict_months_DataWig.csv\") #2018+2019 test df\n",
    "queen_cluster = pd.read_csv(\"../../../Other_open_data/cluster.csv\") "
   ]
  },
  {
   "cell_type": "code",
   "execution_count": 3,
   "metadata": {},
   "outputs": [],
   "source": [
    "queen_train = queen_train.loc[queen_train.year_x == 2019,:].copy(True)"
   ]
  },
  {
   "cell_type": "code",
   "execution_count": 4,
   "metadata": {},
   "outputs": [],
   "source": [
    "# Adding cluster labels\n",
    "queen_train = pd.merge(queen_train, queen_cluster, how = 'left', left_on = 'municip_code', right_on = 'CODIGO MUNICIPIO')\n",
    "queen_predict = pd.merge(queen_predict, queen_cluster, how = 'left', left_on = 'municip_code', right_on = 'CODIGO MUNICIPIO')"
   ]
  },
  {
   "cell_type": "code",
   "execution_count": 5,
   "metadata": {},
   "outputs": [],
   "source": [
    "queen_train.drop(columns=['year_x','year_offset','species','municip_name','municip_code','station_code', 'index', 'MMM', 'station_name', 'CODIGO MUNICIPIO'], inplace=True)"
   ]
  },
  {
   "cell_type": "markdown",
   "metadata": {},
   "source": [
    "# Model"
   ]
  },
  {
   "cell_type": "code",
   "execution_count": 6,
   "metadata": {},
   "outputs": [],
   "source": [
    "# Instantiate the models with 100 decision trees\n",
    "rf_0 = RandomForestRegressor(n_estimators = 1000, random_state = 42)\n",
    "rf_1 = RandomForestRegressor(n_estimators = 1000, random_state = 42)\n",
    "rf_2 = RandomForestRegressor(n_estimators = 1000, random_state = 42)\n",
    "rf_3 = RandomForestRegressor(n_estimators = 1000, random_state = 42)"
   ]
  },
  {
   "cell_type": "code",
   "execution_count": 7,
   "metadata": {},
   "outputs": [
    {
     "data": {
      "text/plain": [
       "RandomForestRegressor(n_estimators=1000, random_state=42)"
      ]
     },
     "execution_count": 7,
     "metadata": {},
     "output_type": "execute_result"
    }
   ],
   "source": [
    "# Train the model by cluster\n",
    "\n",
    "train_x_0 = queen_train.loc[queen_train.Cluster == 0 ,:].drop('waspbust_id', axis = 1)\n",
    "train_y_0 = queen_train.loc[queen_train.Cluster == 0 ,:].loc[:, 'waspbust_id']\n",
    "\n",
    "train_x_1 = queen_train.loc[queen_train.Cluster == 1 ,:].drop('waspbust_id', axis = 1)\n",
    "train_y_1 = queen_train.loc[queen_train.Cluster == 1 ,:].loc[:, 'waspbust_id']\n",
    "\n",
    "train_x_2 = queen_train.loc[queen_train.Cluster == 2 ,:].drop('waspbust_id', axis = 1)\n",
    "train_y_2 = queen_train.loc[queen_train.Cluster == 2 ,:].loc[:, 'waspbust_id']\n",
    "\n",
    "train_x_3 = queen_train.loc[queen_train.Cluster == 3 ,:].drop('waspbust_id', axis = 1)\n",
    "train_y_3 = queen_train.loc[queen_train.Cluster == 3 ,:].loc[:, 'waspbust_id']\n",
    "\n",
    "rf_0.fit(train_x_0, train_y_0)\n",
    "rf_1.fit(train_x_1, train_y_1)\n",
    "rf_2.fit(train_x_2, train_y_2)\n",
    "rf_3.fit(train_x_3, train_y_3)\n"
   ]
  },
  {
   "cell_type": "markdown",
   "metadata": {},
   "source": [
    "# Feature importance"
   ]
  },
  {
   "cell_type": "code",
   "execution_count": 8,
   "metadata": {},
   "outputs": [
    {
     "name": "stdout",
     "output_type": "stream",
     "text": [
      "Variable: food_fruit           Importance: 0.2292\n",
      "Variable: weath_solar          Importance: 0.0857\n",
      "Variable: weath_minLevel       Importance: 0.0625\n",
      "Variable: food_txakoli         Importance: 0.061\n",
      "Variable: population           Importance: 0.0602\n",
      "Variable: weath_maxTemp        Importance: 0.0561\n",
      "Variable: weath_midLevel       Importance: 0.0515\n",
      "Variable: weath_humidity       Importance: 0.0365\n",
      "Variable: weath_meanTemp       Importance: 0.0348\n",
      "Variable: weath_minTemp        Importance: 0.0345\n",
      "Variable: weath_maxWindM       Importance: 0.0292\n",
      "Variable: weath_10minRainfall  Importance: 0.0282\n",
      "Variable: weath_maxMeanTemp    Importance: 0.0276\n",
      "Variable: weath_maxLevel       Importance: 0.0269\n",
      "Variable: weath_meanWindM      Importance: 0.0258\n",
      "Variable: weath_days_rain      Importance: 0.0201\n",
      "Variable: month                Importance: 0.02\n",
      "Variable: food_apple           Importance: 0.0182\n",
      "Variable: weath_meanDayMaxWind Importance: 0.0174\n",
      "Variable: weath_accuRainfall   Importance: 0.0154\n",
      "Variable: weath_1dayRainfall   Importance: 0.0143\n",
      "Variable: weath_days_rain1mm   Importance: 0.014\n",
      "Variable: colonies_amount      Importance: 0.0091\n",
      "Variable: food_kiwi            Importance: 0.0065\n",
      "Variable: food_blueberry       Importance: 0.0059\n",
      "Variable: weath_days_frost     Importance: 0.0045\n",
      "Variable: food_pear            Importance: 0.0038\n",
      "Variable: food_raspberry       Importance: 0.0011\n",
      "Variable: Cluster              Importance: 0.0\n"
     ]
    }
   ],
   "source": [
    "# Get numerical feature importances\n",
    "feature_list_0 = list(train_x_0.columns)\n",
    "\n",
    "# List of tuples with variable and importance\n",
    "importances_0 = list(rf_0.feature_importances_)\n",
    "feature_importances_0 = [(feature, round(importance, 4)) for feature, importance in zip(feature_list_0, importances_0)]\n",
    "\n",
    "# Sort the feature importances by most important first\n",
    "feature_importances_0 = sorted(feature_importances_0, key = lambda x: x[1], reverse = True)\n",
    "\n",
    "# Print out the feature and importances \n",
    "[print('Variable: {:20} Importance: {}'.format(*pair)) for pair in feature_importances_0];"
   ]
  },
  {
   "cell_type": "code",
   "execution_count": 9,
   "metadata": {},
   "outputs": [
    {
     "name": "stdout",
     "output_type": "stream",
     "text": [
      "Variable: weath_minTemp        Importance: 0.183\n",
      "Variable: weath_maxMeanTemp    Importance: 0.0907\n",
      "Variable: food_fruit           Importance: 0.0859\n",
      "Variable: weath_10minRainfall  Importance: 0.0728\n",
      "Variable: colonies_amount      Importance: 0.0575\n",
      "Variable: weath_meanTemp       Importance: 0.047\n",
      "Variable: weath_maxTemp        Importance: 0.0432\n",
      "Variable: weath_humidity       Importance: 0.0363\n",
      "Variable: weath_meanWindM      Importance: 0.0338\n",
      "Variable: weath_maxWindM       Importance: 0.0332\n",
      "Variable: weath_minLevel       Importance: 0.0324\n",
      "Variable: weath_days_rain1mm   Importance: 0.0314\n",
      "Variable: population           Importance: 0.0298\n",
      "Variable: weath_1dayRainfall   Importance: 0.0282\n",
      "Variable: weath_days_rain      Importance: 0.0272\n",
      "Variable: weath_midLevel       Importance: 0.0244\n",
      "Variable: weath_maxLevel       Importance: 0.0233\n",
      "Variable: weath_accuRainfall   Importance: 0.0232\n",
      "Variable: weath_solar          Importance: 0.0221\n",
      "Variable: weath_meanDayMaxWind Importance: 0.0212\n",
      "Variable: food_txakoli         Importance: 0.0174\n",
      "Variable: month                Importance: 0.015\n",
      "Variable: food_kiwi            Importance: 0.014\n",
      "Variable: food_apple           Importance: 0.0048\n",
      "Variable: food_blueberry       Importance: 0.0011\n",
      "Variable: weath_days_frost     Importance: 0.0011\n",
      "Variable: food_pear            Importance: 0.0\n",
      "Variable: food_raspberry       Importance: 0.0\n",
      "Variable: Cluster              Importance: 0.0\n"
     ]
    }
   ],
   "source": [
    "# Get numerical feature importances\n",
    "feature_list_1 = list(train_x_1.columns)\n",
    "\n",
    "# List of tuples with variable and importance\n",
    "importances_1 = list(rf_1.feature_importances_)\n",
    "feature_importances_1 = [(feature, round(importance, 4)) for feature, importance in zip(feature_list_1, importances_1)]\n",
    "\n",
    "# Sort the feature importances by most important first\n",
    "feature_importances_1 = sorted(feature_importances_1, key = lambda x: x[1], reverse = True)\n",
    "\n",
    "# Print out the feature and importances \n",
    "[print('Variable: {:20} Importance: {}'.format(*pair)) for pair in feature_importances_1];"
   ]
  },
  {
   "cell_type": "code",
   "execution_count": 10,
   "metadata": {},
   "outputs": [
    {
     "name": "stdout",
     "output_type": "stream",
     "text": [
      "Variable: population           Importance: 0.1633\n",
      "Variable: weath_solar          Importance: 0.1311\n",
      "Variable: weath_days_rain1mm   Importance: 0.0672\n",
      "Variable: weath_meanTemp       Importance: 0.0668\n",
      "Variable: weath_minTemp        Importance: 0.0655\n",
      "Variable: weath_10minRainfall  Importance: 0.0582\n",
      "Variable: weath_maxMeanTemp    Importance: 0.054\n",
      "Variable: weath_minLevel       Importance: 0.0413\n",
      "Variable: food_fruit           Importance: 0.0403\n",
      "Variable: weath_maxTemp        Importance: 0.0397\n",
      "Variable: food_kiwi            Importance: 0.0325\n",
      "Variable: weath_maxLevel       Importance: 0.0318\n",
      "Variable: weath_meanWindM      Importance: 0.0291\n",
      "Variable: weath_midLevel       Importance: 0.0238\n",
      "Variable: weath_1dayRainfall   Importance: 0.022\n",
      "Variable: food_txakoli         Importance: 0.0187\n",
      "Variable: weath_humidity       Importance: 0.018\n",
      "Variable: weath_maxWindM       Importance: 0.0176\n",
      "Variable: weath_days_rain      Importance: 0.0166\n",
      "Variable: food_apple           Importance: 0.0156\n",
      "Variable: weath_meanDayMaxWind Importance: 0.0152\n",
      "Variable: weath_accuRainfall   Importance: 0.0145\n",
      "Variable: month                Importance: 0.0118\n",
      "Variable: food_pear            Importance: 0.0032\n",
      "Variable: food_blueberry       Importance: 0.0013\n",
      "Variable: weath_days_frost     Importance: 0.0009\n",
      "Variable: colonies_amount      Importance: 0.0\n",
      "Variable: food_raspberry       Importance: 0.0\n",
      "Variable: Cluster              Importance: 0.0\n"
     ]
    }
   ],
   "source": [
    "# Get numerical feature importances\n",
    "feature_list_2 = list(train_x_2.columns)\n",
    "\n",
    "# List of tuples with variable and importance\n",
    "importances_2 = list(rf_2.feature_importances_)\n",
    "feature_importances_2 = [(feature, round(importance, 4)) for feature, importance in zip(feature_list_2, importances_2)]\n",
    "\n",
    "# Sort the feature importances by most important first\n",
    "feature_importances_2 = sorted(feature_importances_2, key = lambda x: x[1], reverse = True)\n",
    "\n",
    "# Print out the feature and importances \n",
    "[print('Variable: {:20} Importance: {}'.format(*pair)) for pair in feature_importances_2];"
   ]
  },
  {
   "cell_type": "code",
   "execution_count": 11,
   "metadata": {},
   "outputs": [
    {
     "name": "stdout",
     "output_type": "stream",
     "text": [
      "Variable: weath_accuRainfall   Importance: 0.1343\n",
      "Variable: weath_days_rain1mm   Importance: 0.1079\n",
      "Variable: weath_maxWindM       Importance: 0.1033\n",
      "Variable: weath_minTemp        Importance: 0.0757\n",
      "Variable: weath_maxMeanTemp    Importance: 0.0683\n",
      "Variable: weath_solar          Importance: 0.068\n",
      "Variable: weath_1dayRainfall   Importance: 0.0667\n",
      "Variable: weath_meanTemp       Importance: 0.0639\n",
      "Variable: weath_maxLevel       Importance: 0.0476\n",
      "Variable: weath_maxTemp        Importance: 0.0451\n",
      "Variable: weath_meanDayMaxWind Importance: 0.0339\n",
      "Variable: weath_midLevel       Importance: 0.029\n",
      "Variable: weath_days_rain      Importance: 0.0229\n",
      "Variable: weath_meanWindM      Importance: 0.0225\n",
      "Variable: weath_humidity       Importance: 0.0194\n",
      "Variable: weath_10minRainfall  Importance: 0.0166\n",
      "Variable: population           Importance: 0.0144\n",
      "Variable: weath_minLevel       Importance: 0.0142\n",
      "Variable: food_fruit           Importance: 0.0124\n",
      "Variable: food_apple           Importance: 0.0095\n",
      "Variable: month                Importance: 0.0085\n",
      "Variable: colonies_amount      Importance: 0.006\n",
      "Variable: food_txakoli         Importance: 0.0047\n",
      "Variable: food_kiwi            Importance: 0.0039\n",
      "Variable: weath_days_frost     Importance: 0.0007\n",
      "Variable: food_blueberry       Importance: 0.0003\n",
      "Variable: food_pear            Importance: 0.0\n",
      "Variable: food_raspberry       Importance: 0.0\n",
      "Variable: Cluster              Importance: 0.0\n"
     ]
    }
   ],
   "source": [
    "# Get numerical feature importances\n",
    "feature_list_3 = list(train_x_3.columns)\n",
    "\n",
    "# List of tuples with variable and importance\n",
    "importances_3 = list(rf_3.feature_importances_)\n",
    "feature_importances_3 = [(feature, round(importance, 4)) for feature, importance in zip(feature_list_3, importances_3)]\n",
    "\n",
    "# Sort the feature importances by most important first\n",
    "feature_importances_3 = sorted(feature_importances_3, key = lambda x: x[1], reverse = True)\n",
    "\n",
    "# Print out the feature and importances \n",
    "[print('Variable: {:20} Importance: {}'.format(*pair)) for pair in feature_importances_3];"
   ]
  },
  {
   "cell_type": "markdown",
   "metadata": {},
   "source": [
    "# New model with relevant variables"
   ]
  },
  {
   "cell_type": "code",
   "execution_count": 18,
   "metadata": {},
   "outputs": [
    {
     "data": {
      "text/plain": [
       "RandomForestRegressor(n_estimators=1000, random_state=42)"
      ]
     },
     "execution_count": 18,
     "metadata": {},
     "output_type": "execute_result"
    }
   ],
   "source": [
    "# Train new models by cluster\n",
    "\n",
    "train2_x_0 = queen_train.loc[queen_train.Cluster == 0 ,['food_fruit']]\n",
    "train2_x_1 = queen_train.loc[queen_train.Cluster == 1 ,['weath_minTemp']]\n",
    "train2_x_2 = queen_train.loc[queen_train.Cluster == 2 ,['weath_solar', 'population']]\n",
    "train2_x_3 = queen_train.loc[queen_train.Cluster == 3 ,['weath_accuRainfall', 'weath_days_rain1mm', 'weath_maxWindM']]\n",
    "\n",
    "rf_0.fit(train2_x_0, train_y_0)\n",
    "rf_1.fit(train2_x_1, train_y_1)\n",
    "rf_2.fit(train2_x_2, train_y_2)\n",
    "rf_3.fit(train2_x_3, train_y_3)"
   ]
  },
  {
   "cell_type": "markdown",
   "metadata": {},
   "source": [
    "# Predictions"
   ]
  },
  {
   "cell_type": "code",
   "execution_count": 19,
   "metadata": {},
   "outputs": [],
   "source": [
    "queen_predict_0 = queen_predict.loc[queen_predict.Cluster == 0, :].copy(True)\n",
    "queen_predict_1 = queen_predict.loc[queen_predict.Cluster == 1 , :].copy(True)\n",
    "queen_predict_2 = queen_predict.loc[queen_predict.Cluster == 2 ,:].copy(True)\n",
    "queen_predict_3 = queen_predict.loc[queen_predict.Cluster == 3 ,:].copy(True)\n"
   ]
  },
  {
   "cell_type": "code",
   "execution_count": 20,
   "metadata": {},
   "outputs": [],
   "source": [
    "predictions_0 = rf_0.predict(queen_predict_0.loc[:,['food_fruit']])\n",
    "predictions_1 = rf_1.predict(queen_predict_1.loc[:,['weath_minTemp']])\n",
    "predictions_2 = rf_2.predict(queen_predict_2.loc[:,['weath_solar', 'population']])\n",
    "predictions_3 = rf_3.predict(queen_predict_3.loc[:,['weath_accuRainfall', 'weath_days_rain1mm', 'weath_maxWindM']])"
   ]
  },
  {
   "cell_type": "code",
   "execution_count": 21,
   "metadata": {},
   "outputs": [],
   "source": [
    "queen_predict_0['nests_2020'] = predictions_0\n",
    "queen_predict_1['nests_2020'] = predictions_1\n",
    "queen_predict_2['nests_2020'] = predictions_2\n",
    "queen_predict_3['nests_2020'] = predictions_3"
   ]
  },
  {
   "cell_type": "code",
   "execution_count": 22,
   "metadata": {},
   "outputs": [],
   "source": [
    "HEX_0 = queen_predict_0.loc[:,['municip_code','municip_name','nests_2020']].groupby(by=['municip_code','municip_name'], as_index=False).sum().round().dropna()\n",
    "HEX_1 = queen_predict_1.loc[:,['municip_code','municip_name','nests_2020']].groupby(by=['municip_code','municip_name'], as_index=False).sum().round().dropna()\n",
    "HEX_2 = queen_predict_2.loc[:,['municip_code','municip_name','nests_2020']].groupby(by=['municip_code','municip_name'], as_index=False).sum().round().dropna()\n",
    "HEX_3 = queen_predict_3.loc[:,['municip_code','municip_name','nests_2020']].groupby(by=['municip_code','municip_name'], as_index=False).sum().round().dropna()\n"
   ]
  },
  {
   "cell_type": "code",
   "execution_count": 23,
   "metadata": {},
   "outputs": [],
   "source": [
    "aux = pd.DataFrame({\"municip_code\":[48020, 48022, 48071, 48088,48074,48051],\n",
    "                    \"municip_name\":['Bilbao','Karrantza Harana/Valle de Carranza','Muskiz', 'Ubide','UrduÃ±a/OrduÃ±a','Lanestosa'],\n",
    "                    \"nests_2020\":[0, 1, 0, 0, 1, 1]})"
   ]
  },
  {
   "cell_type": "code",
   "execution_count": 24,
   "metadata": {},
   "outputs": [],
   "source": [
    "HEX = HEX_0.append(HEX_1, ignore_index = True).append(HEX_2, ignore_index = True).append(HEX_3, ignore_index = True).append(aux, ignore_index = True)"
   ]
  },
  {
   "cell_type": "code",
   "execution_count": 25,
   "metadata": {},
   "outputs": [],
   "source": [
    "HEX.columns = ['CODIGO MUNICIPIO','NOMBRE MUNICIPIO','NIDOS 2020']"
   ]
  },
  {
   "cell_type": "code",
   "execution_count": 26,
   "metadata": {},
   "outputs": [],
   "source": [
    "HEX.to_csv('WaspBusters_20210519_RandomForestmonths.csv', index=False)"
   ]
  },
  {
   "cell_type": "code",
   "execution_count": null,
   "metadata": {},
   "outputs": [],
   "source": []
  }
 ],
 "metadata": {
  "kernelspec": {
   "display_name": "Python 3",
   "language": "python",
   "name": "python3"
  },
  "language_info": {
   "codemirror_mode": {
    "name": "ipython",
    "version": 3
   },
   "file_extension": ".py",
   "mimetype": "text/x-python",
   "name": "python",
   "nbconvert_exporter": "python",
   "pygments_lexer": "ipython3",
   "version": "3.8.5"
  }
 },
 "nbformat": 4,
 "nbformat_minor": 4
}

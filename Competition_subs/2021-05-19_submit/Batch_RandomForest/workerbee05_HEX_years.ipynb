{
 "cells": [
  {
   "cell_type": "markdown",
   "metadata": {},
   "source": [
    "# Random Forest Model (months) with previous clustering\n",
    "# In preparation for the May 19th submission to the Kopuru challenge"
   ]
  },
  {
   "cell_type": "code",
   "execution_count": 133,
   "metadata": {},
   "outputs": [],
   "source": [
    "# Base packages -----------------------------------\n",
    "import pandas as pd\n",
    "import numpy as np\n",
    "from matplotlib import pyplot as plt\n",
    "\n",
    "# Linear Regression -------------------------------\n",
    "from statsmodels.formula.api import ols\n",
    "\n",
    "# SKLearn -----------------------------------------\n",
    "from sklearn.model_selection import train_test_split\n",
    "\n",
    "\n",
    "# Random Forest Regressort------------------------\n",
    "from sklearn.ensemble import RandomForestRegressor"
   ]
  },
  {
   "cell_type": "markdown",
   "metadata": {},
   "source": [
    "# Loading and massaging data"
   ]
  },
  {
   "cell_type": "code",
   "execution_count": 154,
   "metadata": {},
   "outputs": [],
   "source": [
    "# Importing datasets from GitHub as Pandas Dataframes\n",
    "queen_train = pd.read_csv(\"../Feeder_years/WBds03_QUEENtrain_years.csv\") #2018+2019 test df\n",
    "queen_predict = pd.read_csv(\"../Feeder_years/WBds03_QUEENpredict_years.csv\") #2018+2019 test df\n",
    "queen_cluster = pd.read_csv(\"../../../Other_open_data/cluster.csv\") "
   ]
  },
  {
   "cell_type": "code",
   "execution_count": 155,
   "metadata": {},
   "outputs": [],
   "source": [
    "queen_train = queen_train.loc[queen_train.year_x == 2019,:].copy(True)"
   ]
  },
  {
   "cell_type": "code",
   "execution_count": 156,
   "metadata": {},
   "outputs": [],
   "source": [
    "# Adding cluster labels\n",
    "queen_train = pd.merge(queen_train, queen_cluster, how = 'left', left_on = 'municip_code', right_on = 'CODIGO MUNICIPIO')\n",
    "queen_predict = pd.merge(queen_predict, queen_cluster, how = 'left', left_on = 'municip_code', right_on = 'CODIGO MUNICIPIO')"
   ]
  },
  {
   "cell_type": "code",
   "execution_count": 157,
   "metadata": {},
   "outputs": [
    {
     "data": {
      "text/plain": [
       "Index(['year_x', 'municip_name', 'species', 'municip_code', 'year_offset',\n",
       "       'waspbust_id', 'colonies_amount', 'food_fruit', 'food_apple',\n",
       "       'food_txakoli', 'food_kiwi', 'food_pear', 'food_blueberry',\n",
       "       'food_raspberry', 'station_code', 'freez', 'hum', 'lev_max', 'lev_mid',\n",
       "       'lev_min', 'rain', 'rain_1mm', 'rain_cum', 'rain_max_10',\n",
       "       'rain_max_day', 'sun', 'temp_avg', 'temp_max_abs', 'temp_max_avg',\n",
       "       'temp_min_abs', 'wind_avg', 'wind_max', 'wind_max_avg', 'population',\n",
       "       'CODIGO MUNICIPIO', 'Cluster'],\n",
       "      dtype='object')"
      ]
     },
     "execution_count": 157,
     "metadata": {},
     "output_type": "execute_result"
    }
   ],
   "source": [
    "queen_train.columns"
   ]
  },
  {
   "cell_type": "code",
   "execution_count": 158,
   "metadata": {},
   "outputs": [],
   "source": [
    "queen_train.drop(columns=['year_x','year_offset','species','municip_name','municip_code','station_code','CODIGO MUNICIPIO'], inplace=True)"
   ]
  },
  {
   "cell_type": "markdown",
   "metadata": {},
   "source": [
    "# Model"
   ]
  },
  {
   "cell_type": "code",
   "execution_count": 159,
   "metadata": {},
   "outputs": [],
   "source": [
    "# Instantiate the models with 100 decision trees\n",
    "rf_0 = RandomForestRegressor(n_estimators = 1000, random_state = 42)\n",
    "rf_1 = RandomForestRegressor(n_estimators = 1000, random_state = 42)\n",
    "rf_2 = RandomForestRegressor(n_estimators = 1000, random_state = 42)\n",
    "rf_3 = RandomForestRegressor(n_estimators = 1000, random_state = 42)"
   ]
  },
  {
   "cell_type": "code",
   "execution_count": 160,
   "metadata": {},
   "outputs": [
    {
     "data": {
      "text/plain": [
       "RandomForestRegressor(n_estimators=1000, random_state=42)"
      ]
     },
     "execution_count": 160,
     "metadata": {},
     "output_type": "execute_result"
    }
   ],
   "source": [
    "# Train the model by cluster\n",
    "\n",
    "train_x_0 = queen_train.loc[queen_train.Cluster == 0 ,:].drop('waspbust_id', axis = 1)\n",
    "train_y_0 = queen_train.loc[queen_train.Cluster == 0 ,:].loc[:, 'waspbust_id']\n",
    "\n",
    "train_x_1 = queen_train.loc[queen_train.Cluster == 1 ,:].drop('waspbust_id', axis = 1)\n",
    "train_y_1 = queen_train.loc[queen_train.Cluster == 1 ,:].loc[:, 'waspbust_id']\n",
    "\n",
    "train_x_2 = queen_train.loc[queen_train.Cluster == 2 ,:].drop('waspbust_id', axis = 1)\n",
    "train_y_2 = queen_train.loc[queen_train.Cluster == 2 ,:].loc[:, 'waspbust_id']\n",
    "\n",
    "train_x_3 = queen_train.loc[queen_train.Cluster == 3 ,:].drop('waspbust_id', axis = 1)\n",
    "train_y_3 = queen_train.loc[queen_train.Cluster == 3 ,:].loc[:, 'waspbust_id']\n",
    "\n",
    "rf_0.fit(train_x_0, train_y_0)\n",
    "rf_1.fit(train_x_1, train_y_1)\n",
    "rf_2.fit(train_x_2, train_y_2)\n",
    "rf_3.fit(train_x_3, train_y_3)\n"
   ]
  },
  {
   "cell_type": "markdown",
   "metadata": {},
   "source": [
    "# Feature importance"
   ]
  },
  {
   "cell_type": "code",
   "execution_count": 161,
   "metadata": {},
   "outputs": [
    {
     "name": "stdout",
     "output_type": "stream",
     "text": [
      "Variable: food_fruit           Importance: 0.2258\n",
      "Variable: food_txakoli         Importance: 0.1381\n",
      "Variable: population           Importance: 0.1297\n",
      "Variable: lev_max              Importance: 0.0461\n",
      "Variable: lev_mid              Importance: 0.0415\n",
      "Variable: hum                  Importance: 0.0409\n",
      "Variable: wind_avg             Importance: 0.0363\n",
      "Variable: temp_max_abs         Importance: 0.034\n",
      "Variable: rain_max_day         Importance: 0.0324\n",
      "Variable: temp_max_avg         Importance: 0.0274\n",
      "Variable: colonies_amount      Importance: 0.0244\n",
      "Variable: temp_avg             Importance: 0.0206\n",
      "Variable: wind_max_avg         Importance: 0.02\n",
      "Variable: lev_min              Importance: 0.0189\n",
      "Variable: food_kiwi            Importance: 0.0188\n",
      "Variable: food_blueberry       Importance: 0.0182\n",
      "Variable: rain_1mm             Importance: 0.0172\n",
      "Variable: sun                  Importance: 0.0168\n",
      "Variable: temp_min_abs         Importance: 0.016\n",
      "Variable: wind_max             Importance: 0.0159\n",
      "Variable: food_apple           Importance: 0.0143\n",
      "Variable: rain_max_10          Importance: 0.0125\n",
      "Variable: freez                Importance: 0.0099\n",
      "Variable: rain_cum             Importance: 0.0097\n",
      "Variable: rain                 Importance: 0.0088\n",
      "Variable: food_pear            Importance: 0.0059\n",
      "Variable: food_raspberry       Importance: 0.0001\n",
      "Variable: Cluster              Importance: 0.0\n"
     ]
    }
   ],
   "source": [
    "# Get numerical feature importances\n",
    "feature_list_0 = list(train_x_0.columns)\n",
    "\n",
    "# List of tuples with variable and importance\n",
    "importances_0 = list(rf_0.feature_importances_)\n",
    "feature_importances_0 = [(feature, round(importance, 4)) for feature, importance in zip(feature_list_0, importances_0)]\n",
    "\n",
    "# Sort the feature importances by most important first\n",
    "feature_importances_0 = sorted(feature_importances_0, key = lambda x: x[1], reverse = True)\n",
    "\n",
    "# Print out the feature and importances \n",
    "[print('Variable: {:20} Importance: {}'.format(*pair)) for pair in feature_importances_0];"
   ]
  },
  {
   "cell_type": "code",
   "execution_count": 162,
   "metadata": {},
   "outputs": [
    {
     "name": "stdout",
     "output_type": "stream",
     "text": [
      "Variable: colonies_amount      Importance: 0.1478\n",
      "Variable: rain_cum             Importance: 0.1162\n",
      "Variable: food_fruit           Importance: 0.116\n",
      "Variable: population           Importance: 0.0864\n",
      "Variable: temp_max_avg         Importance: 0.0741\n",
      "Variable: temp_min_abs         Importance: 0.0422\n",
      "Variable: food_txakoli         Importance: 0.0363\n",
      "Variable: rain_1mm             Importance: 0.0357\n",
      "Variable: sun                  Importance: 0.0326\n",
      "Variable: lev_max              Importance: 0.03\n",
      "Variable: wind_avg             Importance: 0.0271\n",
      "Variable: rain_max_10          Importance: 0.0268\n",
      "Variable: lev_mid              Importance: 0.0263\n",
      "Variable: wind_max             Importance: 0.0251\n",
      "Variable: food_kiwi            Importance: 0.0239\n",
      "Variable: lev_min              Importance: 0.0236\n",
      "Variable: wind_max_avg         Importance: 0.0236\n",
      "Variable: temp_avg             Importance: 0.0206\n",
      "Variable: temp_max_abs         Importance: 0.0194\n",
      "Variable: rain_max_day         Importance: 0.0184\n",
      "Variable: freez                Importance: 0.0142\n",
      "Variable: hum                  Importance: 0.0133\n",
      "Variable: rain                 Importance: 0.011\n",
      "Variable: food_apple           Importance: 0.0089\n",
      "Variable: food_blueberry       Importance: 0.0004\n",
      "Variable: food_pear            Importance: 0.0\n",
      "Variable: food_raspberry       Importance: 0.0\n",
      "Variable: Cluster              Importance: 0.0\n"
     ]
    }
   ],
   "source": [
    "# Get numerical feature importances\n",
    "feature_list_1 = list(train_x_1.columns)\n",
    "\n",
    "# List of tuples with variable and importance\n",
    "importances_1 = list(rf_1.feature_importances_)\n",
    "feature_importances_1 = [(feature, round(importance, 4)) for feature, importance in zip(feature_list_1, importances_1)]\n",
    "\n",
    "# Sort the feature importances by most important first\n",
    "feature_importances_1 = sorted(feature_importances_1, key = lambda x: x[1], reverse = True)\n",
    "\n",
    "# Print out the feature and importances \n",
    "[print('Variable: {:20} Importance: {}'.format(*pair)) for pair in feature_importances_1];"
   ]
  },
  {
   "cell_type": "code",
   "execution_count": 163,
   "metadata": {},
   "outputs": [
    {
     "name": "stdout",
     "output_type": "stream",
     "text": [
      "Variable: population           Importance: 0.3172\n",
      "Variable: rain_max_day         Importance: 0.0701\n",
      "Variable: lev_min              Importance: 0.0693\n",
      "Variable: hum                  Importance: 0.0677\n",
      "Variable: lev_mid              Importance: 0.061\n",
      "Variable: rain_1mm             Importance: 0.0595\n",
      "Variable: temp_max_abs         Importance: 0.0554\n",
      "Variable: food_fruit           Importance: 0.0512\n",
      "Variable: temp_avg             Importance: 0.0479\n",
      "Variable: lev_max              Importance: 0.0402\n",
      "Variable: food_txakoli         Importance: 0.0392\n",
      "Variable: sun                  Importance: 0.0293\n",
      "Variable: temp_max_avg         Importance: 0.0181\n",
      "Variable: food_kiwi            Importance: 0.0176\n",
      "Variable: wind_max             Importance: 0.013\n",
      "Variable: food_apple           Importance: 0.0097\n",
      "Variable: wind_max_avg         Importance: 0.0072\n",
      "Variable: food_pear            Importance: 0.0062\n",
      "Variable: temp_min_abs         Importance: 0.0048\n",
      "Variable: freez                Importance: 0.0046\n",
      "Variable: wind_avg             Importance: 0.0036\n",
      "Variable: rain                 Importance: 0.0032\n",
      "Variable: rain_cum             Importance: 0.0023\n",
      "Variable: rain_max_10          Importance: 0.0015\n",
      "Variable: food_blueberry       Importance: 0.0001\n",
      "Variable: colonies_amount      Importance: 0.0\n",
      "Variable: food_raspberry       Importance: 0.0\n",
      "Variable: Cluster              Importance: 0.0\n"
     ]
    }
   ],
   "source": [
    "# Get numerical feature importances\n",
    "feature_list_2 = list(train_x_2.columns)\n",
    "\n",
    "# List of tuples with variable and importance\n",
    "importances_2 = list(rf_2.feature_importances_)\n",
    "feature_importances_2 = [(feature, round(importance, 4)) for feature, importance in zip(feature_list_2, importances_2)]\n",
    "\n",
    "# Sort the feature importances by most important first\n",
    "feature_importances_2 = sorted(feature_importances_2, key = lambda x: x[1], reverse = True)\n",
    "\n",
    "# Print out the feature and importances \n",
    "[print('Variable: {:20} Importance: {}'.format(*pair)) for pair in feature_importances_2];"
   ]
  },
  {
   "cell_type": "code",
   "execution_count": 164,
   "metadata": {},
   "outputs": [
    {
     "name": "stdout",
     "output_type": "stream",
     "text": [
      "Variable: food_apple           Importance: 0.1493\n",
      "Variable: lev_min              Importance: 0.1408\n",
      "Variable: colonies_amount      Importance: 0.1265\n",
      "Variable: wind_max_avg         Importance: 0.077\n",
      "Variable: lev_max              Importance: 0.0588\n",
      "Variable: wind_max             Importance: 0.0587\n",
      "Variable: temp_max_avg         Importance: 0.0525\n",
      "Variable: hum                  Importance: 0.0375\n",
      "Variable: rain_1mm             Importance: 0.0317\n",
      "Variable: rain_cum             Importance: 0.0316\n",
      "Variable: rain_max_day         Importance: 0.0273\n",
      "Variable: food_kiwi            Importance: 0.0247\n",
      "Variable: rain                 Importance: 0.0241\n",
      "Variable: lev_mid              Importance: 0.0228\n",
      "Variable: population           Importance: 0.021\n",
      "Variable: sun                  Importance: 0.0201\n",
      "Variable: temp_max_abs         Importance: 0.018\n",
      "Variable: food_fruit           Importance: 0.0171\n",
      "Variable: rain_max_10          Importance: 0.0146\n",
      "Variable: wind_avg             Importance: 0.0112\n",
      "Variable: temp_min_abs         Importance: 0.011\n",
      "Variable: temp_avg             Importance: 0.009\n",
      "Variable: freez                Importance: 0.0079\n",
      "Variable: food_txakoli         Importance: 0.0045\n",
      "Variable: food_blueberry       Importance: 0.0024\n",
      "Variable: food_pear            Importance: 0.0\n",
      "Variable: food_raspberry       Importance: 0.0\n",
      "Variable: Cluster              Importance: 0.0\n"
     ]
    }
   ],
   "source": [
    "# Get numerical feature importances\n",
    "feature_list_3 = list(train_x_3.columns)\n",
    "\n",
    "# List of tuples with variable and importance\n",
    "importances_3 = list(rf_3.feature_importances_)\n",
    "feature_importances_3 = [(feature, round(importance, 4)) for feature, importance in zip(feature_list_3, importances_3)]\n",
    "\n",
    "# Sort the feature importances by most important first\n",
    "feature_importances_3 = sorted(feature_importances_3, key = lambda x: x[1], reverse = True)\n",
    "\n",
    "# Print out the feature and importances \n",
    "[print('Variable: {:20} Importance: {}'.format(*pair)) for pair in feature_importances_3];"
   ]
  },
  {
   "cell_type": "markdown",
   "metadata": {},
   "source": [
    "# New model with relevant variables"
   ]
  },
  {
   "cell_type": "code",
   "execution_count": 165,
   "metadata": {},
   "outputs": [
    {
     "data": {
      "text/plain": [
       "RandomForestRegressor(n_estimators=1000, random_state=42)"
      ]
     },
     "execution_count": 165,
     "metadata": {},
     "output_type": "execute_result"
    }
   ],
   "source": [
    "# Train new models by cluster\n",
    "\n",
    "train2_x_0 = queen_train.loc[queen_train.Cluster == 0 ,['food_fruit', 'food_txakoli', 'population', 'lev_max']]   \n",
    "train2_x_1 = queen_train.loc[queen_train.Cluster == 1 ,['food_fruit']]\n",
    "train2_x_2 = queen_train.loc[queen_train.Cluster == 2 ,['lev_max']] \n",
    "train2_x_3 = queen_train.loc[queen_train.Cluster == 3 ,['rain_1mm']]\n",
    " \n",
    "rf_0.fit(train2_x_0, train_y_0)\n",
    "rf_1.fit(train2_x_1, train_y_1)\n",
    "rf_2.fit(train2_x_2, train_y_2)\n",
    "rf_3.fit(train2_x_3, train_y_3)"
   ]
  },
  {
   "cell_type": "markdown",
   "metadata": {},
   "source": [
    "# Predictions"
   ]
  },
  {
   "cell_type": "code",
   "execution_count": 166,
   "metadata": {},
   "outputs": [],
   "source": [
    "queen_predict_0 = queen_predict.loc[queen_predict.Cluster == 0, :].copy(True)\n",
    "queen_predict_1 = queen_predict.loc[queen_predict.Cluster == 1 , :].copy(True)\n",
    "queen_predict_2 = queen_predict.loc[queen_predict.Cluster == 2 ,:].copy(True)\n",
    "queen_predict_3 = queen_predict.loc[queen_predict.Cluster == 3 ,:].copy(True)\n"
   ]
  },
  {
   "cell_type": "code",
   "execution_count": 167,
   "metadata": {},
   "outputs": [],
   "source": [
    "predictions_0 = rf_0.predict(queen_predict_0.loc[:,['food_fruit', 'food_txakoli', 'population', 'lev_max']])\n",
    "predictions_1 = rf_1.predict(queen_predict_1.loc[:,['food_fruit']])\n",
    "predictions_2 = rf_2.predict(queen_predict_2.loc[:,['lev_max']])\n",
    "predictions_3 = rf_3.predict(queen_predict_3.loc[:,['rain_1mm']])"
   ]
  },
  {
   "cell_type": "code",
   "execution_count": 168,
   "metadata": {},
   "outputs": [],
   "source": [
    "queen_predict_0['nests_2020'] = predictions_0\n",
    "queen_predict_1['nests_2020'] = predictions_1\n",
    "queen_predict_2['nests_2020'] = predictions_2\n",
    "queen_predict_3['nests_2020'] = predictions_3"
   ]
  },
  {
   "cell_type": "code",
   "execution_count": 169,
   "metadata": {},
   "outputs": [],
   "source": [
    "HEX_0 = queen_predict_0.loc[:,['municip_code','municip_name','nests_2020']].groupby(by=['municip_code','municip_name'], as_index=False).sum().round().dropna()\n",
    "HEX_1 = queen_predict_1.loc[:,['municip_code','municip_name','nests_2020']].groupby(by=['municip_code','municip_name'], as_index=False).sum().round().dropna()\n",
    "HEX_2 = queen_predict_2.loc[:,['municip_code','municip_name','nests_2020']].groupby(by=['municip_code','municip_name'], as_index=False).sum().round().dropna()\n",
    "HEX_3 = queen_predict_3.loc[:,['municip_code','municip_name','nests_2020']].groupby(by=['municip_code','municip_name'], as_index=False).sum().round().dropna()\n"
   ]
  },
  {
   "cell_type": "code",
   "execution_count": 170,
   "metadata": {},
   "outputs": [],
   "source": [
    "aux = pd.DataFrame({\"municip_code\":[48020, 48022, 48071, 48088,48074,48051],\n",
    "                    \"municip_name\":['Bilbao','Karrantza Harana/Valle de Carranza','Muskiz', 'Ubide','UrduÃ±a/OrduÃ±a','Lanestosa'],\n",
    "                    \"nests_2020\":[0, 1, 0, 0, 1, 1]})"
   ]
  },
  {
   "cell_type": "code",
   "execution_count": 171,
   "metadata": {},
   "outputs": [],
   "source": [
    "HEX = HEX_0.append(HEX_1, ignore_index = True).append(HEX_2, ignore_index = True).append(HEX_3, ignore_index = True).append(aux, ignore_index = True)"
   ]
  },
  {
   "cell_type": "code",
   "execution_count": 172,
   "metadata": {},
   "outputs": [],
   "source": [
    "HEX.columns = ['CODIGO MUNICIPIO','NOMBRE MUNICIPIO','NIDOS 2020']"
   ]
  },
  {
   "cell_type": "code",
   "execution_count": 173,
   "metadata": {},
   "outputs": [],
   "source": [
    "HEX.to_csv('WaspBusters_20210519_RandomForestyears.csv', index=False)"
   ]
  },
  {
   "cell_type": "code",
   "execution_count": null,
   "metadata": {},
   "outputs": [],
   "source": []
  }
 ],
 "metadata": {
  "kernelspec": {
   "display_name": "Python 3",
   "language": "python",
   "name": "python3"
  },
  "language_info": {
   "codemirror_mode": {
    "name": "ipython",
    "version": 3
   },
   "file_extension": ".py",
   "mimetype": "text/x-python",
   "name": "python",
   "nbconvert_exporter": "python",
   "pygments_lexer": "ipython3",
   "version": "3.8.5"
  }
 },
 "nbformat": 4,
 "nbformat_minor": 4
}

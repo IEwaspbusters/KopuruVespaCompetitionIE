{
 "cells": [
  {
   "cell_type": "markdown",
   "metadata": {},
   "source": [
    "# Random Forest Model (months) with previous clustering\n",
    "# In preparation for the May 19th submission to the Kopuru challenge"
   ]
  },
  {
   "cell_type": "code",
   "execution_count": 133,
   "metadata": {},
   "outputs": [],
   "source": [
    "# Base packages -----------------------------------\n",
    "import pandas as pd\n",
    "import numpy as np\n",
    "from matplotlib import pyplot as plt\n",
    "\n",
    "# Linear Regression -------------------------------\n",
    "from statsmodels.formula.api import ols\n",
    "\n",
    "# SKLearn -----------------------------------------\n",
    "from sklearn.model_selection import train_test_split\n",
    "\n",
    "\n",
    "# Random Forest Regressort------------------------\n",
    "from sklearn.ensemble import RandomForestRegressor"
   ]
  },
  {
   "cell_type": "markdown",
   "metadata": {},
   "source": [
    "# Loading and massaging data"
   ]
  },
  {
   "cell_type": "code",
   "execution_count": 134,
   "metadata": {},
   "outputs": [],
   "source": [
    "# Importing datasets from GitHub as Pandas Dataframes\n",
    "queen_train = pd.read_csv(\"../Feeder_years/WBds03_QUEENtrain_years.csv\") #2018+2019 test df\n",
    "queen_predict = pd.read_csv(\"../Feeder_years/WBds03_QUEENpredict_years.csv\") #2018+2019 test df\n",
    "queen_cluster = pd.read_csv(\"../../../Other_open_data/cluster.csv\") "
   ]
  },
  {
   "cell_type": "code",
   "execution_count": 135,
   "metadata": {},
   "outputs": [],
   "source": [
    "#queen_train = queen_train.loc[queen_train.year_x == 2019,:].copy(True)"
   ]
  },
  {
   "cell_type": "code",
   "execution_count": 136,
   "metadata": {},
   "outputs": [],
   "source": [
    "# Adding cluster labels\n",
    "queen_train = pd.merge(queen_train, queen_cluster, how = 'left', left_on = 'municip_code', right_on = 'CODIGO MUNICIPIO')\n",
    "queen_predict = pd.merge(queen_predict, queen_cluster, how = 'left', left_on = 'municip_code', right_on = 'CODIGO MUNICIPIO')"
   ]
  },
  {
   "cell_type": "code",
   "execution_count": 137,
   "metadata": {},
   "outputs": [
    {
     "data": {
      "text/plain": [
       "Index(['year_x', 'municip_name', 'species', 'municip_code', 'year_offset',\n",
       "       'waspbust_id', 'colonies_amount', 'food_fruit', 'food_apple',\n",
       "       'food_txakoli', 'food_kiwi', 'food_pear', 'food_blueberry',\n",
       "       'food_raspberry', 'station_code', 'freez', 'hum', 'lev_max', 'lev_mid',\n",
       "       'lev_min', 'rain', 'rain_1mm', 'rain_cum', 'rain_max_10',\n",
       "       'rain_max_day', 'sun', 'temp_avg', 'temp_max_abs', 'temp_max_avg',\n",
       "       'temp_min_abs', 'wind_avg', 'wind_max', 'wind_max_avg', 'population',\n",
       "       'CODIGO MUNICIPIO', 'Cluster'],\n",
       "      dtype='object')"
      ]
     },
     "execution_count": 137,
     "metadata": {},
     "output_type": "execute_result"
    }
   ],
   "source": [
    "queen_train.columns"
   ]
  },
  {
   "cell_type": "code",
   "execution_count": 138,
   "metadata": {},
   "outputs": [],
   "source": [
    "queen_train.drop(columns=['year_x','year_offset','species','municip_name','municip_code','station_code','CODIGO MUNICIPIO'], inplace=True)"
   ]
  },
  {
   "cell_type": "markdown",
   "metadata": {},
   "source": [
    "# Model"
   ]
  },
  {
   "cell_type": "code",
   "execution_count": 139,
   "metadata": {},
   "outputs": [],
   "source": [
    "# Instantiate the models with 100 decision trees\n",
    "rf_0 = RandomForestRegressor(n_estimators = 1000, random_state = 42)\n",
    "rf_1 = RandomForestRegressor(n_estimators = 1000, random_state = 42)\n",
    "rf_2 = RandomForestRegressor(n_estimators = 1000, random_state = 42)\n",
    "rf_3 = RandomForestRegressor(n_estimators = 1000, random_state = 42)"
   ]
  },
  {
   "cell_type": "code",
   "execution_count": 140,
   "metadata": {},
   "outputs": [
    {
     "data": {
      "text/plain": [
       "RandomForestRegressor(n_estimators=1000, random_state=42)"
      ]
     },
     "execution_count": 140,
     "metadata": {},
     "output_type": "execute_result"
    }
   ],
   "source": [
    "# Train the model by cluster\n",
    "\n",
    "train_x_0 = queen_train.loc[queen_train.Cluster == 0 ,:].drop('waspbust_id', axis = 1)\n",
    "train_y_0 = queen_train.loc[queen_train.Cluster == 0 ,:].loc[:, 'waspbust_id']\n",
    "\n",
    "train_x_1 = queen_train.loc[queen_train.Cluster == 1 ,:].drop('waspbust_id', axis = 1)\n",
    "train_y_1 = queen_train.loc[queen_train.Cluster == 1 ,:].loc[:, 'waspbust_id']\n",
    "\n",
    "train_x_2 = queen_train.loc[queen_train.Cluster == 2 ,:].drop('waspbust_id', axis = 1)\n",
    "train_y_2 = queen_train.loc[queen_train.Cluster == 2 ,:].loc[:, 'waspbust_id']\n",
    "\n",
    "train_x_3 = queen_train.loc[queen_train.Cluster == 3 ,:].drop('waspbust_id', axis = 1)\n",
    "train_y_3 = queen_train.loc[queen_train.Cluster == 3 ,:].loc[:, 'waspbust_id']\n",
    "\n",
    "rf_0.fit(train_x_0, train_y_0)\n",
    "rf_1.fit(train_x_1, train_y_1)\n",
    "rf_2.fit(train_x_2, train_y_2)\n",
    "rf_3.fit(train_x_3, train_y_3)\n"
   ]
  },
  {
   "cell_type": "markdown",
   "metadata": {},
   "source": [
    "# Feature importance"
   ]
  },
  {
   "cell_type": "code",
   "execution_count": 141,
   "metadata": {},
   "outputs": [
    {
     "name": "stdout",
     "output_type": "stream",
     "text": [
      "Variable: food_fruit           Importance: 0.1721\n",
      "Variable: food_txakoli         Importance: 0.1328\n",
      "Variable: population           Importance: 0.0925\n",
      "Variable: lev_max              Importance: 0.0656\n",
      "Variable: lev_mid              Importance: 0.0649\n",
      "Variable: wind_max             Importance: 0.062\n",
      "Variable: rain                 Importance: 0.0589\n",
      "Variable: rain_max_10          Importance: 0.0501\n",
      "Variable: temp_avg             Importance: 0.0322\n",
      "Variable: temp_max_abs         Importance: 0.03\n",
      "Variable: hum                  Importance: 0.0249\n",
      "Variable: lev_min              Importance: 0.0217\n",
      "Variable: rain_1mm             Importance: 0.0209\n",
      "Variable: sun                  Importance: 0.0202\n",
      "Variable: temp_max_avg         Importance: 0.0189\n",
      "Variable: temp_min_abs         Importance: 0.017\n",
      "Variable: colonies_amount      Importance: 0.014\n",
      "Variable: rain_max_day         Importance: 0.014\n",
      "Variable: wind_max_avg         Importance: 0.0139\n",
      "Variable: food_apple           Importance: 0.0129\n",
      "Variable: food_blueberry       Importance: 0.0123\n",
      "Variable: food_kiwi            Importance: 0.0115\n",
      "Variable: freez                Importance: 0.01\n",
      "Variable: wind_avg             Importance: 0.0096\n",
      "Variable: rain_cum             Importance: 0.0095\n",
      "Variable: food_pear            Importance: 0.0063\n",
      "Variable: food_raspberry       Importance: 0.0014\n",
      "Variable: Cluster              Importance: 0.0\n"
     ]
    }
   ],
   "source": [
    "# Get numerical feature importances\n",
    "feature_list_0 = list(train_x_0.columns)\n",
    "\n",
    "# List of tuples with variable and importance\n",
    "importances_0 = list(rf_0.feature_importances_)\n",
    "feature_importances_0 = [(feature, round(importance, 4)) for feature, importance in zip(feature_list_0, importances_0)]\n",
    "\n",
    "# Sort the feature importances by most important first\n",
    "feature_importances_0 = sorted(feature_importances_0, key = lambda x: x[1], reverse = True)\n",
    "\n",
    "# Print out the feature and importances \n",
    "[print('Variable: {:20} Importance: {}'.format(*pair)) for pair in feature_importances_0];"
   ]
  },
  {
   "cell_type": "code",
   "execution_count": 142,
   "metadata": {},
   "outputs": [
    {
     "name": "stdout",
     "output_type": "stream",
     "text": [
      "Variable: food_fruit           Importance: 0.2162\n",
      "Variable: rain                 Importance: 0.1958\n",
      "Variable: rain_max_day         Importance: 0.1614\n",
      "Variable: rain_1mm             Importance: 0.0648\n",
      "Variable: rain_max_10          Importance: 0.0462\n",
      "Variable: temp_max_avg         Importance: 0.0347\n",
      "Variable: rain_cum             Importance: 0.0283\n",
      "Variable: colonies_amount      Importance: 0.0258\n",
      "Variable: temp_max_abs         Importance: 0.025\n",
      "Variable: wind_max             Importance: 0.0243\n",
      "Variable: lev_mid              Importance: 0.0216\n",
      "Variable: lev_min              Importance: 0.0206\n",
      "Variable: population           Importance: 0.0205\n",
      "Variable: temp_min_abs         Importance: 0.0177\n",
      "Variable: hum                  Importance: 0.0128\n",
      "Variable: wind_avg             Importance: 0.0115\n",
      "Variable: temp_avg             Importance: 0.0114\n",
      "Variable: sun                  Importance: 0.0111\n",
      "Variable: food_apple           Importance: 0.0106\n",
      "Variable: lev_max              Importance: 0.0098\n",
      "Variable: freez                Importance: 0.0097\n",
      "Variable: food_txakoli         Importance: 0.008\n",
      "Variable: wind_max_avg         Importance: 0.007\n",
      "Variable: food_kiwi            Importance: 0.0051\n",
      "Variable: food_blueberry       Importance: 0.0005\n",
      "Variable: food_pear            Importance: 0.0\n",
      "Variable: food_raspberry       Importance: 0.0\n",
      "Variable: Cluster              Importance: 0.0\n"
     ]
    }
   ],
   "source": [
    "# Get numerical feature importances\n",
    "feature_list_1 = list(train_x_1.columns)\n",
    "\n",
    "# List of tuples with variable and importance\n",
    "importances_1 = list(rf_1.feature_importances_)\n",
    "feature_importances_1 = [(feature, round(importance, 4)) for feature, importance in zip(feature_list_1, importances_1)]\n",
    "\n",
    "# Sort the feature importances by most important first\n",
    "feature_importances_1 = sorted(feature_importances_1, key = lambda x: x[1], reverse = True)\n",
    "\n",
    "# Print out the feature and importances \n",
    "[print('Variable: {:20} Importance: {}'.format(*pair)) for pair in feature_importances_1];"
   ]
  },
  {
   "cell_type": "code",
   "execution_count": 143,
   "metadata": {},
   "outputs": [
    {
     "name": "stdout",
     "output_type": "stream",
     "text": [
      "Variable: lev_max              Importance: 0.4178\n",
      "Variable: population           Importance: 0.1464\n",
      "Variable: rain_max_10          Importance: 0.0646\n",
      "Variable: lev_min              Importance: 0.0572\n",
      "Variable: food_apple           Importance: 0.0492\n",
      "Variable: rain_1mm             Importance: 0.0281\n",
      "Variable: rain_max_day         Importance: 0.0269\n",
      "Variable: food_fruit           Importance: 0.0234\n",
      "Variable: lev_mid              Importance: 0.0212\n",
      "Variable: temp_max_abs         Importance: 0.0204\n",
      "Variable: food_kiwi            Importance: 0.0182\n",
      "Variable: temp_avg             Importance: 0.0174\n",
      "Variable: freez                Importance: 0.0134\n",
      "Variable: hum                  Importance: 0.0113\n",
      "Variable: food_txakoli         Importance: 0.011\n",
      "Variable: temp_max_avg         Importance: 0.0108\n",
      "Variable: wind_max_avg         Importance: 0.0102\n",
      "Variable: rain                 Importance: 0.008\n",
      "Variable: temp_min_abs         Importance: 0.0079\n",
      "Variable: food_blueberry       Importance: 0.0073\n",
      "Variable: sun                  Importance: 0.0068\n",
      "Variable: wind_max             Importance: 0.0067\n",
      "Variable: rain_cum             Importance: 0.0062\n",
      "Variable: wind_avg             Importance: 0.0055\n",
      "Variable: food_pear            Importance: 0.0041\n",
      "Variable: colonies_amount      Importance: 0.0\n",
      "Variable: food_raspberry       Importance: 0.0\n",
      "Variable: Cluster              Importance: 0.0\n"
     ]
    }
   ],
   "source": [
    "# Get numerical feature importances\n",
    "feature_list_2 = list(train_x_2.columns)\n",
    "\n",
    "# List of tuples with variable and importance\n",
    "importances_2 = list(rf_2.feature_importances_)\n",
    "feature_importances_2 = [(feature, round(importance, 4)) for feature, importance in zip(feature_list_2, importances_2)]\n",
    "\n",
    "# Sort the feature importances by most important first\n",
    "feature_importances_2 = sorted(feature_importances_2, key = lambda x: x[1], reverse = True)\n",
    "\n",
    "# Print out the feature and importances \n",
    "[print('Variable: {:20} Importance: {}'.format(*pair)) for pair in feature_importances_2];"
   ]
  },
  {
   "cell_type": "code",
   "execution_count": 144,
   "metadata": {},
   "outputs": [
    {
     "name": "stdout",
     "output_type": "stream",
     "text": [
      "Variable: rain_1mm             Importance: 0.3503\n",
      "Variable: population           Importance: 0.1206\n",
      "Variable: wind_max_avg         Importance: 0.0893\n",
      "Variable: rain                 Importance: 0.0765\n",
      "Variable: colonies_amount      Importance: 0.0658\n",
      "Variable: wind_max             Importance: 0.0338\n",
      "Variable: rain_cum             Importance: 0.0333\n",
      "Variable: lev_mid              Importance: 0.0314\n",
      "Variable: lev_min              Importance: 0.0279\n",
      "Variable: hum                  Importance: 0.0251\n",
      "Variable: food_apple           Importance: 0.0242\n",
      "Variable: temp_max_avg         Importance: 0.0206\n",
      "Variable: rain_max_day         Importance: 0.0167\n",
      "Variable: lev_max              Importance: 0.0153\n",
      "Variable: food_fruit           Importance: 0.0137\n",
      "Variable: wind_avg             Importance: 0.0117\n",
      "Variable: food_kiwi            Importance: 0.0099\n",
      "Variable: temp_max_abs         Importance: 0.0078\n",
      "Variable: sun                  Importance: 0.005\n",
      "Variable: food_blueberry       Importance: 0.0045\n",
      "Variable: rain_max_10          Importance: 0.0041\n",
      "Variable: temp_avg             Importance: 0.0035\n",
      "Variable: food_txakoli         Importance: 0.0034\n",
      "Variable: freez                Importance: 0.0031\n",
      "Variable: temp_min_abs         Importance: 0.0023\n",
      "Variable: food_pear            Importance: 0.0\n",
      "Variable: food_raspberry       Importance: 0.0\n",
      "Variable: Cluster              Importance: 0.0\n"
     ]
    }
   ],
   "source": [
    "# Get numerical feature importances\n",
    "feature_list_3 = list(train_x_3.columns)\n",
    "\n",
    "# List of tuples with variable and importance\n",
    "importances_3 = list(rf_3.feature_importances_)\n",
    "feature_importances_3 = [(feature, round(importance, 4)) for feature, importance in zip(feature_list_3, importances_3)]\n",
    "\n",
    "# Sort the feature importances by most important first\n",
    "feature_importances_3 = sorted(feature_importances_3, key = lambda x: x[1], reverse = True)\n",
    "\n",
    "# Print out the feature and importances \n",
    "[print('Variable: {:20} Importance: {}'.format(*pair)) for pair in feature_importances_3];"
   ]
  },
  {
   "cell_type": "markdown",
   "metadata": {},
   "source": [
    "# New model with relevant variables"
   ]
  },
  {
   "cell_type": "code",
   "execution_count": null,
   "metadata": {},
   "outputs": [],
   "source": [
    "# Train new models by cluster\n",
    "\n",
    "train2_x_0 = queen_train.loc[queen_train.Cluster == 0 ,['food_fruit', 'food_txakoli', 'population', 'lev_max']]   \n",
    "train2_x_1 = queen_train.loc[queen_train.Cluster == 1 ,['food_fruit']]\n",
    "train2_x_2 = queen_train.loc[queen_train.Cluster == 2 ,['lev_max']] \n",
    "train2_x_3 = queen_train.loc[queen_train.Cluster == 3 ,['rain_1mm']]\n",
    " \n",
    "rf_0.fit(train2_x_0, train_y_0)\n",
    "rf_1.fit(train2_x_1, train_y_1)\n",
    "rf_2.fit(train2_x_2, train_y_2)\n",
    "rf_3.fit(train2_x_3, train_y_3)"
   ]
  },
  {
   "cell_type": "markdown",
   "metadata": {},
   "source": [
    "# Predictions"
   ]
  },
  {
   "cell_type": "code",
   "execution_count": 125,
   "metadata": {},
   "outputs": [],
   "source": [
    "queen_predict_0 = queen_predict.loc[queen_predict.Cluster == 0, :].copy(True)\n",
    "queen_predict_1 = queen_predict.loc[queen_predict.Cluster == 1 , :].copy(True)\n",
    "queen_predict_2 = queen_predict.loc[queen_predict.Cluster == 2 ,:].copy(True)\n",
    "queen_predict_3 = queen_predict.loc[queen_predict.Cluster == 3 ,:].copy(True)\n"
   ]
  },
  {
   "cell_type": "code",
   "execution_count": 126,
   "metadata": {},
   "outputs": [],
   "source": [
    "predictions_0 = rf_0.predict(queen_predict_0.loc[:,['food_fruit', 'food_txakoli', 'population', 'lev_max']])\n",
    "predictions_1 = rf_1.predict(queen_predict_1.loc[:,['food_fruit']])\n",
    "predictions_2 = rf_2.predict(queen_predict_2.loc[:,['lev_max']])\n",
    "predictions_3 = rf_3.predict(queen_predict_3.loc[:,['rain_1mm']])"
   ]
  },
  {
   "cell_type": "code",
   "execution_count": 127,
   "metadata": {},
   "outputs": [],
   "source": [
    "queen_predict_0['nests_2020'] = predictions_0\n",
    "queen_predict_1['nests_2020'] = predictions_1\n",
    "queen_predict_2['nests_2020'] = predictions_2\n",
    "queen_predict_3['nests_2020'] = predictions_3"
   ]
  },
  {
   "cell_type": "code",
   "execution_count": 128,
   "metadata": {},
   "outputs": [],
   "source": [
    "HEX_0 = queen_predict_0.loc[:,['municip_code','municip_name','nests_2020']].groupby(by=['municip_code','municip_name'], as_index=False).sum().round().dropna()\n",
    "HEX_1 = queen_predict_1.loc[:,['municip_code','municip_name','nests_2020']].groupby(by=['municip_code','municip_name'], as_index=False).sum().round().dropna()\n",
    "HEX_2 = queen_predict_2.loc[:,['municip_code','municip_name','nests_2020']].groupby(by=['municip_code','municip_name'], as_index=False).sum().round().dropna()\n",
    "HEX_3 = queen_predict_3.loc[:,['municip_code','municip_name','nests_2020']].groupby(by=['municip_code','municip_name'], as_index=False).sum().round().dropna()\n"
   ]
  },
  {
   "cell_type": "code",
   "execution_count": 129,
   "metadata": {},
   "outputs": [],
   "source": [
    "aux = pd.DataFrame({\"municip_code\":[48020, 48022, 48071, 48088,48074,48051],\n",
    "                    \"municip_name\":['Bilbao','Karrantza Harana/Valle de Carranza','Muskiz', 'Ubide','UrduÃ±a/OrduÃ±a','Lanestosa'],\n",
    "                    \"nests_2020\":[0, 1, 0, 0, 1, 1]})"
   ]
  },
  {
   "cell_type": "code",
   "execution_count": 130,
   "metadata": {},
   "outputs": [],
   "source": [
    "HEX = HEX_0.append(HEX_1, ignore_index = True).append(HEX_2, ignore_index = True).append(HEX_3, ignore_index = True).append(aux, ignore_index = True)"
   ]
  },
  {
   "cell_type": "code",
   "execution_count": 131,
   "metadata": {},
   "outputs": [],
   "source": [
    "HEX.columns = ['CODIGO MUNICIPIO','NOMBRE MUNICIPIO','NIDOS 2020']"
   ]
  },
  {
   "cell_type": "code",
   "execution_count": 132,
   "metadata": {},
   "outputs": [],
   "source": [
    "HEX.to_csv('WaspBusters_20210519_RandomForestyears.csv', index=False)"
   ]
  },
  {
   "cell_type": "code",
   "execution_count": null,
   "metadata": {},
   "outputs": [],
   "source": []
  }
 ],
 "metadata": {
  "kernelspec": {
   "display_name": "Python 3",
   "language": "python",
   "name": "python3"
  },
  "language_info": {
   "codemirror_mode": {
    "name": "ipython",
    "version": 3
   },
   "file_extension": ".py",
   "mimetype": "text/x-python",
   "name": "python",
   "nbconvert_exporter": "python",
   "pygments_lexer": "ipython3",
   "version": "3.8.5"
  }
 },
 "nbformat": 4,
 "nbformat_minor": 4
}

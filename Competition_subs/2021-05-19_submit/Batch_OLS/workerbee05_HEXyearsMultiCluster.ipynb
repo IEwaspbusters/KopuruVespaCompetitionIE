{
 "cells": [
  {
   "cell_type": "markdown",
   "id": "7766cce7-a0e7-4b55-9582-980cd2482fc2",
   "metadata": {
    "id": "9nkDv5dppU6B"
   },
   "source": [
    "# HEX algorithm **Kopuru Vespa Velutina Competition**\n",
    "\n",
    "**Linear Regression model**\n",
    "\n",
    "Purpose: Predict the number of Nests in each of Biscay's 112 municipalities for the year 2020.\n",
    "\n",
    "Output: *(WaspBusters_20210512_batch_OLSyears.csv)*\n",
    "\n",
    "@authors:\n",
    "* mario.bejar@student.ie.edu\n",
    "* pedro.geirinhas@student.ie.edu\n",
    "* a.berrizbeitia@student.ie.edu\n",
    "* pcasaverde@student.ie.edu"
   ]
  },
  {
   "cell_type": "markdown",
   "id": "c60e3d67-b7a8-42cc-9471-869d0e6cce8f",
   "metadata": {},
   "source": [
    "## Libraries"
   ]
  },
  {
   "cell_type": "code",
   "execution_count": 1,
   "id": "e221fd74-3f1c-4594-9011-94c90de48163",
   "metadata": {},
   "outputs": [],
   "source": [
    "# Base packages -----------------------------------\n",
    "import numpy as np\n",
    "import pandas as pd\n",
    "\n",
    "# Visualization -----------------------------------\n",
    "from matplotlib import pyplot\n",
    "\n",
    "# Scaling data ------------------------------------\n",
    "from sklearn import preprocessing\n",
    "\n",
    "# Linear Regression -------------------------------\n",
    "from statsmodels.formula.api import ols\n",
    "#from sklearn.datasets import make_regression\n",
    "from sklearn.linear_model import LinearRegression\n"
   ]
  },
  {
   "cell_type": "markdown",
   "id": "bf6b6a79-3b41-4f85-bab8-b394aeda7f77",
   "metadata": {},
   "source": [
    "## Functions"
   ]
  },
  {
   "cell_type": "code",
   "execution_count": 2,
   "id": "37489ce6-bcda-49e9-a0e8-9e9eae3954a0",
   "metadata": {},
   "outputs": [],
   "source": [
    "# Function that checks if final Output is ready for submission or needs revision   \n",
    "\n",
    "def check_data(HEX):\n",
    "\n",
    "    if HEX.shape == (112, 3):\n",
    "        print(HEX.shape,\": Shape is correct.\")\n",
    "    else:\n",
    "        print(HEX.shape,\": Shape is **INCORRECT!**\")\n",
    "\n",
    "    if HEX[\"CODIGO MUNICIPIO\"].nunique() == 112:\n",
    "        print(HEX[\"CODIGO MUNICIPIO\"].nunique(),\": Number of unique municipalities is correct.\")\n",
    "    else:\n",
    "        print(HEX[\"CODIGO MUNICIPIO\"].nunique(),\": Number of unique municipalities is **INCORRECT!**\")\n",
    "        \n",
    "    if any(HEX[\"NIDOS 2020\"] < 0):\n",
    "        print(\"**INCORRECT!** At least one municipality has NESTS <= 0.\")\n",
    "    else:\n",
    "        print(\"Great! All municipalities have NESTS >= 0.\")\n",
    "    \n",
    "    print(\"The Total 2020 Nests' Prediction is\", int(HEX[\"NIDOS 2020\"].sum()))"
   ]
  },
  {
   "cell_type": "markdown",
   "id": "3eff056c-41e9-4220-9b2e-f0ddd845a46a",
   "metadata": {},
   "source": [
    "## Get the data"
   ]
  },
  {
   "cell_type": "code",
   "execution_count": 3,
   "id": "fc6428aa-0349-4843-b72f-c9cd23fd171c",
   "metadata": {},
   "outputs": [],
   "source": [
    "QUEEN_train = pd.read_csv('./WBds03_QUEENtrainYEARS.csv', sep=',')\n",
    "QUEEN_predict = pd.read_csv('./WBds03_QUEENpredictYEARS.csv', sep=',')\n",
    "\n",
    "clusters = pd.read_csv(\"../../../Other_open_data/cluster.csv\")"
   ]
  },
  {
   "cell_type": "code",
   "execution_count": 4,
   "id": "a928dc79-c853-4473-8727-bfc2bf531450",
   "metadata": {
    "tags": []
   },
   "outputs": [],
   "source": [
    "#QUEEN_predict.isnull().sum()"
   ]
  },
  {
   "cell_type": "code",
   "execution_count": 5,
   "id": "1f822825-ae00-49aa-944c-3d1574b16ad5",
   "metadata": {},
   "outputs": [
    {
     "data": {
      "text/plain": [
       "(224, 32)"
      ]
     },
     "execution_count": 5,
     "metadata": {},
     "output_type": "execute_result"
    }
   ],
   "source": [
    "QUEEN_train.shape"
   ]
  },
  {
   "cell_type": "code",
   "execution_count": 6,
   "id": "97934c8c-c01a-4efd-98de-20b8de53731f",
   "metadata": {},
   "outputs": [
    {
     "data": {
      "text/plain": [
       "(112, 32)"
      ]
     },
     "execution_count": 6,
     "metadata": {},
     "output_type": "execute_result"
    }
   ],
   "source": [
    "QUEEN_predict.shape"
   ]
  },
  {
   "cell_type": "markdown",
   "id": "694d1ce2-9927-4e1e-914c-8ff35476d7a6",
   "metadata": {},
   "source": [
    "## Caracterize in clusters"
   ]
  },
  {
   "cell_type": "code",
   "execution_count": 7,
   "id": "e3c48590-644d-4b24-91c2-1faf1dc642bf",
   "metadata": {},
   "outputs": [],
   "source": [
    "QUEEN_train = pd.merge(QUEEN_train, clusters, how = 'left', left_on = 'municip_code', right_on = 'CODIGO MUNICIPIO')\n",
    "QUEEN_predict = pd.merge(QUEEN_predict, clusters, how = 'left', left_on = 'municip_code', right_on = 'CODIGO MUNICIPIO')"
   ]
  },
  {
   "cell_type": "code",
   "execution_count": 8,
   "id": "129a098f-3f32-427c-b592-5de877573bec",
   "metadata": {},
   "outputs": [],
   "source": [
    "QUEEN_train.drop(columns = ['CODIGO MUNICIPIO'], inplace=True)\n",
    "QUEEN_predict.drop(columns = ['CODIGO MUNICIPIO'], inplace=True)"
   ]
  },
  {
   "cell_type": "code",
   "execution_count": 9,
   "id": "2740866e-8135-4e91-96c0-762fe71eec6b",
   "metadata": {},
   "outputs": [],
   "source": [
    "QUEEN_train.fillna(4, inplace=True)\n",
    "QUEEN_predict.fillna(4, inplace=True)"
   ]
  },
  {
   "cell_type": "code",
   "execution_count": 10,
   "id": "87e6e96a-fc38-42dc-bd2b-7230f971d400",
   "metadata": {},
   "outputs": [
    {
     "data": {
      "text/plain": [
       "(224, 33)"
      ]
     },
     "execution_count": 10,
     "metadata": {},
     "output_type": "execute_result"
    }
   ],
   "source": [
    "QUEEN_train.shape"
   ]
  },
  {
   "cell_type": "code",
   "execution_count": 11,
   "id": "22140af5-954f-4cee-b98f-7df933a6aa10",
   "metadata": {},
   "outputs": [
    {
     "data": {
      "text/plain": [
       "(112, 33)"
      ]
     },
     "execution_count": 11,
     "metadata": {},
     "output_type": "execute_result"
    }
   ],
   "source": [
    "QUEEN_predict.shape"
   ]
  },
  {
   "cell_type": "code",
   "execution_count": 12,
   "id": "ba391735-1d39-46af-bdc8-956e34bcf0e1",
   "metadata": {
    "tags": []
   },
   "outputs": [],
   "source": [
    "#QUEEN_train.isnull().sum()"
   ]
  },
  {
   "cell_type": "code",
   "execution_count": 13,
   "id": "7fedca52-dcdd-49ff-b31a-9ba6610b2baf",
   "metadata": {
    "tags": []
   },
   "outputs": [],
   "source": [
    "#QUEEN_predict.isnull().sum()"
   ]
  },
  {
   "cell_type": "code",
   "execution_count": 14,
   "id": "43c132b1-4e24-4ac4-82e2-276cd5331250",
   "metadata": {},
   "outputs": [
    {
     "data": {
      "text/plain": [
       "0.0    142\n",
       "1.0     28\n",
       "2.0     22\n",
       "3.0     20\n",
       "4.0     12\n",
       "Name: Cluster, dtype: int64"
      ]
     },
     "execution_count": 14,
     "metadata": {},
     "output_type": "execute_result"
    }
   ],
   "source": [
    "QUEEN_train.Cluster.value_counts()"
   ]
  },
  {
   "cell_type": "markdown",
   "id": "326d88ec-3bf9-43ef-ad37-031b5e508802",
   "metadata": {},
   "source": [
    "## Determine feature importance"
   ]
  },
  {
   "cell_type": "code",
   "execution_count": 134,
   "id": "7a8aea40-8e17-4cd8-ab4f-a504712f0f0c",
   "metadata": {},
   "outputs": [],
   "source": [
    "X = QUEEN_train.drop(columns = ['municip_name', 'municip_code', 'NESTS', 'station_code'])"
   ]
  },
  {
   "cell_type": "code",
   "execution_count": 135,
   "id": "10a3394b-87c2-475b-afa8-e38132238f77",
   "metadata": {},
   "outputs": [],
   "source": [
    "y = QUEEN_train['NESTS']"
   ]
  },
  {
   "cell_type": "code",
   "execution_count": 136,
   "id": "22a0d35c-cc3b-48fc-9a32-a79d56f191f6",
   "metadata": {},
   "outputs": [],
   "source": [
    "# Scale the datasets using MinMaxScaler\n",
    "\n",
    "scalators = X.columns\n",
    "X[scalators] = preprocessing.minmax_scale(X[scalators])"
   ]
  },
  {
   "cell_type": "code",
   "execution_count": 137,
   "id": "a76b5c13-f485-4b9f-b472-1679e515b365",
   "metadata": {},
   "outputs": [
    {
     "name": "stdout",
     "output_type": "stream",
     "text": [
      "Feature: year_offset, Score: -21.89408\n",
      "Feature: colonies_amount, Score: 1.33326\n",
      "Feature: food_fruit, Score: 72.62454\n",
      "Feature: food_apple, Score: -28.24799\n",
      "Feature: food_txakoli, Score: 20.46796\n",
      "Feature: food_kiwi, Score: -15.26360\n",
      "Feature: food_pear, Score: -12.29158\n",
      "Feature: food_blueberry, Score: 12.13786\n",
      "Feature: food_raspberry, Score: -0.98266\n",
      "Feature: freez, Score: -13.10643\n",
      "Feature: hum, Score: 13.68445\n",
      "Feature: lev_max, Score: -23.28566\n",
      "Feature: lev_mid, Score: 46.74944\n",
      "Feature: lev_min, Score: 0.87330\n",
      "Feature: rain, Score: 58.36650\n",
      "Feature: rain_1mm, Score: -12.22603\n",
      "Feature: rain_cum, Score: -15.29612\n",
      "Feature: rain_max_10, Score: -9.36346\n",
      "Feature: rain_max_day, Score: 28.97567\n",
      "Feature: sun, Score: 12.91488\n",
      "Feature: temp_avg, Score: 45.27228\n",
      "Feature: temp_max_abs, Score: 45.28658\n",
      "Feature: temp_max_avg, Score: -77.50021\n",
      "Feature: temp_min_abs, Score: -13.78337\n",
      "Feature: wind_avg, Score: 1.26512\n",
      "Feature: wind_max, Score: 17.40775\n",
      "Feature: wind_max_avg, Score: -5.63577\n",
      "Feature: population, Score: 22.81380\n",
      "Feature: Cluster, Score: -10.02707\n"
     ]
    }
   ],
   "source": [
    "# define the model\n",
    "model_fi = LinearRegression()\n",
    "\n",
    "# fit the model\n",
    "model_fi.fit(X, y)\n",
    "\n",
    "# get importance\n",
    "importance = model_fi.coef_\n",
    "\n",
    "# summarize feature importance\n",
    "for i,v in enumerate(importance):\n",
    "\tprint('Feature: %0s, Score: %.5f' % (X.columns[i],v))"
   ]
  },
  {
   "cell_type": "code",
   "execution_count": 138,
   "id": "68fe56fe-0d87-41ce-ae70-4110e1c93aaf",
   "metadata": {},
   "outputs": [
    {
     "data": {
      "image/png": "[encoded data removed]",
      "text/plain": [
       "<Figure size 432x288 with 1 Axes>"
      ]
     },
     "metadata": {
      "needs_background": "light"
     },
     "output_type": "display_data"
    }
   ],
   "source": [
    "# plot feature importance\n",
    "pyplot.bar([x for x in range(len(importance))], importance)\n",
    "pyplot.show()"
   ]
  },
  {
   "cell_type": "code",
   "execution_count": 139,
   "id": "7171515b-39ea-4fa3-8502-1ad29223d9ce",
   "metadata": {},
   "outputs": [
    {
     "name": "stdout",
     "output_type": "stream",
     "text": [
      "Feature: year_offset, Score: -21.89\n",
      "Feature: food_fruit, Score: 72.62\n",
      "Feature: food_apple, Score: -28.25\n",
      "Feature: food_txakoli, Score: 20.47\n",
      "Feature: food_kiwi, Score: -15.26\n",
      "Feature: lev_max, Score: -23.29\n",
      "Feature: lev_mid, Score: 46.75\n",
      "Feature: rain, Score: 58.37\n",
      "Feature: rain_cum, Score: -15.30\n",
      "Feature: rain_max_day, Score: 28.98\n",
      "Feature: temp_avg, Score: 45.27\n",
      "Feature: temp_max_abs, Score: 45.29\n",
      "Feature: temp_max_avg, Score: -77.50\n",
      "Feature: wind_max, Score: 17.41\n",
      "Feature: population, Score: 22.81\n"
     ]
    }
   ],
   "source": [
    "for i,v in enumerate(importance):\n",
    "    if abs(v) > 15:\n",
    "        print('Feature: %0s, Score: %.2f' % (X.columns[i],v))"
   ]
  },
  {
   "cell_type": "markdown",
   "id": "36b0df4a-03bf-4608-8e00-7f8de6b8fa50",
   "metadata": {},
   "source": [
    "## Train the model"
   ]
  },
  {
   "cell_type": "markdown",
   "id": "d338aa21-ba48-45d3-beff-409a08986d38",
   "metadata": {},
   "source": [
    "### With the variables suggested by the Feature Importance method"
   ]
  },
  {
   "cell_type": "code",
   "execution_count": 140,
   "id": "6b8fffb8-297a-4349-968f-c55e569cf87e",
   "metadata": {},
   "outputs": [
    {
     "name": "stdout",
     "output_type": "stream",
     "text": [
      "                            OLS Regression Results                            \n",
      "==============================================================================\n",
      "Dep. Variable:                  NESTS   R-squared:                       0.258\n",
      "Model:                            OLS   Adj. R-squared:                  0.204\n",
      "Method:                 Least Squares   F-statistic:                     4.820\n",
      "Date:                Wed, 26 May 2021   Prob (F-statistic):           5.27e-08\n",
      "Time:                        00:51:02   Log-Likelihood:                -1051.5\n",
      "No. Observations:                 224   AIC:                             2135.\n",
      "Df Residuals:                     208   BIC:                             2190.\n",
      "Df Model:                          15                                         \n",
      "Covariance Type:            nonrobust                                         \n",
      "================================================================================\n",
      "                   coef    std err          t      P>|t|      [0.025      0.975]\n",
      "--------------------------------------------------------------------------------\n",
      "Intercept     5.526e+04   1.57e+04      3.520      0.001    2.43e+04    8.62e+04\n",
      "year_offset    -27.4899      7.803     -3.523      0.001     -42.874     -12.106\n",
      "food_fruit       0.2523      0.089      2.837      0.005       0.077       0.428\n",
      "food_apple      -0.5432      0.340     -1.596      0.112      -1.214       0.128\n",
      "food_txakoli     0.1775      0.087      2.033      0.043       0.005       0.350\n",
      "food_kiwi       -0.4133      0.375     -1.101      0.272      -1.153       0.327\n",
      "lev_max         -3.6733      2.335     -1.573      0.117      -8.276       0.929\n",
      "lev_mid         61.3988     26.513      2.316      0.022       9.131     113.666\n",
      "rain             9.6071      4.066      2.362      0.019       1.590      17.624\n",
      "rain_cum        -0.3685      0.230     -1.602      0.111      -0.822       0.085\n",
      "rain_max_day     0.2989      0.143      2.084      0.038       0.016       0.582\n",
      "temp_avg         6.6735      2.114      3.156      0.002       2.505      10.842\n",
      "temp_max_abs     3.6417      1.863      1.955      0.052      -0.031       7.314\n",
      "temp_max_avg    -5.9528      2.822     -2.109      0.036     -11.516      -0.389\n",
      "wind_max         0.0924      0.112      0.825      0.410      -0.128       0.313\n",
      "population    5.706e-05   5.49e-05      1.039      0.300   -5.12e-05       0.000\n",
      "==============================================================================\n",
      "Omnibus:                      169.574   Durbin-Watson:                   1.380\n",
      "Prob(Omnibus):                  0.000   Jarque-Bera (JB):             2385.443\n",
      "Skew:                           2.817   Prob(JB):                         0.00\n",
      "Kurtosis:                      17.961   Cond. No.                     3.12e+08\n",
      "==============================================================================\n",
      "\n",
      "Notes:\n",
      "[1] Standard Errors assume that the covariance matrix of the errors is correctly specified.\n",
      "[2] The condition number is large, 3.12e+08. This might indicate that there are\n",
      "strong multicollinearity or other numerical problems.\n"
     ]
    }
   ],
   "source": [
    "model = ols('NESTS ~ year_offset + food_fruit + food_apple + food_txakoli + food_kiwi + lev_max + lev_mid + rain + rain_cum + rain_max_day + temp_avg + temp_max_abs + temp_max_avg + wind_max + population',\\\n",
    "            data=QUEEN_train).fit()\n",
    "print(model.summary())"
   ]
  },
  {
   "cell_type": "markdown",
   "id": "834a3c23-21b2-4b9d-862f-69e3f273c6c6",
   "metadata": {},
   "source": [
    "### Backward elimination"
   ]
  },
  {
   "cell_type": "code",
   "execution_count": 141,
   "id": "f8891da6-e81f-489a-b5a2-1cb65de4651a",
   "metadata": {},
   "outputs": [
    {
     "name": "stdout",
     "output_type": "stream",
     "text": [
      "                            OLS Regression Results                            \n",
      "==============================================================================\n",
      "Dep. Variable:                  NESTS   R-squared:                       0.186\n",
      "Model:                            OLS   Adj. R-squared:                  0.168\n",
      "Method:                 Least Squares   F-statistic:                     9.995\n",
      "Date:                Wed, 26 May 2021   Prob (F-statistic):           1.26e-08\n",
      "Time:                        00:51:02   Log-Likelihood:                -1061.8\n",
      "No. Observations:                 224   AIC:                             2136.\n",
      "Df Residuals:                     218   BIC:                             2156.\n",
      "Df Model:                           5                                         \n",
      "Covariance Type:            nonrobust                                         \n",
      "================================================================================\n",
      "                   coef    std err          t      P>|t|      [0.025      0.975]\n",
      "--------------------------------------------------------------------------------\n",
      "Intercept     3.251e+04   7902.334      4.114      0.000    1.69e+04    4.81e+04\n",
      "year_offset    -16.1384      3.916     -4.122      0.000     -23.856      -8.421\n",
      "food_txakoli     0.2492      0.081      3.069      0.002       0.089       0.409\n",
      "lev_mid         31.5943     15.692      2.013      0.045       0.666      62.522\n",
      "temp_avg         2.9549      1.569      1.883      0.061      -0.138       6.048\n",
      "wind_max         0.2484      0.082      3.020      0.003       0.086       0.410\n",
      "==============================================================================\n",
      "Omnibus:                      184.584   Durbin-Watson:                   1.401\n",
      "Prob(Omnibus):                  0.000   Jarque-Bera (JB):             2883.578\n",
      "Skew:                           3.148   Prob(JB):                         0.00\n",
      "Kurtosis:                      19.410   Cond. No.                     8.51e+06\n",
      "==============================================================================\n",
      "\n",
      "Notes:\n",
      "[1] Standard Errors assume that the covariance matrix of the errors is correctly specified.\n",
      "[2] The condition number is large, 8.51e+06. This might indicate that there are\n",
      "strong multicollinearity or other numerical problems.\n"
     ]
    }
   ],
   "source": [
    "model = ols('NESTS ~ year_offset + food_txakoli + lev_mid + temp_avg + wind_max',\\\n",
    "            data=QUEEN_train).fit()\n",
    "print(model.summary())"
   ]
  },
  {
   "cell_type": "markdown",
   "id": "36ca108e-97a4-4e0d-aeec-28d88e348c4c",
   "metadata": {},
   "source": [
    "### With the Cluster Categorical"
   ]
  },
  {
   "cell_type": "code",
   "execution_count": 142,
   "id": "797e8bf5-fbf6-4039-bda3-b0e089d075cf",
   "metadata": {},
   "outputs": [
    {
     "name": "stdout",
     "output_type": "stream",
     "text": [
      "                            OLS Regression Results                            \n",
      "==============================================================================\n",
      "Dep. Variable:                  NESTS   R-squared:                       0.503\n",
      "Model:                            OLS   Adj. R-squared:                  0.482\n",
      "Method:                 Least Squares   F-statistic:                     24.03\n",
      "Date:                Wed, 26 May 2021   Prob (F-statistic):           3.82e-28\n",
      "Time:                        00:51:02   Log-Likelihood:                -1006.7\n",
      "No. Observations:                 224   AIC:                             2033.\n",
      "Df Residuals:                     214   BIC:                             2068.\n",
      "Df Model:                           9                                         \n",
      "Covariance Type:            nonrobust                                         \n",
      "=====================================================================================\n",
      "                        coef    std err          t      P>|t|      [0.025      0.975]\n",
      "-------------------------------------------------------------------------------------\n",
      "Intercept          3.334e+04   6261.208      5.325      0.000     2.1e+04    4.57e+04\n",
      "C(Cluster)[T.1.0]    47.3422      4.647     10.188      0.000      38.183      56.502\n",
      "C(Cluster)[T.2.0]    -7.3564      5.180     -1.420      0.157     -17.566       2.853\n",
      "C(Cluster)[T.3.0]   -10.8664      5.320     -2.043      0.042     -21.353      -0.380\n",
      "C(Cluster)[T.4.0]   -21.6811      7.388     -2.935      0.004     -36.244      -7.118\n",
      "year_offset         -16.5331      3.102     -5.329      0.000     -22.648     -10.418\n",
      "food_txakoli          0.1541      0.065      2.362      0.019       0.026       0.283\n",
      "lev_mid              31.1716     12.526      2.489      0.014       6.481      55.862\n",
      "temp_avg              0.6389      1.303      0.491      0.624      -1.928       3.206\n",
      "wind_max              0.2026      0.068      2.961      0.003       0.068       0.337\n",
      "==============================================================================\n",
      "Omnibus:                      184.574   Durbin-Watson:                   1.535\n",
      "Prob(Omnibus):                  0.000   Jarque-Bera (JB):             4110.647\n",
      "Skew:                           2.978   Prob(JB):                         0.00\n",
      "Kurtosis:                      23.124   Cond. No.                     8.54e+06\n",
      "==============================================================================\n",
      "\n",
      "Notes:\n",
      "[1] Standard Errors assume that the covariance matrix of the errors is correctly specified.\n",
      "[2] The condition number is large, 8.54e+06. This might indicate that there are\n",
      "strong multicollinearity or other numerical problems.\n"
     ]
    }
   ],
   "source": [
    "model = ols('NESTS ~ year_offset + food_txakoli + lev_mid + temp_avg + wind_max + C(Cluster)',\\\n",
    "            data=QUEEN_train).fit()\n",
    "print(model.summary())"
   ]
  },
  {
   "cell_type": "markdown",
   "id": "ef41ba89-339e-4208-ac6e-c0c3143d70b7",
   "metadata": {},
   "source": [
    "## Predict 2020's nests"
   ]
  },
  {
   "cell_type": "code",
   "execution_count": 143,
   "id": "d250afb1-2573-46ab-8767-98586cdfdb12",
   "metadata": {},
   "outputs": [
    {
     "data": {
      "text/plain": [
       "0     -11.178546\n",
       "1      49.010401\n",
       "2      -9.957574\n",
       "3      -7.837270\n",
       "4      42.890619\n",
       "         ...    \n",
       "107    -0.984726\n",
       "108    -8.011847\n",
       "109     2.825910\n",
       "110     7.361850\n",
       "111   -22.204653\n",
       "Length: 112, dtype: float64"
      ]
     },
     "execution_count": 143,
     "metadata": {},
     "output_type": "execute_result"
    }
   ],
   "source": [
    "y_2020 = model.predict(QUEEN_predict)\n",
    "y_2020"
   ]
  },
  {
   "cell_type": "code",
   "execution_count": 144,
   "id": "5a2b71e3-c516-4521-9670-80c3b4ad3238",
   "metadata": {},
   "outputs": [
    {
     "data": {
      "text/plain": [
       "0       0.000000\n",
       "1      49.010401\n",
       "2       0.000000\n",
       "3       0.000000\n",
       "4      42.890619\n",
       "         ...    \n",
       "107     0.000000\n",
       "108     0.000000\n",
       "109     2.825910\n",
       "110     7.361850\n",
       "111     0.000000\n",
       "Length: 112, dtype: float64"
      ]
     },
     "execution_count": 144,
     "metadata": {},
     "output_type": "execute_result"
    }
   ],
   "source": [
    "# Any municipality resulting in NESTS<0 is equivalent to = 0\n",
    "\n",
    "y_2020[y_2020 < 0] = 0\n",
    "y_2020"
   ]
  },
  {
   "cell_type": "code",
   "execution_count": 145,
   "id": "8cd46748-e5c8-41d2-8ff1-91a4add2a5a1",
   "metadata": {},
   "outputs": [],
   "source": [
    "QUEEN_predict['NESTS'] = y_2020"
   ]
  },
  {
   "cell_type": "code",
   "execution_count": 146,
   "id": "fcd0d3d9-6837-4faf-9af6-4d0650cc728b",
   "metadata": {},
   "outputs": [],
   "source": [
    "HEX = QUEEN_predict.loc[:,['municip_code','municip_name','NESTS']].groupby(by=['municip_code','municip_name'], as_index=False).sum()"
   ]
  },
  {
   "cell_type": "code",
   "execution_count": 147,
   "id": "fd513ceb-00ad-4287-8b85-5e5ad431ecdb",
   "metadata": {},
   "outputs": [
    {
     "data": {
      "text/plain": [
       "990.9649611866259"
      ]
     },
     "execution_count": 147,
     "metadata": {},
     "output_type": "execute_result"
    }
   ],
   "source": [
    "y_2020.sum()"
   ]
  },
  {
   "cell_type": "markdown",
   "id": "e83d9c73-3781-4e53-bf5e-0cf9c2580f10",
   "metadata": {},
   "source": [
    "## Manual adjustments"
   ]
  },
  {
   "cell_type": "code",
   "execution_count": 148,
   "id": "4b1fddf3-568d-487d-acf0-be0538a316a2",
   "metadata": {},
   "outputs": [],
   "source": [
    "HEX.loc[HEX.municip_code.isin([48022, 48071, 48088, 48074, 48051, 48020]), 'NESTS'] = 0"
   ]
  },
  {
   "cell_type": "code",
   "execution_count": 149,
   "id": "e7c9a880-f373-4cca-8793-218fcc9a5ff8",
   "metadata": {},
   "outputs": [
    {
     "data": {
      "text/html": [
       "<div>\n",
       "<style scoped>\n",
       "    .dataframe tbody tr th:only-of-type {\n",
       "        vertical-align: middle;\n",
       "    }\n",
       "\n",
       "    .dataframe tbody tr th {\n",
       "        vertical-align: top;\n",
       "    }\n",
       "\n",
       "    .dataframe thead th {\n",
       "        text-align: right;\n",
       "    }\n",
       "</style>\n",
       "<table border=\"1\" class=\"dataframe\">\n",
       "  <thead>\n",
       "    <tr style=\"text-align: right;\">\n",
       "      <th></th>\n",
       "      <th>municip_code</th>\n",
       "      <th>municip_name</th>\n",
       "      <th>NESTS</th>\n",
       "    </tr>\n",
       "  </thead>\n",
       "  <tbody>\n",
       "    <tr>\n",
       "      <th>19</th>\n",
       "      <td>48020</td>\n",
       "      <td>Bilbao</td>\n",
       "      <td>0.0</td>\n",
       "    </tr>\n",
       "    <tr>\n",
       "      <th>21</th>\n",
       "      <td>48022</td>\n",
       "      <td>Karrantza Harana/Valle de Carranza</td>\n",
       "      <td>0.0</td>\n",
       "    </tr>\n",
       "    <tr>\n",
       "      <th>50</th>\n",
       "      <td>48051</td>\n",
       "      <td>Lanestosa</td>\n",
       "      <td>0.0</td>\n",
       "    </tr>\n",
       "    <tr>\n",
       "      <th>70</th>\n",
       "      <td>48071</td>\n",
       "      <td>Muskiz</td>\n",
       "      <td>0.0</td>\n",
       "    </tr>\n",
       "    <tr>\n",
       "      <th>73</th>\n",
       "      <td>48074</td>\n",
       "      <td>Urduña/Orduña</td>\n",
       "      <td>0.0</td>\n",
       "    </tr>\n",
       "    <tr>\n",
       "      <th>87</th>\n",
       "      <td>48088</td>\n",
       "      <td>Ubide</td>\n",
       "      <td>0.0</td>\n",
       "    </tr>\n",
       "  </tbody>\n",
       "</table>\n",
       "</div>"
      ],
      "text/plain": [
       "    municip_code                        municip_name  NESTS\n",
       "19         48020                              Bilbao    0.0\n",
       "21         48022  Karrantza Harana/Valle de Carranza    0.0\n",
       "50         48051                           Lanestosa    0.0\n",
       "70         48071                              Muskiz    0.0\n",
       "73         48074                       Urduña/Orduña    0.0\n",
       "87         48088                               Ubide    0.0"
      ]
     },
     "execution_count": 149,
     "metadata": {},
     "output_type": "execute_result"
    }
   ],
   "source": [
    "HEX.loc[HEX.municip_code.isin([48022, 48071, 48088, 48074, 48051, 48020]), :]"
   ]
  },
  {
   "cell_type": "code",
   "execution_count": 150,
   "id": "ffe08eff-aadc-442f-a84e-63f7427235d3",
   "metadata": {},
   "outputs": [],
   "source": [
    "HEX.columns = [\"CODIGO MUNICIPIO\", \"NOMBRE MUNICIPIO\", \"NIDOS 2020\"] # change column names to Spanish (Competition template)"
   ]
  },
  {
   "cell_type": "markdown",
   "id": "e6835b86-6239-4592-ab5b-419579682fc1",
   "metadata": {},
   "source": [
    "## Verify dataset format"
   ]
  },
  {
   "cell_type": "code",
   "execution_count": 151,
   "id": "23c670dc-0519-4dbf-b909-90583c91e39f",
   "metadata": {},
   "outputs": [
    {
     "name": "stdout",
     "output_type": "stream",
     "text": [
      "(112, 3) : Shape is correct.\n",
      "112 : Number of unique municipalities is correct.\n",
      "Great! All municipalities have NESTS >= 0.\n",
      "The Total 2020 Nests' Prediction is 990\n"
     ]
    }
   ],
   "source": [
    "check_data(HEX)"
   ]
  },
  {
   "cell_type": "markdown",
   "id": "c9b74131-7aff-4917-a606-7b0a63112c6e",
   "metadata": {},
   "source": [
    "## Export dataset for submission"
   ]
  },
  {
   "cell_type": "code",
   "execution_count": 152,
   "id": "96153bc3-3289-4a73-b091-79c2aa571d8e",
   "metadata": {},
   "outputs": [],
   "source": [
    "HEX.to_csv('WaspBusters_20210519_OLSyearsClusters.csv', index=False)"
   ]
  }
 ],
 "metadata": {
  "kernelspec": {
   "display_name": "Python 3",
   "language": "python",
   "name": "python3"
  },
  "language_info": {
   "codemirror_mode": {
    "name": "ipython",
    "version": 3
   },
   "file_extension": ".py",
   "mimetype": "text/x-python",
   "name": "python",
   "nbconvert_exporter": "python",
   "pygments_lexer": "ipython3",
   "version": "3.8.8"
  }
 },
 "nbformat": 4,
 "nbformat_minor": 5
}

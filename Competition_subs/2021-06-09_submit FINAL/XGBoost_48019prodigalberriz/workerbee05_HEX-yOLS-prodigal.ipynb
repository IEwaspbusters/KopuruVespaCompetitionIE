{
 "cells": [
  {
   "cell_type": "markdown",
   "id": "7766cce7-a0e7-4b55-9582-980cd2482fc2",
   "metadata": {
    "id": "9nkDv5dppU6B"
   },
   "source": [
    "# HEX algorithm **Kopuru Vespa Velutina Competition**\n",
    "\n",
    "**Linear Regression model**\n",
    "\n",
    "Purpose: Predict the number of Nests in each of Biscay's 112 municipalities for the year 2020.\n",
    "\n",
    "Output: *(WaspBusters_20210609_batch_OLSy_48019prodigal.csv)*\n",
    "\n",
    "@authors:\n",
    "* mario.bejar@student.ie.edu\n",
    "* pedro.geirinhas@student.ie.edu\n",
    "* a.berrizbeitia@student.ie.edu\n",
    "* pcasaverde@student.ie.edu"
   ]
  },
  {
   "cell_type": "markdown",
   "id": "c60e3d67-b7a8-42cc-9471-869d0e6cce8f",
   "metadata": {},
   "source": [
    "## Libraries"
   ]
  },
  {
   "cell_type": "code",
   "execution_count": 124,
   "id": "e221fd74-3f1c-4594-9011-94c90de48163",
   "metadata": {},
   "outputs": [],
   "source": [
    "# Base packages -----------------------------------\n",
    "import numpy as np\n",
    "import pandas as pd\n",
    "\n",
    "# Visualization -----------------------------------\n",
    "from matplotlib import pyplot\n",
    "\n",
    "# Scaling data ------------------------------------\n",
    "from sklearn import preprocessing\n",
    "\n",
    "# Linear Regression -------------------------------\n",
    "from statsmodels.formula.api import ols\n",
    "#from sklearn.datasets import make_regression\n",
    "from sklearn.linear_model import LinearRegression\n"
   ]
  },
  {
   "cell_type": "markdown",
   "id": "bf6b6a79-3b41-4f85-bab8-b394aeda7f77",
   "metadata": {},
   "source": [
    "## Functions"
   ]
  },
  {
   "cell_type": "code",
   "execution_count": 125,
   "id": "37489ce6-bcda-49e9-a0e8-9e9eae3954a0",
   "metadata": {},
   "outputs": [],
   "source": [
    "# Function that checks if final Output is ready for submission or needs revision   \n",
    "\n",
    "def check_data(HEX):\n",
    "\n",
    "    if HEX.shape == (112, 3):\n",
    "        print(HEX.shape,\": Shape is correct.\")\n",
    "    else:\n",
    "        print(HEX.shape,\": Shape is **INCORRECT!**\")\n",
    "\n",
    "    if HEX[\"CODIGO MUNICIPIO\"].nunique() == 112:\n",
    "        print(HEX[\"CODIGO MUNICIPIO\"].nunique(),\": Number of unique municipalities is correct.\")\n",
    "    else:\n",
    "        print(HEX[\"CODIGO MUNICIPIO\"].nunique(),\": Number of unique municipalities is **INCORRECT!**\")\n",
    "        \n",
    "    if any(HEX[\"NIDOS 2020\"] < 0):\n",
    "        print(\"**INCORRECT!** At least one municipality has NESTS <= 0.\")\n",
    "    else:\n",
    "        print(\"Great! All municipalities have NESTS >= 0.\")\n",
    "    \n",
    "    print(\"The Total 2020 Nests' Prediction is\", int(HEX[\"NIDOS 2020\"].sum()))"
   ]
  },
  {
   "cell_type": "markdown",
   "id": "3eff056c-41e9-4220-9b2e-f0ddd845a46a",
   "metadata": {},
   "source": [
    "## Get the data"
   ]
  },
  {
   "cell_type": "code",
   "execution_count": 126,
   "id": "fc6428aa-0349-4843-b72f-c9cd23fd171c",
   "metadata": {},
   "outputs": [],
   "source": [
    "QUEEN_train = pd.read_csv('../Feeder_years/WBds03_QUEENtrainYEARS.csv', sep=',')\n",
    "QUEEN_predict = pd.read_csv('../Feeder_years/WBds03_QUEENpredictYEARS.csv', sep=',')\n",
    "\n",
    "clusters = pd.read_csv(\"../Feeder_years/WBds_CLUSTERSnests.csv\")"
   ]
  },
  {
   "cell_type": "code",
   "execution_count": 127,
   "id": "a928dc79-c853-4473-8727-bfc2bf531450",
   "metadata": {
    "tags": []
   },
   "outputs": [],
   "source": [
    "#QUEEN_predict.isnull().sum()"
   ]
  },
  {
   "cell_type": "code",
   "execution_count": 128,
   "id": "1f822825-ae00-49aa-944c-3d1574b16ad5",
   "metadata": {},
   "outputs": [
    {
     "data": {
      "text/plain": [
       "(224, 40)"
      ]
     },
     "execution_count": 128,
     "metadata": {},
     "output_type": "execute_result"
    }
   ],
   "source": [
    "QUEEN_train.shape"
   ]
  },
  {
   "cell_type": "code",
   "execution_count": 129,
   "id": "97934c8c-c01a-4efd-98de-20b8de53731f",
   "metadata": {},
   "outputs": [
    {
     "data": {
      "text/plain": [
       "(112, 40)"
      ]
     },
     "execution_count": 129,
     "metadata": {},
     "output_type": "execute_result"
    }
   ],
   "source": [
    "QUEEN_predict.shape"
   ]
  },
  {
   "cell_type": "markdown",
   "id": "694d1ce2-9927-4e1e-914c-8ff35476d7a6",
   "metadata": {},
   "source": [
    "## Add in more Clusters (nest amount clusters)"
   ]
  },
  {
   "cell_type": "code",
   "execution_count": 130,
   "id": "e3c48590-644d-4b24-91c2-1faf1dc642bf",
   "metadata": {},
   "outputs": [],
   "source": [
    "QUEEN_train = pd.merge(QUEEN_train, clusters, how = 'left', on = ['municip_code', 'municip_name'])\n",
    "QUEEN_predict = pd.merge(QUEEN_predict, clusters, how = 'left', on = ['municip_code', 'municip_name'])"
   ]
  },
  {
   "cell_type": "code",
   "execution_count": 131,
   "id": "2740866e-8135-4e91-96c0-762fe71eec6b",
   "metadata": {},
   "outputs": [],
   "source": [
    "QUEEN_train.fillna(4, inplace=True)\n",
    "QUEEN_predict.fillna(4, inplace=True)"
   ]
  },
  {
   "cell_type": "code",
   "execution_count": 132,
   "id": "87e6e96a-fc38-42dc-bd2b-7230f971d400",
   "metadata": {},
   "outputs": [
    {
     "data": {
      "text/plain": [
       "(224, 41)"
      ]
     },
     "execution_count": 132,
     "metadata": {},
     "output_type": "execute_result"
    }
   ],
   "source": [
    "QUEEN_train.shape"
   ]
  },
  {
   "cell_type": "code",
   "execution_count": 133,
   "id": "22140af5-954f-4cee-b98f-7df933a6aa10",
   "metadata": {},
   "outputs": [
    {
     "data": {
      "text/plain": [
       "(112, 41)"
      ]
     },
     "execution_count": 133,
     "metadata": {},
     "output_type": "execute_result"
    }
   ],
   "source": [
    "QUEEN_predict.shape"
   ]
  },
  {
   "cell_type": "code",
   "execution_count": 134,
   "id": "47e1ae42-a99e-4031-81f7-55c21d84f34f",
   "metadata": {},
   "outputs": [],
   "source": [
    "#QUEEN_train.isnull().sum()"
   ]
  },
  {
   "cell_type": "code",
   "execution_count": 135,
   "id": "7fedca52-dcdd-49ff-b31a-9ba6610b2baf",
   "metadata": {
    "tags": []
   },
   "outputs": [],
   "source": [
    "#QUEEN_predict.isnull().sum()"
   ]
  },
  {
   "cell_type": "code",
   "execution_count": 136,
   "id": "a69adb9c-2de5-4e70-ac92-c217bd002910",
   "metadata": {},
   "outputs": [
    {
     "data": {
      "text/plain": [
       "0.0    66\n",
       "2.0    41\n",
       "1.0     4\n",
       "4.0     1\n",
       "Name: Cluster, dtype: int64"
      ]
     },
     "execution_count": 136,
     "metadata": {},
     "output_type": "execute_result"
    }
   ],
   "source": [
    "QUEEN_predict.Cluster.value_counts()"
   ]
  },
  {
   "cell_type": "markdown",
   "id": "326d88ec-3bf9-43ef-ad37-031b5e508802",
   "metadata": {},
   "source": [
    "## Determine feature importance"
   ]
  },
  {
   "cell_type": "code",
   "execution_count": 137,
   "id": "7a8aea40-8e17-4cd8-ab4f-a504712f0f0c",
   "metadata": {},
   "outputs": [],
   "source": [
    "X = QUEEN_train.drop(columns = ['municip_name', 'municip_code', 'NESTS', 'station_code'])"
   ]
  },
  {
   "cell_type": "code",
   "execution_count": 138,
   "id": "10a3394b-87c2-475b-afa8-e38132238f77",
   "metadata": {},
   "outputs": [],
   "source": [
    "y = QUEEN_train['NESTS']"
   ]
  },
  {
   "cell_type": "code",
   "execution_count": 139,
   "id": "22a0d35c-cc3b-48fc-9a32-a79d56f191f6",
   "metadata": {},
   "outputs": [],
   "source": [
    "# Scale the datasets using MinMaxScaler\n",
    "\n",
    "scalators = X.columns\n",
    "X[scalators] = preprocessing.minmax_scale(X[scalators])"
   ]
  },
  {
   "cell_type": "code",
   "execution_count": 140,
   "id": "a76b5c13-f485-4b9f-b472-1679e515b365",
   "metadata": {},
   "outputs": [
    {
     "name": "stdout",
     "output_type": "stream",
     "text": [
      "Feature: year_offset, Score: -23.73190\n",
      "Feature: colonies_amount, Score: 10.86255\n",
      "Feature: food_fruit, Score: 46.66294\n",
      "Feature: food_apple, Score: -15.59673\n",
      "Feature: food_txakoli, Score: 9.39300\n",
      "Feature: food_kiwi, Score: -5.88189\n",
      "Feature: food_pear, Score: -2.28616\n",
      "Feature: food_blueberry, Score: 10.79788\n",
      "Feature: food_raspberry, Score: 2.18019\n",
      "Feature: weath_days_frost, Score: 14.52300\n",
      "Feature: weath_humidity, Score: -8.86135\n",
      "Feature: weath_maxLevel, Score: 26.32008\n",
      "Feature: weath_midLevel, Score: -39.61315\n",
      "Feature: weath_minLevel, Score: 28.34454\n",
      "Feature: weath_days_rain, Score: 16.40050\n",
      "Feature: weath_days_rain1mm, Score: 10.72795\n",
      "Feature: weath_accuRainfall, Score: 3.07857\n",
      "Feature: weath_10minRainfall, Score: 0.43578\n",
      "Feature: weath_1dayRainfall, Score: 10.49641\n",
      "Feature: weath_solar, Score: 4.29147\n",
      "Feature: weath_meanTemp, Score: 14.61133\n",
      "Feature: weath_maxTemp, Score: 10.57683\n",
      "Feature: weath_maxMeanTemp, Score: -19.90402\n",
      "Feature: weath_minTemp, Score: 19.40286\n",
      "Feature: weath_meanWindM, Score: -1.94589\n",
      "Feature: weath_maxWindM, Score: 21.71391\n",
      "Feature: weath_meanDayMaxWind, Score: 10.90211\n",
      "Feature: population, Score: -2.14667\n",
      "Feature: cluster_size, Score: -43.68889\n",
      "Feature: cluster_cosmo, Score: 92.27631\n",
      "Feature: cluster_survive, Score: 10.50652\n",
      "Feature: cluster_food, Score: -6.50657\n",
      "Feature: cluster_weather_wet, Score: 1.17593\n",
      "Feature: cluster_weather_temp, Score: 0.56367\n",
      "Feature: cluster_weather_wind, Score: -4.77145\n",
      "Feature: cluster_weather_level, Score: -2.16575\n",
      "Feature: Cluster, Score: 0.86780\n"
     ]
    }
   ],
   "source": [
    "# define the model\n",
    "model_fi = LinearRegression()\n",
    "\n",
    "# fit the model\n",
    "model_fi.fit(X, y)\n",
    "\n",
    "# get importance\n",
    "importance = model_fi.coef_\n",
    "\n",
    "# summarize feature importance\n",
    "for i,v in enumerate(importance):\n",
    "\tprint('Feature: %0s, Score: %.5f' % (X.columns[i],v))"
   ]
  },
  {
   "cell_type": "code",
   "execution_count": 141,
   "id": "68fe56fe-0d87-41ce-ae70-4110e1c93aaf",
   "metadata": {},
   "outputs": [
    {
     "data": {
      "image/png": "[encoded data removed]",
      "text/plain": [
       "<Figure size 432x288 with 1 Axes>"
      ]
     },
     "metadata": {
      "needs_background": "light"
     },
     "output_type": "display_data"
    }
   ],
   "source": [
    "# plot feature importance\n",
    "pyplot.bar([x for x in range(len(importance))], importance)\n",
    "pyplot.show()"
   ]
  },
  {
   "cell_type": "code",
   "execution_count": 142,
   "id": "7171515b-39ea-4fa3-8502-1ad29223d9ce",
   "metadata": {},
   "outputs": [
    {
     "name": "stdout",
     "output_type": "stream",
     "text": [
      "Feature: year_offset, Score: -23.73\n",
      "Feature: colonies_amount, Score: 10.86\n",
      "Feature: food_fruit, Score: 46.66\n",
      "Feature: food_apple, Score: -15.60\n",
      "Feature: food_blueberry, Score: 10.80\n",
      "Feature: weath_days_frost, Score: 14.52\n",
      "Feature: weath_maxLevel, Score: 26.32\n",
      "Feature: weath_midLevel, Score: -39.61\n",
      "Feature: weath_minLevel, Score: 28.34\n",
      "Feature: weath_days_rain, Score: 16.40\n",
      "Feature: weath_days_rain1mm, Score: 10.73\n",
      "Feature: weath_1dayRainfall, Score: 10.50\n",
      "Feature: weath_meanTemp, Score: 14.61\n",
      "Feature: weath_maxTemp, Score: 10.58\n",
      "Feature: weath_maxMeanTemp, Score: -19.90\n",
      "Feature: weath_minTemp, Score: 19.40\n",
      "Feature: weath_maxWindM, Score: 21.71\n",
      "Feature: weath_meanDayMaxWind, Score: 10.90\n",
      "Feature: cluster_size, Score: -43.69\n",
      "Feature: cluster_cosmo, Score: 92.28\n",
      "Feature: cluster_survive, Score: 10.51\n"
     ]
    }
   ],
   "source": [
    "for i,v in enumerate(importance):\n",
    "    if abs(v) > 10:\n",
    "        print('Feature: %0s, Score: %.2f' % (X.columns[i],v))"
   ]
  },
  {
   "cell_type": "markdown",
   "id": "36b0df4a-03bf-4608-8e00-7f8de6b8fa50",
   "metadata": {},
   "source": [
    "## Train the model"
   ]
  },
  {
   "cell_type": "markdown",
   "id": "d338aa21-ba48-45d3-beff-409a08986d38",
   "metadata": {},
   "source": [
    "### With the variables suggested by the Feature Importance method"
   ]
  },
  {
   "cell_type": "code",
   "execution_count": 143,
   "id": "c2c2ea1c-93ea-4bfb-a0c0-16b4151a9953",
   "metadata": {},
   "outputs": [
    {
     "name": "stdout",
     "output_type": "stream",
     "text": [
      "                            OLS Regression Results                            \n",
      "==============================================================================\n",
      "Dep. Variable:                  NESTS   R-squared:                       0.743\n",
      "Model:                            OLS   Adj. R-squared:                  0.714\n",
      "Method:                 Least Squares   F-statistic:                     25.17\n",
      "Date:                Thu, 03 Jun 2021   Prob (F-statistic):           6.24e-47\n",
      "Time:                        10:43:29   Log-Likelihood:                -932.68\n",
      "No. Observations:                 224   AIC:                             1913.\n",
      "Df Residuals:                     200   BIC:                             1995.\n",
      "Df Model:                          23                                         \n",
      "Covariance Type:            nonrobust                                         \n",
      "===========================================================================================\n",
      "                              coef    std err          t      P>|t|      [0.025      0.975]\n",
      "-------------------------------------------------------------------------------------------\n",
      "Intercept                  12.4560     70.275      0.177      0.859    -126.119     151.031\n",
      "C(cluster_size)[T.1]      -13.4563      3.083     -4.364      0.000     -19.536      -7.376\n",
      "C(cluster_size)[T.2]       20.4378     18.745      1.090      0.277     -16.525      57.401\n",
      "C(cluster_size)[T.3]       73.5669     16.318      4.508      0.000      41.389     105.745\n",
      "C(cluster_size)[T.4]       -4.4757     14.486     -0.309      0.758     -33.040      24.089\n",
      "C(cluster_cosmo)[T.1]      32.9884     19.244      1.714      0.088      -4.959      70.936\n",
      "C(cluster_survive)[T.1]    17.7834     13.378      1.329      0.185      -8.596      44.163\n",
      "colonies_amount             0.0047      0.009      0.528      0.598      -0.013       0.022\n",
      "food_fruit                  0.0712      0.054      1.311      0.191      -0.036       0.178\n",
      "food_apple                 -0.0818      0.221     -0.371      0.711      -0.517       0.353\n",
      "food_blueberry              2.8809      1.559      1.847      0.066      -0.194       5.956\n",
      "weath_days_frost            2.2225      3.305      0.673      0.502      -4.294       8.739\n",
      "weath_maxLevel              0.6547      1.858      0.352      0.725      -3.010       4.319\n",
      "weath_midLevel            -14.0249     22.987     -0.610      0.542     -59.354      31.304\n",
      "weath_minLevel            141.9477    116.138      1.222      0.223     -87.064     370.960\n",
      "weath_days_rain            -1.7635      2.611     -0.675      0.500      -6.913       3.386\n",
      "weath_days_rain1mm         -0.0325      2.484     -0.013      0.990      -4.931       4.866\n",
      "weath_1dayRainfall          0.1192      0.081      1.478      0.141      -0.040       0.278\n",
      "weath_meanTemp              2.5311      2.986      0.848      0.398      -3.358       8.420\n",
      "weath_maxTemp               1.2077      1.347      0.897      0.371      -1.448       3.863\n",
      "weath_maxMeanTemp          -2.9412      1.933     -1.522      0.130      -6.753       0.870\n",
      "weath_minTemp               0.9769      2.279      0.429      0.669      -3.516       5.470\n",
      "weath_maxWindM              0.3573      0.105      3.395      0.001       0.150       0.565\n",
      "weath_meanDayMaxWind       -0.5697      0.195     -2.928      0.004      -0.953      -0.186\n",
      "==============================================================================\n",
      "Omnibus:                       49.999   Durbin-Watson:                   1.885\n",
      "Prob(Omnibus):                  0.000   Jarque-Bera (JB):              172.999\n",
      "Skew:                           0.872   Prob(JB):                     2.71e-38\n",
      "Kurtosis:                       6.936   Cond. No.                     1.80e+04\n",
      "==============================================================================\n",
      "\n",
      "Notes:\n",
      "[1] Standard Errors assume that the covariance matrix of the errors is correctly specified.\n",
      "[2] The condition number is large, 1.8e+04. This might indicate that there are\n",
      "strong multicollinearity or other numerical problems.\n"
     ]
    }
   ],
   "source": [
    "model = ols('NESTS ~ colonies_amount + food_fruit + food_apple + food_blueberry + weath_days_frost + weath_maxLevel + weath_midLevel + weath_minLevel + weath_days_rain + weath_days_rain1mm + weath_1dayRainfall + weath_meanTemp + weath_maxTemp + weath_maxMeanTemp + weath_minTemp + weath_maxWindM + weath_meanDayMaxWind + C(cluster_size) + C(cluster_cosmo) + C(cluster_survive)',\\\n",
    "            data=QUEEN_train).fit()\n",
    "print(model.summary())"
   ]
  },
  {
   "cell_type": "markdown",
   "id": "834a3c23-21b2-4b9d-862f-69e3f273c6c6",
   "metadata": {},
   "source": [
    "### Backward elimination"
   ]
  },
  {
   "cell_type": "code",
   "execution_count": 144,
   "id": "f8891da6-e81f-489a-b5a2-1cb65de4651a",
   "metadata": {
    "tags": []
   },
   "outputs": [
    {
     "name": "stdout",
     "output_type": "stream",
     "text": [
      "                            OLS Regression Results                            \n",
      "==============================================================================\n",
      "Dep. Variable:                  NESTS   R-squared:                       0.732\n",
      "Model:                            OLS   Adj. R-squared:                  0.721\n",
      "Method:                 Least Squares   F-statistic:                     64.93\n",
      "Date:                Thu, 03 Jun 2021   Prob (F-statistic):           2.61e-56\n",
      "Time:                        10:43:29   Log-Likelihood:                -937.49\n",
      "No. Observations:                 224   AIC:                             1895.\n",
      "Df Residuals:                     214   BIC:                             1929.\n",
      "Df Model:                           9                                         \n",
      "Covariance Type:            nonrobust                                         \n",
      "===========================================================================================\n",
      "                              coef    std err          t      P>|t|      [0.025      0.975]\n",
      "-------------------------------------------------------------------------------------------\n",
      "Intercept                  67.4815     18.951      3.561      0.000      30.128     104.835\n",
      "C(cluster_size)[T.1]      -12.6224      2.862     -4.411      0.000     -18.263      -6.982\n",
      "C(cluster_size)[T.2]       39.7881     14.215      2.799      0.006      11.769      67.807\n",
      "C(cluster_size)[T.3]       93.8066     11.629      8.067      0.000      70.885     116.728\n",
      "C(cluster_size)[T.4]       13.0750      9.411      1.389      0.166      -5.476      31.626\n",
      "C(cluster_survive)[T.1]    33.9099      8.301      4.085      0.000      17.548      50.272\n",
      "food_blueberry              3.5868      1.352      2.652      0.009       0.921       6.252\n",
      "weath_days_rain            -3.0011      1.168     -2.570      0.011      -5.303      -0.699\n",
      "weath_maxWindM              0.3940      0.087      4.523      0.000       0.222       0.566\n",
      "weath_meanDayMaxWind       -0.6118      0.168     -3.634      0.000      -0.944      -0.280\n",
      "==============================================================================\n",
      "Omnibus:                       49.644   Durbin-Watson:                   1.899\n",
      "Prob(Omnibus):                  0.000   Jarque-Bera (JB):              167.009\n",
      "Skew:                           0.876   Prob(JB):                     5.43e-37\n",
      "Kurtosis:                       6.850   Cond. No.                     2.00e+03\n",
      "==============================================================================\n",
      "\n",
      "Notes:\n",
      "[1] Standard Errors assume that the covariance matrix of the errors is correctly specified.\n",
      "[2] The condition number is large,  2e+03. This might indicate that there are\n",
      "strong multicollinearity or other numerical problems.\n"
     ]
    }
   ],
   "source": [
    "model = ols('NESTS ~ food_blueberry + weath_days_rain + weath_maxWindM + weath_meanDayMaxWind + C(cluster_size) + C(cluster_survive)',\\\n",
    "            data=QUEEN_train).fit()\n",
    "print(model.summary())"
   ]
  },
  {
   "cell_type": "markdown",
   "id": "f1d202d2-9baf-43e6-8ae3-8f280b537ad3",
   "metadata": {},
   "source": [
    "### With the additional Cluster Categorical for nest amounts"
   ]
  },
  {
   "cell_type": "code",
   "execution_count": 145,
   "id": "3cd26f22-02aa-469e-a991-5b843b1c6c18",
   "metadata": {
    "tags": []
   },
   "outputs": [
    {
     "name": "stdout",
     "output_type": "stream",
     "text": [
      "                            OLS Regression Results                            \n",
      "==============================================================================\n",
      "Dep. Variable:                  NESTS   R-squared:                       0.740\n",
      "Model:                            OLS   Adj. R-squared:                  0.725\n",
      "Method:                 Least Squares   F-statistic:                     50.07\n",
      "Date:                Thu, 03 Jun 2021   Prob (F-statistic):           5.15e-55\n",
      "Time:                        10:43:29   Log-Likelihood:                -934.03\n",
      "No. Observations:                 224   AIC:                             1894.\n",
      "Df Residuals:                     211   BIC:                             1938.\n",
      "Df Model:                          12                                         \n",
      "Covariance Type:            nonrobust                                         \n",
      "===========================================================================================\n",
      "                              coef    std err          t      P>|t|      [0.025      0.975]\n",
      "-------------------------------------------------------------------------------------------\n",
      "Intercept                  65.1639     18.822      3.462      0.001      28.060     102.267\n",
      "C(cluster_size)[T.1]      -11.9854      3.000     -3.995      0.000     -17.899      -6.072\n",
      "C(cluster_size)[T.2]       12.2582     19.002      0.645      0.520     -25.199      49.716\n",
      "C(cluster_size)[T.3]       66.7054     17.087      3.904      0.000      33.022     100.388\n",
      "C(cluster_size)[T.4]        9.5248      9.525      1.000      0.318      -9.251      28.301\n",
      "C(cluster_survive)[T.1]    33.1088      8.371      3.955      0.000      16.607      49.610\n",
      "C(Cluster)[T.1.0]          28.9526     12.809      2.260      0.025       3.702      54.203\n",
      "C(Cluster)[T.2.0]           1.5876      2.618      0.606      0.545      -3.573       6.748\n",
      "C(Cluster)[T.4.0]         -13.8867     11.538     -1.204      0.230     -36.630       8.857\n",
      "food_blueberry              3.9081      1.354      2.887      0.004       1.239       6.577\n",
      "weath_days_rain            -2.7861      1.168     -2.385      0.018      -5.088      -0.484\n",
      "weath_maxWindM              0.3928      0.087      4.502      0.000       0.221       0.565\n",
      "weath_meanDayMaxWind       -0.6494      0.169     -3.847      0.000      -0.982      -0.317\n",
      "==============================================================================\n",
      "Omnibus:                       53.729   Durbin-Watson:                   1.905\n",
      "Prob(Omnibus):                  0.000   Jarque-Bera (JB):              191.613\n",
      "Skew:                           0.933   Prob(JB):                     2.46e-42\n",
      "Kurtosis:                       7.128   Cond. No.                     2.77e+03\n",
      "==============================================================================\n",
      "\n",
      "Notes:\n",
      "[1] Standard Errors assume that the covariance matrix of the errors is correctly specified.\n",
      "[2] The condition number is large, 2.77e+03. This might indicate that there are\n",
      "strong multicollinearity or other numerical problems.\n"
     ]
    }
   ],
   "source": [
    "model = ols('NESTS ~ food_blueberry + weath_days_rain + weath_maxWindM + weath_meanDayMaxWind + C(cluster_size) + C(cluster_survive) + C(Cluster)',\\\n",
    "            data=QUEEN_train).fit()\n",
    "print(model.summary())"
   ]
  },
  {
   "cell_type": "markdown",
   "id": "ef41ba89-339e-4208-ac6e-c0c3143d70b7",
   "metadata": {},
   "source": [
    "## Predict 2020's nests"
   ]
  },
  {
   "cell_type": "code",
   "execution_count": 146,
   "id": "d250afb1-2573-46ab-8767-98586cdfdb12",
   "metadata": {},
   "outputs": [
    {
     "data": {
      "text/plain": [
       "0      24.645180\n",
       "1      67.405564\n",
       "2      12.130325\n",
       "3      14.206928\n",
       "4      99.902426\n",
       "         ...    \n",
       "107    29.995816\n",
       "108    18.466810\n",
       "109    29.943644\n",
       "110    23.637522\n",
       "111    12.577298\n",
       "Length: 112, dtype: float64"
      ]
     },
     "execution_count": 146,
     "metadata": {},
     "output_type": "execute_result"
    }
   ],
   "source": [
    "y_2020 = model.predict(QUEEN_predict)\n",
    "y_2020"
   ]
  },
  {
   "cell_type": "code",
   "execution_count": 147,
   "id": "5a2b71e3-c516-4521-9670-80c3b4ad3238",
   "metadata": {},
   "outputs": [
    {
     "data": {
      "text/plain": [
       "0      24.645180\n",
       "1      67.405564\n",
       "2      12.130325\n",
       "3      14.206928\n",
       "4      99.902426\n",
       "         ...    \n",
       "107    29.995816\n",
       "108    18.466810\n",
       "109    29.943644\n",
       "110    23.637522\n",
       "111    12.577298\n",
       "Length: 112, dtype: float64"
      ]
     },
     "execution_count": 147,
     "metadata": {},
     "output_type": "execute_result"
    }
   ],
   "source": [
    "# Any municipality resulting in NESTS<0 is equivalent to = 0\n",
    "\n",
    "y_2020[y_2020 < 0] = 0\n",
    "y_2020"
   ]
  },
  {
   "cell_type": "code",
   "execution_count": 148,
   "id": "8cd46748-e5c8-41d2-8ff1-91a4add2a5a1",
   "metadata": {},
   "outputs": [],
   "source": [
    "QUEEN_predict['NESTS'] = y_2020"
   ]
  },
  {
   "cell_type": "code",
   "execution_count": 149,
   "id": "fcd0d3d9-6837-4faf-9af6-4d0650cc728b",
   "metadata": {},
   "outputs": [],
   "source": [
    "HEX = QUEEN_predict.loc[:,['municip_code','municip_name','NESTS']].groupby(by=['municip_code','municip_name'], as_index=False).sum()"
   ]
  },
  {
   "cell_type": "code",
   "execution_count": 150,
   "id": "fd513ceb-00ad-4287-8b85-5e5ad431ecdb",
   "metadata": {},
   "outputs": [
    {
     "data": {
      "text/plain": [
       "3257.4834405938464"
      ]
     },
     "execution_count": 150,
     "metadata": {},
     "output_type": "execute_result"
    }
   ],
   "source": [
    "y_2020.sum()"
   ]
  },
  {
   "cell_type": "markdown",
   "id": "e83d9c73-3781-4e53-bf5e-0cf9c2580f10",
   "metadata": {},
   "source": [
    "## Manual adjustments"
   ]
  },
  {
   "cell_type": "code",
   "execution_count": 151,
   "id": "cf3941f3-dffc-4bd4-815c-f792209f41b4",
   "metadata": {},
   "outputs": [
    {
     "data": {
      "text/html": [
       "<div>\n",
       "<style scoped>\n",
       "    .dataframe tbody tr th:only-of-type {\n",
       "        vertical-align: middle;\n",
       "    }\n",
       "\n",
       "    .dataframe tbody tr th {\n",
       "        vertical-align: top;\n",
       "    }\n",
       "\n",
       "    .dataframe thead th {\n",
       "        text-align: right;\n",
       "    }\n",
       "</style>\n",
       "<table border=\"1\" class=\"dataframe\">\n",
       "  <thead>\n",
       "    <tr style=\"text-align: right;\">\n",
       "      <th></th>\n",
       "      <th>municip_code</th>\n",
       "      <th>municip_name</th>\n",
       "      <th>NESTS</th>\n",
       "    </tr>\n",
       "  </thead>\n",
       "  <tbody>\n",
       "    <tr>\n",
       "      <th>19</th>\n",
       "      <td>48020</td>\n",
       "      <td>Bilbao</td>\n",
       "      <td>1.553138</td>\n",
       "    </tr>\n",
       "    <tr>\n",
       "      <th>21</th>\n",
       "      <td>48022</td>\n",
       "      <td>Karrantza Harana/Valle de Carranza</td>\n",
       "      <td>25.908488</td>\n",
       "    </tr>\n",
       "    <tr>\n",
       "      <th>50</th>\n",
       "      <td>48051</td>\n",
       "      <td>Lanestosa</td>\n",
       "      <td>18.092372</td>\n",
       "    </tr>\n",
       "    <tr>\n",
       "      <th>70</th>\n",
       "      <td>48071</td>\n",
       "      <td>Muskiz</td>\n",
       "      <td>11.198980</td>\n",
       "    </tr>\n",
       "    <tr>\n",
       "      <th>73</th>\n",
       "      <td>48074</td>\n",
       "      <td>Urduña/Orduña</td>\n",
       "      <td>28.563917</td>\n",
       "    </tr>\n",
       "    <tr>\n",
       "      <th>87</th>\n",
       "      <td>48088</td>\n",
       "      <td>Ubide</td>\n",
       "      <td>12.532641</td>\n",
       "    </tr>\n",
       "  </tbody>\n",
       "</table>\n",
       "</div>"
      ],
      "text/plain": [
       "    municip_code                        municip_name      NESTS\n",
       "19         48020                              Bilbao   1.553138\n",
       "21         48022  Karrantza Harana/Valle de Carranza  25.908488\n",
       "50         48051                           Lanestosa  18.092372\n",
       "70         48071                              Muskiz  11.198980\n",
       "73         48074                       Urduña/Orduña  28.563917\n",
       "87         48088                               Ubide  12.532641"
      ]
     },
     "execution_count": 151,
     "metadata": {},
     "output_type": "execute_result"
    }
   ],
   "source": [
    "HEX.loc[HEX.municip_code.isin([48022, 48071, 48088, 48074, 48051, 48020]), :]"
   ]
  },
  {
   "cell_type": "code",
   "execution_count": 152,
   "id": "4b1fddf3-568d-487d-acf0-be0538a316a2",
   "metadata": {},
   "outputs": [],
   "source": [
    "# the following two steps are unnecessary, as the municipalities in question are already zero\n",
    "\n",
    "#HEX.loc[HEX.municip_code.isin([48022, 48071, 48088, 48074, 48051, 48020]), 'NESTS'] = 0"
   ]
  },
  {
   "cell_type": "code",
   "execution_count": 153,
   "id": "e7c9a880-f373-4cca-8793-218fcc9a5ff8",
   "metadata": {},
   "outputs": [],
   "source": [
    "#HEX.loc[HEX.municip_code.isin([48022, 48071, 48088, 48074, 48051, 48020]), :]"
   ]
  },
  {
   "cell_type": "code",
   "execution_count": 154,
   "id": "ffe08eff-aadc-442f-a84e-63f7427235d3",
   "metadata": {},
   "outputs": [],
   "source": [
    "HEX.columns = [\"CODIGO MUNICIPIO\", \"NOMBRE MUNICIPIO\", \"NIDOS 2020\"] # change column names to Spanish (Competition template)"
   ]
  },
  {
   "cell_type": "markdown",
   "id": "e6835b86-6239-4592-ab5b-419579682fc1",
   "metadata": {},
   "source": [
    "## Verify dataset format"
   ]
  },
  {
   "cell_type": "code",
   "execution_count": 155,
   "id": "23c670dc-0519-4dbf-b909-90583c91e39f",
   "metadata": {},
   "outputs": [
    {
     "name": "stdout",
     "output_type": "stream",
     "text": [
      "(112, 3) : Shape is correct.\n",
      "112 : Number of unique municipalities is correct.\n",
      "Great! All municipalities have NESTS >= 0.\n",
      "The Total 2020 Nests' Prediction is 3257\n"
     ]
    }
   ],
   "source": [
    "check_data(HEX)"
   ]
  },
  {
   "cell_type": "markdown",
   "id": "c9b74131-7aff-4917-a606-7b0a63112c6e",
   "metadata": {},
   "source": [
    "## Export dataset for submission"
   ]
  },
  {
   "cell_type": "code",
   "execution_count": 156,
   "id": "96153bc3-3289-4a73-b091-79c2aa571d8e",
   "metadata": {},
   "outputs": [],
   "source": [
    "HEX.to_csv('WaspBusters_20210609_batch_OLSy_48019prodigal.csv', index=False)"
   ]
  }
 ],
 "metadata": {
  "kernelspec": {
   "display_name": "Python 3",
   "language": "python",
   "name": "python3"
  },
  "language_info": {
   "codemirror_mode": {
    "name": "ipython",
    "version": 3
   },
   "file_extension": ".py",
   "mimetype": "text/x-python",
   "name": "python",
   "nbconvert_exporter": "python",
   "pygments_lexer": "ipython3",
   "version": "3.8.8"
  }
 },
 "nbformat": 4,
 "nbformat_minor": 5
}

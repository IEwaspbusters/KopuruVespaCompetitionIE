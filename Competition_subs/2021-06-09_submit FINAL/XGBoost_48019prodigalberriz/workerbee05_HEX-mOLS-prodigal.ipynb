{
 "cells": [
  {
   "cell_type": "markdown",
   "id": "7766cce7-a0e7-4b55-9582-980cd2482fc2",
   "metadata": {
    "id": "9nkDv5dppU6B"
   },
   "source": [
    "# HEX algorithm **Kopuru Vespa Velutina Competition**\n",
    "\n",
    "**Linear Regression model**\n",
    "\n",
    "Purpose: Predict the number of Nests in each of Biscay's 112 municipalities for the year 2020.\n",
    "\n",
    "Output: *(WaspBusters_20210609_batch_OLSm_48019prodigal.csv)*\n",
    "\n",
    "@authors:\n",
    "* mario.bejar@student.ie.edu\n",
    "* pedro.geirinhas@student.ie.edu\n",
    "* a.berrizbeitia@student.ie.edu\n",
    "* pcasaverde@student.ie.edu"
   ]
  },
  {
   "cell_type": "markdown",
   "id": "c60e3d67-b7a8-42cc-9471-869d0e6cce8f",
   "metadata": {},
   "source": [
    "## Libraries"
   ]
  },
  {
   "cell_type": "code",
   "execution_count": 121,
   "id": "e221fd74-3f1c-4594-9011-94c90de48163",
   "metadata": {},
   "outputs": [],
   "source": [
    "# Base packages -----------------------------------\n",
    "import numpy as np\n",
    "import pandas as pd\n",
    "\n",
    "# Visualization -----------------------------------\n",
    "import matplotlib.pyplot as plt\n",
    "plt.rcParams[\"figure.figsize\"] = (15, 10) # to set figure size when ploting feature_importance\n",
    "\n",
    "# Scaling data ------------------------------------\n",
    "from sklearn import preprocessing\n",
    "\n",
    "# Linear Regression -------------------------------\n",
    "from statsmodels.formula.api import ols\n",
    "#from sklearn.datasets import make_regression\n",
    "from sklearn.linear_model import LinearRegression"
   ]
  },
  {
   "cell_type": "markdown",
   "id": "bf6b6a79-3b41-4f85-bab8-b394aeda7f77",
   "metadata": {},
   "source": [
    "## Functions"
   ]
  },
  {
   "cell_type": "code",
   "execution_count": 122,
   "id": "37489ce6-bcda-49e9-a0e8-9e9eae3954a0",
   "metadata": {},
   "outputs": [],
   "source": [
    "# Function that checks if final Output is ready for submission or needs revision   \n",
    "\n",
    "def check_data(HEX):\n",
    "    \n",
    "    def template_checker(HEX):\n",
    "        submission_df = (HEX[\"CODIGO MUNICIPIO\"].astype(\"string\")+HEX[\"NOMBRE MUNICIPIO\"]).sort_values().reset_index(drop=True)\n",
    "        template_df = (template[\"CODIGO MUNICIPIO\"].astype(\"string\")+template[\"NOMBRE MUNICIPIO\"]).sort_values().reset_index(drop=True)\n",
    "        check_df = pd.DataFrame({\"submission_df\":submission_df,\"template_df\":template_df})\n",
    "        check_df[\"check\"] = check_df.submission_df == check_df.template_df\n",
    "        if (check_df.check == False).any():\n",
    "            pd.options.display.max_rows = 112\n",
    "            return check_df.loc[check_df.check == False,:]\n",
    "        else:  \n",
    "            return \"All Municipality Names and Codes to be submitted match the Template\"\n",
    "    \n",
    "    print(\"Submission form Shape is\", HEX.shape)\n",
    "    print(\"Number of Municipalities is\", HEX[\"CODIGO MUNICIPIO\"].nunique())\n",
    "    print(\"The Total 2020 Nests' Prediction is\", int(HEX[\"NIDOS 2020\"].sum()))\n",
    "\n",
    "    assert HEX.shape == (112, 3), \"Error: Shape is incorrect.\"\n",
    "    assert HEX[\"CODIGO MUNICIPIO\"].nunique() == 112, \"Error: Number of unique municipalities is correct.\"    \n",
    "    return template_checker(HEX)"
   ]
  },
  {
   "cell_type": "markdown",
   "id": "3eff056c-41e9-4220-9b2e-f0ddd845a46a",
   "metadata": {},
   "source": [
    "## Get the data"
   ]
  },
  {
   "cell_type": "code",
   "execution_count": 123,
   "id": "fc6428aa-0349-4843-b72f-c9cd23fd171c",
   "metadata": {},
   "outputs": [],
   "source": [
    "QUEEN_train = pd.read_csv('../Feeder_months/WBds03_QUEENtrainMONTHS.csv', sep=',')\n",
    "QUEEN_predict = pd.read_csv('../Feeder_months/WBds03_QUEENpredictMONTHS.csv', sep=',')\n",
    "\n",
    "clustersMario = pd.read_csv(\"../auxiliary_files/WBds_CLUSTERSnests.csv\")"
   ]
  },
  {
   "cell_type": "code",
   "execution_count": 124,
   "id": "a928dc79-c853-4473-8727-bfc2bf531450",
   "metadata": {
    "tags": []
   },
   "outputs": [],
   "source": [
    "#QUEEN_predict.isnull().sum()"
   ]
  },
  {
   "cell_type": "code",
   "execution_count": 125,
   "id": "1f822825-ae00-49aa-944c-3d1574b16ad5",
   "metadata": {},
   "outputs": [
    {
     "data": {
      "text/plain": [
       "(2688, 43)"
      ]
     },
     "execution_count": 125,
     "metadata": {},
     "output_type": "execute_result"
    }
   ],
   "source": [
    "QUEEN_train.shape"
   ]
  },
  {
   "cell_type": "code",
   "execution_count": 126,
   "id": "97934c8c-c01a-4efd-98de-20b8de53731f",
   "metadata": {},
   "outputs": [
    {
     "data": {
      "text/plain": [
       "(1344, 43)"
      ]
     },
     "execution_count": 126,
     "metadata": {},
     "output_type": "execute_result"
    }
   ],
   "source": [
    "QUEEN_predict.shape"
   ]
  },
  {
   "cell_type": "markdown",
   "id": "694d1ce2-9927-4e1e-914c-8ff35476d7a6",
   "metadata": {},
   "source": [
    "## Add in more Clusters (nest amount clusters)"
   ]
  },
  {
   "cell_type": "code",
   "execution_count": 127,
   "id": "e3c48590-644d-4b24-91c2-1faf1dc642bf",
   "metadata": {},
   "outputs": [],
   "source": [
    "QUEEN_train = pd.merge(QUEEN_train, clustersMario, how = 'left', on = ['municip_code', 'municip_name'])\n",
    "QUEEN_predict = pd.merge(QUEEN_predict, clustersMario, how = 'left', on = ['municip_code', 'municip_name'])"
   ]
  },
  {
   "cell_type": "code",
   "execution_count": 128,
   "id": "cdd55894-0138-4630-920b-dc6464cc9d99",
   "metadata": {},
   "outputs": [],
   "source": [
    "QUEEN_train.fillna(4, inplace=True)\n",
    "QUEEN_predict.fillna(4, inplace=True)"
   ]
  },
  {
   "cell_type": "code",
   "execution_count": 129,
   "id": "87e6e96a-fc38-42dc-bd2b-7230f971d400",
   "metadata": {},
   "outputs": [
    {
     "data": {
      "text/plain": [
       "(2688, 44)"
      ]
     },
     "execution_count": 129,
     "metadata": {},
     "output_type": "execute_result"
    }
   ],
   "source": [
    "QUEEN_train.shape"
   ]
  },
  {
   "cell_type": "code",
   "execution_count": 130,
   "id": "22140af5-954f-4cee-b98f-7df933a6aa10",
   "metadata": {},
   "outputs": [
    {
     "data": {
      "text/plain": [
       "(1344, 44)"
      ]
     },
     "execution_count": 130,
     "metadata": {},
     "output_type": "execute_result"
    }
   ],
   "source": [
    "QUEEN_predict.shape"
   ]
  },
  {
   "cell_type": "code",
   "execution_count": 131,
   "id": "ba391735-1d39-46af-bdc8-956e34bcf0e1",
   "metadata": {
    "tags": []
   },
   "outputs": [],
   "source": [
    "#QUEEN_train.isnull().sum()"
   ]
  },
  {
   "cell_type": "code",
   "execution_count": 132,
   "id": "7fedca52-dcdd-49ff-b31a-9ba6610b2baf",
   "metadata": {
    "tags": []
   },
   "outputs": [],
   "source": [
    "#QUEEN_predict.isnull().sum()"
   ]
  },
  {
   "cell_type": "code",
   "execution_count": 133,
   "id": "67f03736-be03-459d-857f-f690047ce88a",
   "metadata": {},
   "outputs": [
    {
     "data": {
      "text/plain": [
       "0.0    1584\n",
       "2.0     984\n",
       "1.0      96\n",
       "4.0      24\n",
       "Name: Cluster, dtype: int64"
      ]
     },
     "execution_count": 133,
     "metadata": {},
     "output_type": "execute_result"
    }
   ],
   "source": [
    "QUEEN_train.Cluster.value_counts()"
   ]
  },
  {
   "cell_type": "markdown",
   "id": "326d88ec-3bf9-43ef-ad37-031b5e508802",
   "metadata": {},
   "source": [
    "## Determine feature importance"
   ]
  },
  {
   "cell_type": "code",
   "execution_count": 134,
   "id": "7a8aea40-8e17-4cd8-ab4f-a504712f0f0c",
   "metadata": {},
   "outputs": [],
   "source": [
    "X = QUEEN_train.drop(columns = ['municip_name', 'municip_code', 'NESTS', 'station_code', 'station_name', 'year'])"
   ]
  },
  {
   "cell_type": "code",
   "execution_count": 135,
   "id": "10a3394b-87c2-475b-afa8-e38132238f77",
   "metadata": {},
   "outputs": [],
   "source": [
    "y = QUEEN_train['NESTS']"
   ]
  },
  {
   "cell_type": "code",
   "execution_count": 136,
   "id": "22a0d35c-cc3b-48fc-9a32-a79d56f191f6",
   "metadata": {},
   "outputs": [],
   "source": [
    "# Scale the datasets using MinMaxScaler\n",
    "\n",
    "scalators = X.columns\n",
    "X[scalators] = preprocessing.minmax_scale(X[scalators])"
   ]
  },
  {
   "cell_type": "code",
   "execution_count": 137,
   "id": "a76b5c13-f485-4b9f-b472-1679e515b365",
   "metadata": {},
   "outputs": [
    {
     "name": "stdout",
     "output_type": "stream",
     "text": [
      "Feature: month, Score: 1.54742\n",
      "Feature: year_offset, Score: -1.62654\n",
      "Feature: colonies_amount, Score: 1.64459\n",
      "Feature: food_fruit, Score: 2.29941\n",
      "Feature: food_apple, Score: -1.12020\n",
      "Feature: food_txakoli, Score: 1.18769\n",
      "Feature: food_kiwi, Score: -0.05182\n",
      "Feature: food_pear, Score: 0.37333\n",
      "Feature: food_blueberry, Score: 1.24348\n",
      "Feature: food_raspberry, Score: 1.06059\n",
      "Feature: weath_days_frost, Score: 0.51725\n",
      "Feature: weath_humidity, Score: 1.43421\n",
      "Feature: weath_maxLevel, Score: 1.84008\n",
      "Feature: weath_midLevel, Score: -1.62255\n",
      "Feature: weath_minLevel, Score: -0.88248\n",
      "Feature: weath_days_rain, Score: -0.59654\n",
      "Feature: weath_days_rain1mm, Score: 0.42149\n",
      "Feature: weath_accuRainfall, Score: 1.64616\n",
      "Feature: weath_10minRainfall, Score: -0.85979\n",
      "Feature: weath_1dayRainfall, Score: -1.02334\n",
      "Feature: weath_solar, Score: 0.05157\n",
      "Feature: weath_meanTemp, Score: -8.89484\n",
      "Feature: weath_maxTemp, Score: 0.55743\n",
      "Feature: weath_maxMeanTemp, Score: 3.66499\n",
      "Feature: weath_minTemp, Score: 9.49536\n",
      "Feature: weath_meanWindM, Score: 1.83840\n",
      "Feature: weath_maxWindM, Score: -3.94140\n",
      "Feature: weath_meanDayMaxWind, Score: 0.58751\n",
      "Feature: population, Score: -0.55432\n",
      "Feature: cluster_size, Score: 2.93400\n",
      "Feature: cluster_cosmo, Score: 4.90916\n",
      "Feature: cluster_survive, Score: -1.58837\n",
      "Feature: cluster_food, Score: -1.13438\n",
      "Feature: cluster_weather_wet, Score: 0.10256\n",
      "Feature: cluster_weather_temp, Score: -0.13898\n",
      "Feature: cluster_weather_wind, Score: 0.35825\n",
      "Feature: cluster_weather_level, Score: 0.06669\n",
      "Feature: Cluster, Score: -0.31913\n"
     ]
    }
   ],
   "source": [
    "# define the model\n",
    "model_fi = LinearRegression()\n",
    "\n",
    "# fit the model\n",
    "model_fi.fit(X, y)\n",
    "\n",
    "# get importance\n",
    "importance = model_fi.coef_\n",
    "\n",
    "# summarize feature importance\n",
    "for i,v in enumerate(importance):\n",
    "\tprint('Feature: %0s, Score: %.5f' % (X.columns[i],v))"
   ]
  },
  {
   "cell_type": "code",
   "execution_count": 138,
   "id": "68fe56fe-0d87-41ce-ae70-4110e1c93aaf",
   "metadata": {},
   "outputs": [
    {
     "data": {
      "image/png": "[encoded data removed]",
      "text/plain": [
       "<Figure size 432x288 with 1 Axes>"
      ]
     },
     "metadata": {
      "needs_background": "light"
     },
     "output_type": "display_data"
    }
   ],
   "source": [
    "# plot feature importance\n",
    "pyplot.bar([x for x in range(len(importance))], importance)\n",
    "pyplot.show()"
   ]
  },
  {
   "cell_type": "code",
   "execution_count": 139,
   "id": "7171515b-39ea-4fa3-8502-1ad29223d9ce",
   "metadata": {},
   "outputs": [
    {
     "name": "stdout",
     "output_type": "stream",
     "text": [
      "Feature: month, Score: 1.55\n",
      "Feature: colonies_amount, Score: 1.64\n",
      "Feature: food_fruit, Score: 2.30\n",
      "Feature: food_txakoli, Score: 1.19\n",
      "Feature: food_blueberry, Score: 1.24\n",
      "Feature: food_raspberry, Score: 1.06\n",
      "Feature: weath_humidity, Score: 1.43\n",
      "Feature: weath_maxLevel, Score: 1.84\n",
      "Feature: weath_accuRainfall, Score: 1.65\n",
      "Feature: weath_maxMeanTemp, Score: 3.66\n",
      "Feature: weath_minTemp, Score: 9.50\n",
      "Feature: weath_meanWindM, Score: 1.84\n",
      "Feature: cluster_size, Score: 2.93\n",
      "Feature: cluster_cosmo, Score: 4.91\n"
     ]
    }
   ],
   "source": [
    "for i,v in enumerate(importance):\n",
    "    if v > 1:\n",
    "        print('Feature: %0s, Score: %.2f' % (X.columns[i],v))"
   ]
  },
  {
   "cell_type": "markdown",
   "id": "36b0df4a-03bf-4608-8e00-7f8de6b8fa50",
   "metadata": {},
   "source": [
    "## Train the model"
   ]
  },
  {
   "cell_type": "markdown",
   "id": "d338aa21-ba48-45d3-beff-409a08986d38",
   "metadata": {},
   "source": [
    "### With the variables suggested by the Feature Importance method"
   ]
  },
  {
   "cell_type": "code",
   "execution_count": 140,
   "id": "1a7d508f-709a-4610-9e66-1907d77076cc",
   "metadata": {
    "tags": []
   },
   "outputs": [],
   "source": [
    "#model = ols('NESTS ~ month + colonies_amount + food_fruit + food_txakoli + food_blueberry + food_raspberry + weath_humidity + weath_maxLevel + weath_accuRainfall + weath_maxMeanTemp + weath_minTemp + weath_meanWindM + C(cluster_cosmo) + C(cluster_size)',\\\n",
    "#            data=QUEEN_train).fit()\n",
    "#print(model.summary())"
   ]
  },
  {
   "cell_type": "code",
   "execution_count": 141,
   "id": "6b8fffb8-297a-4349-968f-c55e569cf87e",
   "metadata": {
    "tags": []
   },
   "outputs": [],
   "source": [
    "#model = ols('NESTS ~ weath_meanTemp + weath_maxMeanTemp + weath_minTemp + weath_maxWindM + C(cluster_cosmo) + C(cluster_size)',\\\n",
    "#            data=QUEEN_train).fit()\n",
    "#print(model.summary())"
   ]
  },
  {
   "cell_type": "markdown",
   "id": "834a3c23-21b2-4b9d-862f-69e3f273c6c6",
   "metadata": {},
   "source": [
    "### Backward elimination"
   ]
  },
  {
   "cell_type": "code",
   "execution_count": 142,
   "id": "609ba3e6-ca4f-4f0d-846f-71a6c69f9063",
   "metadata": {
    "tags": []
   },
   "outputs": [],
   "source": [
    "#model = ols('NESTS ~ month + food_txakoli + food_blueberry + food_raspberry + weath_humidity + weath_accuRainfall + weath_maxMeanTemp + weath_minTemp + weath_meanWindM + C(cluster_cosmo) + C(cluster_size)',\\\n",
    "#            data=QUEEN_train).fit()\n",
    "#print(model.summary())"
   ]
  },
  {
   "cell_type": "code",
   "execution_count": 143,
   "id": "f8891da6-e81f-489a-b5a2-1cb65de4651a",
   "metadata": {
    "tags": []
   },
   "outputs": [],
   "source": [
    "#model = ols('NESTS ~ weath_meanTemp + weath_maxMeanTemp + weath_minTemp + C(cluster_cosmo) + C(cluster_size)',\\\n",
    "#            data=QUEEN_train).fit()\n",
    "#print(model.summary())"
   ]
  },
  {
   "cell_type": "markdown",
   "id": "36ca108e-97a4-4e0d-aeec-28d88e348c4c",
   "metadata": {},
   "source": [
    "### With the additional Cluster Categorical for nest amounts"
   ]
  },
  {
   "cell_type": "code",
   "execution_count": 144,
   "id": "22ea39be-f3fb-4827-933a-ea28d44d43b2",
   "metadata": {
    "tags": []
   },
   "outputs": [
    {
     "name": "stdout",
     "output_type": "stream",
     "text": [
      "                            OLS Regression Results                            \n",
      "==============================================================================\n",
      "Dep. Variable:                  NESTS   R-squared:                       0.420\n",
      "Model:                            OLS   Adj. R-squared:                  0.417\n",
      "Method:                 Least Squares   F-statistic:                     113.9\n",
      "Date:                Thu, 03 Jun 2021   Prob (F-statistic):          2.33e-300\n",
      "Time:                        10:43:34   Log-Likelihood:                -6583.0\n",
      "No. Observations:                2688   AIC:                         1.320e+04\n",
      "Df Residuals:                    2670   BIC:                         1.331e+04\n",
      "Df Model:                          17                                         \n",
      "Covariance Type:            nonrobust                                         \n",
      "=========================================================================================\n",
      "                            coef    std err          t      P>|t|      [0.025      0.975]\n",
      "-----------------------------------------------------------------------------------------\n",
      "Intercept                -4.2553      1.086     -3.917      0.000      -6.385      -2.125\n",
      "C(cluster_cosmo)[T.1]     2.2965      0.623      3.684      0.000       1.074       3.519\n",
      "C(cluster_size)[T.1]     -2.1981      0.657     -3.343      0.001      -3.487      -0.909\n",
      "C(cluster_size)[T.2]      4.3905      0.716      6.130      0.000       2.986       5.795\n",
      "C(cluster_size)[T.3]     -1.1077      0.676     -1.638      0.102      -2.434       0.218\n",
      "C(cluster_size)[T.4]      0.0396      0.823      0.048      0.962      -1.575       1.654\n",
      "C(Cluster)[T.1.0]         2.7510      0.644      4.274      0.000       1.489       4.013\n",
      "C(Cluster)[T.2.0]         0.2397      0.134      1.784      0.074      -0.024       0.503\n",
      "C(Cluster)[T.4.0]        -1.2378      0.579     -2.137      0.033      -2.374      -0.102\n",
      "month                     0.1435      0.017      8.268      0.000       0.109       0.178\n",
      "food_txakoli              0.0134      0.003      5.152      0.000       0.008       0.019\n",
      "food_blueberry            0.2910      0.070      4.138      0.000       0.153       0.429\n",
      "food_raspberry            0.7678      0.428      1.793      0.073      -0.072       1.607\n",
      "weath_humidity            0.0423      0.009      4.871      0.000       0.025       0.059\n",
      "weath_accuRainfall        0.0022      0.001      2.160      0.031       0.000       0.004\n",
      "weath_maxMeanTemp         0.1075      0.038      2.858      0.004       0.034       0.181\n",
      "weath_minTemp             0.0796      0.037      2.139      0.033       0.007       0.152\n",
      "weath_meanWindM           0.0195      0.014      1.421      0.155      -0.007       0.046\n",
      "==============================================================================\n",
      "Omnibus:                     1537.367   Durbin-Watson:                   1.003\n",
      "Prob(Omnibus):                  0.000   Jarque-Bera (JB):            24645.956\n",
      "Skew:                           2.374   Prob(JB):                         0.00\n",
      "Kurtosis:                      17.054   Cond. No.                     3.99e+03\n",
      "==============================================================================\n",
      "\n",
      "Notes:\n",
      "[1] Standard Errors assume that the covariance matrix of the errors is correctly specified.\n",
      "[2] The condition number is large, 3.99e+03. This might indicate that there are\n",
      "strong multicollinearity or other numerical problems.\n"
     ]
    }
   ],
   "source": [
    "model = ols('NESTS ~ month + food_txakoli + food_blueberry + food_raspberry + weath_humidity + weath_accuRainfall + weath_maxMeanTemp + weath_minTemp + weath_meanWindM + C(cluster_cosmo) + C(cluster_size) + C(Cluster)',\\\n",
    "            data=QUEEN_train).fit()\n",
    "print(model.summary())"
   ]
  },
  {
   "cell_type": "code",
   "execution_count": 145,
   "id": "797e8bf5-fbf6-4039-bda3-b0e089d075cf",
   "metadata": {
    "tags": []
   },
   "outputs": [],
   "source": [
    "#model = ols('NESTS ~ weath_meanTemp + weath_maxMeanTemp + weath_minTemp + C(cluster_cosmo) + C(cluster_size) + C(Cluster)',\\\n",
    "#            data=QUEEN_train).fit()\n",
    "#print(model.summary())"
   ]
  },
  {
   "cell_type": "markdown",
   "id": "ef41ba89-339e-4208-ac6e-c0c3143d70b7",
   "metadata": {},
   "source": [
    "## Predict 2020's nests"
   ]
  },
  {
   "cell_type": "code",
   "execution_count": 146,
   "id": "d250afb1-2573-46ab-8767-98586cdfdb12",
   "metadata": {},
   "outputs": [
    {
     "data": {
      "text/plain": [
       "0       0.745390\n",
       "1       0.537833\n",
       "2       0.761791\n",
       "3       1.330356\n",
       "4       1.942334\n",
       "          ...   \n",
       "1339    2.401594\n",
       "1340    2.239539\n",
       "1341    2.211849\n",
       "1342    2.172490\n",
       "1343    1.703096\n",
       "Length: 1344, dtype: float64"
      ]
     },
     "execution_count": 146,
     "metadata": {},
     "output_type": "execute_result"
    }
   ],
   "source": [
    "y_2020 = model.predict(QUEEN_predict)\n",
    "y_2020"
   ]
  },
  {
   "cell_type": "code",
   "execution_count": 147,
   "id": "5bac1795-4368-4a56-a432-124bf56ba8f2",
   "metadata": {},
   "outputs": [
    {
     "data": {
      "text/plain": [
       "0       0.745390\n",
       "1       0.537833\n",
       "2       0.761791\n",
       "3       1.330356\n",
       "4       1.942334\n",
       "          ...   \n",
       "1339    2.401594\n",
       "1340    2.239539\n",
       "1341    2.211849\n",
       "1342    2.172490\n",
       "1343    1.703096\n",
       "Length: 1344, dtype: float64"
      ]
     },
     "execution_count": 147,
     "metadata": {},
     "output_type": "execute_result"
    }
   ],
   "source": [
    "# Any municipality/month resulting in NESTS<0 is equivalent to = 0\n",
    "\n",
    "y_2020[y_2020 < 0] = 0\n",
    "y_2020"
   ]
  },
  {
   "cell_type": "code",
   "execution_count": 148,
   "id": "8cd46748-e5c8-41d2-8ff1-91a4add2a5a1",
   "metadata": {},
   "outputs": [],
   "source": [
    "QUEEN_predict['NESTS'] = y_2020"
   ]
  },
  {
   "cell_type": "code",
   "execution_count": 149,
   "id": "fcd0d3d9-6837-4faf-9af6-4d0650cc728b",
   "metadata": {},
   "outputs": [],
   "source": [
    "HEX = QUEEN_predict.loc[:,['municip_code','municip_name','NESTS']].groupby(by=['municip_code','municip_name'], as_index=False).sum()"
   ]
  },
  {
   "cell_type": "markdown",
   "id": "e83d9c73-3781-4e53-bf5e-0cf9c2580f10",
   "metadata": {},
   "source": [
    "## Manual adjustments"
   ]
  },
  {
   "cell_type": "code",
   "execution_count": 150,
   "id": "baf08454-e11b-4cfd-b591-f63ae99e8c17",
   "metadata": {},
   "outputs": [
    {
     "data": {
      "text/html": [
       "<div>\n",
       "<style scoped>\n",
       "    .dataframe tbody tr th:only-of-type {\n",
       "        vertical-align: middle;\n",
       "    }\n",
       "\n",
       "    .dataframe tbody tr th {\n",
       "        vertical-align: top;\n",
       "    }\n",
       "\n",
       "    .dataframe thead th {\n",
       "        text-align: right;\n",
       "    }\n",
       "</style>\n",
       "<table border=\"1\" class=\"dataframe\">\n",
       "  <thead>\n",
       "    <tr style=\"text-align: right;\">\n",
       "      <th></th>\n",
       "      <th>municip_code</th>\n",
       "      <th>municip_name</th>\n",
       "      <th>NESTS</th>\n",
       "    </tr>\n",
       "  </thead>\n",
       "  <tbody>\n",
       "    <tr>\n",
       "      <th>19</th>\n",
       "      <td>48020</td>\n",
       "      <td>Bilbao</td>\n",
       "      <td>7.553015</td>\n",
       "    </tr>\n",
       "    <tr>\n",
       "      <th>21</th>\n",
       "      <td>48022</td>\n",
       "      <td>Karrantza Harana/Valle de Carranza</td>\n",
       "      <td>22.209685</td>\n",
       "    </tr>\n",
       "    <tr>\n",
       "      <th>50</th>\n",
       "      <td>48051</td>\n",
       "      <td>Lanestosa</td>\n",
       "      <td>14.680585</td>\n",
       "    </tr>\n",
       "    <tr>\n",
       "      <th>70</th>\n",
       "      <td>48071</td>\n",
       "      <td>Muskiz</td>\n",
       "      <td>16.258253</td>\n",
       "    </tr>\n",
       "    <tr>\n",
       "      <th>73</th>\n",
       "      <td>48074</td>\n",
       "      <td>Urduña/Orduña</td>\n",
       "      <td>21.278503</td>\n",
       "    </tr>\n",
       "    <tr>\n",
       "      <th>87</th>\n",
       "      <td>48088</td>\n",
       "      <td>Ubide</td>\n",
       "      <td>10.897701</td>\n",
       "    </tr>\n",
       "  </tbody>\n",
       "</table>\n",
       "</div>"
      ],
      "text/plain": [
       "    municip_code                        municip_name      NESTS\n",
       "19         48020                              Bilbao   7.553015\n",
       "21         48022  Karrantza Harana/Valle de Carranza  22.209685\n",
       "50         48051                           Lanestosa  14.680585\n",
       "70         48071                              Muskiz  16.258253\n",
       "73         48074                       Urduña/Orduña  21.278503\n",
       "87         48088                               Ubide  10.897701"
      ]
     },
     "execution_count": 150,
     "metadata": {},
     "output_type": "execute_result"
    }
   ],
   "source": [
    "HEX.loc[HEX.municip_code.isin([48022, 48071, 48088, 48074, 48051, 48020]), :]"
   ]
  },
  {
   "cell_type": "code",
   "execution_count": 151,
   "id": "4b1fddf3-568d-487d-acf0-be0538a316a2",
   "metadata": {},
   "outputs": [],
   "source": [
    "HEX.loc[HEX.municip_code.isin([48022, 48071, 48088, 48074, 48051, 48020]), 'NESTS'] = 0"
   ]
  },
  {
   "cell_type": "code",
   "execution_count": 152,
   "id": "e7c9a880-f373-4cca-8793-218fcc9a5ff8",
   "metadata": {},
   "outputs": [
    {
     "data": {
      "text/html": [
       "<div>\n",
       "<style scoped>\n",
       "    .dataframe tbody tr th:only-of-type {\n",
       "        vertical-align: middle;\n",
       "    }\n",
       "\n",
       "    .dataframe tbody tr th {\n",
       "        vertical-align: top;\n",
       "    }\n",
       "\n",
       "    .dataframe thead th {\n",
       "        text-align: right;\n",
       "    }\n",
       "</style>\n",
       "<table border=\"1\" class=\"dataframe\">\n",
       "  <thead>\n",
       "    <tr style=\"text-align: right;\">\n",
       "      <th></th>\n",
       "      <th>municip_code</th>\n",
       "      <th>municip_name</th>\n",
       "      <th>NESTS</th>\n",
       "    </tr>\n",
       "  </thead>\n",
       "  <tbody>\n",
       "    <tr>\n",
       "      <th>19</th>\n",
       "      <td>48020</td>\n",
       "      <td>Bilbao</td>\n",
       "      <td>0.0</td>\n",
       "    </tr>\n",
       "    <tr>\n",
       "      <th>21</th>\n",
       "      <td>48022</td>\n",
       "      <td>Karrantza Harana/Valle de Carranza</td>\n",
       "      <td>0.0</td>\n",
       "    </tr>\n",
       "    <tr>\n",
       "      <th>50</th>\n",
       "      <td>48051</td>\n",
       "      <td>Lanestosa</td>\n",
       "      <td>0.0</td>\n",
       "    </tr>\n",
       "    <tr>\n",
       "      <th>70</th>\n",
       "      <td>48071</td>\n",
       "      <td>Muskiz</td>\n",
       "      <td>0.0</td>\n",
       "    </tr>\n",
       "    <tr>\n",
       "      <th>73</th>\n",
       "      <td>48074</td>\n",
       "      <td>Urduña/Orduña</td>\n",
       "      <td>0.0</td>\n",
       "    </tr>\n",
       "    <tr>\n",
       "      <th>87</th>\n",
       "      <td>48088</td>\n",
       "      <td>Ubide</td>\n",
       "      <td>0.0</td>\n",
       "    </tr>\n",
       "  </tbody>\n",
       "</table>\n",
       "</div>"
      ],
      "text/plain": [
       "    municip_code                        municip_name  NESTS\n",
       "19         48020                              Bilbao    0.0\n",
       "21         48022  Karrantza Harana/Valle de Carranza    0.0\n",
       "50         48051                           Lanestosa    0.0\n",
       "70         48071                              Muskiz    0.0\n",
       "73         48074                       Urduña/Orduña    0.0\n",
       "87         48088                               Ubide    0.0"
      ]
     },
     "execution_count": 152,
     "metadata": {},
     "output_type": "execute_result"
    }
   ],
   "source": [
    "HEX.loc[HEX.municip_code.isin([48022, 48071, 48088, 48074, 48051, 48020]), :]"
   ]
  },
  {
   "cell_type": "code",
   "execution_count": 153,
   "id": "ffe08eff-aadc-442f-a84e-63f7427235d3",
   "metadata": {},
   "outputs": [],
   "source": [
    "HEX.columns = [\"CODIGO MUNICIPIO\", \"NOMBRE MUNICIPIO\", \"NIDOS 2020\"] # change column names to Spanish (Competition template)"
   ]
  },
  {
   "cell_type": "markdown",
   "id": "e6835b86-6239-4592-ab5b-419579682fc1",
   "metadata": {},
   "source": [
    "## Verify dataset format"
   ]
  },
  {
   "cell_type": "code",
   "execution_count": 154,
   "id": "23c670dc-0519-4dbf-b909-90583c91e39f",
   "metadata": {},
   "outputs": [
    {
     "name": "stdout",
     "output_type": "stream",
     "text": [
      "(112, 3) : Shape is correct.\n",
      "112 : Number of unique municipalities is correct.\n",
      "Great! All municipalities have NESTS >= 0.\n",
      "The Total 2020 Nests' Prediction is 2980\n"
     ]
    }
   ],
   "source": [
    "check_data(HEX)"
   ]
  },
  {
   "cell_type": "markdown",
   "id": "c9b74131-7aff-4917-a606-7b0a63112c6e",
   "metadata": {},
   "source": [
    "## Export dataset for submission"
   ]
  },
  {
   "cell_type": "code",
   "execution_count": 155,
   "id": "96153bc3-3289-4a73-b091-79c2aa571d8e",
   "metadata": {},
   "outputs": [],
   "source": [
    "HEX.to_csv('WaspBusters_20210609_batch_OLSy_48019prodigal.csv', index=False)"
   ]
  }
 ],
 "metadata": {
  "kernelspec": {
   "display_name": "Python 3",
   "language": "python",
   "name": "python3"
  },
  "language_info": {
   "codemirror_mode": {
    "name": "ipython",
    "version": 3
   },
   "file_extension": ".py",
   "mimetype": "text/x-python",
   "name": "python",
   "nbconvert_exporter": "python",
   "pygments_lexer": "ipython3",
   "version": "3.8.8"
  }
 },
 "nbformat": 4,
 "nbformat_minor": 5
}

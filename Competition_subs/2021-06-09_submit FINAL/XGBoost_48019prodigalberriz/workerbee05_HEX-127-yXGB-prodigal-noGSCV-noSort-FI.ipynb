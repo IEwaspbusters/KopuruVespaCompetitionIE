{
 "cells": [
  {
   "cell_type": "markdown",
   "id": "0163b78b-7a23-49cb-845e-da1315373e77",
   "metadata": {
    "id": "9nkDv5dppU6B"
   },
   "source": [
    "# HEX algorithm **Kopuru Vespa Velutina Competition**\n",
    "\n",
    "**XGBoost model**\n",
    "\n",
    "Purpose: Predict the number of Nests in each of Biscay's 112 municipalities for the year 2020.\n",
    "\n",
    "Output: *(WaspBusters_20210609_batch_XGBy_48019prodigal.csv)*\n",
    "\n",
    "@authors:\n",
    "* mario.bejar@student.ie.edu\n",
    "* pedro.geirinhas@student.ie.edu\n",
    "* a.berrizbeitia@student.ie.edu\n",
    "* pcasaverde@student.ie.edu"
   ]
  },
  {
   "cell_type": "markdown",
   "id": "d6c7526e-815c-403e-b586-a33c34e3a9cd",
   "metadata": {},
   "source": [
    "## Libraries"
   ]
  },
  {
   "cell_type": "code",
   "execution_count": 1,
   "id": "1f8be8fd-d42c-4992-a290-acfa2733c1e4",
   "metadata": {},
   "outputs": [],
   "source": [
    "# Base packages -----------------------------------\n",
    "import numpy as np\n",
    "import pandas as pd\n",
    "\n",
    "# Visualization -----------------------------------\n",
    "import matplotlib.pyplot as plt\n",
    "plt.rcParams[\"figure.figsize\"] = (15, 10)\n",
    "import seaborn as sns\n",
    "plt.style.use(\"seaborn-notebook\")\n",
    "\n",
    "# Scaling data ------------------------------------\n",
    "from sklearn import preprocessing\n",
    "\n",
    "# Grid search -------------------------------------\n",
    "from sklearn.model_selection import GridSearchCV\n",
    "\n",
    "# Confusion matrix --------------------------------\n",
    "#from sklearn.metrics import confusion_matrix\n",
    "from sklearn.metrics import classification_report\n",
    "\n",
    "# XGBoost -----------------------------------------\n",
    "from xgboost import XGBRegressor\n",
    "from xgboost import plot_importance"
   ]
  },
  {
   "cell_type": "markdown",
   "id": "e5c4c881-bd4d-4bb0-9f53-c07586957608",
   "metadata": {},
   "source": [
    "## Functions"
   ]
  },
  {
   "cell_type": "code",
   "execution_count": 2,
   "id": "09fb9ce5-1163-440f-945c-5de00fd9f079",
   "metadata": {},
   "outputs": [],
   "source": [
    "# Function that checks if final Output is ready for submission or needs revision   \n",
    "\n",
    "def check_data(HEX):\n",
    "    \n",
    "    def template_checker(HEX):\n",
    "        submission_df = (HEX[\"CODIGO MUNICIPIO\"].astype(\"string\") + HEX[\"NOMBRE MUNICIPIO\"]).sort_values().reset_index(drop=True)\n",
    "        template_df = (template[\"CODIGO MUNICIPIO\"].astype(\"string\") + template[\"NOMBRE MUNICIPIO\"]).sort_values().reset_index(drop=True)\n",
    "        check_df = pd.DataFrame({\"submission_df\":submission_df,\"template_df\":template_df})\n",
    "        check_df[\"check\"] = check_df.submission_df == check_df.template_df\n",
    "        if (check_df.check == False).any():\n",
    "            pd.options.display.max_rows = 112\n",
    "            return check_df.loc[check_df.check == False,:]\n",
    "        else:  \n",
    "            return \"All Municipality Names and Codes to be submitted match the Template\"\n",
    "    \n",
    "    print(\"Submission form Shape is\", HEX.shape)\n",
    "    print(\"Number of Municipalities is\", HEX[\"CODIGO MUNICIPIO\"].nunique())\n",
    "    print(\"The Total 2020 Nests' Prediction is\", int(HEX[\"NIDOS 2020\"].sum()))\n",
    "\n",
    "    assert HEX.shape == (112, 3), \"Error: Shape is incorrect.\"\n",
    "    assert HEX[\"CODIGO MUNICIPIO\"].nunique() == 112, \"Error: Number of unique municipalities is correct.\"    \n",
    "    return template_checker(HEX)"
   ]
  },
  {
   "cell_type": "markdown",
   "id": "ccb2292a-2866-451b-95b6-6150b4b76f09",
   "metadata": {},
   "source": [
    "## Get the data"
   ]
  },
  {
   "cell_type": "code",
   "execution_count": 3,
   "id": "e1bc52db-6695-493c-b5d8-87618df04690",
   "metadata": {},
   "outputs": [],
   "source": [
    "QUEEN_train = pd.read_csv('../Feeder_years/WBds03_QUEENtrainYEARS.csv', sep=',')\n",
    "QUEEN_predict = pd.read_csv('../Feeder_years/WBds03_QUEENpredictYEARS.csv', sep=',')\n",
    "\n",
    "clustersMario = pd.read_csv(\"../auxiliary_files/WBds_CLUSTERSnests.csv\")\n",
    "\n",
    "template = pd.read_csv(\"../../../Input_open_data/ds01_PLANTILLA-RETO-AVISPAS-KOPURU.csv\",sep=\";\", encoding=\"utf-8\")"
   ]
  },
  {
   "cell_type": "code",
   "execution_count": 4,
   "id": "8f42f8f7-3c3d-402f-b7a3-5d073b3c9315",
   "metadata": {
    "tags": []
   },
   "outputs": [],
   "source": [
    "#QUEEN_predict.isnull().sum()"
   ]
  },
  {
   "cell_type": "code",
   "execution_count": 5,
   "id": "09be088b-b37a-4ffc-b492-2eb78560e2eb",
   "metadata": {},
   "outputs": [
    {
     "data": {
      "text/plain": [
       "(224, 40)"
      ]
     },
     "execution_count": 5,
     "metadata": {},
     "output_type": "execute_result"
    }
   ],
   "source": [
    "QUEEN_train.shape"
   ]
  },
  {
   "cell_type": "code",
   "execution_count": 6,
   "id": "d9660c01-5ab0-4e8c-af3e-a616bffcd854",
   "metadata": {},
   "outputs": [
    {
     "data": {
      "text/plain": [
       "(112, 40)"
      ]
     },
     "execution_count": 6,
     "metadata": {},
     "output_type": "execute_result"
    }
   ],
   "source": [
    "QUEEN_predict.shape"
   ]
  },
  {
   "cell_type": "markdown",
   "id": "294dd4f3-7342-4ecb-97cc-4e61282097d5",
   "metadata": {},
   "source": [
    "### Add in more Clusters (nest amount clusters)"
   ]
  },
  {
   "cell_type": "code",
   "execution_count": 7,
   "id": "afac6fe7-d43b-4823-bf50-0adba2181923",
   "metadata": {},
   "outputs": [],
   "source": [
    "QUEEN_train = pd.merge(QUEEN_train, clustersMario, how = 'left', on = ['municip_code', 'municip_name'])\n",
    "QUEEN_predict = pd.merge(QUEEN_predict, clustersMario, how = 'left', on = ['municip_code', 'municip_name'])"
   ]
  },
  {
   "cell_type": "code",
   "execution_count": 8,
   "id": "bd93f890-27ff-43d8-8574-6d4f156c09ac",
   "metadata": {},
   "outputs": [],
   "source": [
    "QUEEN_train.fillna(4, inplace=True)\n",
    "QUEEN_predict.fillna(4, inplace=True)"
   ]
  },
  {
   "cell_type": "code",
   "execution_count": 9,
   "id": "81b4a261-a2b3-4f10-8672-0c9bf63e8f19",
   "metadata": {},
   "outputs": [
    {
     "data": {
      "text/plain": [
       "(224, 41)"
      ]
     },
     "execution_count": 9,
     "metadata": {},
     "output_type": "execute_result"
    }
   ],
   "source": [
    "QUEEN_train.shape"
   ]
  },
  {
   "cell_type": "code",
   "execution_count": 10,
   "id": "445c00d1-f046-40d9-8b30-bea28651d58e",
   "metadata": {},
   "outputs": [
    {
     "data": {
      "text/plain": [
       "(112, 41)"
      ]
     },
     "execution_count": 10,
     "metadata": {},
     "output_type": "execute_result"
    }
   ],
   "source": [
    "QUEEN_predict.shape"
   ]
  },
  {
   "cell_type": "code",
   "execution_count": 11,
   "id": "07dad17a-8932-428c-ac33-91b31e0cdec0",
   "metadata": {},
   "outputs": [
    {
     "data": {
      "text/plain": [
       "0.0    66\n",
       "2.0    41\n",
       "1.0     4\n",
       "4.0     1\n",
       "Name: Cluster, dtype: int64"
      ]
     },
     "execution_count": 11,
     "metadata": {},
     "output_type": "execute_result"
    }
   ],
   "source": [
    "QUEEN_predict.Cluster.value_counts()"
   ]
  },
  {
   "cell_type": "markdown",
   "id": "02e47661-dd8c-4228-b35f-ec14059acf11",
   "metadata": {},
   "source": [
    "## Prediction time!"
   ]
  },
  {
   "cell_type": "markdown",
   "id": "21e88d86-2520-4b11-8d79-bb6e7d1ceb1f",
   "metadata": {},
   "source": [
    "### 1. Choose the model class"
   ]
  },
  {
   "cell_type": "code",
   "execution_count": 12,
   "id": "b0dcb655-54cb-412b-958e-45d96f1f4f50",
   "metadata": {},
   "outputs": [
    {
     "data": {
      "text/plain": [
       "xgboost.sklearn.XGBRegressor"
      ]
     },
     "execution_count": 12,
     "metadata": {},
     "output_type": "execute_result"
    }
   ],
   "source": [
    "XGBRegressor"
   ]
  },
  {
   "cell_type": "markdown",
   "id": "376df578-0e36-4453-9cb9-ad0b73a9123c",
   "metadata": {},
   "source": [
    "### 2. Instantiate the model"
   ]
  },
  {
   "cell_type": "code",
   "execution_count": 13,
   "id": "9c64b189-11cf-49c1-96cd-aa127509e6d4",
   "metadata": {},
   "outputs": [],
   "source": [
    "xgb = XGBRegressor(random_state=23)"
   ]
  },
  {
   "cell_type": "markdown",
   "id": "9c74df2a-c0d9-4afc-8cf1-56405fc6a75c",
   "metadata": {},
   "source": [
    "### 3. Prepare Feature matrix and Target variable"
   ]
  },
  {
   "cell_type": "code",
   "execution_count": 14,
   "id": "b6276909-8714-4b2d-aeb6-1579563a3cfa",
   "metadata": {
    "tags": []
   },
   "outputs": [],
   "source": [
    "# The target variable\n",
    "y_train = QUEEN_train.loc[:, ['municip_code', 'year_offset', 'NESTS']]\n",
    "y_train.set_index(['year_offset', 'municip_code'], inplace=True)\n",
    "\n",
    "y_predict = QUEEN_predict.loc[:, ['municip_code', 'year_offset', 'NESTS']]\n",
    "y_predict.set_index(['year_offset', 'municip_code'], inplace=True)\n",
    "\n",
    "# The features matrix\n",
    "X_train = QUEEN_train.drop(['municip_name', 'station_code', 'NESTS'], axis=1)\n",
    "X_train.set_index(['year_offset', 'municip_code'], inplace=True)\n",
    "\n",
    "X_predict = QUEEN_predict.drop(['municip_name', 'station_code', 'NESTS'], axis=1)\n",
    "X_predict.set_index(['year_offset', 'municip_code'], inplace=True)"
   ]
  },
  {
   "cell_type": "code",
   "execution_count": 15,
   "id": "f84134d0-f089-45c0-855e-ddaebb0414e3",
   "metadata": {},
   "outputs": [
    {
     "data": {
      "text/plain": [
       "(224, 36)"
      ]
     },
     "execution_count": 15,
     "metadata": {},
     "output_type": "execute_result"
    }
   ],
   "source": [
    "X_train.shape"
   ]
  },
  {
   "cell_type": "code",
   "execution_count": 16,
   "id": "14b502af-e66e-4e9b-af81-713cef08800e",
   "metadata": {},
   "outputs": [
    {
     "data": {
      "text/plain": [
       "(224, 1)"
      ]
     },
     "execution_count": 16,
     "metadata": {},
     "output_type": "execute_result"
    }
   ],
   "source": [
    "y_train.shape"
   ]
  },
  {
   "cell_type": "code",
   "execution_count": 17,
   "id": "08d3fe91-ecc3-4a6b-aa66-bf4763d597db",
   "metadata": {},
   "outputs": [
    {
     "data": {
      "text/plain": [
       "(112, 36)"
      ]
     },
     "execution_count": 17,
     "metadata": {},
     "output_type": "execute_result"
    }
   ],
   "source": [
    "X_predict.shape"
   ]
  },
  {
   "cell_type": "code",
   "execution_count": 18,
   "id": "38e83bd4-3302-41e2-b78f-ea017c632fc6",
   "metadata": {},
   "outputs": [
    {
     "data": {
      "text/plain": [
       "(112, 1)"
      ]
     },
     "execution_count": 18,
     "metadata": {},
     "output_type": "execute_result"
    }
   ],
   "source": [
    "y_predict.shape"
   ]
  },
  {
   "cell_type": "markdown",
   "id": "cf56ca71-4efa-45e2-9b46-dfd27a9678e6",
   "metadata": {},
   "source": [
    "### 4. Fit the model to the training data sets"
   ]
  },
  {
   "cell_type": "markdown",
   "id": "c1baa614-e0d6-4a29-ba6a-ce7243deb938",
   "metadata": {},
   "source": [
    "#### Scale and get feature importance"
   ]
  },
  {
   "cell_type": "code",
   "execution_count": 19,
   "id": "a5e29e1e-d356-4118-b1bd-9c1bd4fdcb6f",
   "metadata": {},
   "outputs": [],
   "source": [
    "#X = X_train\n",
    "#y = y_train\n",
    "#scalators = X.columns\n",
    "#X[scalators] = preprocessing.minmax_scale(X[scalators])"
   ]
  },
  {
   "cell_type": "code",
   "execution_count": 20,
   "id": "afd7d13b-9349-4764-abf9-6792e748f80f",
   "metadata": {},
   "outputs": [],
   "source": [
    "# define the model\n",
    "#model_fi = XGBRegressor(random_state=23)\n",
    "\n",
    "# fit the model\n",
    "#model_fi.fit(X, y)"
   ]
  },
  {
   "cell_type": "code",
   "execution_count": 21,
   "id": "2173c355-cab3-4ba7-a1eb-9c179fdf23e3",
   "metadata": {
    "tags": []
   },
   "outputs": [],
   "source": [
    "# get importance\n",
    "#importance = model_fi.feature_importances_\n",
    "# summarize feature importance\n",
    "#for i,v in enumerate(importance):\n",
    "#\tprint('Feature: %0d, Score: %.5f' % (i,v))\n",
    "# plot feature importance\n",
    "#plot_importance(model_fi, height=0.5, xlabel=\"F-Score\", ylabel=\"Feature Importance\", grid=False)\n",
    "#plt.show()"
   ]
  },
  {
   "cell_type": "markdown",
   "id": "43eec2b5-0ba6-4b93-aff2-3e64cca0c2a7",
   "metadata": {},
   "source": [
    "#### Now, do fit the model but only with the relevant features"
   ]
  },
  {
   "cell_type": "code",
   "execution_count": 22,
   "id": "fe675993-0bdd-420e-b4e5-c03b09a8c4f2",
   "metadata": {},
   "outputs": [],
   "source": [
    "X_train = X_train.loc[:, ['population', 'food_fruit', 'colonies_amount', 'weath_days_frost', 'weath_humidity', 'food_txakoli', 'food_apple']]\n",
    "\n",
    "X_predict = X_predict.loc[:, ['population', 'food_fruit', 'colonies_amount', 'weath_days_frost', 'weath_humidity', 'food_txakoli', 'food_apple']]"
   ]
  },
  {
   "cell_type": "code",
   "execution_count": 23,
   "id": "3dd1d415-6a4e-4756-bb7f-cce3832a42f1",
   "metadata": {},
   "outputs": [
    {
     "data": {
      "text/plain": [
       "XGBRegressor(base_score=0.5, booster='gbtree', colsample_bylevel=1,\n",
       "             colsample_bynode=1, colsample_bytree=1, gamma=0, gpu_id=-1,\n",
       "             importance_type='gain', interaction_constraints='',\n",
       "             learning_rate=0.300000012, max_delta_step=0, max_depth=6,\n",
       "             min_child_weight=1, missing=nan, monotone_constraints='()',\n",
       "             n_estimators=100, n_jobs=6, num_parallel_tree=1, random_state=23,\n",
       "             reg_alpha=0, reg_lambda=1, scale_pos_weight=1, subsample=1,\n",
       "             tree_method='exact', validate_parameters=1, verbosity=None)"
      ]
     },
     "execution_count": 23,
     "metadata": {},
     "output_type": "execute_result"
    }
   ],
   "source": [
    "xgb.fit(X_train, y_train)"
   ]
  },
  {
   "cell_type": "markdown",
   "id": "8512cec4-74d9-4e4c-8175-9e7797e16192",
   "metadata": {},
   "source": [
    "### 5. Predict the labels for new data"
   ]
  },
  {
   "cell_type": "code",
   "execution_count": 24,
   "id": "dbb7a4d0-3df4-4c89-b30d-f8fdb9e4566b",
   "metadata": {},
   "outputs": [],
   "source": [
    "y_predict = xgb.predict(X_predict)"
   ]
  },
  {
   "cell_type": "code",
   "execution_count": 25,
   "id": "c15d9b7e-f072-4df7-b65e-c624997bbcd5",
   "metadata": {},
   "outputs": [
    {
     "name": "stdout",
     "output_type": "stream",
     "text": [
      "Accuracy on the training set: 100%\n"
     ]
    }
   ],
   "source": [
    "accuracy_train = xgb.score(X_train, y_train)\n",
    "print(f\"Accuracy on the training set: {accuracy_train:.0%}\")"
   ]
  },
  {
   "cell_type": "code",
   "execution_count": 26,
   "id": "21ebb5c9-7a67-4710-9167-7ba8b4732c8a",
   "metadata": {},
   "outputs": [
    {
     "name": "stdout",
     "output_type": "stream",
     "text": [
      "Accuracy on the test set: 100%\n"
     ]
    }
   ],
   "source": [
    "accuracy_predict = xgb.score(X_predict, y_predict)\n",
    "print(f\"Accuracy on the test set: {accuracy_predict:.0%}\")"
   ]
  },
  {
   "cell_type": "code",
   "execution_count": 27,
   "id": "1d73fcda-4959-4988-a8cd-ba100f8603d2",
   "metadata": {},
   "outputs": [
    {
     "data": {
      "text/plain": [
       "(112,)"
      ]
     },
     "execution_count": 27,
     "metadata": {},
     "output_type": "execute_result"
    }
   ],
   "source": [
    "y_predict.shape"
   ]
  },
  {
   "cell_type": "code",
   "execution_count": 28,
   "id": "a2b34068-a080-4093-8ac4-6ae64c512390",
   "metadata": {},
   "outputs": [],
   "source": [
    "QUEEN_predict['NESTS'] = y_predict"
   ]
  },
  {
   "cell_type": "code",
   "execution_count": 29,
   "id": "5e13172a-ae79-406c-a1ab-129ed6434389",
   "metadata": {},
   "outputs": [
    {
     "data": {
      "text/plain": [
       "2745.5986"
      ]
     },
     "execution_count": 29,
     "metadata": {},
     "output_type": "execute_result"
    }
   ],
   "source": [
    "QUEEN_predict.NESTS.sum()"
   ]
  },
  {
   "cell_type": "code",
   "execution_count": 30,
   "id": "54e7287b-3467-4186-8d7f-9b45bf793c59",
   "metadata": {},
   "outputs": [
    {
     "name": "stderr",
     "output_type": "stream",
     "text": [
      "<ipython-input-30-ef4b3a26f94e>:1: SettingWithCopyWarning: \n",
      "A value is trying to be set on a copy of a slice from a DataFrame\n",
      "\n",
      "See the caveats in the documentation: https://pandas.pydata.org/pandas-docs/stable/user_guide/indexing.html#returning-a-view-versus-a-copy\n",
      "  QUEEN_predict.NESTS[QUEEN_predict.NESTS < 0] = 0\n"
     ]
    }
   ],
   "source": [
    "QUEEN_predict.NESTS[QUEEN_predict.NESTS < 0] = 0"
   ]
  },
  {
   "cell_type": "code",
   "execution_count": 31,
   "id": "7cfbaa57-8cf2-4306-8cbd-f0d2b15f442e",
   "metadata": {},
   "outputs": [
    {
     "data": {
      "text/plain": [
       "2745.755"
      ]
     },
     "execution_count": 31,
     "metadata": {},
     "output_type": "execute_result"
    }
   ],
   "source": [
    "QUEEN_predict.NESTS.sum()"
   ]
  },
  {
   "cell_type": "markdown",
   "id": "3423a8da-0a1c-48f2-813e-44d2988cb52a",
   "metadata": {},
   "source": [
    "## Prepare the dataset for submission"
   ]
  },
  {
   "cell_type": "code",
   "execution_count": 32,
   "id": "b89c9e5d-6c6c-450f-bae6-deee72f0d6a6",
   "metadata": {},
   "outputs": [],
   "source": [
    "HEX = QUEEN_predict.loc[:,['municip_code', 'municip_name', 'NESTS']]"
   ]
  },
  {
   "cell_type": "markdown",
   "id": "f0a437ca-e975-42ab-b15a-1ee8ced3bdd0",
   "metadata": {},
   "source": [
    "## Adjust manually for Bilbao 48020 and generate the output"
   ]
  },
  {
   "cell_type": "code",
   "execution_count": 33,
   "id": "993847dc-43b2-412f-9746-02b2be1c805a",
   "metadata": {},
   "outputs": [],
   "source": [
    "HEX.loc[HEX.municip_code.isin([48020]), 'NESTS'] = 0"
   ]
  },
  {
   "cell_type": "code",
   "execution_count": 34,
   "id": "8fc877e4-5616-4c3a-9af5-87a7de17b1dc",
   "metadata": {},
   "outputs": [
    {
     "data": {
      "text/html": [
       "<div>\n",
       "<style scoped>\n",
       "    .dataframe tbody tr th:only-of-type {\n",
       "        vertical-align: middle;\n",
       "    }\n",
       "\n",
       "    .dataframe tbody tr th {\n",
       "        vertical-align: top;\n",
       "    }\n",
       "\n",
       "    .dataframe thead th {\n",
       "        text-align: right;\n",
       "    }\n",
       "</style>\n",
       "<table border=\"1\" class=\"dataframe\">\n",
       "  <thead>\n",
       "    <tr style=\"text-align: right;\">\n",
       "      <th></th>\n",
       "      <th>municip_code</th>\n",
       "      <th>municip_name</th>\n",
       "      <th>NESTS</th>\n",
       "    </tr>\n",
       "  </thead>\n",
       "  <tbody>\n",
       "    <tr>\n",
       "      <th>27</th>\n",
       "      <td>48020</td>\n",
       "      <td>Bilbao</td>\n",
       "      <td>0.000000</td>\n",
       "    </tr>\n",
       "    <tr>\n",
       "      <th>60</th>\n",
       "      <td>48022</td>\n",
       "      <td>Karrantza Harana/Valle de Carranza</td>\n",
       "      <td>29.934254</td>\n",
       "    </tr>\n",
       "    <tr>\n",
       "      <th>62</th>\n",
       "      <td>48051</td>\n",
       "      <td>Lanestosa</td>\n",
       "      <td>4.323457</td>\n",
       "    </tr>\n",
       "    <tr>\n",
       "      <th>83</th>\n",
       "      <td>48071</td>\n",
       "      <td>Muskiz</td>\n",
       "      <td>14.258961</td>\n",
       "    </tr>\n",
       "    <tr>\n",
       "      <th>99</th>\n",
       "      <td>48088</td>\n",
       "      <td>Ubide</td>\n",
       "      <td>5.978913</td>\n",
       "    </tr>\n",
       "    <tr>\n",
       "      <th>102</th>\n",
       "      <td>48074</td>\n",
       "      <td>Urduña/Orduña</td>\n",
       "      <td>30.562220</td>\n",
       "    </tr>\n",
       "  </tbody>\n",
       "</table>\n",
       "</div>"
      ],
      "text/plain": [
       "     municip_code                        municip_name      NESTS\n",
       "27          48020                              Bilbao   0.000000\n",
       "60          48022  Karrantza Harana/Valle de Carranza  29.934254\n",
       "62          48051                           Lanestosa   4.323457\n",
       "83          48071                              Muskiz  14.258961\n",
       "99          48088                               Ubide   5.978913\n",
       "102         48074                       Urduña/Orduña  30.562220"
      ]
     },
     "execution_count": 34,
     "metadata": {},
     "output_type": "execute_result"
    }
   ],
   "source": [
    "HEX.loc[HEX.municip_code.isin([48022, 48071, 48088, 48074, 48051, 48020]), :]"
   ]
  },
  {
   "cell_type": "code",
   "execution_count": 35,
   "id": "24305092-c891-4e1e-91cb-0a23090e3f67",
   "metadata": {},
   "outputs": [],
   "source": [
    "HEX.columns = [\"CODIGO MUNICIPIO\", \"NOMBRE MUNICIPIO\", \"NIDOS 2020\"] # change column names to Spanish (Competition template)"
   ]
  },
  {
   "cell_type": "code",
   "execution_count": 36,
   "id": "bc3b17dd-e71a-427e-9525-051c70128969",
   "metadata": {},
   "outputs": [
    {
     "name": "stdout",
     "output_type": "stream",
     "text": [
      "Submission form Shape is (112, 3)\n",
      "Number of Municipalities is 112\n",
      "The Total 2020 Nests' Prediction is 2745\n"
     ]
    },
    {
     "data": {
      "text/plain": [
       "'All Municipality Names and Codes to be submitted match the Template'"
      ]
     },
     "execution_count": 36,
     "metadata": {},
     "output_type": "execute_result"
    }
   ],
   "source": [
    "check_data(HEX)"
   ]
  },
  {
   "cell_type": "markdown",
   "id": "25535ba3-2b88-4461-9503-84f3606f13ca",
   "metadata": {},
   "source": [
    "### Export dataset for submission"
   ]
  },
  {
   "cell_type": "code",
   "execution_count": 37,
   "id": "f209395d-f4f9-47ba-8bf1-a3b73fb8ed90",
   "metadata": {},
   "outputs": [],
   "source": [
    "HEX.to_csv('WaspBusters_20210609_128-yXGB-prodigal-noGSCV-noSort-FI-no0s.csv', index=False)"
   ]
  },
  {
   "cell_type": "markdown",
   "id": "ab29f668-6aeb-40e3-8a3d-1a999f9aae2e",
   "metadata": {},
   "source": [
    "## VERSION Manual adjustments"
   ]
  },
  {
   "cell_type": "code",
   "execution_count": 38,
   "id": "fff13fc8-2c9b-4b21-89ee-8b114283c276",
   "metadata": {},
   "outputs": [],
   "source": [
    "HEX.columns = ['municip_code', 'municip_name', 'NESTS'] # change column names to Spanish (Competition template)"
   ]
  },
  {
   "cell_type": "code",
   "execution_count": 39,
   "id": "b86a00c3-d839-4a5d-931f-9e65f77ed6a1",
   "metadata": {},
   "outputs": [],
   "source": [
    "HEX.loc[HEX.municip_code.isin([48022, 48071, 48088, 48074, 48051]), 'NESTS'] = [0,0,1,0,1]"
   ]
  },
  {
   "cell_type": "code",
   "execution_count": 40,
   "id": "32a429bc-4dcf-4cec-9b57-9c0b297888c6",
   "metadata": {},
   "outputs": [
    {
     "data": {
      "text/html": [
       "<div>\n",
       "<style scoped>\n",
       "    .dataframe tbody tr th:only-of-type {\n",
       "        vertical-align: middle;\n",
       "    }\n",
       "\n",
       "    .dataframe tbody tr th {\n",
       "        vertical-align: top;\n",
       "    }\n",
       "\n",
       "    .dataframe thead th {\n",
       "        text-align: right;\n",
       "    }\n",
       "</style>\n",
       "<table border=\"1\" class=\"dataframe\">\n",
       "  <thead>\n",
       "    <tr style=\"text-align: right;\">\n",
       "      <th></th>\n",
       "      <th>municip_code</th>\n",
       "      <th>municip_name</th>\n",
       "      <th>NESTS</th>\n",
       "    </tr>\n",
       "  </thead>\n",
       "  <tbody>\n",
       "    <tr>\n",
       "      <th>27</th>\n",
       "      <td>48020</td>\n",
       "      <td>Bilbao</td>\n",
       "      <td>0.0</td>\n",
       "    </tr>\n",
       "    <tr>\n",
       "      <th>60</th>\n",
       "      <td>48022</td>\n",
       "      <td>Karrantza Harana/Valle de Carranza</td>\n",
       "      <td>0.0</td>\n",
       "    </tr>\n",
       "    <tr>\n",
       "      <th>62</th>\n",
       "      <td>48051</td>\n",
       "      <td>Lanestosa</td>\n",
       "      <td>0.0</td>\n",
       "    </tr>\n",
       "    <tr>\n",
       "      <th>83</th>\n",
       "      <td>48071</td>\n",
       "      <td>Muskiz</td>\n",
       "      <td>1.0</td>\n",
       "    </tr>\n",
       "    <tr>\n",
       "      <th>99</th>\n",
       "      <td>48088</td>\n",
       "      <td>Ubide</td>\n",
       "      <td>0.0</td>\n",
       "    </tr>\n",
       "    <tr>\n",
       "      <th>102</th>\n",
       "      <td>48074</td>\n",
       "      <td>Urduña/Orduña</td>\n",
       "      <td>1.0</td>\n",
       "    </tr>\n",
       "  </tbody>\n",
       "</table>\n",
       "</div>"
      ],
      "text/plain": [
       "     municip_code                        municip_name  NESTS\n",
       "27          48020                              Bilbao    0.0\n",
       "60          48022  Karrantza Harana/Valle de Carranza    0.0\n",
       "62          48051                           Lanestosa    0.0\n",
       "83          48071                              Muskiz    1.0\n",
       "99          48088                               Ubide    0.0\n",
       "102         48074                       Urduña/Orduña    1.0"
      ]
     },
     "execution_count": 40,
     "metadata": {},
     "output_type": "execute_result"
    }
   ],
   "source": [
    "HEX.loc[HEX.municip_code.isin([48022, 48071, 48088, 48074, 48051, 48020]), :]"
   ]
  },
  {
   "cell_type": "code",
   "execution_count": 41,
   "id": "71e6b3a6-fc2b-4555-be00-ef7cef9c5789",
   "metadata": {},
   "outputs": [],
   "source": [
    "HEX.columns = [\"CODIGO MUNICIPIO\", \"NOMBRE MUNICIPIO\", \"NIDOS 2020\"] # change column names to Spanish (Competition template)"
   ]
  },
  {
   "cell_type": "code",
   "execution_count": 42,
   "id": "59b95188-bbb5-45c2-9ed3-14bf93807813",
   "metadata": {},
   "outputs": [
    {
     "name": "stdout",
     "output_type": "stream",
     "text": [
      "Submission form Shape is (112, 3)\n",
      "Number of Municipalities is 112\n",
      "The Total 2020 Nests' Prediction is 2662\n"
     ]
    },
    {
     "data": {
      "text/plain": [
       "'All Municipality Names and Codes to be submitted match the Template'"
      ]
     },
     "execution_count": 42,
     "metadata": {},
     "output_type": "execute_result"
    }
   ],
   "source": [
    "check_data(HEX)"
   ]
  },
  {
   "cell_type": "markdown",
   "id": "cc759394-8282-496d-9901-090c58e165e2",
   "metadata": {},
   "source": [
    "### Export dataset for submission"
   ]
  },
  {
   "cell_type": "code",
   "execution_count": 43,
   "id": "22a4eacd-46a5-45d6-a4de-bc3fe235b01a",
   "metadata": {},
   "outputs": [],
   "source": [
    "HEX.to_csv('WaspBusters_20210609_127-yXGB-prodigal-noGSCV-noSort-FI-0s.csv', index=False)"
   ]
  }
 ],
 "metadata": {
  "kernelspec": {
   "display_name": "Python 3",
   "language": "python",
   "name": "python3"
  },
  "language_info": {
   "codemirror_mode": {
    "name": "ipython",
    "version": 3
   },
   "file_extension": ".py",
   "mimetype": "text/x-python",
   "name": "python",
   "nbconvert_exporter": "python",
   "pygments_lexer": "ipython3",
   "version": "3.8.8"
  }
 },
 "nbformat": 4,
 "nbformat_minor": 5
}

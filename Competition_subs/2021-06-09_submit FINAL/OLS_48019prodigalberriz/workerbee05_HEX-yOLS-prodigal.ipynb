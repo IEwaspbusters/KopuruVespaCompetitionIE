{
 "cells": [
  {
   "cell_type": "markdown",
   "id": "7766cce7-a0e7-4b55-9582-980cd2482fc2",
   "metadata": {
    "id": "9nkDv5dppU6B"
   },
   "source": [
    "# HEX algorithm **Kopuru Vespa Velutina Competition**\n",
    "\n",
    "**Linear Regression model**\n",
    "\n",
    "Purpose: Predict the number of Nests in each of Biscay's 112 municipalities for the year 2020.\n",
    "\n",
    "Output: *(WaspBusters_20210609_batch_OLSy_48019prodigal.csv)*\n",
    "\n",
    "@authors:\n",
    "* mario.bejar@student.ie.edu\n",
    "* pedro.geirinhas@student.ie.edu\n",
    "* a.berrizbeitia@student.ie.edu\n",
    "* pcasaverde@student.ie.edu"
   ]
  },
  {
   "cell_type": "markdown",
   "id": "c60e3d67-b7a8-42cc-9471-869d0e6cce8f",
   "metadata": {},
   "source": [
    "## Libraries"
   ]
  },
  {
   "cell_type": "code",
   "execution_count": 109,
   "id": "e221fd74-3f1c-4594-9011-94c90de48163",
   "metadata": {},
   "outputs": [],
   "source": [
    "# Base packages -----------------------------------\n",
    "import numpy as np\n",
    "import pandas as pd\n",
    "\n",
    "# Visualization -----------------------------------\n",
    "from matplotlib import pyplot\n",
    "pyplot.rcParams[\"figure.figsize\"] = (13, 8)\n",
    "\n",
    "# Scaling data ------------------------------------\n",
    "from sklearn import preprocessing\n",
    "\n",
    "# Linear Regression -------------------------------\n",
    "from statsmodels.formula.api import ols\n",
    "#from sklearn.datasets import make_regression\n",
    "from sklearn.linear_model import LinearRegression"
   ]
  },
  {
   "cell_type": "markdown",
   "id": "bf6b6a79-3b41-4f85-bab8-b394aeda7f77",
   "metadata": {},
   "source": [
    "## Functions"
   ]
  },
  {
   "cell_type": "code",
   "execution_count": 110,
   "id": "37489ce6-bcda-49e9-a0e8-9e9eae3954a0",
   "metadata": {},
   "outputs": [],
   "source": [
    "# Function that checks if final Output is ready for submission or needs revision   \n",
    "\n",
    "def check_data(HEX):\n",
    "    \n",
    "    def template_checker(HEX):\n",
    "        submission_df = (HEX[\"CODIGO MUNICIPIO\"].astype(\"string\") + HEX[\"NOMBRE MUNICIPIO\"]).sort_values().reset_index(drop=True)\n",
    "        template_df = (template[\"CODIGO MUNICIPIO\"].astype(\"string\") + template[\"NOMBRE MUNICIPIO\"]).sort_values().reset_index(drop=True)\n",
    "        check_df = pd.DataFrame({\"submission_df\":submission_df,\"template_df\":template_df})\n",
    "        check_df[\"check\"] = check_df.submission_df == check_df.template_df\n",
    "        if (check_df.check == False).any():\n",
    "            pd.options.display.max_rows = 112\n",
    "            return check_df.loc[check_df.check == False,:]\n",
    "        else:  \n",
    "            return \"All Municipality Names and Codes to be submitted match the Template\"\n",
    "    \n",
    "    print(\"Submission form Shape is\", HEX.shape)\n",
    "    print(\"Number of Municipalities is\", HEX[\"CODIGO MUNICIPIO\"].nunique())\n",
    "    print(\"The Total 2020 Nests' Prediction is\", int(HEX[\"NIDOS 2020\"].sum()))\n",
    "\n",
    "    assert HEX.shape == (112, 3), \"Error: Shape is incorrect.\"\n",
    "    assert HEX[\"CODIGO MUNICIPIO\"].nunique() == 112, \"Error: Number of unique municipalities is correct.\"    \n",
    "    return template_checker(HEX)"
   ]
  },
  {
   "cell_type": "markdown",
   "id": "3eff056c-41e9-4220-9b2e-f0ddd845a46a",
   "metadata": {},
   "source": [
    "## Get the data"
   ]
  },
  {
   "cell_type": "code",
   "execution_count": 111,
   "id": "fc6428aa-0349-4843-b72f-c9cd23fd171c",
   "metadata": {},
   "outputs": [],
   "source": [
    "QUEEN_train = pd.read_csv('../Feeder_years/WBds03_QUEENtrainYEARS.csv', sep=',')\n",
    "QUEEN_predict = pd.read_csv('../Feeder_years/WBds03_QUEENpredictYEARS.csv', sep=',')\n",
    "\n",
    "clustersMario = pd.read_csv(\"../auxiliary_files/WBds_CLUSTERSnests.csv\")\n",
    "\n",
    "template = pd.read_csv(\"../../../Input_open_data/ds01_PLANTILLA-RETO-AVISPAS-KOPURU.csv\",sep=\";\", encoding=\"utf-8\")"
   ]
  },
  {
   "cell_type": "code",
   "execution_count": 112,
   "id": "a928dc79-c853-4473-8727-bfc2bf531450",
   "metadata": {
    "tags": []
   },
   "outputs": [],
   "source": [
    "#QUEEN_predict.isnull().sum()"
   ]
  },
  {
   "cell_type": "code",
   "execution_count": 113,
   "id": "1f822825-ae00-49aa-944c-3d1574b16ad5",
   "metadata": {},
   "outputs": [
    {
     "data": {
      "text/plain": [
       "(224, 40)"
      ]
     },
     "execution_count": 113,
     "metadata": {},
     "output_type": "execute_result"
    }
   ],
   "source": [
    "QUEEN_train.shape"
   ]
  },
  {
   "cell_type": "code",
   "execution_count": 114,
   "id": "97934c8c-c01a-4efd-98de-20b8de53731f",
   "metadata": {},
   "outputs": [
    {
     "data": {
      "text/plain": [
       "(112, 40)"
      ]
     },
     "execution_count": 114,
     "metadata": {},
     "output_type": "execute_result"
    }
   ],
   "source": [
    "QUEEN_predict.shape"
   ]
  },
  {
   "cell_type": "markdown",
   "id": "694d1ce2-9927-4e1e-914c-8ff35476d7a6",
   "metadata": {},
   "source": [
    "## Add in more Clusters (nest amount clusters)"
   ]
  },
  {
   "cell_type": "code",
   "execution_count": 115,
   "id": "e3c48590-644d-4b24-91c2-1faf1dc642bf",
   "metadata": {},
   "outputs": [],
   "source": [
    "QUEEN_train = pd.merge(QUEEN_train, clustersMario, how = 'left', on = ['municip_code', 'municip_name'])\n",
    "QUEEN_predict = pd.merge(QUEEN_predict, clustersMario, how = 'left', on = ['municip_code', 'municip_name'])"
   ]
  },
  {
   "cell_type": "code",
   "execution_count": 116,
   "id": "2740866e-8135-4e91-96c0-762fe71eec6b",
   "metadata": {},
   "outputs": [],
   "source": [
    "QUEEN_train.fillna(4, inplace=True)\n",
    "QUEEN_predict.fillna(4, inplace=True)"
   ]
  },
  {
   "cell_type": "code",
   "execution_count": 117,
   "id": "87e6e96a-fc38-42dc-bd2b-7230f971d400",
   "metadata": {},
   "outputs": [
    {
     "data": {
      "text/plain": [
       "(224, 41)"
      ]
     },
     "execution_count": 117,
     "metadata": {},
     "output_type": "execute_result"
    }
   ],
   "source": [
    "QUEEN_train.shape"
   ]
  },
  {
   "cell_type": "code",
   "execution_count": 118,
   "id": "22140af5-954f-4cee-b98f-7df933a6aa10",
   "metadata": {},
   "outputs": [
    {
     "data": {
      "text/plain": [
       "(112, 41)"
      ]
     },
     "execution_count": 118,
     "metadata": {},
     "output_type": "execute_result"
    }
   ],
   "source": [
    "QUEEN_predict.shape"
   ]
  },
  {
   "cell_type": "code",
   "execution_count": 119,
   "id": "47e1ae42-a99e-4031-81f7-55c21d84f34f",
   "metadata": {},
   "outputs": [],
   "source": [
    "#QUEEN_train.isnull().sum()"
   ]
  },
  {
   "cell_type": "code",
   "execution_count": 120,
   "id": "7fedca52-dcdd-49ff-b31a-9ba6610b2baf",
   "metadata": {
    "tags": []
   },
   "outputs": [],
   "source": [
    "#QUEEN_predict.isnull().sum()"
   ]
  },
  {
   "cell_type": "code",
   "execution_count": 121,
   "id": "a69adb9c-2de5-4e70-ac92-c217bd002910",
   "metadata": {},
   "outputs": [
    {
     "data": {
      "text/plain": [
       "0.0    66\n",
       "2.0    41\n",
       "1.0     4\n",
       "4.0     1\n",
       "Name: Cluster, dtype: int64"
      ]
     },
     "execution_count": 121,
     "metadata": {},
     "output_type": "execute_result"
    }
   ],
   "source": [
    "QUEEN_predict.Cluster.value_counts()"
   ]
  },
  {
   "cell_type": "markdown",
   "id": "326d88ec-3bf9-43ef-ad37-031b5e508802",
   "metadata": {},
   "source": [
    "## Determine feature importance"
   ]
  },
  {
   "cell_type": "code",
   "execution_count": 122,
   "id": "7a8aea40-8e17-4cd8-ab4f-a504712f0f0c",
   "metadata": {},
   "outputs": [],
   "source": [
    "X = QUEEN_train.drop(columns = ['municip_name', 'municip_code', 'NESTS', 'station_code'])"
   ]
  },
  {
   "cell_type": "code",
   "execution_count": 123,
   "id": "10a3394b-87c2-475b-afa8-e38132238f77",
   "metadata": {},
   "outputs": [],
   "source": [
    "y = QUEEN_train['NESTS']"
   ]
  },
  {
   "cell_type": "code",
   "execution_count": 124,
   "id": "22a0d35c-cc3b-48fc-9a32-a79d56f191f6",
   "metadata": {},
   "outputs": [],
   "source": [
    "# Scale the datasets using MinMaxScaler\n",
    "\n",
    "scalators = X.columns\n",
    "X[scalators] = preprocessing.minmax_scale(X[scalators])"
   ]
  },
  {
   "cell_type": "code",
   "execution_count": 125,
   "id": "a76b5c13-f485-4b9f-b472-1679e515b365",
   "metadata": {},
   "outputs": [
    {
     "name": "stdout",
     "output_type": "stream",
     "text": [
      "Feature: year_offset, Score: -23.56435\n",
      "Feature: colonies_amount, Score: 9.64922\n",
      "Feature: food_fruit, Score: 37.08409\n",
      "Feature: food_apple, Score: -13.93297\n",
      "Feature: food_txakoli, Score: 16.17032\n",
      "Feature: food_kiwi, Score: -3.82367\n",
      "Feature: food_pear, Score: -0.06788\n",
      "Feature: food_blueberry, Score: 10.16787\n",
      "Feature: food_raspberry, Score: 3.65855\n",
      "Feature: weath_days_frost, Score: 4.34280\n",
      "Feature: weath_humidity, Score: -6.74430\n",
      "Feature: weath_maxLevel, Score: 17.64225\n",
      "Feature: weath_midLevel, Score: -28.66336\n",
      "Feature: weath_minLevel, Score: 21.15902\n",
      "Feature: weath_days_rain, Score: 8.49121\n",
      "Feature: weath_days_rain1mm, Score: 15.88702\n",
      "Feature: weath_accuRainfall, Score: -2.18152\n",
      "Feature: weath_10minRainfall, Score: 3.00078\n",
      "Feature: weath_1dayRainfall, Score: 14.39251\n",
      "Feature: weath_solar, Score: 2.26159\n",
      "Feature: weath_meanTemp, Score: 9.84983\n",
      "Feature: weath_maxTemp, Score: 1.52658\n",
      "Feature: weath_maxMeanTemp, Score: -13.31617\n",
      "Feature: weath_minTemp, Score: 10.65421\n",
      "Feature: weath_meanWindM, Score: 1.92156\n",
      "Feature: weath_maxWindM, Score: 19.60514\n",
      "Feature: weath_meanDayMaxWind, Score: 4.59176\n",
      "Feature: population, Score: -6.91753\n",
      "Feature: cluster_size, Score: 21.45238\n",
      "Feature: cluster_cosmo, Score: 60.18478\n",
      "Feature: cluster_survive, Score: -9.86779\n",
      "Feature: cluster_food, Score: -5.43874\n",
      "Feature: cluster_weather_wet, Score: -1.78387\n",
      "Feature: cluster_weather_temp, Score: -1.50183\n",
      "Feature: cluster_weather_wind, Score: -5.68586\n",
      "Feature: cluster_weather_level, Score: 7.27519\n",
      "Feature: Cluster, Score: -1.56070\n"
     ]
    }
   ],
   "source": [
    "# define the model\n",
    "model_fi = LinearRegression()\n",
    "\n",
    "# fit the model\n",
    "model_fi.fit(X, y)\n",
    "\n",
    "# get importance\n",
    "importance = model_fi.coef_\n",
    "\n",
    "# summarize feature importance\n",
    "for i,v in enumerate(importance):\n",
    "\tprint('Feature: %0s, Score: %.5f' % (X.columns[i],v))"
   ]
  },
  {
   "cell_type": "code",
   "execution_count": 126,
   "id": "68fe56fe-0d87-41ce-ae70-4110e1c93aaf",
   "metadata": {},
   "outputs": [
    {
     "data": {
      "image/png": "[encoded data removed]",
      "text/plain": [
       "<Figure size 936x576 with 1 Axes>"
      ]
     },
     "metadata": {
      "needs_background": "light"
     },
     "output_type": "display_data"
    }
   ],
   "source": [
    "# plot feature importance\n",
    "pyplot.bar([x for x in range(len(importance))], importance)\n",
    "pyplot.show()"
   ]
  },
  {
   "cell_type": "code",
   "execution_count": 127,
   "id": "7171515b-39ea-4fa3-8502-1ad29223d9ce",
   "metadata": {},
   "outputs": [
    {
     "name": "stdout",
     "output_type": "stream",
     "text": [
      "Feature: year_offset, Score: -23.56\n",
      "Feature: colonies_amount, Score: 9.65\n",
      "Feature: food_fruit, Score: 37.08\n",
      "Feature: food_apple, Score: -13.93\n",
      "Feature: food_txakoli, Score: 16.17\n",
      "Feature: food_kiwi, Score: -3.82\n",
      "Feature: food_blueberry, Score: 10.17\n",
      "Feature: food_raspberry, Score: 3.66\n",
      "Feature: weath_days_frost, Score: 4.34\n",
      "Feature: weath_humidity, Score: -6.74\n",
      "Feature: weath_maxLevel, Score: 17.64\n",
      "Feature: weath_midLevel, Score: -28.66\n",
      "Feature: weath_minLevel, Score: 21.16\n",
      "Feature: weath_days_rain, Score: 8.49\n",
      "Feature: weath_days_rain1mm, Score: 15.89\n",
      "Feature: weath_accuRainfall, Score: -2.18\n",
      "Feature: weath_10minRainfall, Score: 3.00\n",
      "Feature: weath_1dayRainfall, Score: 14.39\n",
      "Feature: weath_solar, Score: 2.26\n",
      "Feature: weath_meanTemp, Score: 9.85\n",
      "Feature: weath_maxTemp, Score: 1.53\n",
      "Feature: weath_maxMeanTemp, Score: -13.32\n",
      "Feature: weath_minTemp, Score: 10.65\n",
      "Feature: weath_meanWindM, Score: 1.92\n",
      "Feature: weath_maxWindM, Score: 19.61\n",
      "Feature: weath_meanDayMaxWind, Score: 4.59\n",
      "Feature: population, Score: -6.92\n",
      "Feature: cluster_size, Score: 21.45\n",
      "Feature: cluster_cosmo, Score: 60.18\n",
      "Feature: cluster_survive, Score: -9.87\n",
      "Feature: cluster_food, Score: -5.44\n",
      "Feature: cluster_weather_wet, Score: -1.78\n",
      "Feature: cluster_weather_temp, Score: -1.50\n",
      "Feature: cluster_weather_wind, Score: -5.69\n",
      "Feature: cluster_weather_level, Score: 7.28\n",
      "Feature: Cluster, Score: -1.56\n"
     ]
    }
   ],
   "source": [
    "for i,v in enumerate(importance):\n",
    "    if abs(v) > 1:\n",
    "        print('Feature: %0s, Score: %.2f' % (X.columns[i],v))"
   ]
  },
  {
   "cell_type": "markdown",
   "id": "36b0df4a-03bf-4608-8e00-7f8de6b8fa50",
   "metadata": {},
   "source": [
    "## Train the model"
   ]
  },
  {
   "cell_type": "markdown",
   "id": "d338aa21-ba48-45d3-beff-409a08986d38",
   "metadata": {},
   "source": [
    "### With the variables suggested by the Feature Importance method"
   ]
  },
  {
   "cell_type": "code",
   "execution_count": 128,
   "id": "c2c2ea1c-93ea-4bfb-a0c0-16b4151a9953",
   "metadata": {
    "tags": []
   },
   "outputs": [
    {
     "name": "stdout",
     "output_type": "stream",
     "text": [
      "                            OLS Regression Results                            \n",
      "==============================================================================\n",
      "Dep. Variable:                  NESTS   R-squared:                       0.778\n",
      "Model:                            OLS   Adj. R-squared:                  0.731\n",
      "Method:                 Least Squares   F-statistic:                     16.51\n",
      "Date:                Tue, 08 Jun 2021   Prob (F-statistic):           3.96e-42\n",
      "Time:                        19:17:23   Log-Likelihood:                -916.50\n",
      "No. Observations:                 224   AIC:                             1913.\n",
      "Df Residuals:                     184   BIC:                             2049.\n",
      "Df Model:                          39                                         \n",
      "Covariance Type:            nonrobust                                         \n",
      "=================================================================================================\n",
      "                                    coef    std err          t      P>|t|      [0.025      0.975]\n",
      "-------------------------------------------------------------------------------------------------\n",
      "Intercept                         9.2700    117.433      0.079      0.937    -222.419     240.959\n",
      "C(cluster_size)[T.1]             40.1807     16.094      2.497      0.013       8.428      71.934\n",
      "C(cluster_size)[T.2]             96.4552     21.602      4.465      0.000      53.836     139.075\n",
      "C(cluster_size)[T.3]             10.5587      3.376      3.127      0.002       3.897      17.220\n",
      "C(cluster_size)[T.4]             57.2232     25.506      2.244      0.026       6.902     107.544\n",
      "C(cluster_cosmo)[T.1]           -22.8296     23.569     -0.969      0.334     -69.330      23.670\n",
      "C(cluster_survive)[T.1]         -35.0947     15.604     -2.249      0.026     -65.881      -4.308\n",
      "C(cluster_food)[T.1]            -17.8204     10.547     -1.690      0.093     -38.629       2.989\n",
      "C(cluster_weather_wet)[T.1]      -1.3326      5.736     -0.232      0.817     -12.650       9.985\n",
      "C(cluster_weather_temp)[T.1]      1.3360      8.622      0.155      0.877     -15.675      18.347\n",
      "C(cluster_weather_wind)[T.1]      1.5564      8.484      0.183      0.855     -15.182      18.295\n",
      "C(cluster_weather_level)[T.1]    23.8943     11.362      2.103      0.037       1.477      46.312\n",
      "C(Cluster)[T.1.0]                28.4127     13.187      2.155      0.032       2.395      54.431\n",
      "C(Cluster)[T.2.0]                 2.9151      2.901      1.005      0.316      -2.808       8.638\n",
      "C(Cluster)[T.4.0]               -36.4274     14.432     -2.524      0.012     -64.901      -7.954\n",
      "colonies_amount                   0.0349      0.020      1.758      0.080      -0.004       0.074\n",
      "food_fruit                        0.0051      0.061      0.083      0.934      -0.116       0.126\n",
      "food_apple                       -0.0443      0.237     -0.187      0.852      -0.512       0.423\n",
      "food_txakoli                      0.1786      0.061      2.909      0.004       0.057       0.300\n",
      "food_kiwi                         0.0375      0.228      0.165      0.869      -0.412       0.487\n",
      "food_blueberry                    3.3256      1.607      2.069      0.040       0.155       6.497\n",
      "food_raspberry                    2.7123      9.533      0.285      0.776     -16.096      21.520\n",
      "weath_days_frost                  1.5441      3.644      0.424      0.672      -5.645       8.734\n",
      "weath_humidity                   -0.0335      0.564     -0.059      0.953      -1.145       1.078\n",
      "weath_maxLevel                   -3.1868      2.208     -1.443      0.151      -7.543       1.170\n",
      "weath_midLevel                  -12.6934     31.217     -0.407      0.685     -74.282      48.896\n",
      "weath_minLevel                  187.7512    138.859      1.352      0.178     -86.209     461.712\n",
      "weath_days_rain                  -1.4093      2.976     -0.474      0.636      -7.281       4.462\n",
      "weath_days_rain1mm               -1.0245      3.238     -0.316      0.752      -7.413       5.364\n",
      "weath_accuRainfall                0.0224      0.223      0.100      0.920      -0.418       0.463\n",
      "weath_10minRainfall              -0.0874      0.467     -0.187      0.852      -1.008       0.834\n",
      "weath_1dayRainfall                0.2026      0.100      2.031      0.044       0.006       0.399\n",
      "weath_solar                       2.1218      4.382      0.484      0.629      -6.523      10.767\n",
      "weath_meanTemp                    3.5849      4.800      0.747      0.456      -5.886      13.056\n",
      "weath_maxTemp                     0.6852      1.501      0.457      0.649      -2.276       3.646\n",
      "weath_maxMeanTemp                -2.4042      2.502     -0.961      0.338      -7.340       2.531\n",
      "weath_minTemp                    -0.0124      2.710     -0.005      0.996      -5.358       5.334\n",
      "weath_meanWindM                   0.8709      0.665      1.310      0.192      -0.440       2.182\n",
      "weath_maxWindM                    0.2575      0.119      2.162      0.032       0.022       0.492\n",
      "weath_meanDayMaxWind             -0.7420      0.257     -2.882      0.004      -1.250      -0.234\n",
      "==============================================================================\n",
      "Omnibus:                       66.651   Durbin-Watson:                   1.996\n",
      "Prob(Omnibus):                  0.000   Jarque-Bera (JB):              304.796\n",
      "Skew:                           1.090   Prob(JB):                     6.52e-67\n",
      "Kurtosis:                       8.283   Cond. No.                     2.80e+04\n",
      "==============================================================================\n",
      "\n",
      "Notes:\n",
      "[1] Standard Errors assume that the covariance matrix of the errors is correctly specified.\n",
      "[2] The condition number is large, 2.8e+04. This might indicate that there are\n",
      "strong multicollinearity or other numerical problems.\n"
     ]
    }
   ],
   "source": [
    "model = ols('NESTS ~ colonies_amount + food_fruit + food_apple + food_txakoli + food_kiwi + food_blueberry + food_raspberry + weath_days_frost + weath_humidity + weath_maxLevel + weath_midLevel + weath_minLevel + weath_days_rain + weath_days_rain1mm + weath_accuRainfall + weath_10minRainfall + weath_1dayRainfall + weath_solar + weath_meanTemp + weath_maxTemp + weath_maxMeanTemp + weath_minTemp + weath_meanWindM + weath_maxWindM + weath_meanDayMaxWind + C(cluster_size) + C(cluster_cosmo) + C(cluster_survive) + C(cluster_food) + C(cluster_weather_wet) + C(cluster_weather_temp) + C(cluster_weather_wind) + C(cluster_weather_level) + C(Cluster)',\\\n",
    "            data=QUEEN_train).fit()\n",
    "print(model.summary())"
   ]
  },
  {
   "cell_type": "markdown",
   "id": "834a3c23-21b2-4b9d-862f-69e3f273c6c6",
   "metadata": {},
   "source": [
    "### Backward elimination"
   ]
  },
  {
   "cell_type": "code",
   "execution_count": 129,
   "id": "f8891da6-e81f-489a-b5a2-1cb65de4651a",
   "metadata": {
    "tags": []
   },
   "outputs": [
    {
     "name": "stdout",
     "output_type": "stream",
     "text": [
      "                            OLS Regression Results                            \n",
      "==============================================================================\n",
      "Dep. Variable:                  NESTS   R-squared:                       0.773\n",
      "Model:                            OLS   Adj. R-squared:                  0.749\n",
      "Method:                 Least Squares   F-statistic:                     32.68\n",
      "Date:                Tue, 08 Jun 2021   Prob (F-statistic):           1.52e-53\n",
      "Time:                        19:17:23   Log-Likelihood:                -919.08\n",
      "No. Observations:                 224   AIC:                             1882.\n",
      "Df Residuals:                     202   BIC:                             1957.\n",
      "Df Model:                          21                                         \n",
      "Covariance Type:            nonrobust                                         \n",
      "=================================================================================================\n",
      "                                    coef    std err          t      P>|t|      [0.025      0.975]\n",
      "-------------------------------------------------------------------------------------------------\n",
      "Intercept                        85.0717     24.539      3.467      0.001      36.686     133.458\n",
      "C(cluster_size)[T.1]             43.9477     14.270      3.080      0.002      15.810      72.085\n",
      "C(cluster_size)[T.2]             95.9117     19.273      4.976      0.000      57.909     133.915\n",
      "C(cluster_size)[T.3]             10.7924      2.994      3.605      0.000       4.890      16.695\n",
      "C(cluster_size)[T.4]             56.4367     22.653      2.491      0.014      11.770     101.103\n",
      "C(cluster_cosmo)[T.1]           -29.2274     19.155     -1.526      0.129     -66.997       8.542\n",
      "C(cluster_survive)[T.1]         -39.1157     12.816     -3.052      0.003     -64.385     -13.846\n",
      "C(cluster_food)[T.1]            -19.6391      9.399     -2.090      0.038     -38.171      -1.107\n",
      "C(cluster_weather_level)[T.1]    19.3884      8.526      2.274      0.024       2.577      36.200\n",
      "C(Cluster)[T.1.0]                31.4596     12.314      2.555      0.011       7.180      55.739\n",
      "C(Cluster)[T.2.0]                 2.3960      2.563      0.935      0.351      -2.658       7.450\n",
      "C(Cluster)[T.4.0]               -33.8902     12.832     -2.641      0.009     -59.192      -8.589\n",
      "colonies_amount                   0.0357      0.018      2.015      0.045       0.001       0.071\n",
      "food_txakoli                      0.1761      0.050      3.490      0.001       0.077       0.276\n",
      "food_blueberry                    3.4636      1.353      2.559      0.011       0.795       6.132\n",
      "weath_maxLevel                   -2.8573      1.729     -1.652      0.100      -6.267       0.552\n",
      "weath_minLevel                  132.6024     81.191      1.633      0.104     -27.488     292.693\n",
      "weath_days_rain                  -3.9814      1.231     -3.235      0.001      -6.408      -1.555\n",
      "weath_1dayRainfall                0.1524      0.072      2.115      0.036       0.010       0.295\n",
      "weath_meanWindM                   1.1385      0.397      2.865      0.005       0.355       1.922\n",
      "weath_maxWindM                    0.2554      0.094      2.712      0.007       0.070       0.441\n",
      "weath_meanDayMaxWind             -0.7148      0.190     -3.767      0.000      -1.089      -0.341\n",
      "==============================================================================\n",
      "Omnibus:                       67.254   Durbin-Watson:                   1.971\n",
      "Prob(Omnibus):                  0.000   Jarque-Bera (JB):              330.877\n",
      "Skew:                           1.074   Prob(JB):                     1.42e-72\n",
      "Kurtosis:                       8.553   Cond. No.                     1.24e+04\n",
      "==============================================================================\n",
      "\n",
      "Notes:\n",
      "[1] Standard Errors assume that the covariance matrix of the errors is correctly specified.\n",
      "[2] The condition number is large, 1.24e+04. This might indicate that there are\n",
      "strong multicollinearity or other numerical problems.\n"
     ]
    }
   ],
   "source": [
    "model = ols('NESTS ~ colonies_amount + food_txakoli + food_blueberry + weath_maxLevel + weath_minLevel + weath_days_rain + weath_1dayRainfall + weath_meanWindM + weath_maxWindM + weath_meanDayMaxWind + C(cluster_size) + C(cluster_cosmo) + C(cluster_survive) + C(cluster_food) + C(cluster_weather_level) + C(Cluster)',\\\n",
    "            data=QUEEN_train).fit()\n",
    "print(model.summary())"
   ]
  },
  {
   "cell_type": "markdown",
   "id": "ef41ba89-339e-4208-ac6e-c0c3143d70b7",
   "metadata": {},
   "source": [
    "## Predict 2020's nests"
   ]
  },
  {
   "cell_type": "code",
   "execution_count": 130,
   "id": "d250afb1-2573-46ab-8767-98586cdfdb12",
   "metadata": {},
   "outputs": [
    {
     "data": {
      "text/plain": [
       "0       21.878685\n",
       "1       70.634906\n",
       "2       -3.108096\n",
       "3       -4.929960\n",
       "4      102.457050\n",
       "          ...    \n",
       "107     26.666485\n",
       "108     30.820888\n",
       "109     29.240944\n",
       "110     20.846360\n",
       "111      5.248194\n",
       "Length: 112, dtype: float64"
      ]
     },
     "execution_count": 130,
     "metadata": {},
     "output_type": "execute_result"
    }
   ],
   "source": [
    "y_2020 = model.predict(QUEEN_predict)\n",
    "y_2020"
   ]
  },
  {
   "cell_type": "code",
   "execution_count": 131,
   "id": "fd4d4ff3-749d-4b6f-b7b8-d83ef7b6133b",
   "metadata": {},
   "outputs": [
    {
     "data": {
      "text/plain": [
       "2714.8013990044046"
      ]
     },
     "execution_count": 131,
     "metadata": {},
     "output_type": "execute_result"
    }
   ],
   "source": [
    "y_2020.sum()"
   ]
  },
  {
   "cell_type": "code",
   "execution_count": 132,
   "id": "5a2b71e3-c516-4521-9670-80c3b4ad3238",
   "metadata": {},
   "outputs": [
    {
     "data": {
      "text/plain": [
       "0       21.878685\n",
       "1       70.634906\n",
       "2        0.000000\n",
       "3        0.000000\n",
       "4      102.457050\n",
       "          ...    \n",
       "107     26.666485\n",
       "108     30.820888\n",
       "109     29.240944\n",
       "110     20.846360\n",
       "111      5.248194\n",
       "Length: 112, dtype: float64"
      ]
     },
     "execution_count": 132,
     "metadata": {},
     "output_type": "execute_result"
    }
   ],
   "source": [
    "# Take any municipality/month resulting in NESTS < 0 to = 0\n",
    "\n",
    "y_2020[y_2020 < 0] = 0\n",
    "y_2020"
   ]
  },
  {
   "cell_type": "code",
   "execution_count": 133,
   "id": "8ccddfda-5a2b-42e7-a4a2-1d25d94bac9b",
   "metadata": {},
   "outputs": [
    {
     "data": {
      "text/plain": [
       "2791.31735947052"
      ]
     },
     "execution_count": 133,
     "metadata": {},
     "output_type": "execute_result"
    }
   ],
   "source": [
    "y_2020.sum()"
   ]
  },
  {
   "cell_type": "code",
   "execution_count": 134,
   "id": "8cd46748-e5c8-41d2-8ff1-91a4add2a5a1",
   "metadata": {},
   "outputs": [],
   "source": [
    "QUEEN_predict['NESTS'] = y_2020"
   ]
  },
  {
   "cell_type": "code",
   "execution_count": 136,
   "id": "fcd0d3d9-6837-4faf-9af6-4d0650cc728b",
   "metadata": {},
   "outputs": [],
   "source": [
    "HEX = QUEEN_predict.loc[:,['municip_code', 'municip_name', 'NESTS']]"
   ]
  },
  {
   "cell_type": "markdown",
   "id": "e83d9c73-3781-4e53-bf5e-0cf9c2580f10",
   "metadata": {},
   "source": [
    "## Adjust manually for Bilbao 48020 and generate the output"
   ]
  },
  {
   "cell_type": "code",
   "execution_count": 98,
   "id": "d042139c-0c01-4b8d-ad66-7aa86625527b",
   "metadata": {},
   "outputs": [],
   "source": [
    "HEX.loc[HEX.municip_code.isin([48020]), 'NESTS'] = 0"
   ]
  },
  {
   "cell_type": "code",
   "execution_count": 137,
   "id": "cf3941f3-dffc-4bd4-815c-f792209f41b4",
   "metadata": {},
   "outputs": [
    {
     "data": {
      "text/html": [
       "<div>\n",
       "<style scoped>\n",
       "    .dataframe tbody tr th:only-of-type {\n",
       "        vertical-align: middle;\n",
       "    }\n",
       "\n",
       "    .dataframe tbody tr th {\n",
       "        vertical-align: top;\n",
       "    }\n",
       "\n",
       "    .dataframe thead th {\n",
       "        text-align: right;\n",
       "    }\n",
       "</style>\n",
       "<table border=\"1\" class=\"dataframe\">\n",
       "  <thead>\n",
       "    <tr style=\"text-align: right;\">\n",
       "      <th></th>\n",
       "      <th>municip_code</th>\n",
       "      <th>municip_name</th>\n",
       "      <th>NESTS</th>\n",
       "    </tr>\n",
       "  </thead>\n",
       "  <tbody>\n",
       "    <tr>\n",
       "      <th>27</th>\n",
       "      <td>48020</td>\n",
       "      <td>Bilbao</td>\n",
       "      <td>0.000000</td>\n",
       "    </tr>\n",
       "    <tr>\n",
       "      <th>60</th>\n",
       "      <td>48022</td>\n",
       "      <td>Karrantza Harana/Valle de Carranza</td>\n",
       "      <td>34.665035</td>\n",
       "    </tr>\n",
       "    <tr>\n",
       "      <th>62</th>\n",
       "      <td>48051</td>\n",
       "      <td>Lanestosa</td>\n",
       "      <td>20.560003</td>\n",
       "    </tr>\n",
       "    <tr>\n",
       "      <th>83</th>\n",
       "      <td>48071</td>\n",
       "      <td>Muskiz</td>\n",
       "      <td>12.021376</td>\n",
       "    </tr>\n",
       "    <tr>\n",
       "      <th>99</th>\n",
       "      <td>48088</td>\n",
       "      <td>Ubide</td>\n",
       "      <td>0.000000</td>\n",
       "    </tr>\n",
       "    <tr>\n",
       "      <th>102</th>\n",
       "      <td>48074</td>\n",
       "      <td>Urduña/Orduña</td>\n",
       "      <td>34.385037</td>\n",
       "    </tr>\n",
       "  </tbody>\n",
       "</table>\n",
       "</div>"
      ],
      "text/plain": [
       "     municip_code                        municip_name      NESTS\n",
       "27          48020                              Bilbao   0.000000\n",
       "60          48022  Karrantza Harana/Valle de Carranza  34.665035\n",
       "62          48051                           Lanestosa  20.560003\n",
       "83          48071                              Muskiz  12.021376\n",
       "99          48088                               Ubide   0.000000\n",
       "102         48074                       Urduña/Orduña  34.385037"
      ]
     },
     "execution_count": 137,
     "metadata": {},
     "output_type": "execute_result"
    }
   ],
   "source": [
    "HEX.loc[HEX.municip_code.isin([48022, 48071, 48088, 48074, 48051, 48020]), :]"
   ]
  },
  {
   "cell_type": "code",
   "execution_count": 100,
   "id": "0b643142-4d66-4c1f-b014-aa4ed1df8fd0",
   "metadata": {},
   "outputs": [],
   "source": [
    "HEX.columns = [\"CODIGO MUNICIPIO\", \"NOMBRE MUNICIPIO\", \"NIDOS 2020\"] # change column names to Spanish (Competition template)"
   ]
  },
  {
   "cell_type": "code",
   "execution_count": 101,
   "id": "f39404a4-e6bc-43f6-80a8-3ae1cf31e341",
   "metadata": {},
   "outputs": [
    {
     "name": "stdout",
     "output_type": "stream",
     "text": [
      "Submission form Shape is (112, 3)\n",
      "Number of Municipalities is 112\n",
      "The Total 2020 Nests' Prediction is 2791\n"
     ]
    },
    {
     "data": {
      "text/plain": [
       "'All Municipality Names and Codes to be submitted match the Template'"
      ]
     },
     "execution_count": 101,
     "metadata": {},
     "output_type": "execute_result"
    }
   ],
   "source": [
    "check_data(HEX)"
   ]
  },
  {
   "cell_type": "markdown",
   "id": "fbf1e5f3-6249-4ed9-8fbd-8a6818a0a411",
   "metadata": {},
   "source": [
    "### Export dataset for submission"
   ]
  },
  {
   "cell_type": "code",
   "execution_count": 102,
   "id": "6656f9d7-fa86-4578-afc9-5953668e5cbc",
   "metadata": {},
   "outputs": [],
   "source": [
    "HEX.to_csv('WaspBusters_20210609_batch-OLSy-48019prodigal.csv', index=False)"
   ]
  },
  {
   "cell_type": "markdown",
   "id": "ddefe8e0-a261-4bfd-b73e-b576db895fbe",
   "metadata": {},
   "source": [
    "## VERSION Manual adjustments"
   ]
  },
  {
   "cell_type": "code",
   "execution_count": 103,
   "id": "aeaf618c-c611-43e7-abd8-e98976ce0d6d",
   "metadata": {},
   "outputs": [],
   "source": [
    "HEX.columns = ['municip_code', 'municip_name', 'NESTS'] # change column names to Spanish (Competition template)"
   ]
  },
  {
   "cell_type": "code",
   "execution_count": 104,
   "id": "4b1fddf3-568d-487d-acf0-be0538a316a2",
   "metadata": {},
   "outputs": [],
   "source": [
    "HEX.loc[HEX.municip_code.isin([48022, 48071, 48088, 48074, 48051]), 'NESTS'] = [0,0,1,0,1]"
   ]
  },
  {
   "cell_type": "code",
   "execution_count": 105,
   "id": "e7c9a880-f373-4cca-8793-218fcc9a5ff8",
   "metadata": {},
   "outputs": [
    {
     "data": {
      "text/html": [
       "<div>\n",
       "<style scoped>\n",
       "    .dataframe tbody tr th:only-of-type {\n",
       "        vertical-align: middle;\n",
       "    }\n",
       "\n",
       "    .dataframe tbody tr th {\n",
       "        vertical-align: top;\n",
       "    }\n",
       "\n",
       "    .dataframe thead th {\n",
       "        text-align: right;\n",
       "    }\n",
       "</style>\n",
       "<table border=\"1\" class=\"dataframe\">\n",
       "  <thead>\n",
       "    <tr style=\"text-align: right;\">\n",
       "      <th></th>\n",
       "      <th>municip_code</th>\n",
       "      <th>municip_name</th>\n",
       "      <th>NESTS</th>\n",
       "    </tr>\n",
       "  </thead>\n",
       "  <tbody>\n",
       "    <tr>\n",
       "      <th>19</th>\n",
       "      <td>48020</td>\n",
       "      <td>Bilbao</td>\n",
       "      <td>0.0</td>\n",
       "    </tr>\n",
       "    <tr>\n",
       "      <th>21</th>\n",
       "      <td>48022</td>\n",
       "      <td>Karrantza Harana/Valle de Carranza</td>\n",
       "      <td>0.0</td>\n",
       "    </tr>\n",
       "    <tr>\n",
       "      <th>50</th>\n",
       "      <td>48051</td>\n",
       "      <td>Lanestosa</td>\n",
       "      <td>0.0</td>\n",
       "    </tr>\n",
       "    <tr>\n",
       "      <th>70</th>\n",
       "      <td>48071</td>\n",
       "      <td>Muskiz</td>\n",
       "      <td>1.0</td>\n",
       "    </tr>\n",
       "    <tr>\n",
       "      <th>73</th>\n",
       "      <td>48074</td>\n",
       "      <td>Urduña/Orduña</td>\n",
       "      <td>0.0</td>\n",
       "    </tr>\n",
       "    <tr>\n",
       "      <th>87</th>\n",
       "      <td>48088</td>\n",
       "      <td>Ubide</td>\n",
       "      <td>1.0</td>\n",
       "    </tr>\n",
       "  </tbody>\n",
       "</table>\n",
       "</div>"
      ],
      "text/plain": [
       "    municip_code                        municip_name  NESTS\n",
       "19         48020                              Bilbao    0.0\n",
       "21         48022  Karrantza Harana/Valle de Carranza    0.0\n",
       "50         48051                           Lanestosa    0.0\n",
       "70         48071                              Muskiz    1.0\n",
       "73         48074                       Urduña/Orduña    0.0\n",
       "87         48088                               Ubide    1.0"
      ]
     },
     "execution_count": 105,
     "metadata": {},
     "output_type": "execute_result"
    }
   ],
   "source": [
    "HEX.loc[HEX.municip_code.isin([48022, 48071, 48088, 48074, 48051, 48020]), :]"
   ]
  },
  {
   "cell_type": "code",
   "execution_count": 106,
   "id": "ffe08eff-aadc-442f-a84e-63f7427235d3",
   "metadata": {},
   "outputs": [],
   "source": [
    "HEX.columns = [\"CODIGO MUNICIPIO\", \"NOMBRE MUNICIPIO\", \"NIDOS 2020\"] # change column names to Spanish (Competition template)"
   ]
  },
  {
   "cell_type": "code",
   "execution_count": 107,
   "id": "23c670dc-0519-4dbf-b909-90583c91e39f",
   "metadata": {},
   "outputs": [
    {
     "name": "stdout",
     "output_type": "stream",
     "text": [
      "Submission form Shape is (112, 3)\n",
      "Number of Municipalities is 112\n",
      "The Total 2020 Nests' Prediction is 2691\n"
     ]
    },
    {
     "data": {
      "text/plain": [
       "'All Municipality Names and Codes to be submitted match the Template'"
      ]
     },
     "execution_count": 107,
     "metadata": {},
     "output_type": "execute_result"
    }
   ],
   "source": [
    "check_data(HEX)"
   ]
  },
  {
   "cell_type": "markdown",
   "id": "c9b74131-7aff-4917-a606-7b0a63112c6e",
   "metadata": {},
   "source": [
    "### Export dataset for submission"
   ]
  },
  {
   "cell_type": "code",
   "execution_count": 108,
   "id": "96153bc3-3289-4a73-b091-79c2aa571d8e",
   "metadata": {},
   "outputs": [],
   "source": [
    "HEX.to_csv('WaspBusters_20210609_batch-OLSy-48019prodigal-manual0s.csv', index=False)"
   ]
  }
 ],
 "metadata": {
  "kernelspec": {
   "display_name": "Python 3",
   "language": "python",
   "name": "python3"
  },
  "language_info": {
   "codemirror_mode": {
    "name": "ipython",
    "version": 3
   },
   "file_extension": ".py",
   "mimetype": "text/x-python",
   "name": "python",
   "nbconvert_exporter": "python",
   "pygments_lexer": "ipython3",
   "version": "3.8.8"
  }
 },
 "nbformat": 4,
 "nbformat_minor": 5
}

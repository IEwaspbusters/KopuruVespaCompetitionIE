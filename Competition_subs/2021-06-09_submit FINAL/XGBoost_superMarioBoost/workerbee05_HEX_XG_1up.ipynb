{
 "cells": [
  {
   "cell_type": "markdown",
   "metadata": {
    "id": "9nkDv5dppU6B"
   },
   "source": [
    "# HEX algorithm **Kopuru Vespa Velutina Competition**\n",
    "\n",
    "**XGBoost model**\n",
    "\n",
    "Purpose: Predict the number of Nests in each of Biscay's 112 municipalities for the year 2020.\n",
    "\n",
    "Output: *(WaspBusters_20210609_batch_XGBy_48019prodigal.csv)*\n",
    "\n",
    "@authors:\n",
    "* mario.bejar@student.ie.edu\n",
    "* pedro.geirinhas@student.ie.edu\n",
    "* a.berrizbeitia@student.ie.edu\n",
    "* pcasaverde@student.ie.edu"
   ]
  },
  {
   "cell_type": "markdown",
   "metadata": {},
   "source": [
    "## Libraries"
   ]
  },
  {
   "cell_type": "code",
   "execution_count": 389,
   "metadata": {},
   "outputs": [],
   "source": [
    "# Base packages -----------------------------------\n",
    "import numpy as np\n",
    "import pandas as pd\n",
    "\n",
    "# Visualization -----------------------------------\n",
    "import matplotlib.pyplot as plt\n",
    "plt.rcParams[\"figure.figsize\"] = (15, 10)\n",
    "import seaborn as sns\n",
    "plt.style.use(\"seaborn-notebook\")\n",
    "\n",
    "# Scaling data ------------------------------------\n",
    "from sklearn import preprocessing\n",
    "\n",
    "# Grid search -------------------------------------\n",
    "from sklearn.model_selection import GridSearchCV\n",
    "\n",
    "# Confusion matrix --------------------------------\n",
    "#from sklearn.metrics import confusion_matrix\n",
    "from sklearn.metrics import classification_report\n",
    "\n",
    "# XGBoost -----------------------------------------\n",
    "from xgboost import XGBRegressor\n",
    "from xgboost import plot_importance"
   ]
  },
  {
   "cell_type": "markdown",
   "metadata": {},
   "source": [
    "## Functions"
   ]
  },
  {
   "cell_type": "code",
   "execution_count": 390,
   "metadata": {},
   "outputs": [],
   "source": [
    "# Function that checks if final Output is ready for submission or needs revision   \n",
    "\n",
    "def check_data(HEX):\n",
    "    \n",
    "    def template_checker(HEX):\n",
    "        submission_df = (HEX[\"CODIGO MUNICIPIO\"].astype(\"string\") + HEX[\"NOMBRE MUNICIPIO\"]).sort_values().reset_index(drop=True)\n",
    "        template_df = (template[\"CODIGO MUNICIPIO\"].astype(\"string\") + template[\"NOMBRE MUNICIPIO\"]).sort_values().reset_index(drop=True)\n",
    "        check_df = pd.DataFrame({\"submission_df\":submission_df,\"template_df\":template_df})\n",
    "        check_df[\"check\"] = check_df.submission_df == check_df.template_df\n",
    "        if (check_df.check == False).any():\n",
    "            pd.options.display.max_rows = 112\n",
    "            return check_df.loc[check_df.check == False,:]\n",
    "        else:  \n",
    "            return \"All Municipality Names and Codes to be submitted match the Template\"\n",
    "    \n",
    "    print(\"Submission form Shape is\", HEX.shape)\n",
    "    print(\"Number of Municipalities is\", HEX[\"CODIGO MUNICIPIO\"].nunique())\n",
    "    print(\"The Total 2020 Nests' Prediction is\", int(HEX[\"NIDOS 2020\"].sum()))\n",
    "\n",
    "    assert HEX.shape == (112, 3), \"Error: Shape is incorrect.\"\n",
    "    assert HEX[\"CODIGO MUNICIPIO\"].nunique() == 112, \"Error: Number of unique municipalities is correct.\"    \n",
    "    return template_checker(HEX)"
   ]
  },
  {
   "cell_type": "markdown",
   "metadata": {},
   "source": [
    "## Get the data"
   ]
  },
  {
   "cell_type": "code",
   "execution_count": 391,
   "metadata": {},
   "outputs": [],
   "source": [
    "QUEEN_train = pd.read_csv('../Feeder_months/WBds03_QUEENtrainMONTHS.csv', sep=',')\n",
    "QUEEN_predict = pd.read_csv('../Feeder_months/WBds03_QUEENpredictMONTHS.csv', sep=',')\n",
    "\n",
    "clustersMario = pd.read_csv(\"../auxiliary_files/WBds_CLUSTERSnests.csv\")\n",
    "\n",
    "template = pd.read_csv(\"../../../Input_open_data/ds01_PLANTILLA-RETO-AVISPAS-KOPURU.csv\",sep=\";\", encoding=\"utf-8\")\n",
    "\n",
    "cars = pd.read_csv(\"../../../Other_open_data/aver_auto.csv\",sep=\",\", encoding=\"utf-8\")"
   ]
  },
  {
   "cell_type": "code",
   "execution_count": 392,
   "metadata": {},
   "outputs": [
    {
     "data": {
      "text/html": [
       "<div>\n",
       "<style scoped>\n",
       "    .dataframe tbody tr th:only-of-type {\n",
       "        vertical-align: middle;\n",
       "    }\n",
       "\n",
       "    .dataframe tbody tr th {\n",
       "        vertical-align: top;\n",
       "    }\n",
       "\n",
       "    .dataframe thead th {\n",
       "        text-align: right;\n",
       "    }\n",
       "</style>\n",
       "<table border=\"1\" class=\"dataframe\">\n",
       "  <thead>\n",
       "    <tr style=\"text-align: right;\">\n",
       "      <th></th>\n",
       "      <th>municip_code</th>\n",
       "      <th>year</th>\n",
       "      <th>IMD</th>\n",
       "    </tr>\n",
       "  </thead>\n",
       "  <tbody>\n",
       "    <tr>\n",
       "      <th>0</th>\n",
       "      <td>48001</td>\n",
       "      <td>2019</td>\n",
       "      <td>55890.0</td>\n",
       "    </tr>\n",
       "    <tr>\n",
       "      <th>1</th>\n",
       "      <td>48001</td>\n",
       "      <td>2017</td>\n",
       "      <td>64286.0</td>\n",
       "    </tr>\n",
       "  </tbody>\n",
       "</table>\n",
       "</div>"
      ],
      "text/plain": [
       "   municip_code  year      IMD\n",
       "0         48001  2019  55890.0\n",
       "1         48001  2017  64286.0"
      ]
     },
     "execution_count": 392,
     "metadata": {},
     "output_type": "execute_result"
    }
   ],
   "source": [
    "cars.head(2)"
   ]
  },
  {
   "cell_type": "code",
   "execution_count": 393,
   "metadata": {
    "tags": []
   },
   "outputs": [],
   "source": [
    "#QUEEN_predict.isnull().sum()"
   ]
  },
  {
   "cell_type": "code",
   "execution_count": 394,
   "metadata": {},
   "outputs": [
    {
     "data": {
      "text/plain": [
       "(2688, 43)"
      ]
     },
     "execution_count": 394,
     "metadata": {},
     "output_type": "execute_result"
    }
   ],
   "source": [
    "QUEEN_train.shape"
   ]
  },
  {
   "cell_type": "code",
   "execution_count": 395,
   "metadata": {},
   "outputs": [
    {
     "data": {
      "text/plain": [
       "(1344, 43)"
      ]
     },
     "execution_count": 395,
     "metadata": {},
     "output_type": "execute_result"
    }
   ],
   "source": [
    "QUEEN_predict.shape"
   ]
  },
  {
   "cell_type": "markdown",
   "metadata": {},
   "source": [
    "### Add in more Clusters (nest amount clusters)"
   ]
  },
  {
   "cell_type": "code",
   "execution_count": 396,
   "metadata": {},
   "outputs": [],
   "source": [
    "QUEEN_train = pd.merge(QUEEN_train, clustersMario, how = 'left', on = ['municip_code', 'municip_name'])\n",
    "QUEEN_predict = pd.merge(QUEEN_predict, clustersMario, how = 'left', on = ['municip_code', 'municip_name'])"
   ]
  },
  {
   "cell_type": "code",
   "execution_count": 397,
   "metadata": {},
   "outputs": [],
   "source": [
    "QUEEN_train.fillna(4, inplace=True)\n",
    "QUEEN_predict.fillna(4, inplace=True)"
   ]
  },
  {
   "cell_type": "code",
   "execution_count": 398,
   "metadata": {},
   "outputs": [
    {
     "data": {
      "text/plain": [
       "(2688, 44)"
      ]
     },
     "execution_count": 398,
     "metadata": {},
     "output_type": "execute_result"
    }
   ],
   "source": [
    "QUEEN_train.shape"
   ]
  },
  {
   "cell_type": "code",
   "execution_count": 399,
   "metadata": {},
   "outputs": [
    {
     "data": {
      "text/plain": [
       "(1344, 44)"
      ]
     },
     "execution_count": 399,
     "metadata": {},
     "output_type": "execute_result"
    }
   ],
   "source": [
    "QUEEN_predict.shape"
   ]
  },
  {
   "cell_type": "code",
   "execution_count": 400,
   "metadata": {},
   "outputs": [
    {
     "data": {
      "text/plain": [
       "0.0    792\n",
       "2.0    492\n",
       "1.0     48\n",
       "4.0     12\n",
       "Name: Cluster, dtype: int64"
      ]
     },
     "execution_count": 400,
     "metadata": {},
     "output_type": "execute_result"
    }
   ],
   "source": [
    "QUEEN_predict.Cluster.value_counts()"
   ]
  },
  {
   "cell_type": "code",
   "execution_count": 401,
   "metadata": {},
   "outputs": [],
   "source": [
    "QUEEN_train = pd.merge(QUEEN_train, cars, how = 'left', on = ['municip_code', 'year'])\n",
    "QUEEN_predict = pd.merge(QUEEN_predict, cars, how = 'left', on = ['municip_code', 'year'])"
   ]
  },
  {
   "cell_type": "code",
   "execution_count": 402,
   "metadata": {},
   "outputs": [
    {
     "data": {
      "text/plain": [
       "(2688, 45)"
      ]
     },
     "execution_count": 402,
     "metadata": {},
     "output_type": "execute_result"
    }
   ],
   "source": [
    "QUEEN_train.shape"
   ]
  },
  {
   "cell_type": "code",
   "execution_count": 403,
   "metadata": {},
   "outputs": [
    {
     "data": {
      "text/plain": [
       "(1344, 45)"
      ]
     },
     "execution_count": 403,
     "metadata": {},
     "output_type": "execute_result"
    }
   ],
   "source": [
    "QUEEN_predict.shape"
   ]
  },
  {
   "cell_type": "markdown",
   "metadata": {},
   "source": [
    "## Get hyperparameters with GridsearchCV using 2018's features (i.e. 2019's nests) as the test year"
   ]
  },
  {
   "cell_type": "code",
   "execution_count": 404,
   "metadata": {
    "tags": []
   },
   "outputs": [],
   "source": [
    "# The target variable\n",
    "hyper_y_train = QUEEN_train.loc[QUEEN_train.year_offset.isin([2017]), ['municip_code', 'year_offset', 'month', 'NESTS']]\n",
    "hyper_y_train = hyper_y_train.sort_values(by=['year_offset', 'month', 'municip_code'], ascending=True)\n",
    "hyper_y_train.set_index(['year_offset', 'month', 'municip_code'], inplace=True)\n",
    "\n",
    "hyper_y_test = QUEEN_train.loc[QUEEN_train.year_offset.isin([2018]), ['municip_code', 'year_offset', 'month', 'NESTS']]\n",
    "hyper_y_test = hyper_y_test.sort_values(by=['year_offset', 'month', 'municip_code'], ascending=True)\n",
    "hyper_y_test.set_index(['year_offset', 'month', 'municip_code'], inplace=True)\n",
    "\n",
    "\n",
    "# The features matrix\n",
    "hyperXtrain = QUEEN_train.loc[QUEEN_train.year_offset.isin([2017]), :].drop(['municip_name', 'station_code', 'station_name', 'NESTS'], axis=1)\n",
    "hyperXtrain = hyperXtrain.sort_values(by=['year_offset', 'month', 'municip_code'], ascending=True)\n",
    "hyperXtrain.set_index(['year_offset', 'month', 'municip_code'], inplace=True)\n",
    "\n",
    "hyperXtest = QUEEN_train.loc[QUEEN_train.year_offset.isin([2018]), :].drop(['municip_name', 'station_code', 'station_name', 'NESTS'], axis=1)\n",
    "hyperXtest = hyperXtest.sort_values(by=['year_offset', 'month', 'municip_code'], ascending=True)\n",
    "hyperXtest.set_index(['year_offset', 'month', 'municip_code'], inplace=True)"
   ]
  },
  {
   "cell_type": "code",
   "execution_count": 405,
   "metadata": {},
   "outputs": [
    {
     "name": "stdout",
     "output_type": "stream",
     "text": [
      "Fitting 3 folds for each of 9 candidates, totalling 27 fits\n"
     ]
    },
    {
     "name": "stderr",
     "output_type": "stream",
     "text": [
      "[Parallel(n_jobs=5)]: Using backend LokyBackend with 5 concurrent workers.\n",
      "[Parallel(n_jobs=5)]: Done  27 out of  27 | elapsed:   16.6s finished\n"
     ]
    },
    {
     "name": "stdout",
     "output_type": "stream",
     "text": [
      "[23:16:00] WARNING: C:/Users/Administrator/workspace/xgboost-win64_release_1.4.0/src/objective/regression_obj.cu:171: reg:linear is now deprecated in favor of reg:squarederror.\n",
      "[23:16:00] WARNING: C:/Users/Administrator/workspace/xgboost-win64_release_1.4.0/src/learner.cc:573: \n",
      "Parameters: { \"silent\" } might not be used.\n",
      "\n",
      "  This may not be accurate due to some parameters are only used in language bindings but\n",
      "  passed down to XGBoost core.  Or some parameters are not used but slip through this\n",
      "  verification. Please open an issue if you find above cases.\n",
      "\n",
      "\n",
      "-0.846240412880149\n"
     ]
    }
   ],
   "source": [
    "xgb1 = XGBRegressor(random_state=23)\n",
    "parameters = {'nthread':[4], #when use hyperthread, xgboost may become slower\n",
    "              'objective':['reg:linear'],\n",
    "              'learning_rate': [.03, 0.05, .07], #so called `eta` value\n",
    "              'max_depth': [5, 6, 7],\n",
    "             'min_child_weight': [4],\n",
    "              'silent': [1],\n",
    "              'subsample': [0.7],\n",
    "              'colsample_bytree': [0.7],\n",
    "              'n_estimators': [500]}\n",
    "\n",
    "xgb_grid = GridSearchCV(xgb1,\n",
    "                        parameters,\n",
    "                        cv = 3,\n",
    "                        n_jobs = 5,\n",
    "                        verbose=True)\n",
    "\n",
    "xgb_grid.fit(hyperXtrain, hyper_y_train)\n",
    "\n",
    "print(xgb_grid.best_score_)"
   ]
  },
  {
   "cell_type": "code",
   "execution_count": 406,
   "metadata": {},
   "outputs": [
    {
     "name": "stdout",
     "output_type": "stream",
     "text": [
      "{'colsample_bytree': 0.7, 'learning_rate': 0.03, 'max_depth': 5, 'min_child_weight': 4, 'n_estimators': 500, 'nthread': 4, 'objective': 'reg:linear', 'silent': 1, 'subsample': 0.7}\n"
     ]
    }
   ],
   "source": [
    "print(xgb_grid.best_params_)"
   ]
  },
  {
   "cell_type": "code",
   "execution_count": 407,
   "metadata": {},
   "outputs": [],
   "source": [
    "y_xgb_grid = xgb_grid.best_estimator_.predict(hyperXtest)"
   ]
  },
  {
   "cell_type": "code",
   "execution_count": 408,
   "metadata": {},
   "outputs": [],
   "source": [
    "#matrix = confusion_matrix(hyper_y_test, y_xgb_grid)"
   ]
  },
  {
   "cell_type": "code",
   "execution_count": 409,
   "metadata": {},
   "outputs": [],
   "source": [
    "#ax = sns.heatmap(\n",
    "#    matrix.T, square=True, annot=True, fmt=\"d\", cbar=False, cmap=\"viridis\",\n",
    "#    xticklabels=[\"0\", \"1\"], yticklabels=[\"0\", \"1\"]\n",
    "#)\n",
    "#ax.set_xlabel(\"True label\")\n",
    "#ax.set_ylabel(\"Predicted label\");"
   ]
  },
  {
   "cell_type": "code",
   "execution_count": 410,
   "metadata": {},
   "outputs": [],
   "source": [
    "#print(classification_report(hyper_y_test, y_xgb_grid))"
   ]
  },
  {
   "cell_type": "markdown",
   "metadata": {},
   "source": [
    "## Prediction time!"
   ]
  },
  {
   "cell_type": "markdown",
   "metadata": {},
   "source": [
    "### 1. Choose the model class"
   ]
  },
  {
   "cell_type": "code",
   "execution_count": 411,
   "metadata": {},
   "outputs": [
    {
     "data": {
      "text/plain": [
       "xgboost.sklearn.XGBRegressor"
      ]
     },
     "execution_count": 411,
     "metadata": {},
     "output_type": "execute_result"
    }
   ],
   "source": [
    "XGBRegressor"
   ]
  },
  {
   "cell_type": "markdown",
   "metadata": {},
   "source": [
    "### 2. Instantiate the model"
   ]
  },
  {
   "cell_type": "code",
   "execution_count": 412,
   "metadata": {},
   "outputs": [],
   "source": [
    "xgb = xgb_grid.best_estimator_"
   ]
  },
  {
   "cell_type": "markdown",
   "metadata": {},
   "source": [
    "### 3. Prepare Feature matrix and Target variable"
   ]
  },
  {
   "cell_type": "code",
   "execution_count": 413,
   "metadata": {
    "tags": []
   },
   "outputs": [],
   "source": [
    "# The target variable\n",
    "y_train = QUEEN_train.loc[:, ['municip_code', 'year_offset', 'month', 'NESTS']]\n",
    "#y_train = y_train.sort_values(by=['year_offset', 'month', 'municip_code'], ascending=True)\n",
    "y_train.set_index(['year_offset', 'month', 'municip_code'], inplace=True)\n",
    "\n",
    "y_predict = QUEEN_predict.loc[:, ['municip_code', 'year_offset', 'month', 'NESTS']]\n",
    "#y_predict = y_predict.sort_values(by=['year_offset', 'month', 'municip_code'], ascending=True)\n",
    "y_predict.set_index(['year_offset', 'month', 'municip_code'], inplace=True)\n",
    "\n",
    "# The features matrix\n",
    "X_train = QUEEN_train.drop(['municip_name', 'station_code', 'station_name', 'NESTS'], axis=1)\n",
    "#X_train = X_train.sort_values(by=['year_offset', 'month', 'municip_code'], ascending=True)\n",
    "X_train.set_index(['year_offset', 'month', 'municip_code'], inplace=True)\n",
    "\n",
    "X_predict = QUEEN_predict.drop(['municip_name', 'station_code', 'station_name', 'NESTS'], axis=1)\n",
    "#X_predict = X_predict.sort_values(by=['year_offset', 'month', 'municip_code'], ascending=True)\n",
    "X_predict.set_index(['year_offset', 'month', 'municip_code'], inplace=True)"
   ]
  },
  {
   "cell_type": "code",
   "execution_count": 414,
   "metadata": {},
   "outputs": [
    {
     "data": {
      "text/plain": [
       "(2688, 38)"
      ]
     },
     "execution_count": 414,
     "metadata": {},
     "output_type": "execute_result"
    }
   ],
   "source": [
    "X_train.shape"
   ]
  },
  {
   "cell_type": "code",
   "execution_count": 415,
   "metadata": {},
   "outputs": [
    {
     "data": {
      "text/plain": [
       "(2688, 1)"
      ]
     },
     "execution_count": 415,
     "metadata": {},
     "output_type": "execute_result"
    }
   ],
   "source": [
    "y_train.shape"
   ]
  },
  {
   "cell_type": "code",
   "execution_count": 416,
   "metadata": {},
   "outputs": [
    {
     "data": {
      "text/plain": [
       "(1344, 38)"
      ]
     },
     "execution_count": 416,
     "metadata": {},
     "output_type": "execute_result"
    }
   ],
   "source": [
    "X_predict.shape"
   ]
  },
  {
   "cell_type": "code",
   "execution_count": 417,
   "metadata": {},
   "outputs": [
    {
     "data": {
      "text/plain": [
       "(1344, 1)"
      ]
     },
     "execution_count": 417,
     "metadata": {},
     "output_type": "execute_result"
    }
   ],
   "source": [
    "y_predict.shape"
   ]
  },
  {
   "cell_type": "markdown",
   "metadata": {},
   "source": [
    "### 4. Fit the model to the training data sets"
   ]
  },
  {
   "cell_type": "markdown",
   "metadata": {},
   "source": [
    "#### Scale and get feature importance"
   ]
  },
  {
   "cell_type": "code",
   "execution_count": 418,
   "metadata": {},
   "outputs": [],
   "source": [
    "X = X_train\n",
    "y = y_train\n",
    "#scalators = X.columns\n",
    "#X[scalators] = preprocessing.minmax_scale(X[scalators])"
   ]
  },
  {
   "cell_type": "code",
   "execution_count": 419,
   "metadata": {},
   "outputs": [
    {
     "name": "stdout",
     "output_type": "stream",
     "text": [
      "[23:16:01] WARNING: C:/Users/Administrator/workspace/xgboost-win64_release_1.4.0/src/objective/regression_obj.cu:171: reg:linear is now deprecated in favor of reg:squarederror.\n",
      "[23:16:01] WARNING: C:/Users/Administrator/workspace/xgboost-win64_release_1.4.0/src/learner.cc:573: \n",
      "Parameters: { \"silent\" } might not be used.\n",
      "\n",
      "  This may not be accurate due to some parameters are only used in language bindings but\n",
      "  passed down to XGBoost core.  Or some parameters are not used but slip through this\n",
      "  verification. Please open an issue if you find above cases.\n",
      "\n",
      "\n"
     ]
    },
    {
     "data": {
      "text/plain": [
       "XGBRegressor(base_score=0.5, booster='gbtree', colsample_bylevel=1,\n",
       "             colsample_bynode=1, colsample_bytree=0.7, gamma=0, gpu_id=-1,\n",
       "             importance_type='gain', interaction_constraints='',\n",
       "             learning_rate=0.03, max_delta_step=0, max_depth=5,\n",
       "             min_child_weight=4, missing=nan, monotone_constraints='()',\n",
       "             n_estimators=500, n_jobs=4, nthread=4, num_parallel_tree=1,\n",
       "             objective='reg:linear', random_state=23, reg_alpha=0, reg_lambda=1,\n",
       "             scale_pos_weight=1, silent=1, subsample=0.7, tree_method='exact',\n",
       "             validate_parameters=1, verbosity=None)"
      ]
     },
     "execution_count": 419,
     "metadata": {},
     "output_type": "execute_result"
    }
   ],
   "source": [
    "# define the model\n",
    "model_fi = xgb\n",
    "\n",
    "# fit the model\n",
    "model_fi.fit(X, y)"
   ]
  },
  {
   "cell_type": "code",
   "execution_count": 420,
   "metadata": {
    "tags": []
   },
   "outputs": [
    {
     "data": {
      "image/png": "[encoded data removed]",
      "text/plain": [
       "<Figure size 576x396 with 1 Axes>"
      ]
     },
     "metadata": {
      "needs_background": "light"
     },
     "output_type": "display_data"
    }
   ],
   "source": [
    "# get importance\n",
    "importance = model_fi.feature_importances_\n",
    "# summarize feature importance\n",
    "#for i,v in enumerate(importance):\n",
    "#    print('Feature: %0d, Score: %.5f' % (i,v))\n",
    "# plot feature importance\n",
    "plot_importance(model_fi, height=0.5, xlabel=\"F-Score\", ylabel=\"Feature Importance\", grid=False)\n",
    "plt.show()"
   ]
  },
  {
   "cell_type": "code",
   "execution_count": 421,
   "metadata": {},
   "outputs": [],
   "source": [
    "features = ['population', 'IMD', 'weath_humidity','weath_accuRainfall','weath_maxWindM','weath_midLevel','weath_maxTemp', 'weath_1dayRainfall','weath_minTemp', 'weath_maxLevel','food_txakoli','weath_solar', 'food_fruit']"
   ]
  },
  {
   "cell_type": "code",
   "execution_count": 422,
   "metadata": {},
   "outputs": [
    {
     "data": {
      "text/plain": [
       "Index(['colonies_amount', 'food_fruit', 'food_apple', 'food_txakoli',\n",
       "       'food_kiwi', 'food_pear', 'food_blueberry', 'food_raspberry',\n",
       "       'weath_days_frost', 'weath_humidity', 'weath_maxLevel',\n",
       "       'weath_midLevel', 'weath_minLevel', 'weath_days_rain',\n",
       "       'weath_days_rain1mm', 'weath_accuRainfall', 'weath_10minRainfall',\n",
       "       'weath_1dayRainfall', 'weath_solar', 'weath_meanTemp', 'weath_maxTemp',\n",
       "       'weath_maxMeanTemp', 'weath_minTemp', 'weath_meanWindM',\n",
       "       'weath_maxWindM', 'weath_meanDayMaxWind', 'year', 'population',\n",
       "       'cluster_size', 'cluster_cosmo', 'cluster_survive', 'cluster_food',\n",
       "       'cluster_weather_wet', 'cluster_weather_temp', 'cluster_weather_wind',\n",
       "       'cluster_weather_level', 'Cluster', 'IMD'],\n",
       "      dtype='object')"
      ]
     },
     "execution_count": 422,
     "metadata": {},
     "output_type": "execute_result"
    }
   ],
   "source": [
    "X.columns"
   ]
  },
  {
   "cell_type": "markdown",
   "metadata": {},
   "source": [
    "#### Now, do fit the model but only with the relevant features"
   ]
  },
  {
   "cell_type": "code",
   "execution_count": 423,
   "metadata": {},
   "outputs": [],
   "source": [
    "X_train = X_train.loc[:, features]\n",
    "X_predict = X_predict.loc[:, features]"
   ]
  },
  {
   "cell_type": "code",
   "execution_count": 424,
   "metadata": {},
   "outputs": [
    {
     "name": "stdout",
     "output_type": "stream",
     "text": [
      "[23:16:04] WARNING: C:/Users/Administrator/workspace/xgboost-win64_release_1.4.0/src/objective/regression_obj.cu:171: reg:linear is now deprecated in favor of reg:squarederror.\n",
      "[23:16:04] WARNING: C:/Users/Administrator/workspace/xgboost-win64_release_1.4.0/src/learner.cc:573: \n",
      "Parameters: { \"silent\" } might not be used.\n",
      "\n",
      "  This may not be accurate due to some parameters are only used in language bindings but\n",
      "  passed down to XGBoost core.  Or some parameters are not used but slip through this\n",
      "  verification. Please open an issue if you find above cases.\n",
      "\n",
      "\n"
     ]
    },
    {
     "data": {
      "text/plain": [
       "XGBRegressor(base_score=0.5, booster='gbtree', colsample_bylevel=1,\n",
       "             colsample_bynode=1, colsample_bytree=0.7, gamma=0, gpu_id=-1,\n",
       "             importance_type='gain', interaction_constraints='',\n",
       "             learning_rate=0.03, max_delta_step=0, max_depth=5,\n",
       "             min_child_weight=4, missing=nan, monotone_constraints='()',\n",
       "             n_estimators=500, n_jobs=4, nthread=4, num_parallel_tree=1,\n",
       "             objective='reg:linear', random_state=23, reg_alpha=0, reg_lambda=1,\n",
       "             scale_pos_weight=1, silent=1, subsample=0.7, tree_method='exact',\n",
       "             validate_parameters=1, verbosity=None)"
      ]
     },
     "execution_count": 424,
     "metadata": {},
     "output_type": "execute_result"
    }
   ],
   "source": [
    "xgb.fit(X_train, y_train)"
   ]
  },
  {
   "cell_type": "markdown",
   "metadata": {},
   "source": [
    "### 5. Predict the labels for new data"
   ]
  },
  {
   "cell_type": "code",
   "execution_count": 425,
   "metadata": {},
   "outputs": [],
   "source": [
    "y_predict = xgb.predict(X_predict)"
   ]
  },
  {
   "cell_type": "code",
   "execution_count": 426,
   "metadata": {},
   "outputs": [
    {
     "data": {
      "text/plain": [
       "(1344,)"
      ]
     },
     "execution_count": 426,
     "metadata": {},
     "output_type": "execute_result"
    }
   ],
   "source": [
    "y_predict.shape"
   ]
  },
  {
   "cell_type": "code",
   "execution_count": 427,
   "metadata": {},
   "outputs": [],
   "source": [
    "QUEEN_predict['NESTS'] = y_predict"
   ]
  },
  {
   "cell_type": "code",
   "execution_count": 428,
   "metadata": {},
   "outputs": [
    {
     "data": {
      "text/plain": [
       "2840.5735"
      ]
     },
     "execution_count": 428,
     "metadata": {},
     "output_type": "execute_result"
    }
   ],
   "source": [
    "QUEEN_predict.NESTS.sum()"
   ]
  },
  {
   "cell_type": "code",
   "execution_count": 429,
   "metadata": {},
   "outputs": [
    {
     "name": "stderr",
     "output_type": "stream",
     "text": [
      "<ipython-input-429-ef4b3a26f94e>:1: SettingWithCopyWarning: \n",
      "A value is trying to be set on a copy of a slice from a DataFrame\n",
      "\n",
      "See the caveats in the documentation: https://pandas.pydata.org/pandas-docs/stable/user_guide/indexing.html#returning-a-view-versus-a-copy\n",
      "  QUEEN_predict.NESTS[QUEEN_predict.NESTS < 0] = 0\n"
     ]
    }
   ],
   "source": [
    "QUEEN_predict.NESTS[QUEEN_predict.NESTS < 0] = 0"
   ]
  },
  {
   "cell_type": "code",
   "execution_count": 430,
   "metadata": {},
   "outputs": [
    {
     "data": {
      "text/plain": [
       "2845.0552"
      ]
     },
     "execution_count": 430,
     "metadata": {},
     "output_type": "execute_result"
    }
   ],
   "source": [
    "QUEEN_predict.NESTS.sum()"
   ]
  },
  {
   "cell_type": "markdown",
   "metadata": {},
   "source": [
    "## Prepare the dataset for submission"
   ]
  },
  {
   "cell_type": "code",
   "execution_count": 431,
   "metadata": {},
   "outputs": [],
   "source": [
    "HEX = QUEEN_predict.loc[:,['municip_code', 'municip_name', 'NESTS']].groupby(by=['municip_code', 'municip_name'], as_index=False).sum()"
   ]
  },
  {
   "cell_type": "markdown",
   "metadata": {},
   "source": [
    "## Adjust manually for Bilbao 48020 and generate the output"
   ]
  },
  {
   "cell_type": "code",
   "execution_count": 432,
   "metadata": {},
   "outputs": [],
   "source": [
    "HEX.loc[HEX.municip_code.isin([48020]), 'NESTS'] = 0"
   ]
  },
  {
   "cell_type": "code",
   "execution_count": 433,
   "metadata": {},
   "outputs": [
    {
     "data": {
      "text/html": [
       "<div>\n",
       "<style scoped>\n",
       "    .dataframe tbody tr th:only-of-type {\n",
       "        vertical-align: middle;\n",
       "    }\n",
       "\n",
       "    .dataframe tbody tr th {\n",
       "        vertical-align: top;\n",
       "    }\n",
       "\n",
       "    .dataframe thead th {\n",
       "        text-align: right;\n",
       "    }\n",
       "</style>\n",
       "<table border=\"1\" class=\"dataframe\">\n",
       "  <thead>\n",
       "    <tr style=\"text-align: right;\">\n",
       "      <th></th>\n",
       "      <th>municip_code</th>\n",
       "      <th>municip_name</th>\n",
       "      <th>NESTS</th>\n",
       "    </tr>\n",
       "  </thead>\n",
       "  <tbody>\n",
       "    <tr>\n",
       "      <th>19</th>\n",
       "      <td>48020</td>\n",
       "      <td>Bilbao</td>\n",
       "      <td>0.000000</td>\n",
       "    </tr>\n",
       "    <tr>\n",
       "      <th>21</th>\n",
       "      <td>48022</td>\n",
       "      <td>Karrantza Harana/Valle de Carranza</td>\n",
       "      <td>20.557659</td>\n",
       "    </tr>\n",
       "    <tr>\n",
       "      <th>50</th>\n",
       "      <td>48051</td>\n",
       "      <td>Lanestosa</td>\n",
       "      <td>3.586503</td>\n",
       "    </tr>\n",
       "    <tr>\n",
       "      <th>70</th>\n",
       "      <td>48071</td>\n",
       "      <td>Muskiz</td>\n",
       "      <td>27.710352</td>\n",
       "    </tr>\n",
       "    <tr>\n",
       "      <th>73</th>\n",
       "      <td>48074</td>\n",
       "      <td>Urduña/Orduña</td>\n",
       "      <td>16.761883</td>\n",
       "    </tr>\n",
       "    <tr>\n",
       "      <th>87</th>\n",
       "      <td>48088</td>\n",
       "      <td>Ubide</td>\n",
       "      <td>6.367968</td>\n",
       "    </tr>\n",
       "  </tbody>\n",
       "</table>\n",
       "</div>"
      ],
      "text/plain": [
       "    municip_code                        municip_name      NESTS\n",
       "19         48020                              Bilbao   0.000000\n",
       "21         48022  Karrantza Harana/Valle de Carranza  20.557659\n",
       "50         48051                           Lanestosa   3.586503\n",
       "70         48071                              Muskiz  27.710352\n",
       "73         48074                       Urduña/Orduña  16.761883\n",
       "87         48088                               Ubide   6.367968"
      ]
     },
     "execution_count": 433,
     "metadata": {},
     "output_type": "execute_result"
    }
   ],
   "source": [
    "HEX.loc[HEX.municip_code.isin([48022, 48071, 48088, 48074, 48051, 48020]), :]"
   ]
  },
  {
   "cell_type": "code",
   "execution_count": 434,
   "metadata": {},
   "outputs": [],
   "source": [
    "HEX.columns = [\"CODIGO MUNICIPIO\", \"NOMBRE MUNICIPIO\", \"NIDOS 2020\"] # change column names to Spanish (Competition template)"
   ]
  },
  {
   "cell_type": "code",
   "execution_count": 435,
   "metadata": {},
   "outputs": [
    {
     "name": "stdout",
     "output_type": "stream",
     "text": [
      "Submission form Shape is (112, 3)\n",
      "Number of Municipalities is 112\n",
      "The Total 2020 Nests' Prediction is 2834\n"
     ]
    },
    {
     "data": {
      "text/plain": [
       "'All Municipality Names and Codes to be submitted match the Template'"
      ]
     },
     "execution_count": 435,
     "metadata": {},
     "output_type": "execute_result"
    }
   ],
   "source": [
    "check_data(HEX)"
   ]
  },
  {
   "cell_type": "markdown",
   "metadata": {},
   "source": [
    "### Export dataset for submission"
   ]
  },
  {
   "cell_type": "code",
   "execution_count": 436,
   "metadata": {},
   "outputs": [],
   "source": [
    "HEX.to_csv('WaspBusters_20210609_XG_1up.csv', index=False)"
   ]
  },
  {
   "cell_type": "markdown",
   "metadata": {},
   "source": [
    "## VERSION Manual adjustments"
   ]
  },
  {
   "cell_type": "code",
   "execution_count": 437,
   "metadata": {},
   "outputs": [],
   "source": [
    "HEX.columns = ['municip_code', 'municip_name', 'NESTS'] # change column names to Spanish (Competition template)"
   ]
  },
  {
   "cell_type": "code",
   "execution_count": 438,
   "metadata": {},
   "outputs": [],
   "source": [
    "HEX.loc[HEX.municip_code.isin([48022, 48071, 48088, 48074, 48051]), 'NESTS'] = [0,0,1,0,1]"
   ]
  },
  {
   "cell_type": "code",
   "execution_count": 439,
   "metadata": {},
   "outputs": [
    {
     "data": {
      "text/html": [
       "<div>\n",
       "<style scoped>\n",
       "    .dataframe tbody tr th:only-of-type {\n",
       "        vertical-align: middle;\n",
       "    }\n",
       "\n",
       "    .dataframe tbody tr th {\n",
       "        vertical-align: top;\n",
       "    }\n",
       "\n",
       "    .dataframe thead th {\n",
       "        text-align: right;\n",
       "    }\n",
       "</style>\n",
       "<table border=\"1\" class=\"dataframe\">\n",
       "  <thead>\n",
       "    <tr style=\"text-align: right;\">\n",
       "      <th></th>\n",
       "      <th>municip_code</th>\n",
       "      <th>municip_name</th>\n",
       "      <th>NESTS</th>\n",
       "    </tr>\n",
       "  </thead>\n",
       "  <tbody>\n",
       "    <tr>\n",
       "      <th>19</th>\n",
       "      <td>48020</td>\n",
       "      <td>Bilbao</td>\n",
       "      <td>0.0</td>\n",
       "    </tr>\n",
       "    <tr>\n",
       "      <th>21</th>\n",
       "      <td>48022</td>\n",
       "      <td>Karrantza Harana/Valle de Carranza</td>\n",
       "      <td>0.0</td>\n",
       "    </tr>\n",
       "    <tr>\n",
       "      <th>50</th>\n",
       "      <td>48051</td>\n",
       "      <td>Lanestosa</td>\n",
       "      <td>0.0</td>\n",
       "    </tr>\n",
       "    <tr>\n",
       "      <th>70</th>\n",
       "      <td>48071</td>\n",
       "      <td>Muskiz</td>\n",
       "      <td>1.0</td>\n",
       "    </tr>\n",
       "    <tr>\n",
       "      <th>73</th>\n",
       "      <td>48074</td>\n",
       "      <td>Urduña/Orduña</td>\n",
       "      <td>0.0</td>\n",
       "    </tr>\n",
       "    <tr>\n",
       "      <th>87</th>\n",
       "      <td>48088</td>\n",
       "      <td>Ubide</td>\n",
       "      <td>1.0</td>\n",
       "    </tr>\n",
       "  </tbody>\n",
       "</table>\n",
       "</div>"
      ],
      "text/plain": [
       "    municip_code                        municip_name  NESTS\n",
       "19         48020                              Bilbao    0.0\n",
       "21         48022  Karrantza Harana/Valle de Carranza    0.0\n",
       "50         48051                           Lanestosa    0.0\n",
       "70         48071                              Muskiz    1.0\n",
       "73         48074                       Urduña/Orduña    0.0\n",
       "87         48088                               Ubide    1.0"
      ]
     },
     "execution_count": 439,
     "metadata": {},
     "output_type": "execute_result"
    }
   ],
   "source": [
    "HEX.loc[HEX.municip_code.isin([48022, 48071, 48088, 48074, 48051, 48020]), :]"
   ]
  },
  {
   "cell_type": "code",
   "execution_count": 440,
   "metadata": {},
   "outputs": [],
   "source": [
    "HEX.columns = [\"CODIGO MUNICIPIO\", \"NOMBRE MUNICIPIO\", \"NIDOS 2020\"] # change column names to Spanish (Competition template)"
   ]
  },
  {
   "cell_type": "code",
   "execution_count": 441,
   "metadata": {},
   "outputs": [
    {
     "name": "stdout",
     "output_type": "stream",
     "text": [
      "Submission form Shape is (112, 3)\n",
      "Number of Municipalities is 112\n",
      "The Total 2020 Nests' Prediction is 2761\n"
     ]
    },
    {
     "data": {
      "text/plain": [
       "'All Municipality Names and Codes to be submitted match the Template'"
      ]
     },
     "execution_count": 441,
     "metadata": {},
     "output_type": "execute_result"
    }
   ],
   "source": [
    "check_data(HEX)"
   ]
  },
  {
   "cell_type": "markdown",
   "metadata": {},
   "source": [
    "### Export dataset for submission"
   ]
  },
  {
   "cell_type": "code",
   "execution_count": 442,
   "metadata": {},
   "outputs": [],
   "source": [
    "HEX.to_csv('WaspBusters_20210609_XG_1up_hard.csv', index=False)"
   ]
  }
 ],
 "metadata": {
  "kernelspec": {
   "display_name": "Python 3",
   "language": "python",
   "name": "python3"
  },
  "language_info": {
   "codemirror_mode": {
    "name": "ipython",
    "version": 3
   },
   "file_extension": ".py",
   "mimetype": "text/x-python",
   "name": "python",
   "nbconvert_exporter": "python",
   "pygments_lexer": "ipython3",
   "version": "3.8.5"
  }
 },
 "nbformat": 4,
 "nbformat_minor": 5
}

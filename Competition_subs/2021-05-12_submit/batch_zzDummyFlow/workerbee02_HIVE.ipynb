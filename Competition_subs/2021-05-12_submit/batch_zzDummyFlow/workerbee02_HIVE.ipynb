{
 "cells": [
  {
   "cell_type": "markdown",
   "id": "04dfbfaa-4c7f-4fd3-8fed-6263b869173f",
   "metadata": {},
   "source": [
    "## import modules"
   ]
  },
  {
   "cell_type": "code",
   "execution_count": 1,
   "id": "e4233db2-31c9-47f5-bb3e-d55e1b1aaa82",
   "metadata": {},
   "outputs": [],
   "source": [
    "# Data manipulation and scientific computing -----------------------------------\n",
    "import pandas as pd\n",
    "import numpy as np"
   ]
  },
  {
   "cell_type": "markdown",
   "id": "f2d1c7dc-cf9d-4ff1-a5e3-ed38e596ea9b",
   "metadata": {},
   "source": [
    "## get the data"
   ]
  },
  {
   "cell_type": "code",
   "execution_count": 2,
   "id": "0e1ac939-5d90-4b2c-89b7-569eac962ee9",
   "metadata": {},
   "outputs": [],
   "source": [
    "METEO = pd.read_csv('../../../Input_open_data/ds06-2016_DÍAS DE HELADA 2016.csv', sep=';')"
   ]
  },
  {
   "cell_type": "code",
   "execution_count": 3,
   "id": "509f4ac4-e9f6-4f9c-b7eb-dc5d75c6e977",
   "metadata": {},
   "outputs": [
    {
     "data": {
      "text/html": [
       "<div>\n",
       "<style scoped>\n",
       "    .dataframe tbody tr th:only-of-type {\n",
       "        vertical-align: middle;\n",
       "    }\n",
       "\n",
       "    .dataframe tbody tr th {\n",
       "        vertical-align: top;\n",
       "    }\n",
       "\n",
       "    .dataframe thead th {\n",
       "        text-align: right;\n",
       "    }\n",
       "</style>\n",
       "<table border=\"1\" class=\"dataframe\">\n",
       "  <thead>\n",
       "    <tr style=\"text-align: right;\">\n",
       "      <th></th>\n",
       "      <th>COD.</th>\n",
       "      <th>ESTACION</th>\n",
       "      <th>cota (m)</th>\n",
       "      <th>ENE</th>\n",
       "      <th>FEB</th>\n",
       "      <th>MAR</th>\n",
       "      <th>ABR</th>\n",
       "      <th>MAY</th>\n",
       "      <th>JUN</th>\n",
       "      <th>JUL</th>\n",
       "      <th>AGO</th>\n",
       "      <th>SET</th>\n",
       "      <th>OCT</th>\n",
       "      <th>NOV</th>\n",
       "      <th>DIC</th>\n",
       "      <th>SUMA</th>\n",
       "    </tr>\n",
       "  </thead>\n",
       "  <tbody>\n",
       "    <tr>\n",
       "      <th>0</th>\n",
       "      <td>NaN</td>\n",
       "      <td>NaN</td>\n",
       "      <td>NaN</td>\n",
       "      <td>NaN</td>\n",
       "      <td>NaN</td>\n",
       "      <td>NaN</td>\n",
       "      <td>DÍAS DE HELADA</td>\n",
       "      <td>NaN</td>\n",
       "      <td>NaN</td>\n",
       "      <td>NaN</td>\n",
       "      <td>NaN</td>\n",
       "      <td>NaN</td>\n",
       "      <td>NaN</td>\n",
       "      <td>NaN</td>\n",
       "      <td>NaN</td>\n",
       "      <td>NaN</td>\n",
       "    </tr>\n",
       "    <tr>\n",
       "      <th>1</th>\n",
       "      <td>KOD.</td>\n",
       "      <td>ESTAZIOA</td>\n",
       "      <td>kota (m)</td>\n",
       "      <td>URT</td>\n",
       "      <td>OTS</td>\n",
       "      <td>MAR</td>\n",
       "      <td>API</td>\n",
       "      <td>MAI</td>\n",
       "      <td>EKA</td>\n",
       "      <td>UZT</td>\n",
       "      <td>ABU</td>\n",
       "      <td>IRA</td>\n",
       "      <td>URR</td>\n",
       "      <td>AZA</td>\n",
       "      <td>ABE</td>\n",
       "      <td>BATURA</td>\n",
       "    </tr>\n",
       "    <tr>\n",
       "      <th>2</th>\n",
       "      <td>C076</td>\n",
       "      <td>Abetxuko</td>\n",
       "      <td>510</td>\n",
       "      <td>9</td>\n",
       "      <td>9</td>\n",
       "      <td>3</td>\n",
       "      <td>3</td>\n",
       "      <td>0</td>\n",
       "      <td>0</td>\n",
       "      <td>0</td>\n",
       "      <td>0</td>\n",
       "      <td>0</td>\n",
       "      <td>1</td>\n",
       "      <td>2</td>\n",
       "      <td>10</td>\n",
       "      <td>37</td>\n",
       "    </tr>\n",
       "    <tr>\n",
       "      <th>3</th>\n",
       "      <td>C056</td>\n",
       "      <td>Alegria</td>\n",
       "      <td>545</td>\n",
       "      <td>8</td>\n",
       "      <td>9</td>\n",
       "      <td>3</td>\n",
       "      <td>3</td>\n",
       "      <td>1</td>\n",
       "      <td>0</td>\n",
       "      <td>0</td>\n",
       "      <td>0</td>\n",
       "      <td>0</td>\n",
       "      <td>2</td>\n",
       "      <td>3</td>\n",
       "      <td>13</td>\n",
       "      <td>42</td>\n",
       "    </tr>\n",
       "    <tr>\n",
       "      <th>4</th>\n",
       "      <td>C035</td>\n",
       "      <td>Altube</td>\n",
       "      <td>618</td>\n",
       "      <td>5</td>\n",
       "      <td>4</td>\n",
       "      <td>0</td>\n",
       "      <td>3</td>\n",
       "      <td>1</td>\n",
       "      <td>0</td>\n",
       "      <td>0</td>\n",
       "      <td>0</td>\n",
       "      <td>0</td>\n",
       "      <td>0</td>\n",
       "      <td>0</td>\n",
       "      <td>6</td>\n",
       "      <td>19</td>\n",
       "    </tr>\n",
       "  </tbody>\n",
       "</table>\n",
       "</div>"
      ],
      "text/plain": [
       "   COD.  ESTACION  cota (m)  ENE  FEB  MAR             ABR  MAY  JUN  JUL  \\\n",
       "0   NaN       NaN       NaN  NaN  NaN  NaN  DÍAS DE HELADA  NaN  NaN  NaN   \n",
       "1  KOD.  ESTAZIOA  kota (m)  URT  OTS  MAR             API  MAI  EKA  UZT   \n",
       "2  C076  Abetxuko       510    9    9    3               3    0    0    0   \n",
       "3  C056   Alegria       545    8    9    3               3    1    0    0   \n",
       "4  C035    Altube       618    5    4    0               3    1    0    0   \n",
       "\n",
       "   AGO  SET  OCT  NOV  DIC    SUMA  \n",
       "0  NaN  NaN  NaN  NaN  NaN     NaN  \n",
       "1  ABU  IRA  URR  AZA  ABE  BATURA  \n",
       "2    0    0    1    2   10      37  \n",
       "3    0    0    2    3   13      42  \n",
       "4    0    0    0    0    6      19  "
      ]
     },
     "execution_count": 3,
     "metadata": {},
     "output_type": "execute_result"
    }
   ],
   "source": [
    "METEO.head()"
   ]
  },
  {
   "cell_type": "markdown",
   "id": "6a084a89-2fe4-48af-aea9-0556126cf2da",
   "metadata": {},
   "source": [
    "## do the python magic"
   ]
  },
  {
   "cell_type": "code",
   "execution_count": null,
   "id": "5c2123ac-2343-4e67-8259-5cc96f2a40a8",
   "metadata": {},
   "outputs": [],
   "source": []
  },
  {
   "cell_type": "markdown",
   "id": "a68d8ee0-1152-4de2-85aa-9b3767e44513",
   "metadata": {},
   "source": [
    "## Export the data"
   ]
  },
  {
   "cell_type": "code",
   "execution_count": 4,
   "id": "5896ca89-7aa8-46fe-b1aa-7623363af8a6",
   "metadata": {},
   "outputs": [],
   "source": [
    "METEO.to_csv('WBds02_METEO.csv')"
   ]
  }
 ],
 "metadata": {
  "kernelspec": {
   "display_name": "Python 3",
   "language": "python",
   "name": "python3"
  },
  "language_info": {
   "codemirror_mode": {
    "name": "ipython",
    "version": 3
   },
   "file_extension": ".py",
   "mimetype": "text/x-python",
   "name": "python",
   "nbconvert_exporter": "python",
   "pygments_lexer": "ipython3",
   "version": "3.8.8"
  }
 },
 "nbformat": 4,
 "nbformat_minor": 5
}

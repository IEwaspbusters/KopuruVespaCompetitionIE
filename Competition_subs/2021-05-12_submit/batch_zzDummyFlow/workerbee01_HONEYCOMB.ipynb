{
 "cells": [
  {
   "cell_type": "markdown",
   "id": "04dfbfaa-4c7f-4fd3-8fed-6263b869173f",
   "metadata": {},
   "source": [
    "## import modules"
   ]
  },
  {
   "cell_type": "code",
   "execution_count": 1,
   "id": "e4233db2-31c9-47f5-bb3e-d55e1b1aaa82",
   "metadata": {},
   "outputs": [],
   "source": [
    "# Data manipulation and scientific computing -----------------------------------\n",
    "import pandas as pd\n",
    "import numpy as np"
   ]
  },
  {
   "cell_type": "markdown",
   "id": "f2d1c7dc-cf9d-4ff1-a5e3-ed38e596ea9b",
   "metadata": {},
   "source": [
    "## get the data"
   ]
  },
  {
   "cell_type": "code",
   "execution_count": 2,
   "id": "0e1ac939-5d90-4b2c-89b7-569eac962ee9",
   "metadata": {},
   "outputs": [],
   "source": [
    "GEO = pd.read_csv('../../../Input_open_data/ds05_LOCALIZACION-ESTACIONES-METEOROLOGICAS.csv', sep=';')"
   ]
  },
  {
   "cell_type": "code",
   "execution_count": 3,
   "id": "509f4ac4-e9f6-4f9c-b7eb-dc5d75c6e977",
   "metadata": {},
   "outputs": [
    {
     "data": {
      "text/html": [
       "<div>\n",
       "<style scoped>\n",
       "    .dataframe tbody tr th:only-of-type {\n",
       "        vertical-align: middle;\n",
       "    }\n",
       "\n",
       "    .dataframe tbody tr th {\n",
       "        vertical-align: top;\n",
       "    }\n",
       "\n",
       "    .dataframe thead th {\n",
       "        text-align: right;\n",
       "    }\n",
       "</style>\n",
       "<table border=\"1\" class=\"dataframe\">\n",
       "  <thead>\n",
       "    <tr style=\"text-align: right;\">\n",
       "      <th></th>\n",
       "      <th>CODIGO</th>\n",
       "      <th>ESTACION</th>\n",
       "      <th>TIPO</th>\n",
       "      <th>XUTM</th>\n",
       "      <th>YUTM</th>\n",
       "      <th>cota (m)</th>\n",
       "    </tr>\n",
       "  </thead>\n",
       "  <tbody>\n",
       "    <tr>\n",
       "      <th>0</th>\n",
       "      <td>C076</td>\n",
       "      <td>Abetxuko</td>\n",
       "      <td>A</td>\n",
       "      <td>527154</td>\n",
       "      <td>4747039</td>\n",
       "      <td>510</td>\n",
       "    </tr>\n",
       "    <tr>\n",
       "      <th>1</th>\n",
       "      <td>C056</td>\n",
       "      <td>Alegria</td>\n",
       "      <td>A</td>\n",
       "      <td>538992</td>\n",
       "      <td>4743676</td>\n",
       "      <td>545</td>\n",
       "    </tr>\n",
       "    <tr>\n",
       "      <th>2</th>\n",
       "      <td>C035</td>\n",
       "      <td>Altube</td>\n",
       "      <td>M</td>\n",
       "      <td>510880</td>\n",
       "      <td>4757063</td>\n",
       "      <td>618</td>\n",
       "    </tr>\n",
       "    <tr>\n",
       "      <th>3</th>\n",
       "      <td>C0A3</td>\n",
       "      <td>Antoñana</td>\n",
       "      <td>A</td>\n",
       "      <td>549965</td>\n",
       "      <td>4725290</td>\n",
       "      <td>573</td>\n",
       "    </tr>\n",
       "    <tr>\n",
       "      <th>4</th>\n",
       "      <td>C001</td>\n",
       "      <td>Arkaute</td>\n",
       "      <td>M</td>\n",
       "      <td>530608</td>\n",
       "      <td>4744631</td>\n",
       "      <td>517</td>\n",
       "    </tr>\n",
       "  </tbody>\n",
       "</table>\n",
       "</div>"
      ],
      "text/plain": [
       "  CODIGO  ESTACION TIPO    XUTM     YUTM  cota (m)\n",
       "0   C076  Abetxuko    A  527154  4747039       510\n",
       "1   C056   Alegria    A  538992  4743676       545\n",
       "2   C035    Altube    M  510880  4757063       618\n",
       "3   C0A3  Antoñana    A  549965  4725290       573\n",
       "4   C001   Arkaute    M  530608  4744631       517"
      ]
     },
     "execution_count": 3,
     "metadata": {},
     "output_type": "execute_result"
    }
   ],
   "source": [
    "GEO.head()"
   ]
  },
  {
   "cell_type": "markdown",
   "id": "6a084a89-2fe4-48af-aea9-0556126cf2da",
   "metadata": {},
   "source": [
    "## do the python magic"
   ]
  },
  {
   "cell_type": "code",
   "execution_count": null,
   "id": "5c2123ac-2343-4e67-8259-5cc96f2a40a8",
   "metadata": {},
   "outputs": [],
   "source": []
  },
  {
   "cell_type": "markdown",
   "id": "a68d8ee0-1152-4de2-85aa-9b3767e44513",
   "metadata": {},
   "source": [
    "## Export the data"
   ]
  },
  {
   "cell_type": "code",
   "execution_count": 4,
   "id": "5896ca89-7aa8-46fe-b1aa-7623363af8a6",
   "metadata": {},
   "outputs": [],
   "source": [
    "GEO.to_csv('WBds01_GEO.csv')"
   ]
  }
 ],
 "metadata": {
  "kernelspec": {
   "display_name": "Python 3",
   "language": "python",
   "name": "python3"
  },
  "language_info": {
   "codemirror_mode": {
    "name": "ipython",
    "version": 3
   },
   "file_extension": ".py",
   "mimetype": "text/x-python",
   "name": "python",
   "nbconvert_exporter": "python",
   "pygments_lexer": "ipython3",
   "version": "3.8.8"
  }
 },
 "nbformat": 4,
 "nbformat_minor": 5
}

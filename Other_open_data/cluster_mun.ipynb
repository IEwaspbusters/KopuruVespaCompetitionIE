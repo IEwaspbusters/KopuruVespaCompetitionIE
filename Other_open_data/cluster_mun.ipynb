{
 "cells": [
  {
   "cell_type": "markdown",
   "metadata": {
    "id": "56J2fkso1mRp"
   },
   "source": [
    "## Modules"
   ]
  },
  {
   "cell_type": "code",
   "execution_count": null,
   "metadata": {
    "id": "6qVOn4qO20ez"
   },
   "outputs": [],
   "source": [
    "import os"
   ]
  },
  {
   "cell_type": "code",
   "execution_count": 12,
   "metadata": {
    "id": "fXevBmre1ySr"
   },
   "outputs": [],
   "source": [
    "import pandas as pd\n",
    "from plotnine import *\n",
    "from sklearn.cluster import KMeans\n",
    "from sklearn.metrics import silhouette_score\n",
    "from sklearn.preprocessing import StandardScaler"
   ]
  },
  {
   "cell_type": "code",
   "execution_count": 17,
   "metadata": {
    "id": "Vx-gU84pBe8O"
   },
   "outputs": [],
   "source": [
    "from sklearn import preprocessing"
   ]
  },
  {
   "cell_type": "markdown",
   "metadata": {
    "id": "_H191N5_3p4-"
   },
   "source": [
    "## Dataset"
   ]
  },
  {
   "cell_type": "code",
   "execution_count": 67,
   "metadata": {
    "colab": {
     "base_uri": "https://localhost:8080/"
    },
    "id": "_azGSGMq2ey_",
    "outputId": "c82531e6-b822-43e2-95da-94cc259e48a6"
   },
   "outputs": [
    {
     "data": {
      "text/html": [
       "<div>\n",
       "<style scoped>\n",
       "    .dataframe tbody tr th:only-of-type {\n",
       "        vertical-align: middle;\n",
       "    }\n",
       "\n",
       "    .dataframe tbody tr th {\n",
       "        vertical-align: top;\n",
       "    }\n",
       "\n",
       "    .dataframe thead th {\n",
       "        text-align: right;\n",
       "    }\n",
       "</style>\n",
       "<table border=\"1\" class=\"dataframe\">\n",
       "  <thead>\n",
       "    <tr style=\"text-align: right;\">\n",
       "      <th></th>\n",
       "      <th>CODIGO MUNICIPIO</th>\n",
       "      <th>var_nidos</th>\n",
       "      <th>var_pop</th>\n",
       "    </tr>\n",
       "  </thead>\n",
       "  <tbody>\n",
       "    <tr>\n",
       "      <th>0</th>\n",
       "      <td>48001</td>\n",
       "      <td>-31</td>\n",
       "      <td>0.066</td>\n",
       "    </tr>\n",
       "    <tr>\n",
       "      <th>1</th>\n",
       "      <td>48002</td>\n",
       "      <td>-48</td>\n",
       "      <td>-0.101</td>\n",
       "    </tr>\n",
       "    <tr>\n",
       "      <th>2</th>\n",
       "      <td>48911</td>\n",
       "      <td>-8</td>\n",
       "      <td>-5.000</td>\n",
       "    </tr>\n",
       "    <tr>\n",
       "      <th>3</th>\n",
       "      <td>48093</td>\n",
       "      <td>8</td>\n",
       "      <td>-0.011</td>\n",
       "    </tr>\n",
       "    <tr>\n",
       "      <th>4</th>\n",
       "      <td>48912</td>\n",
       "      <td>-9</td>\n",
       "      <td>0.004</td>\n",
       "    </tr>\n",
       "    <tr>\n",
       "      <th>...</th>\n",
       "      <td>...</td>\n",
       "      <td>...</td>\n",
       "      <td>...</td>\n",
       "    </tr>\n",
       "    <tr>\n",
       "      <th>101</th>\n",
       "      <td>48097</td>\n",
       "      <td>-23</td>\n",
       "      <td>-0.001</td>\n",
       "    </tr>\n",
       "    <tr>\n",
       "      <th>102</th>\n",
       "      <td>48024</td>\n",
       "      <td>1</td>\n",
       "      <td>0.008</td>\n",
       "    </tr>\n",
       "    <tr>\n",
       "      <th>103</th>\n",
       "      <td>48025</td>\n",
       "      <td>-13</td>\n",
       "      <td>0.014</td>\n",
       "    </tr>\n",
       "    <tr>\n",
       "      <th>104</th>\n",
       "      <td>48913</td>\n",
       "      <td>-16</td>\n",
       "      <td>-0.002</td>\n",
       "    </tr>\n",
       "    <tr>\n",
       "      <th>105</th>\n",
       "      <td>48915</td>\n",
       "      <td>1</td>\n",
       "      <td>-14.000</td>\n",
       "    </tr>\n",
       "  </tbody>\n",
       "</table>\n",
       "<p>106 rows × 3 columns</p>\n",
       "</div>"
      ],
      "text/plain": [
       "     CODIGO MUNICIPIO  var_nidos  var_pop\n",
       "0               48001        -31    0.066\n",
       "1               48002        -48   -0.101\n",
       "2               48911         -8   -5.000\n",
       "3               48093          8   -0.011\n",
       "4               48912         -9    0.004\n",
       "..                ...        ...      ...\n",
       "101             48097        -23   -0.001\n",
       "102             48024          1    0.008\n",
       "103             48025        -13    0.014\n",
       "104             48913        -16   -0.002\n",
       "105             48915          1  -14.000\n",
       "\n",
       "[106 rows x 3 columns]"
      ]
     },
     "execution_count": 67,
     "metadata": {},
     "output_type": "execute_result"
    }
   ],
   "source": [
    "var = pd.read_csv('D:/Python/Bootcamp/coding/Other_open_data/data_vars.csv', sep=';')\n",
    "var"
   ]
  },
  {
   "cell_type": "code",
   "execution_count": 68,
   "metadata": {},
   "outputs": [],
   "source": [
    "aux = var.loc[:,['var_nidos', 'var_pop']]"
   ]
  },
  {
   "cell_type": "code",
   "execution_count": 69,
   "metadata": {
    "id": "TmF12-jCCpuV"
   },
   "outputs": [],
   "source": [
    "# scale the dataset using StandardScaler\n",
    "aux = var.loc[:,['var_nidos', 'var_pop']]\n",
    "scaler = StandardScaler()\n",
    "scaler.fit(aux)\n",
    "aux = scaler.transform(aux)\n"
   ]
  },
  {
   "cell_type": "markdown",
   "metadata": {
    "id": "o4hxu6Z-28s6"
   },
   "source": [
    "## Silouhette"
   ]
  },
  {
   "cell_type": "code",
   "execution_count": 70,
   "metadata": {
    "colab": {
     "base_uri": "https://localhost:8080/"
    },
    "id": "ghc_bQVQ71zB",
    "outputId": "c9ee6870-ed36-431a-9945-b0c5d5ae201a"
   },
   "outputs": [
    {
     "data": {
      "image/png": "[encoded data removed]",
      "text/plain": [
       "<Figure size 640x480 with 1 Axes>"
      ]
     },
     "metadata": {},
     "output_type": "display_data"
    },
    {
     "data": {
      "text/plain": [
       "<ggplot: (-9223371900412344508)>"
      ]
     },
     "execution_count": 70,
     "metadata": {},
     "output_type": "execute_result"
    }
   ],
   "source": [
    "silhouettes = []\n",
    "\n",
    "for i in range(2,10,1):\n",
    "  model = KMeans(n_clusters=i)\n",
    "  model.fit(aux)\n",
    "  labels = model.labels_\n",
    "  sol = silhouette_score(aux, labels)\n",
    "  silhouettes.append(sol)\n",
    "\n",
    "silhouette = pd.DataFrame()\n",
    "silhouette['Labels'] = silhouettes\n",
    "silhouette['NumberOfClusters'] = range(2,10,1)\n",
    "\n",
    "ggplot(aes(x='NumberOfClusters', y='Labels'), silhouette) + geom_line() + geom_point()"
   ]
  },
  {
   "cell_type": "code",
   "execution_count": 71,
   "metadata": {
    "id": "3kzxjdRr8ZGu"
   },
   "outputs": [],
   "source": [
    "silhouette_output = 4"
   ]
  },
  {
   "cell_type": "markdown",
   "metadata": {
    "id": "NW-qaKKN2-YV"
   },
   "source": [
    "## KMeans"
   ]
  },
  {
   "cell_type": "code",
   "execution_count": 72,
   "metadata": {
    "id": "C8LEhMO-5F5y"
   },
   "outputs": [],
   "source": [
    "# we decided to seek out 2 clusters, as per de Silhouette method\n",
    "model = KMeans(n_clusters = silhouette_output)\n",
    "\n",
    "model.fit(aux)\n",
    "modelLabels = model.labels_\n",
    "modelCenters = model.cluster_centers_\n",
    "\n",
    "var['Cluster'] = pd.Series(modelLabels, index=var.index)"
   ]
  },
  {
   "cell_type": "code",
   "execution_count": 73,
   "metadata": {},
   "outputs": [
    {
     "data": {
      "text/plain": [
       "0    71\n",
       "1    14\n",
       "3    11\n",
       "2    10\n",
       "Name: Cluster, dtype: int64"
      ]
     },
     "execution_count": 73,
     "metadata": {},
     "output_type": "execute_result"
    }
   ],
   "source": [
    "var['Cluster'].value_counts()"
   ]
  },
  {
   "cell_type": "markdown",
   "metadata": {},
   "source": [
    "## Exportar"
   ]
  },
  {
   "cell_type": "markdown",
   "metadata": {},
   "source": [
    "Los códigos siguientes deberían añadirse manualmente, por 2 razones: \n",
    "- 4 de ellos el tienen 0 en el 2019, por lo cual no tiene mucho sentido predecir esos años.\n",
    "- 2 de ellos tiene solo 1 para el 2019\n",
    "\n",
    "Agregar los siguientes códigos con las siguientes cantidades para el 2020:\n",
    "\n",
    "48071 =0\n",
    "48074 =0\n",
    "48022 =0\n",
    "48088 =1\n",
    "48051 =1\n",
    "48020 =0"
   ]
  },
  {
   "cell_type": "code",
   "execution_count": 65,
   "metadata": {},
   "outputs": [],
   "source": [
    "var=var.loc[:,['CODIGO MUNICIPIO','Cluster']]\n",
    "var.to_csv('D:/Python/Bootcamp/coding/Other_open_data/cluster.csv', index=False)"
   ]
  },
  {
   "cell_type": "code",
   "execution_count": null,
   "metadata": {},
   "outputs": [],
   "source": []
  }
 ],
 "metadata": {
  "colab": {
   "collapsed_sections": [
    "56J2fkso1mRp",
    "_H191N5_3p4-",
    "FHBKG3yy26nf",
    "o4hxu6Z-28s6",
    "NW-qaKKN2-YV",
    "tgXA7iJi3Bd-",
    "8XgV7oZm7AIB"
   ],
   "name": "2021-05-13 MLiP KMeans homework Kopuru Team.ipynb",
   "provenance": []
  },
  "kernelspec": {
   "display_name": "Python 3",
   "language": "python",
   "name": "python3"
  },
  "language_info": {
   "codemirror_mode": {
    "name": "ipython",
    "version": 3
   },
   "file_extension": ".py",
   "mimetype": "text/x-python",
   "name": "python",
   "nbconvert_exporter": "python",
   "pygments_lexer": "ipython3",
   "version": "3.7.9"
  }
 },
 "nbformat": 4,
 "nbformat_minor": 4
}
